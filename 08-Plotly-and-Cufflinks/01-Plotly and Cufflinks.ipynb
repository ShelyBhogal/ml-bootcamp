{
 "cells": [
  {
   "cell_type": "markdown",
   "metadata": {},
   "source": [
    "___\n",
    "\n",
    "<a href='http://www.pieriandata.com'> <img src='../Pierian_Data_Logo.png' /></a>\n",
    "___\n",
    "# Plotly and Cufflinks"
   ]
  },
  {
   "cell_type": "markdown",
   "metadata": {},
   "source": [
    "Plotly is a library that allows you to create interactive plots that you can use in dashboards or websites (you can save them as html files or static images).\n",
    "\n",
    "## Installation\n",
    "\n",
    "In order for this all to work, you'll need to install plotly and cufflinks to call plots directly off of a pandas dataframe. Some libraries are not currently available through conda but are available through **pip**. Install the libraries at your command line/terminal using:\n",
    "\n",
    "    pip install plotly\n",
    "    pip install chart_studio\n",
    "    conda install -c conda-forge cufflinks-py\n",
    "\n",
    "**NOTE: Make sure you only have one up-to-date installation of Python, Pip and Anaconda on your computer when you do this, otherwise the installation may not work.**\n",
    "\n",
    "## Imports and Set-up"
   ]
  },
  {
   "cell_type": "code",
   "execution_count": 1,
   "metadata": {},
   "outputs": [],
   "source": [
    "import pandas as pd\n",
    "import numpy as np\n",
    "import matplotlib.pyplot as plt\n",
    "\n",
    "%matplotlib inline"
   ]
  },
  {
   "cell_type": "code",
   "execution_count": 2,
   "metadata": {},
   "outputs": [
    {
     "name": "stdout",
     "output_type": "stream",
     "text": [
      "5.9.0\n"
     ]
    }
   ],
   "source": [
    "import plotly\n",
    "\n",
    "from plotly import __version__\n",
    "\n",
    "print(__version__) # requires version >= 1.9.0"
   ]
  },
  {
   "cell_type": "code",
   "execution_count": 3,
   "metadata": {},
   "outputs": [],
   "source": [
    "import cufflinks as cf"
   ]
  },
  {
   "cell_type": "code",
   "execution_count": 4,
   "metadata": {},
   "outputs": [],
   "source": [
    "from plotly.offline import download_plotlyjs, init_notebook_mode, plot, iplot"
   ]
  },
  {
   "cell_type": "code",
   "execution_count": 5,
   "metadata": {},
   "outputs": [
    {
     "data": {
      "text/html": [
       "        <script type=\"text/javascript\">\n",
       "        window.PlotlyConfig = {MathJaxConfig: 'local'};\n",
       "        if (window.MathJax && window.MathJax.Hub && window.MathJax.Hub.Config) {window.MathJax.Hub.Config({SVG: {font: \"STIX-Web\"}});}\n",
       "        if (typeof require !== 'undefined') {\n",
       "        require.undef(\"plotly\");\n",
       "        requirejs.config({\n",
       "            paths: {\n",
       "                'plotly': ['https://cdn.plot.ly/plotly-2.12.1.min']\n",
       "            }\n",
       "        });\n",
       "        require(['plotly'], function(Plotly) {\n",
       "            window._Plotly = Plotly;\n",
       "        });\n",
       "        }\n",
       "        </script>\n",
       "        "
      ]
     },
     "metadata": {},
     "output_type": "display_data"
    }
   ],
   "source": [
    "# For use in Jupyter (connects JavaScript to your notebook)\n",
    "init_notebook_mode(connected=True)"
   ]
  },
  {
   "cell_type": "code",
   "execution_count": 6,
   "metadata": {},
   "outputs": [
    {
     "data": {
      "text/html": [
       "        <script type=\"text/javascript\">\n",
       "        window.PlotlyConfig = {MathJaxConfig: 'local'};\n",
       "        if (window.MathJax && window.MathJax.Hub && window.MathJax.Hub.Config) {window.MathJax.Hub.Config({SVG: {font: \"STIX-Web\"}});}\n",
       "        if (typeof require !== 'undefined') {\n",
       "        require.undef(\"plotly\");\n",
       "        requirejs.config({\n",
       "            paths: {\n",
       "                'plotly': ['https://cdn.plot.ly/plotly-2.12.1.min']\n",
       "            }\n",
       "        });\n",
       "        require(['plotly'], function(Plotly) {\n",
       "            window._Plotly = Plotly;\n",
       "        });\n",
       "        }\n",
       "        </script>\n",
       "        "
      ]
     },
     "metadata": {},
     "output_type": "display_data"
    }
   ],
   "source": [
    "# For offline use\n",
    "cf.go_offline()"
   ]
  },
  {
   "cell_type": "markdown",
   "metadata": {},
   "source": [
    "### Fake Data"
   ]
  },
  {
   "cell_type": "code",
   "execution_count": 7,
   "metadata": {},
   "outputs": [],
   "source": [
    "# Create 100x4 DataFrame of randomly-selected values taken from 'normal' distribution\n",
    "\n",
    "df = pd.DataFrame(np.random.randn(100, 4), columns='A B C D'.split())"
   ]
  },
  {
   "cell_type": "code",
   "execution_count": 8,
   "metadata": {},
   "outputs": [
    {
     "data": {
      "text/html": [
       "<div>\n",
       "<style scoped>\n",
       "    .dataframe tbody tr th:only-of-type {\n",
       "        vertical-align: middle;\n",
       "    }\n",
       "\n",
       "    .dataframe tbody tr th {\n",
       "        vertical-align: top;\n",
       "    }\n",
       "\n",
       "    .dataframe thead th {\n",
       "        text-align: right;\n",
       "    }\n",
       "</style>\n",
       "<table border=\"1\" class=\"dataframe\">\n",
       "  <thead>\n",
       "    <tr style=\"text-align: right;\">\n",
       "      <th></th>\n",
       "      <th>A</th>\n",
       "      <th>B</th>\n",
       "      <th>C</th>\n",
       "      <th>D</th>\n",
       "    </tr>\n",
       "  </thead>\n",
       "  <tbody>\n",
       "    <tr>\n",
       "      <th>0</th>\n",
       "      <td>2.378705</td>\n",
       "      <td>-1.410952</td>\n",
       "      <td>0.174932</td>\n",
       "      <td>-0.018385</td>\n",
       "    </tr>\n",
       "    <tr>\n",
       "      <th>1</th>\n",
       "      <td>0.794981</td>\n",
       "      <td>1.128247</td>\n",
       "      <td>0.479376</td>\n",
       "      <td>0.069621</td>\n",
       "    </tr>\n",
       "    <tr>\n",
       "      <th>2</th>\n",
       "      <td>0.020347</td>\n",
       "      <td>0.047739</td>\n",
       "      <td>0.212586</td>\n",
       "      <td>-0.662626</td>\n",
       "    </tr>\n",
       "    <tr>\n",
       "      <th>3</th>\n",
       "      <td>0.168688</td>\n",
       "      <td>1.192578</td>\n",
       "      <td>-0.305181</td>\n",
       "      <td>-0.015385</td>\n",
       "    </tr>\n",
       "    <tr>\n",
       "      <th>4</th>\n",
       "      <td>-0.881422</td>\n",
       "      <td>-0.676029</td>\n",
       "      <td>1.060700</td>\n",
       "      <td>2.765890</td>\n",
       "    </tr>\n",
       "  </tbody>\n",
       "</table>\n",
       "</div>"
      ],
      "text/plain": [
       "          A         B         C         D\n",
       "0  2.378705 -1.410952  0.174932 -0.018385\n",
       "1  0.794981  1.128247  0.479376  0.069621\n",
       "2  0.020347  0.047739  0.212586 -0.662626\n",
       "3  0.168688  1.192578 -0.305181 -0.015385\n",
       "4 -0.881422 -0.676029  1.060700  2.765890"
      ]
     },
     "execution_count": 8,
     "metadata": {},
     "output_type": "execute_result"
    }
   ],
   "source": [
    "df.head()"
   ]
  },
  {
   "cell_type": "code",
   "execution_count": 9,
   "metadata": {},
   "outputs": [],
   "source": [
    "# Create DataFrame of 2 columns and 3 rows in dict format\n",
    "\n",
    "df2 = pd.DataFrame({'Category':['A','B','C'], 'Values':[32, 43, 50]})"
   ]
  },
  {
   "cell_type": "code",
   "execution_count": 10,
   "metadata": {},
   "outputs": [
    {
     "data": {
      "text/html": [
       "<div>\n",
       "<style scoped>\n",
       "    .dataframe tbody tr th:only-of-type {\n",
       "        vertical-align: middle;\n",
       "    }\n",
       "\n",
       "    .dataframe tbody tr th {\n",
       "        vertical-align: top;\n",
       "    }\n",
       "\n",
       "    .dataframe thead th {\n",
       "        text-align: right;\n",
       "    }\n",
       "</style>\n",
       "<table border=\"1\" class=\"dataframe\">\n",
       "  <thead>\n",
       "    <tr style=\"text-align: right;\">\n",
       "      <th></th>\n",
       "      <th>Category</th>\n",
       "      <th>Values</th>\n",
       "    </tr>\n",
       "  </thead>\n",
       "  <tbody>\n",
       "    <tr>\n",
       "      <th>0</th>\n",
       "      <td>A</td>\n",
       "      <td>32</td>\n",
       "    </tr>\n",
       "    <tr>\n",
       "      <th>1</th>\n",
       "      <td>B</td>\n",
       "      <td>43</td>\n",
       "    </tr>\n",
       "    <tr>\n",
       "      <th>2</th>\n",
       "      <td>C</td>\n",
       "      <td>50</td>\n",
       "    </tr>\n",
       "  </tbody>\n",
       "</table>\n",
       "</div>"
      ],
      "text/plain": [
       "  Category  Values\n",
       "0        A      32\n",
       "1        B      43\n",
       "2        C      50"
      ]
     },
     "execution_count": 10,
     "metadata": {},
     "output_type": "execute_result"
    }
   ],
   "source": [
    "df2.head()"
   ]
  },
  {
   "cell_type": "markdown",
   "metadata": {},
   "source": [
    "## Using Cufflinks and `iplot()`\n",
    "\n",
    "* scatter\n",
    "* bar\n",
    "* box\n",
    "* spread\n",
    "* ratio\n",
    "* heatmap\n",
    "* surface\n",
    "* histogram\n",
    "* bubble"
   ]
  },
  {
   "cell_type": "markdown",
   "metadata": {},
   "source": [
    "## Scatter Plots"
   ]
  },
  {
   "cell_type": "code",
   "execution_count": 22,
   "metadata": {},
   "outputs": [
    {
     "data": {
      "application/vnd.plotly.v1+json": {
       "config": {
        "linkText": "Export to plot.ly",
        "plotlyServerURL": "https://plot.ly",
        "showLink": true
       },
       "data": [
        {
         "line": {
          "color": "rgba(255, 153, 51, 1.0)",
          "dash": "solid",
          "shape": "linear",
          "width": 1.3
         },
         "marker": {
          "size": 10,
          "symbol": "circle"
         },
         "mode": "markers",
         "name": "B",
         "text": "",
         "type": "scatter",
         "x": [
          2.378704592613066,
          0.7949812084298118,
          0.020347293573050422,
          0.16868777949177213,
          -0.8814220662121459,
          -0.5469894743183308,
          0.6590071765436658,
          0.3613179293562961,
          -1.2147461277054892,
          -1.0717006945379468,
          1.4730551122551672,
          -2.0182139728885113,
          0.862170819233818,
          0.45865902626215327,
          0.8212707351013381,
          -1.0658356940582248,
          0.03295835561673598,
          -0.926351955662341,
          -1.022016441866523,
          0.40418350578692364,
          -0.7181779587551178,
          -0.6886833824381282,
          0.6589900815740977,
          0.3362218418822843,
          -0.8820682824005845,
          0.7525581971493505,
          0.9744354545245969,
          0.3941171740728787,
          -0.3148279512998113,
          0.027511879249834822,
          1.0690736558569764,
          1.945965592580823,
          -0.7404405629930189,
          -0.9320931040826592,
          -0.9725128365556344,
          -0.022925786738108116,
          0.23524105357779349,
          -0.7870873351298374,
          -0.8820383123923283,
          0.5388653659796684,
          0.3467960749027645,
          0.9180377599871524,
          0.7964447306733002,
          0.26387076427638695,
          -1.6624756533038676,
          -0.6588661312752233,
          0.5217396969238294,
          0.8970812642468908,
          -1.3713926827076768,
          -0.4548300287598396,
          -0.045966239535387074,
          1.9282569880928602,
          -0.10928180133163234,
          -1.206470846341257,
          1.507713498434342,
          0.05592745845622738,
          -1.5132312506460328,
          0.47489113129330857,
          -1.3952618471111324,
          0.8038273818921229,
          1.1856349700169242,
          0.16273611112484013,
          -0.12258699650513145,
          1.465768004736537,
          1.2102174987321017,
          -0.7665906106697451,
          1.481523198660766,
          0.0427859215020586,
          0.10498569010405591,
          -0.3532346970575991,
          0.7470035130696405,
          -1.5138294405419948,
          0.39125537467149357,
          1.0554685121921457,
          -1.1603309027478979,
          1.2680819308540339,
          -1.6729243287440783,
          -0.800055858574939,
          -0.06054705752571512,
          -0.9499836719749434,
          -0.814075664122035,
          -1.026934113840444,
          0.3404099087659415,
          -1.0694526605321897,
          -0.8912421592491239,
          -1.0298025520047036,
          -0.8461521807594581,
          0.38163340848760885,
          -0.854143270793631,
          2.7339580890475754,
          -1.1192422975843501,
          -1.2409109590645255,
          -1.6961826901225727,
          -2.531659068148911,
          -0.9385020930493669,
          0.4024336318072811,
          0.5681600037698108,
          1.027833998158066,
          0.29826246449978355,
          1.3920428913571818
         ],
         "y": [
          -1.4109524815414125,
          1.1282465007801148,
          0.047738942839579426,
          1.1925776700433535,
          -0.6760291052564088,
          0.1790913936831051,
          -0.03351469037462734,
          0.3771657627762725,
          -0.9767022195579985,
          0.21141886110062716,
          0.1584196563489074,
          -0.26903850577050065,
          0.1336348126478488,
          0.5566619988174846,
          0.1068228699217611,
          0.14722205713031677,
          -0.2343686404535711,
          -0.1262077308186696,
          0.2028854190184494,
          -1.184744979491366,
          0.09891423137821188,
          -1.290136702571667,
          0.6610727598457594,
          0.6702717303544894,
          0.0912079810352433,
          -0.9638006134894856,
          0.16094260320748796,
          0.2966406238557308,
          1.2821294846940516,
          -0.067473604084655,
          0.6795513181159056,
          0.5491447905266279,
          -0.689806015680189,
          0.6289590663833551,
          -1.9550310814406153,
          1.3285163272544,
          -0.6016863121951649,
          -2.287052069467176,
          -0.046040797789362084,
          0.6332369562901614,
          -0.7580283974698023,
          -0.06036705191617741,
          -0.1456939613387233,
          -0.5115588069642251,
          -0.9638838012193599,
          1.9645250905586364,
          0.7530690446506421,
          -0.5454797258160548,
          1.1264285526198632,
          0.5309788677230551,
          0.37017010060986144,
          -1.1250898914401306,
          -0.28798151582684817,
          0.5946295317590171,
          -0.3347454800425729,
          0.3149458216962703,
          0.5583138746908815,
          -1.3610380889173985,
          -0.015197888111185916,
          0.5839205545037052,
          0.7950892840941408,
          -0.9638717777634335,
          -1.1790577083086358,
          0.7429474030938845,
          0.3609668315824039,
          1.0454595794961696,
          -1.3695181820018538,
          1.1131185717922327,
          0.5216827552405487,
          0.5073722744981483,
          -0.4022519329950429,
          -0.3158636790719244,
          -0.8504176310575834,
          -0.3903836881740838,
          1.1044927868985561,
          -0.5736934071368204,
          0.7757993030735614,
          0.17272730723566684,
          0.7395094056847753,
          -0.8108546768655773,
          0.8372945924989318,
          0.4622740489612075,
          1.1748008403104275,
          0.3902602603754761,
          0.8569649092316891,
          0.29879524251049244,
          0.12796874998029747,
          0.3150133146889394,
          -0.8190428447575135,
          0.1948280774662253,
          0.39465257829795125,
          0.1448000685913453,
          -0.38815316801875377,
          -0.45750751101059955,
          1.6738795196045138,
          0.13198167186586035,
          -0.4374958634037224,
          -0.3477123127206604,
          -0.08952001727038991,
          0.7885530702008177
         ]
        }
       ],
       "layout": {
        "legend": {
         "bgcolor": "#F5F6F9",
         "font": {
          "color": "#4D5663"
         }
        },
        "paper_bgcolor": "#F5F6F9",
        "plot_bgcolor": "#F5F6F9",
        "template": {
         "data": {
          "bar": [
           {
            "error_x": {
             "color": "#2a3f5f"
            },
            "error_y": {
             "color": "#2a3f5f"
            },
            "marker": {
             "line": {
              "color": "#E5ECF6",
              "width": 0.5
             },
             "pattern": {
              "fillmode": "overlay",
              "size": 10,
              "solidity": 0.2
             }
            },
            "type": "bar"
           }
          ],
          "barpolar": [
           {
            "marker": {
             "line": {
              "color": "#E5ECF6",
              "width": 0.5
             },
             "pattern": {
              "fillmode": "overlay",
              "size": 10,
              "solidity": 0.2
             }
            },
            "type": "barpolar"
           }
          ],
          "carpet": [
           {
            "aaxis": {
             "endlinecolor": "#2a3f5f",
             "gridcolor": "white",
             "linecolor": "white",
             "minorgridcolor": "white",
             "startlinecolor": "#2a3f5f"
            },
            "baxis": {
             "endlinecolor": "#2a3f5f",
             "gridcolor": "white",
             "linecolor": "white",
             "minorgridcolor": "white",
             "startlinecolor": "#2a3f5f"
            },
            "type": "carpet"
           }
          ],
          "choropleth": [
           {
            "colorbar": {
             "outlinewidth": 0,
             "ticks": ""
            },
            "type": "choropleth"
           }
          ],
          "contour": [
           {
            "colorbar": {
             "outlinewidth": 0,
             "ticks": ""
            },
            "colorscale": [
             [
              0,
              "#0d0887"
             ],
             [
              0.1111111111111111,
              "#46039f"
             ],
             [
              0.2222222222222222,
              "#7201a8"
             ],
             [
              0.3333333333333333,
              "#9c179e"
             ],
             [
              0.4444444444444444,
              "#bd3786"
             ],
             [
              0.5555555555555556,
              "#d8576b"
             ],
             [
              0.6666666666666666,
              "#ed7953"
             ],
             [
              0.7777777777777778,
              "#fb9f3a"
             ],
             [
              0.8888888888888888,
              "#fdca26"
             ],
             [
              1,
              "#f0f921"
             ]
            ],
            "type": "contour"
           }
          ],
          "contourcarpet": [
           {
            "colorbar": {
             "outlinewidth": 0,
             "ticks": ""
            },
            "type": "contourcarpet"
           }
          ],
          "heatmap": [
           {
            "colorbar": {
             "outlinewidth": 0,
             "ticks": ""
            },
            "colorscale": [
             [
              0,
              "#0d0887"
             ],
             [
              0.1111111111111111,
              "#46039f"
             ],
             [
              0.2222222222222222,
              "#7201a8"
             ],
             [
              0.3333333333333333,
              "#9c179e"
             ],
             [
              0.4444444444444444,
              "#bd3786"
             ],
             [
              0.5555555555555556,
              "#d8576b"
             ],
             [
              0.6666666666666666,
              "#ed7953"
             ],
             [
              0.7777777777777778,
              "#fb9f3a"
             ],
             [
              0.8888888888888888,
              "#fdca26"
             ],
             [
              1,
              "#f0f921"
             ]
            ],
            "type": "heatmap"
           }
          ],
          "heatmapgl": [
           {
            "colorbar": {
             "outlinewidth": 0,
             "ticks": ""
            },
            "colorscale": [
             [
              0,
              "#0d0887"
             ],
             [
              0.1111111111111111,
              "#46039f"
             ],
             [
              0.2222222222222222,
              "#7201a8"
             ],
             [
              0.3333333333333333,
              "#9c179e"
             ],
             [
              0.4444444444444444,
              "#bd3786"
             ],
             [
              0.5555555555555556,
              "#d8576b"
             ],
             [
              0.6666666666666666,
              "#ed7953"
             ],
             [
              0.7777777777777778,
              "#fb9f3a"
             ],
             [
              0.8888888888888888,
              "#fdca26"
             ],
             [
              1,
              "#f0f921"
             ]
            ],
            "type": "heatmapgl"
           }
          ],
          "histogram": [
           {
            "marker": {
             "pattern": {
              "fillmode": "overlay",
              "size": 10,
              "solidity": 0.2
             }
            },
            "type": "histogram"
           }
          ],
          "histogram2d": [
           {
            "colorbar": {
             "outlinewidth": 0,
             "ticks": ""
            },
            "colorscale": [
             [
              0,
              "#0d0887"
             ],
             [
              0.1111111111111111,
              "#46039f"
             ],
             [
              0.2222222222222222,
              "#7201a8"
             ],
             [
              0.3333333333333333,
              "#9c179e"
             ],
             [
              0.4444444444444444,
              "#bd3786"
             ],
             [
              0.5555555555555556,
              "#d8576b"
             ],
             [
              0.6666666666666666,
              "#ed7953"
             ],
             [
              0.7777777777777778,
              "#fb9f3a"
             ],
             [
              0.8888888888888888,
              "#fdca26"
             ],
             [
              1,
              "#f0f921"
             ]
            ],
            "type": "histogram2d"
           }
          ],
          "histogram2dcontour": [
           {
            "colorbar": {
             "outlinewidth": 0,
             "ticks": ""
            },
            "colorscale": [
             [
              0,
              "#0d0887"
             ],
             [
              0.1111111111111111,
              "#46039f"
             ],
             [
              0.2222222222222222,
              "#7201a8"
             ],
             [
              0.3333333333333333,
              "#9c179e"
             ],
             [
              0.4444444444444444,
              "#bd3786"
             ],
             [
              0.5555555555555556,
              "#d8576b"
             ],
             [
              0.6666666666666666,
              "#ed7953"
             ],
             [
              0.7777777777777778,
              "#fb9f3a"
             ],
             [
              0.8888888888888888,
              "#fdca26"
             ],
             [
              1,
              "#f0f921"
             ]
            ],
            "type": "histogram2dcontour"
           }
          ],
          "mesh3d": [
           {
            "colorbar": {
             "outlinewidth": 0,
             "ticks": ""
            },
            "type": "mesh3d"
           }
          ],
          "parcoords": [
           {
            "line": {
             "colorbar": {
              "outlinewidth": 0,
              "ticks": ""
             }
            },
            "type": "parcoords"
           }
          ],
          "pie": [
           {
            "automargin": true,
            "type": "pie"
           }
          ],
          "scatter": [
           {
            "fillpattern": {
             "fillmode": "overlay",
             "size": 10,
             "solidity": 0.2
            },
            "type": "scatter"
           }
          ],
          "scatter3d": [
           {
            "line": {
             "colorbar": {
              "outlinewidth": 0,
              "ticks": ""
             }
            },
            "marker": {
             "colorbar": {
              "outlinewidth": 0,
              "ticks": ""
             }
            },
            "type": "scatter3d"
           }
          ],
          "scattercarpet": [
           {
            "marker": {
             "colorbar": {
              "outlinewidth": 0,
              "ticks": ""
             }
            },
            "type": "scattercarpet"
           }
          ],
          "scattergeo": [
           {
            "marker": {
             "colorbar": {
              "outlinewidth": 0,
              "ticks": ""
             }
            },
            "type": "scattergeo"
           }
          ],
          "scattergl": [
           {
            "marker": {
             "colorbar": {
              "outlinewidth": 0,
              "ticks": ""
             }
            },
            "type": "scattergl"
           }
          ],
          "scattermapbox": [
           {
            "marker": {
             "colorbar": {
              "outlinewidth": 0,
              "ticks": ""
             }
            },
            "type": "scattermapbox"
           }
          ],
          "scatterpolar": [
           {
            "marker": {
             "colorbar": {
              "outlinewidth": 0,
              "ticks": ""
             }
            },
            "type": "scatterpolar"
           }
          ],
          "scatterpolargl": [
           {
            "marker": {
             "colorbar": {
              "outlinewidth": 0,
              "ticks": ""
             }
            },
            "type": "scatterpolargl"
           }
          ],
          "scatterternary": [
           {
            "marker": {
             "colorbar": {
              "outlinewidth": 0,
              "ticks": ""
             }
            },
            "type": "scatterternary"
           }
          ],
          "surface": [
           {
            "colorbar": {
             "outlinewidth": 0,
             "ticks": ""
            },
            "colorscale": [
             [
              0,
              "#0d0887"
             ],
             [
              0.1111111111111111,
              "#46039f"
             ],
             [
              0.2222222222222222,
              "#7201a8"
             ],
             [
              0.3333333333333333,
              "#9c179e"
             ],
             [
              0.4444444444444444,
              "#bd3786"
             ],
             [
              0.5555555555555556,
              "#d8576b"
             ],
             [
              0.6666666666666666,
              "#ed7953"
             ],
             [
              0.7777777777777778,
              "#fb9f3a"
             ],
             [
              0.8888888888888888,
              "#fdca26"
             ],
             [
              1,
              "#f0f921"
             ]
            ],
            "type": "surface"
           }
          ],
          "table": [
           {
            "cells": {
             "fill": {
              "color": "#EBF0F8"
             },
             "line": {
              "color": "white"
             }
            },
            "header": {
             "fill": {
              "color": "#C8D4E3"
             },
             "line": {
              "color": "white"
             }
            },
            "type": "table"
           }
          ]
         },
         "layout": {
          "annotationdefaults": {
           "arrowcolor": "#2a3f5f",
           "arrowhead": 0,
           "arrowwidth": 1
          },
          "autotypenumbers": "strict",
          "coloraxis": {
           "colorbar": {
            "outlinewidth": 0,
            "ticks": ""
           }
          },
          "colorscale": {
           "diverging": [
            [
             0,
             "#8e0152"
            ],
            [
             0.1,
             "#c51b7d"
            ],
            [
             0.2,
             "#de77ae"
            ],
            [
             0.3,
             "#f1b6da"
            ],
            [
             0.4,
             "#fde0ef"
            ],
            [
             0.5,
             "#f7f7f7"
            ],
            [
             0.6,
             "#e6f5d0"
            ],
            [
             0.7,
             "#b8e186"
            ],
            [
             0.8,
             "#7fbc41"
            ],
            [
             0.9,
             "#4d9221"
            ],
            [
             1,
             "#276419"
            ]
           ],
           "sequential": [
            [
             0,
             "#0d0887"
            ],
            [
             0.1111111111111111,
             "#46039f"
            ],
            [
             0.2222222222222222,
             "#7201a8"
            ],
            [
             0.3333333333333333,
             "#9c179e"
            ],
            [
             0.4444444444444444,
             "#bd3786"
            ],
            [
             0.5555555555555556,
             "#d8576b"
            ],
            [
             0.6666666666666666,
             "#ed7953"
            ],
            [
             0.7777777777777778,
             "#fb9f3a"
            ],
            [
             0.8888888888888888,
             "#fdca26"
            ],
            [
             1,
             "#f0f921"
            ]
           ],
           "sequentialminus": [
            [
             0,
             "#0d0887"
            ],
            [
             0.1111111111111111,
             "#46039f"
            ],
            [
             0.2222222222222222,
             "#7201a8"
            ],
            [
             0.3333333333333333,
             "#9c179e"
            ],
            [
             0.4444444444444444,
             "#bd3786"
            ],
            [
             0.5555555555555556,
             "#d8576b"
            ],
            [
             0.6666666666666666,
             "#ed7953"
            ],
            [
             0.7777777777777778,
             "#fb9f3a"
            ],
            [
             0.8888888888888888,
             "#fdca26"
            ],
            [
             1,
             "#f0f921"
            ]
           ]
          },
          "colorway": [
           "#636efa",
           "#EF553B",
           "#00cc96",
           "#ab63fa",
           "#FFA15A",
           "#19d3f3",
           "#FF6692",
           "#B6E880",
           "#FF97FF",
           "#FECB52"
          ],
          "font": {
           "color": "#2a3f5f"
          },
          "geo": {
           "bgcolor": "white",
           "lakecolor": "white",
           "landcolor": "#E5ECF6",
           "showlakes": true,
           "showland": true,
           "subunitcolor": "white"
          },
          "hoverlabel": {
           "align": "left"
          },
          "hovermode": "closest",
          "mapbox": {
           "style": "light"
          },
          "paper_bgcolor": "white",
          "plot_bgcolor": "#E5ECF6",
          "polar": {
           "angularaxis": {
            "gridcolor": "white",
            "linecolor": "white",
            "ticks": ""
           },
           "bgcolor": "#E5ECF6",
           "radialaxis": {
            "gridcolor": "white",
            "linecolor": "white",
            "ticks": ""
           }
          },
          "scene": {
           "xaxis": {
            "backgroundcolor": "#E5ECF6",
            "gridcolor": "white",
            "gridwidth": 2,
            "linecolor": "white",
            "showbackground": true,
            "ticks": "",
            "zerolinecolor": "white"
           },
           "yaxis": {
            "backgroundcolor": "#E5ECF6",
            "gridcolor": "white",
            "gridwidth": 2,
            "linecolor": "white",
            "showbackground": true,
            "ticks": "",
            "zerolinecolor": "white"
           },
           "zaxis": {
            "backgroundcolor": "#E5ECF6",
            "gridcolor": "white",
            "gridwidth": 2,
            "linecolor": "white",
            "showbackground": true,
            "ticks": "",
            "zerolinecolor": "white"
           }
          },
          "shapedefaults": {
           "line": {
            "color": "#2a3f5f"
           }
          },
          "ternary": {
           "aaxis": {
            "gridcolor": "white",
            "linecolor": "white",
            "ticks": ""
           },
           "baxis": {
            "gridcolor": "white",
            "linecolor": "white",
            "ticks": ""
           },
           "bgcolor": "#E5ECF6",
           "caxis": {
            "gridcolor": "white",
            "linecolor": "white",
            "ticks": ""
           }
          },
          "title": {
           "x": 0.05
          },
          "xaxis": {
           "automargin": true,
           "gridcolor": "white",
           "linecolor": "white",
           "ticks": "",
           "title": {
            "standoff": 15
           },
           "zerolinecolor": "white",
           "zerolinewidth": 2
          },
          "yaxis": {
           "automargin": true,
           "gridcolor": "white",
           "linecolor": "white",
           "ticks": "",
           "title": {
            "standoff": 15
           },
           "zerolinecolor": "white",
           "zerolinewidth": 2
          }
         }
        },
        "title": {
         "font": {
          "color": "#4D5663"
         }
        },
        "xaxis": {
         "gridcolor": "#E1E5ED",
         "showgrid": true,
         "tickfont": {
          "color": "#4D5663"
         },
         "title": {
          "font": {
           "color": "#4D5663"
          },
          "text": ""
         },
         "zerolinecolor": "#E1E5ED"
        },
        "yaxis": {
         "gridcolor": "#E1E5ED",
         "showgrid": true,
         "tickfont": {
          "color": "#4D5663"
         },
         "title": {
          "font": {
           "color": "#4D5663"
          },
          "text": ""
         },
         "zerolinecolor": "#E1E5ED"
        }
       }
      },
      "text/html": [
       "<div>                            <div id=\"68e276cc-0a6b-4d83-b51f-13c67881aaaf\" class=\"plotly-graph-div\" style=\"height:525px; width:100%;\"></div>            <script type=\"text/javascript\">                require([\"plotly\"], function(Plotly) {                    window.PLOTLYENV=window.PLOTLYENV || {};\n",
       "                    window.PLOTLYENV.BASE_URL='https://plot.ly';                                    if (document.getElementById(\"68e276cc-0a6b-4d83-b51f-13c67881aaaf\")) {                    Plotly.newPlot(                        \"68e276cc-0a6b-4d83-b51f-13c67881aaaf\",                        [{\"line\":{\"color\":\"rgba(255, 153, 51, 1.0)\",\"dash\":\"solid\",\"shape\":\"linear\",\"width\":1.3},\"marker\":{\"size\":10,\"symbol\":\"circle\"},\"mode\":\"markers\",\"name\":\"B\",\"text\":\"\",\"x\":[2.378704592613066,0.7949812084298118,0.020347293573050422,0.16868777949177213,-0.8814220662121459,-0.5469894743183308,0.6590071765436658,0.3613179293562961,-1.2147461277054892,-1.0717006945379468,1.4730551122551672,-2.0182139728885113,0.862170819233818,0.45865902626215327,0.8212707351013381,-1.0658356940582248,0.03295835561673598,-0.926351955662341,-1.022016441866523,0.40418350578692364,-0.7181779587551178,-0.6886833824381282,0.6589900815740977,0.3362218418822843,-0.8820682824005845,0.7525581971493505,0.9744354545245969,0.3941171740728787,-0.3148279512998113,0.027511879249834822,1.0690736558569764,1.945965592580823,-0.7404405629930189,-0.9320931040826592,-0.9725128365556344,-0.022925786738108116,0.23524105357779349,-0.7870873351298374,-0.8820383123923283,0.5388653659796684,0.3467960749027645,0.9180377599871524,0.7964447306733002,0.26387076427638695,-1.6624756533038676,-0.6588661312752233,0.5217396969238294,0.8970812642468908,-1.3713926827076768,-0.4548300287598396,-0.045966239535387074,1.9282569880928602,-0.10928180133163234,-1.206470846341257,1.507713498434342,0.05592745845622738,-1.5132312506460328,0.47489113129330857,-1.3952618471111324,0.8038273818921229,1.1856349700169242,0.16273611112484013,-0.12258699650513145,1.465768004736537,1.2102174987321017,-0.7665906106697451,1.481523198660766,0.0427859215020586,0.10498569010405591,-0.3532346970575991,0.7470035130696405,-1.5138294405419948,0.39125537467149357,1.0554685121921457,-1.1603309027478979,1.2680819308540339,-1.6729243287440783,-0.800055858574939,-0.06054705752571512,-0.9499836719749434,-0.814075664122035,-1.026934113840444,0.3404099087659415,-1.0694526605321897,-0.8912421592491239,-1.0298025520047036,-0.8461521807594581,0.38163340848760885,-0.854143270793631,2.7339580890475754,-1.1192422975843501,-1.2409109590645255,-1.6961826901225727,-2.531659068148911,-0.9385020930493669,0.4024336318072811,0.5681600037698108,1.027833998158066,0.29826246449978355,1.3920428913571818],\"y\":[-1.4109524815414125,1.1282465007801148,0.047738942839579426,1.1925776700433535,-0.6760291052564088,0.1790913936831051,-0.03351469037462734,0.3771657627762725,-0.9767022195579985,0.21141886110062716,0.1584196563489074,-0.26903850577050065,0.1336348126478488,0.5566619988174846,0.1068228699217611,0.14722205713031677,-0.2343686404535711,-0.1262077308186696,0.2028854190184494,-1.184744979491366,0.09891423137821188,-1.290136702571667,0.6610727598457594,0.6702717303544894,0.0912079810352433,-0.9638006134894856,0.16094260320748796,0.2966406238557308,1.2821294846940516,-0.067473604084655,0.6795513181159056,0.5491447905266279,-0.689806015680189,0.6289590663833551,-1.9550310814406153,1.3285163272544,-0.6016863121951649,-2.287052069467176,-0.046040797789362084,0.6332369562901614,-0.7580283974698023,-0.06036705191617741,-0.1456939613387233,-0.5115588069642251,-0.9638838012193599,1.9645250905586364,0.7530690446506421,-0.5454797258160548,1.1264285526198632,0.5309788677230551,0.37017010060986144,-1.1250898914401306,-0.28798151582684817,0.5946295317590171,-0.3347454800425729,0.3149458216962703,0.5583138746908815,-1.3610380889173985,-0.015197888111185916,0.5839205545037052,0.7950892840941408,-0.9638717777634335,-1.1790577083086358,0.7429474030938845,0.3609668315824039,1.0454595794961696,-1.3695181820018538,1.1131185717922327,0.5216827552405487,0.5073722744981483,-0.4022519329950429,-0.3158636790719244,-0.8504176310575834,-0.3903836881740838,1.1044927868985561,-0.5736934071368204,0.7757993030735614,0.17272730723566684,0.7395094056847753,-0.8108546768655773,0.8372945924989318,0.4622740489612075,1.1748008403104275,0.3902602603754761,0.8569649092316891,0.29879524251049244,0.12796874998029747,0.3150133146889394,-0.8190428447575135,0.1948280774662253,0.39465257829795125,0.1448000685913453,-0.38815316801875377,-0.45750751101059955,1.6738795196045138,0.13198167186586035,-0.4374958634037224,-0.3477123127206604,-0.08952001727038991,0.7885530702008177],\"type\":\"scatter\"}],                        {\"legend\":{\"bgcolor\":\"#F5F6F9\",\"font\":{\"color\":\"#4D5663\"}},\"paper_bgcolor\":\"#F5F6F9\",\"plot_bgcolor\":\"#F5F6F9\",\"template\":{\"data\":{\"barpolar\":[{\"marker\":{\"line\":{\"color\":\"#E5ECF6\",\"width\":0.5},\"pattern\":{\"fillmode\":\"overlay\",\"size\":10,\"solidity\":0.2}},\"type\":\"barpolar\"}],\"bar\":[{\"error_x\":{\"color\":\"#2a3f5f\"},\"error_y\":{\"color\":\"#2a3f5f\"},\"marker\":{\"line\":{\"color\":\"#E5ECF6\",\"width\":0.5},\"pattern\":{\"fillmode\":\"overlay\",\"size\":10,\"solidity\":0.2}},\"type\":\"bar\"}],\"carpet\":[{\"aaxis\":{\"endlinecolor\":\"#2a3f5f\",\"gridcolor\":\"white\",\"linecolor\":\"white\",\"minorgridcolor\":\"white\",\"startlinecolor\":\"#2a3f5f\"},\"baxis\":{\"endlinecolor\":\"#2a3f5f\",\"gridcolor\":\"white\",\"linecolor\":\"white\",\"minorgridcolor\":\"white\",\"startlinecolor\":\"#2a3f5f\"},\"type\":\"carpet\"}],\"choropleth\":[{\"colorbar\":{\"outlinewidth\":0,\"ticks\":\"\"},\"type\":\"choropleth\"}],\"contourcarpet\":[{\"colorbar\":{\"outlinewidth\":0,\"ticks\":\"\"},\"type\":\"contourcarpet\"}],\"contour\":[{\"colorbar\":{\"outlinewidth\":0,\"ticks\":\"\"},\"colorscale\":[[0.0,\"#0d0887\"],[0.1111111111111111,\"#46039f\"],[0.2222222222222222,\"#7201a8\"],[0.3333333333333333,\"#9c179e\"],[0.4444444444444444,\"#bd3786\"],[0.5555555555555556,\"#d8576b\"],[0.6666666666666666,\"#ed7953\"],[0.7777777777777778,\"#fb9f3a\"],[0.8888888888888888,\"#fdca26\"],[1.0,\"#f0f921\"]],\"type\":\"contour\"}],\"heatmapgl\":[{\"colorbar\":{\"outlinewidth\":0,\"ticks\":\"\"},\"colorscale\":[[0.0,\"#0d0887\"],[0.1111111111111111,\"#46039f\"],[0.2222222222222222,\"#7201a8\"],[0.3333333333333333,\"#9c179e\"],[0.4444444444444444,\"#bd3786\"],[0.5555555555555556,\"#d8576b\"],[0.6666666666666666,\"#ed7953\"],[0.7777777777777778,\"#fb9f3a\"],[0.8888888888888888,\"#fdca26\"],[1.0,\"#f0f921\"]],\"type\":\"heatmapgl\"}],\"heatmap\":[{\"colorbar\":{\"outlinewidth\":0,\"ticks\":\"\"},\"colorscale\":[[0.0,\"#0d0887\"],[0.1111111111111111,\"#46039f\"],[0.2222222222222222,\"#7201a8\"],[0.3333333333333333,\"#9c179e\"],[0.4444444444444444,\"#bd3786\"],[0.5555555555555556,\"#d8576b\"],[0.6666666666666666,\"#ed7953\"],[0.7777777777777778,\"#fb9f3a\"],[0.8888888888888888,\"#fdca26\"],[1.0,\"#f0f921\"]],\"type\":\"heatmap\"}],\"histogram2dcontour\":[{\"colorbar\":{\"outlinewidth\":0,\"ticks\":\"\"},\"colorscale\":[[0.0,\"#0d0887\"],[0.1111111111111111,\"#46039f\"],[0.2222222222222222,\"#7201a8\"],[0.3333333333333333,\"#9c179e\"],[0.4444444444444444,\"#bd3786\"],[0.5555555555555556,\"#d8576b\"],[0.6666666666666666,\"#ed7953\"],[0.7777777777777778,\"#fb9f3a\"],[0.8888888888888888,\"#fdca26\"],[1.0,\"#f0f921\"]],\"type\":\"histogram2dcontour\"}],\"histogram2d\":[{\"colorbar\":{\"outlinewidth\":0,\"ticks\":\"\"},\"colorscale\":[[0.0,\"#0d0887\"],[0.1111111111111111,\"#46039f\"],[0.2222222222222222,\"#7201a8\"],[0.3333333333333333,\"#9c179e\"],[0.4444444444444444,\"#bd3786\"],[0.5555555555555556,\"#d8576b\"],[0.6666666666666666,\"#ed7953\"],[0.7777777777777778,\"#fb9f3a\"],[0.8888888888888888,\"#fdca26\"],[1.0,\"#f0f921\"]],\"type\":\"histogram2d\"}],\"histogram\":[{\"marker\":{\"pattern\":{\"fillmode\":\"overlay\",\"size\":10,\"solidity\":0.2}},\"type\":\"histogram\"}],\"mesh3d\":[{\"colorbar\":{\"outlinewidth\":0,\"ticks\":\"\"},\"type\":\"mesh3d\"}],\"parcoords\":[{\"line\":{\"colorbar\":{\"outlinewidth\":0,\"ticks\":\"\"}},\"type\":\"parcoords\"}],\"pie\":[{\"automargin\":true,\"type\":\"pie\"}],\"scatter3d\":[{\"line\":{\"colorbar\":{\"outlinewidth\":0,\"ticks\":\"\"}},\"marker\":{\"colorbar\":{\"outlinewidth\":0,\"ticks\":\"\"}},\"type\":\"scatter3d\"}],\"scattercarpet\":[{\"marker\":{\"colorbar\":{\"outlinewidth\":0,\"ticks\":\"\"}},\"type\":\"scattercarpet\"}],\"scattergeo\":[{\"marker\":{\"colorbar\":{\"outlinewidth\":0,\"ticks\":\"\"}},\"type\":\"scattergeo\"}],\"scattergl\":[{\"marker\":{\"colorbar\":{\"outlinewidth\":0,\"ticks\":\"\"}},\"type\":\"scattergl\"}],\"scattermapbox\":[{\"marker\":{\"colorbar\":{\"outlinewidth\":0,\"ticks\":\"\"}},\"type\":\"scattermapbox\"}],\"scatterpolargl\":[{\"marker\":{\"colorbar\":{\"outlinewidth\":0,\"ticks\":\"\"}},\"type\":\"scatterpolargl\"}],\"scatterpolar\":[{\"marker\":{\"colorbar\":{\"outlinewidth\":0,\"ticks\":\"\"}},\"type\":\"scatterpolar\"}],\"scatter\":[{\"fillpattern\":{\"fillmode\":\"overlay\",\"size\":10,\"solidity\":0.2},\"type\":\"scatter\"}],\"scatterternary\":[{\"marker\":{\"colorbar\":{\"outlinewidth\":0,\"ticks\":\"\"}},\"type\":\"scatterternary\"}],\"surface\":[{\"colorbar\":{\"outlinewidth\":0,\"ticks\":\"\"},\"colorscale\":[[0.0,\"#0d0887\"],[0.1111111111111111,\"#46039f\"],[0.2222222222222222,\"#7201a8\"],[0.3333333333333333,\"#9c179e\"],[0.4444444444444444,\"#bd3786\"],[0.5555555555555556,\"#d8576b\"],[0.6666666666666666,\"#ed7953\"],[0.7777777777777778,\"#fb9f3a\"],[0.8888888888888888,\"#fdca26\"],[1.0,\"#f0f921\"]],\"type\":\"surface\"}],\"table\":[{\"cells\":{\"fill\":{\"color\":\"#EBF0F8\"},\"line\":{\"color\":\"white\"}},\"header\":{\"fill\":{\"color\":\"#C8D4E3\"},\"line\":{\"color\":\"white\"}},\"type\":\"table\"}]},\"layout\":{\"annotationdefaults\":{\"arrowcolor\":\"#2a3f5f\",\"arrowhead\":0,\"arrowwidth\":1},\"autotypenumbers\":\"strict\",\"coloraxis\":{\"colorbar\":{\"outlinewidth\":0,\"ticks\":\"\"}},\"colorscale\":{\"diverging\":[[0,\"#8e0152\"],[0.1,\"#c51b7d\"],[0.2,\"#de77ae\"],[0.3,\"#f1b6da\"],[0.4,\"#fde0ef\"],[0.5,\"#f7f7f7\"],[0.6,\"#e6f5d0\"],[0.7,\"#b8e186\"],[0.8,\"#7fbc41\"],[0.9,\"#4d9221\"],[1,\"#276419\"]],\"sequential\":[[0.0,\"#0d0887\"],[0.1111111111111111,\"#46039f\"],[0.2222222222222222,\"#7201a8\"],[0.3333333333333333,\"#9c179e\"],[0.4444444444444444,\"#bd3786\"],[0.5555555555555556,\"#d8576b\"],[0.6666666666666666,\"#ed7953\"],[0.7777777777777778,\"#fb9f3a\"],[0.8888888888888888,\"#fdca26\"],[1.0,\"#f0f921\"]],\"sequentialminus\":[[0.0,\"#0d0887\"],[0.1111111111111111,\"#46039f\"],[0.2222222222222222,\"#7201a8\"],[0.3333333333333333,\"#9c179e\"],[0.4444444444444444,\"#bd3786\"],[0.5555555555555556,\"#d8576b\"],[0.6666666666666666,\"#ed7953\"],[0.7777777777777778,\"#fb9f3a\"],[0.8888888888888888,\"#fdca26\"],[1.0,\"#f0f921\"]]},\"colorway\":[\"#636efa\",\"#EF553B\",\"#00cc96\",\"#ab63fa\",\"#FFA15A\",\"#19d3f3\",\"#FF6692\",\"#B6E880\",\"#FF97FF\",\"#FECB52\"],\"font\":{\"color\":\"#2a3f5f\"},\"geo\":{\"bgcolor\":\"white\",\"lakecolor\":\"white\",\"landcolor\":\"#E5ECF6\",\"showlakes\":true,\"showland\":true,\"subunitcolor\":\"white\"},\"hoverlabel\":{\"align\":\"left\"},\"hovermode\":\"closest\",\"mapbox\":{\"style\":\"light\"},\"paper_bgcolor\":\"white\",\"plot_bgcolor\":\"#E5ECF6\",\"polar\":{\"angularaxis\":{\"gridcolor\":\"white\",\"linecolor\":\"white\",\"ticks\":\"\"},\"bgcolor\":\"#E5ECF6\",\"radialaxis\":{\"gridcolor\":\"white\",\"linecolor\":\"white\",\"ticks\":\"\"}},\"scene\":{\"xaxis\":{\"backgroundcolor\":\"#E5ECF6\",\"gridcolor\":\"white\",\"gridwidth\":2,\"linecolor\":\"white\",\"showbackground\":true,\"ticks\":\"\",\"zerolinecolor\":\"white\"},\"yaxis\":{\"backgroundcolor\":\"#E5ECF6\",\"gridcolor\":\"white\",\"gridwidth\":2,\"linecolor\":\"white\",\"showbackground\":true,\"ticks\":\"\",\"zerolinecolor\":\"white\"},\"zaxis\":{\"backgroundcolor\":\"#E5ECF6\",\"gridcolor\":\"white\",\"gridwidth\":2,\"linecolor\":\"white\",\"showbackground\":true,\"ticks\":\"\",\"zerolinecolor\":\"white\"}},\"shapedefaults\":{\"line\":{\"color\":\"#2a3f5f\"}},\"ternary\":{\"aaxis\":{\"gridcolor\":\"white\",\"linecolor\":\"white\",\"ticks\":\"\"},\"baxis\":{\"gridcolor\":\"white\",\"linecolor\":\"white\",\"ticks\":\"\"},\"bgcolor\":\"#E5ECF6\",\"caxis\":{\"gridcolor\":\"white\",\"linecolor\":\"white\",\"ticks\":\"\"}},\"title\":{\"x\":0.05},\"xaxis\":{\"automargin\":true,\"gridcolor\":\"white\",\"linecolor\":\"white\",\"ticks\":\"\",\"title\":{\"standoff\":15},\"zerolinecolor\":\"white\",\"zerolinewidth\":2},\"yaxis\":{\"automargin\":true,\"gridcolor\":\"white\",\"linecolor\":\"white\",\"ticks\":\"\",\"title\":{\"standoff\":15},\"zerolinecolor\":\"white\",\"zerolinewidth\":2}}},\"title\":{\"font\":{\"color\":\"#4D5663\"}},\"xaxis\":{\"gridcolor\":\"#E1E5ED\",\"showgrid\":true,\"tickfont\":{\"color\":\"#4D5663\"},\"title\":{\"font\":{\"color\":\"#4D5663\"},\"text\":\"\"},\"zerolinecolor\":\"#E1E5ED\"},\"yaxis\":{\"gridcolor\":\"#E1E5ED\",\"showgrid\":true,\"tickfont\":{\"color\":\"#4D5663\"},\"title\":{\"font\":{\"color\":\"#4D5663\"},\"text\":\"\"},\"zerolinecolor\":\"#E1E5ED\"}},                        {\"showLink\": true, \"linkText\": \"Export to plot.ly\", \"plotlyServerURL\": \"https://plot.ly\", \"responsive\": true}                    ).then(function(){\n",
       "                            \n",
       "var gd = document.getElementById('68e276cc-0a6b-4d83-b51f-13c67881aaaf');\n",
       "var x = new MutationObserver(function (mutations, observer) {{\n",
       "        var display = window.getComputedStyle(gd).display;\n",
       "        if (!display || display === 'none') {{\n",
       "            console.log([gd, 'removed!']);\n",
       "            Plotly.purge(gd);\n",
       "            observer.disconnect();\n",
       "        }}\n",
       "}});\n",
       "\n",
       "// Listen for the removal of the full notebook cells\n",
       "var notebookContainer = gd.closest('#notebook-container');\n",
       "if (notebookContainer) {{\n",
       "    x.observe(notebookContainer, {childList: true});\n",
       "}}\n",
       "\n",
       "// Listen for the clearing of the current output cell\n",
       "var outputEl = gd.closest('.output');\n",
       "if (outputEl) {{\n",
       "    x.observe(outputEl, {childList: true});\n",
       "}}\n",
       "\n",
       "                        })                };                });            </script>        </div>"
      ]
     },
     "metadata": {},
     "output_type": "display_data"
    }
   ],
   "source": [
    "df.iplot(kind='scatter', x='A', y='B', mode='markers', size=10)"
   ]
  },
  {
   "cell_type": "markdown",
   "metadata": {},
   "source": [
    "## Bar Plots"
   ]
  },
  {
   "cell_type": "code",
   "execution_count": 12,
   "metadata": {},
   "outputs": [
    {
     "data": {
      "application/vnd.plotly.v1+json": {
       "config": {
        "linkText": "Export to plot.ly",
        "plotlyServerURL": "https://plot.ly",
        "showLink": true
       },
       "data": [
        {
         "marker": {
          "color": "rgba(255, 153, 51, 0.6)",
          "line": {
           "color": "rgba(255, 153, 51, 1.0)",
           "width": 1
          }
         },
         "name": "Values",
         "orientation": "v",
         "text": "",
         "type": "bar",
         "x": [
          "A",
          "B",
          "C"
         ],
         "y": [
          32,
          43,
          50
         ]
        }
       ],
       "layout": {
        "legend": {
         "bgcolor": "#F5F6F9",
         "font": {
          "color": "#4D5663"
         }
        },
        "paper_bgcolor": "#F5F6F9",
        "plot_bgcolor": "#F5F6F9",
        "template": {
         "data": {
          "bar": [
           {
            "error_x": {
             "color": "#2a3f5f"
            },
            "error_y": {
             "color": "#2a3f5f"
            },
            "marker": {
             "line": {
              "color": "#E5ECF6",
              "width": 0.5
             },
             "pattern": {
              "fillmode": "overlay",
              "size": 10,
              "solidity": 0.2
             }
            },
            "type": "bar"
           }
          ],
          "barpolar": [
           {
            "marker": {
             "line": {
              "color": "#E5ECF6",
              "width": 0.5
             },
             "pattern": {
              "fillmode": "overlay",
              "size": 10,
              "solidity": 0.2
             }
            },
            "type": "barpolar"
           }
          ],
          "carpet": [
           {
            "aaxis": {
             "endlinecolor": "#2a3f5f",
             "gridcolor": "white",
             "linecolor": "white",
             "minorgridcolor": "white",
             "startlinecolor": "#2a3f5f"
            },
            "baxis": {
             "endlinecolor": "#2a3f5f",
             "gridcolor": "white",
             "linecolor": "white",
             "minorgridcolor": "white",
             "startlinecolor": "#2a3f5f"
            },
            "type": "carpet"
           }
          ],
          "choropleth": [
           {
            "colorbar": {
             "outlinewidth": 0,
             "ticks": ""
            },
            "type": "choropleth"
           }
          ],
          "contour": [
           {
            "colorbar": {
             "outlinewidth": 0,
             "ticks": ""
            },
            "colorscale": [
             [
              0,
              "#0d0887"
             ],
             [
              0.1111111111111111,
              "#46039f"
             ],
             [
              0.2222222222222222,
              "#7201a8"
             ],
             [
              0.3333333333333333,
              "#9c179e"
             ],
             [
              0.4444444444444444,
              "#bd3786"
             ],
             [
              0.5555555555555556,
              "#d8576b"
             ],
             [
              0.6666666666666666,
              "#ed7953"
             ],
             [
              0.7777777777777778,
              "#fb9f3a"
             ],
             [
              0.8888888888888888,
              "#fdca26"
             ],
             [
              1,
              "#f0f921"
             ]
            ],
            "type": "contour"
           }
          ],
          "contourcarpet": [
           {
            "colorbar": {
             "outlinewidth": 0,
             "ticks": ""
            },
            "type": "contourcarpet"
           }
          ],
          "heatmap": [
           {
            "colorbar": {
             "outlinewidth": 0,
             "ticks": ""
            },
            "colorscale": [
             [
              0,
              "#0d0887"
             ],
             [
              0.1111111111111111,
              "#46039f"
             ],
             [
              0.2222222222222222,
              "#7201a8"
             ],
             [
              0.3333333333333333,
              "#9c179e"
             ],
             [
              0.4444444444444444,
              "#bd3786"
             ],
             [
              0.5555555555555556,
              "#d8576b"
             ],
             [
              0.6666666666666666,
              "#ed7953"
             ],
             [
              0.7777777777777778,
              "#fb9f3a"
             ],
             [
              0.8888888888888888,
              "#fdca26"
             ],
             [
              1,
              "#f0f921"
             ]
            ],
            "type": "heatmap"
           }
          ],
          "heatmapgl": [
           {
            "colorbar": {
             "outlinewidth": 0,
             "ticks": ""
            },
            "colorscale": [
             [
              0,
              "#0d0887"
             ],
             [
              0.1111111111111111,
              "#46039f"
             ],
             [
              0.2222222222222222,
              "#7201a8"
             ],
             [
              0.3333333333333333,
              "#9c179e"
             ],
             [
              0.4444444444444444,
              "#bd3786"
             ],
             [
              0.5555555555555556,
              "#d8576b"
             ],
             [
              0.6666666666666666,
              "#ed7953"
             ],
             [
              0.7777777777777778,
              "#fb9f3a"
             ],
             [
              0.8888888888888888,
              "#fdca26"
             ],
             [
              1,
              "#f0f921"
             ]
            ],
            "type": "heatmapgl"
           }
          ],
          "histogram": [
           {
            "marker": {
             "pattern": {
              "fillmode": "overlay",
              "size": 10,
              "solidity": 0.2
             }
            },
            "type": "histogram"
           }
          ],
          "histogram2d": [
           {
            "colorbar": {
             "outlinewidth": 0,
             "ticks": ""
            },
            "colorscale": [
             [
              0,
              "#0d0887"
             ],
             [
              0.1111111111111111,
              "#46039f"
             ],
             [
              0.2222222222222222,
              "#7201a8"
             ],
             [
              0.3333333333333333,
              "#9c179e"
             ],
             [
              0.4444444444444444,
              "#bd3786"
             ],
             [
              0.5555555555555556,
              "#d8576b"
             ],
             [
              0.6666666666666666,
              "#ed7953"
             ],
             [
              0.7777777777777778,
              "#fb9f3a"
             ],
             [
              0.8888888888888888,
              "#fdca26"
             ],
             [
              1,
              "#f0f921"
             ]
            ],
            "type": "histogram2d"
           }
          ],
          "histogram2dcontour": [
           {
            "colorbar": {
             "outlinewidth": 0,
             "ticks": ""
            },
            "colorscale": [
             [
              0,
              "#0d0887"
             ],
             [
              0.1111111111111111,
              "#46039f"
             ],
             [
              0.2222222222222222,
              "#7201a8"
             ],
             [
              0.3333333333333333,
              "#9c179e"
             ],
             [
              0.4444444444444444,
              "#bd3786"
             ],
             [
              0.5555555555555556,
              "#d8576b"
             ],
             [
              0.6666666666666666,
              "#ed7953"
             ],
             [
              0.7777777777777778,
              "#fb9f3a"
             ],
             [
              0.8888888888888888,
              "#fdca26"
             ],
             [
              1,
              "#f0f921"
             ]
            ],
            "type": "histogram2dcontour"
           }
          ],
          "mesh3d": [
           {
            "colorbar": {
             "outlinewidth": 0,
             "ticks": ""
            },
            "type": "mesh3d"
           }
          ],
          "parcoords": [
           {
            "line": {
             "colorbar": {
              "outlinewidth": 0,
              "ticks": ""
             }
            },
            "type": "parcoords"
           }
          ],
          "pie": [
           {
            "automargin": true,
            "type": "pie"
           }
          ],
          "scatter": [
           {
            "fillpattern": {
             "fillmode": "overlay",
             "size": 10,
             "solidity": 0.2
            },
            "type": "scatter"
           }
          ],
          "scatter3d": [
           {
            "line": {
             "colorbar": {
              "outlinewidth": 0,
              "ticks": ""
             }
            },
            "marker": {
             "colorbar": {
              "outlinewidth": 0,
              "ticks": ""
             }
            },
            "type": "scatter3d"
           }
          ],
          "scattercarpet": [
           {
            "marker": {
             "colorbar": {
              "outlinewidth": 0,
              "ticks": ""
             }
            },
            "type": "scattercarpet"
           }
          ],
          "scattergeo": [
           {
            "marker": {
             "colorbar": {
              "outlinewidth": 0,
              "ticks": ""
             }
            },
            "type": "scattergeo"
           }
          ],
          "scattergl": [
           {
            "marker": {
             "colorbar": {
              "outlinewidth": 0,
              "ticks": ""
             }
            },
            "type": "scattergl"
           }
          ],
          "scattermapbox": [
           {
            "marker": {
             "colorbar": {
              "outlinewidth": 0,
              "ticks": ""
             }
            },
            "type": "scattermapbox"
           }
          ],
          "scatterpolar": [
           {
            "marker": {
             "colorbar": {
              "outlinewidth": 0,
              "ticks": ""
             }
            },
            "type": "scatterpolar"
           }
          ],
          "scatterpolargl": [
           {
            "marker": {
             "colorbar": {
              "outlinewidth": 0,
              "ticks": ""
             }
            },
            "type": "scatterpolargl"
           }
          ],
          "scatterternary": [
           {
            "marker": {
             "colorbar": {
              "outlinewidth": 0,
              "ticks": ""
             }
            },
            "type": "scatterternary"
           }
          ],
          "surface": [
           {
            "colorbar": {
             "outlinewidth": 0,
             "ticks": ""
            },
            "colorscale": [
             [
              0,
              "#0d0887"
             ],
             [
              0.1111111111111111,
              "#46039f"
             ],
             [
              0.2222222222222222,
              "#7201a8"
             ],
             [
              0.3333333333333333,
              "#9c179e"
             ],
             [
              0.4444444444444444,
              "#bd3786"
             ],
             [
              0.5555555555555556,
              "#d8576b"
             ],
             [
              0.6666666666666666,
              "#ed7953"
             ],
             [
              0.7777777777777778,
              "#fb9f3a"
             ],
             [
              0.8888888888888888,
              "#fdca26"
             ],
             [
              1,
              "#f0f921"
             ]
            ],
            "type": "surface"
           }
          ],
          "table": [
           {
            "cells": {
             "fill": {
              "color": "#EBF0F8"
             },
             "line": {
              "color": "white"
             }
            },
            "header": {
             "fill": {
              "color": "#C8D4E3"
             },
             "line": {
              "color": "white"
             }
            },
            "type": "table"
           }
          ]
         },
         "layout": {
          "annotationdefaults": {
           "arrowcolor": "#2a3f5f",
           "arrowhead": 0,
           "arrowwidth": 1
          },
          "autotypenumbers": "strict",
          "coloraxis": {
           "colorbar": {
            "outlinewidth": 0,
            "ticks": ""
           }
          },
          "colorscale": {
           "diverging": [
            [
             0,
             "#8e0152"
            ],
            [
             0.1,
             "#c51b7d"
            ],
            [
             0.2,
             "#de77ae"
            ],
            [
             0.3,
             "#f1b6da"
            ],
            [
             0.4,
             "#fde0ef"
            ],
            [
             0.5,
             "#f7f7f7"
            ],
            [
             0.6,
             "#e6f5d0"
            ],
            [
             0.7,
             "#b8e186"
            ],
            [
             0.8,
             "#7fbc41"
            ],
            [
             0.9,
             "#4d9221"
            ],
            [
             1,
             "#276419"
            ]
           ],
           "sequential": [
            [
             0,
             "#0d0887"
            ],
            [
             0.1111111111111111,
             "#46039f"
            ],
            [
             0.2222222222222222,
             "#7201a8"
            ],
            [
             0.3333333333333333,
             "#9c179e"
            ],
            [
             0.4444444444444444,
             "#bd3786"
            ],
            [
             0.5555555555555556,
             "#d8576b"
            ],
            [
             0.6666666666666666,
             "#ed7953"
            ],
            [
             0.7777777777777778,
             "#fb9f3a"
            ],
            [
             0.8888888888888888,
             "#fdca26"
            ],
            [
             1,
             "#f0f921"
            ]
           ],
           "sequentialminus": [
            [
             0,
             "#0d0887"
            ],
            [
             0.1111111111111111,
             "#46039f"
            ],
            [
             0.2222222222222222,
             "#7201a8"
            ],
            [
             0.3333333333333333,
             "#9c179e"
            ],
            [
             0.4444444444444444,
             "#bd3786"
            ],
            [
             0.5555555555555556,
             "#d8576b"
            ],
            [
             0.6666666666666666,
             "#ed7953"
            ],
            [
             0.7777777777777778,
             "#fb9f3a"
            ],
            [
             0.8888888888888888,
             "#fdca26"
            ],
            [
             1,
             "#f0f921"
            ]
           ]
          },
          "colorway": [
           "#636efa",
           "#EF553B",
           "#00cc96",
           "#ab63fa",
           "#FFA15A",
           "#19d3f3",
           "#FF6692",
           "#B6E880",
           "#FF97FF",
           "#FECB52"
          ],
          "font": {
           "color": "#2a3f5f"
          },
          "geo": {
           "bgcolor": "white",
           "lakecolor": "white",
           "landcolor": "#E5ECF6",
           "showlakes": true,
           "showland": true,
           "subunitcolor": "white"
          },
          "hoverlabel": {
           "align": "left"
          },
          "hovermode": "closest",
          "mapbox": {
           "style": "light"
          },
          "paper_bgcolor": "white",
          "plot_bgcolor": "#E5ECF6",
          "polar": {
           "angularaxis": {
            "gridcolor": "white",
            "linecolor": "white",
            "ticks": ""
           },
           "bgcolor": "#E5ECF6",
           "radialaxis": {
            "gridcolor": "white",
            "linecolor": "white",
            "ticks": ""
           }
          },
          "scene": {
           "xaxis": {
            "backgroundcolor": "#E5ECF6",
            "gridcolor": "white",
            "gridwidth": 2,
            "linecolor": "white",
            "showbackground": true,
            "ticks": "",
            "zerolinecolor": "white"
           },
           "yaxis": {
            "backgroundcolor": "#E5ECF6",
            "gridcolor": "white",
            "gridwidth": 2,
            "linecolor": "white",
            "showbackground": true,
            "ticks": "",
            "zerolinecolor": "white"
           },
           "zaxis": {
            "backgroundcolor": "#E5ECF6",
            "gridcolor": "white",
            "gridwidth": 2,
            "linecolor": "white",
            "showbackground": true,
            "ticks": "",
            "zerolinecolor": "white"
           }
          },
          "shapedefaults": {
           "line": {
            "color": "#2a3f5f"
           }
          },
          "ternary": {
           "aaxis": {
            "gridcolor": "white",
            "linecolor": "white",
            "ticks": ""
           },
           "baxis": {
            "gridcolor": "white",
            "linecolor": "white",
            "ticks": ""
           },
           "bgcolor": "#E5ECF6",
           "caxis": {
            "gridcolor": "white",
            "linecolor": "white",
            "ticks": ""
           }
          },
          "title": {
           "x": 0.05
          },
          "xaxis": {
           "automargin": true,
           "gridcolor": "white",
           "linecolor": "white",
           "ticks": "",
           "title": {
            "standoff": 15
           },
           "zerolinecolor": "white",
           "zerolinewidth": 2
          },
          "yaxis": {
           "automargin": true,
           "gridcolor": "white",
           "linecolor": "white",
           "ticks": "",
           "title": {
            "standoff": 15
           },
           "zerolinecolor": "white",
           "zerolinewidth": 2
          }
         }
        },
        "title": {
         "font": {
          "color": "#4D5663"
         }
        },
        "xaxis": {
         "gridcolor": "#E1E5ED",
         "showgrid": true,
         "tickfont": {
          "color": "#4D5663"
         },
         "title": {
          "font": {
           "color": "#4D5663"
          },
          "text": ""
         },
         "zerolinecolor": "#E1E5ED"
        },
        "yaxis": {
         "gridcolor": "#E1E5ED",
         "showgrid": true,
         "tickfont": {
          "color": "#4D5663"
         },
         "title": {
          "font": {
           "color": "#4D5663"
          },
          "text": ""
         },
         "zerolinecolor": "#E1E5ED"
        }
       }
      },
      "text/html": [
       "<div>                            <div id=\"8e35ada8-1c24-458c-983a-2bb97e4b75c2\" class=\"plotly-graph-div\" style=\"height:525px; width:100%;\"></div>            <script type=\"text/javascript\">                require([\"plotly\"], function(Plotly) {                    window.PLOTLYENV=window.PLOTLYENV || {};\n",
       "                    window.PLOTLYENV.BASE_URL='https://plot.ly';                                    if (document.getElementById(\"8e35ada8-1c24-458c-983a-2bb97e4b75c2\")) {                    Plotly.newPlot(                        \"8e35ada8-1c24-458c-983a-2bb97e4b75c2\",                        [{\"marker\":{\"color\":\"rgba(255, 153, 51, 0.6)\",\"line\":{\"color\":\"rgba(255, 153, 51, 1.0)\",\"width\":1}},\"name\":\"Values\",\"orientation\":\"v\",\"text\":\"\",\"x\":[\"A\",\"B\",\"C\"],\"y\":[32,43,50],\"type\":\"bar\"}],                        {\"legend\":{\"bgcolor\":\"#F5F6F9\",\"font\":{\"color\":\"#4D5663\"}},\"paper_bgcolor\":\"#F5F6F9\",\"plot_bgcolor\":\"#F5F6F9\",\"template\":{\"data\":{\"barpolar\":[{\"marker\":{\"line\":{\"color\":\"#E5ECF6\",\"width\":0.5},\"pattern\":{\"fillmode\":\"overlay\",\"size\":10,\"solidity\":0.2}},\"type\":\"barpolar\"}],\"bar\":[{\"error_x\":{\"color\":\"#2a3f5f\"},\"error_y\":{\"color\":\"#2a3f5f\"},\"marker\":{\"line\":{\"color\":\"#E5ECF6\",\"width\":0.5},\"pattern\":{\"fillmode\":\"overlay\",\"size\":10,\"solidity\":0.2}},\"type\":\"bar\"}],\"carpet\":[{\"aaxis\":{\"endlinecolor\":\"#2a3f5f\",\"gridcolor\":\"white\",\"linecolor\":\"white\",\"minorgridcolor\":\"white\",\"startlinecolor\":\"#2a3f5f\"},\"baxis\":{\"endlinecolor\":\"#2a3f5f\",\"gridcolor\":\"white\",\"linecolor\":\"white\",\"minorgridcolor\":\"white\",\"startlinecolor\":\"#2a3f5f\"},\"type\":\"carpet\"}],\"choropleth\":[{\"colorbar\":{\"outlinewidth\":0,\"ticks\":\"\"},\"type\":\"choropleth\"}],\"contourcarpet\":[{\"colorbar\":{\"outlinewidth\":0,\"ticks\":\"\"},\"type\":\"contourcarpet\"}],\"contour\":[{\"colorbar\":{\"outlinewidth\":0,\"ticks\":\"\"},\"colorscale\":[[0.0,\"#0d0887\"],[0.1111111111111111,\"#46039f\"],[0.2222222222222222,\"#7201a8\"],[0.3333333333333333,\"#9c179e\"],[0.4444444444444444,\"#bd3786\"],[0.5555555555555556,\"#d8576b\"],[0.6666666666666666,\"#ed7953\"],[0.7777777777777778,\"#fb9f3a\"],[0.8888888888888888,\"#fdca26\"],[1.0,\"#f0f921\"]],\"type\":\"contour\"}],\"heatmapgl\":[{\"colorbar\":{\"outlinewidth\":0,\"ticks\":\"\"},\"colorscale\":[[0.0,\"#0d0887\"],[0.1111111111111111,\"#46039f\"],[0.2222222222222222,\"#7201a8\"],[0.3333333333333333,\"#9c179e\"],[0.4444444444444444,\"#bd3786\"],[0.5555555555555556,\"#d8576b\"],[0.6666666666666666,\"#ed7953\"],[0.7777777777777778,\"#fb9f3a\"],[0.8888888888888888,\"#fdca26\"],[1.0,\"#f0f921\"]],\"type\":\"heatmapgl\"}],\"heatmap\":[{\"colorbar\":{\"outlinewidth\":0,\"ticks\":\"\"},\"colorscale\":[[0.0,\"#0d0887\"],[0.1111111111111111,\"#46039f\"],[0.2222222222222222,\"#7201a8\"],[0.3333333333333333,\"#9c179e\"],[0.4444444444444444,\"#bd3786\"],[0.5555555555555556,\"#d8576b\"],[0.6666666666666666,\"#ed7953\"],[0.7777777777777778,\"#fb9f3a\"],[0.8888888888888888,\"#fdca26\"],[1.0,\"#f0f921\"]],\"type\":\"heatmap\"}],\"histogram2dcontour\":[{\"colorbar\":{\"outlinewidth\":0,\"ticks\":\"\"},\"colorscale\":[[0.0,\"#0d0887\"],[0.1111111111111111,\"#46039f\"],[0.2222222222222222,\"#7201a8\"],[0.3333333333333333,\"#9c179e\"],[0.4444444444444444,\"#bd3786\"],[0.5555555555555556,\"#d8576b\"],[0.6666666666666666,\"#ed7953\"],[0.7777777777777778,\"#fb9f3a\"],[0.8888888888888888,\"#fdca26\"],[1.0,\"#f0f921\"]],\"type\":\"histogram2dcontour\"}],\"histogram2d\":[{\"colorbar\":{\"outlinewidth\":0,\"ticks\":\"\"},\"colorscale\":[[0.0,\"#0d0887\"],[0.1111111111111111,\"#46039f\"],[0.2222222222222222,\"#7201a8\"],[0.3333333333333333,\"#9c179e\"],[0.4444444444444444,\"#bd3786\"],[0.5555555555555556,\"#d8576b\"],[0.6666666666666666,\"#ed7953\"],[0.7777777777777778,\"#fb9f3a\"],[0.8888888888888888,\"#fdca26\"],[1.0,\"#f0f921\"]],\"type\":\"histogram2d\"}],\"histogram\":[{\"marker\":{\"pattern\":{\"fillmode\":\"overlay\",\"size\":10,\"solidity\":0.2}},\"type\":\"histogram\"}],\"mesh3d\":[{\"colorbar\":{\"outlinewidth\":0,\"ticks\":\"\"},\"type\":\"mesh3d\"}],\"parcoords\":[{\"line\":{\"colorbar\":{\"outlinewidth\":0,\"ticks\":\"\"}},\"type\":\"parcoords\"}],\"pie\":[{\"automargin\":true,\"type\":\"pie\"}],\"scatter3d\":[{\"line\":{\"colorbar\":{\"outlinewidth\":0,\"ticks\":\"\"}},\"marker\":{\"colorbar\":{\"outlinewidth\":0,\"ticks\":\"\"}},\"type\":\"scatter3d\"}],\"scattercarpet\":[{\"marker\":{\"colorbar\":{\"outlinewidth\":0,\"ticks\":\"\"}},\"type\":\"scattercarpet\"}],\"scattergeo\":[{\"marker\":{\"colorbar\":{\"outlinewidth\":0,\"ticks\":\"\"}},\"type\":\"scattergeo\"}],\"scattergl\":[{\"marker\":{\"colorbar\":{\"outlinewidth\":0,\"ticks\":\"\"}},\"type\":\"scattergl\"}],\"scattermapbox\":[{\"marker\":{\"colorbar\":{\"outlinewidth\":0,\"ticks\":\"\"}},\"type\":\"scattermapbox\"}],\"scatterpolargl\":[{\"marker\":{\"colorbar\":{\"outlinewidth\":0,\"ticks\":\"\"}},\"type\":\"scatterpolargl\"}],\"scatterpolar\":[{\"marker\":{\"colorbar\":{\"outlinewidth\":0,\"ticks\":\"\"}},\"type\":\"scatterpolar\"}],\"scatter\":[{\"fillpattern\":{\"fillmode\":\"overlay\",\"size\":10,\"solidity\":0.2},\"type\":\"scatter\"}],\"scatterternary\":[{\"marker\":{\"colorbar\":{\"outlinewidth\":0,\"ticks\":\"\"}},\"type\":\"scatterternary\"}],\"surface\":[{\"colorbar\":{\"outlinewidth\":0,\"ticks\":\"\"},\"colorscale\":[[0.0,\"#0d0887\"],[0.1111111111111111,\"#46039f\"],[0.2222222222222222,\"#7201a8\"],[0.3333333333333333,\"#9c179e\"],[0.4444444444444444,\"#bd3786\"],[0.5555555555555556,\"#d8576b\"],[0.6666666666666666,\"#ed7953\"],[0.7777777777777778,\"#fb9f3a\"],[0.8888888888888888,\"#fdca26\"],[1.0,\"#f0f921\"]],\"type\":\"surface\"}],\"table\":[{\"cells\":{\"fill\":{\"color\":\"#EBF0F8\"},\"line\":{\"color\":\"white\"}},\"header\":{\"fill\":{\"color\":\"#C8D4E3\"},\"line\":{\"color\":\"white\"}},\"type\":\"table\"}]},\"layout\":{\"annotationdefaults\":{\"arrowcolor\":\"#2a3f5f\",\"arrowhead\":0,\"arrowwidth\":1},\"autotypenumbers\":\"strict\",\"coloraxis\":{\"colorbar\":{\"outlinewidth\":0,\"ticks\":\"\"}},\"colorscale\":{\"diverging\":[[0,\"#8e0152\"],[0.1,\"#c51b7d\"],[0.2,\"#de77ae\"],[0.3,\"#f1b6da\"],[0.4,\"#fde0ef\"],[0.5,\"#f7f7f7\"],[0.6,\"#e6f5d0\"],[0.7,\"#b8e186\"],[0.8,\"#7fbc41\"],[0.9,\"#4d9221\"],[1,\"#276419\"]],\"sequential\":[[0.0,\"#0d0887\"],[0.1111111111111111,\"#46039f\"],[0.2222222222222222,\"#7201a8\"],[0.3333333333333333,\"#9c179e\"],[0.4444444444444444,\"#bd3786\"],[0.5555555555555556,\"#d8576b\"],[0.6666666666666666,\"#ed7953\"],[0.7777777777777778,\"#fb9f3a\"],[0.8888888888888888,\"#fdca26\"],[1.0,\"#f0f921\"]],\"sequentialminus\":[[0.0,\"#0d0887\"],[0.1111111111111111,\"#46039f\"],[0.2222222222222222,\"#7201a8\"],[0.3333333333333333,\"#9c179e\"],[0.4444444444444444,\"#bd3786\"],[0.5555555555555556,\"#d8576b\"],[0.6666666666666666,\"#ed7953\"],[0.7777777777777778,\"#fb9f3a\"],[0.8888888888888888,\"#fdca26\"],[1.0,\"#f0f921\"]]},\"colorway\":[\"#636efa\",\"#EF553B\",\"#00cc96\",\"#ab63fa\",\"#FFA15A\",\"#19d3f3\",\"#FF6692\",\"#B6E880\",\"#FF97FF\",\"#FECB52\"],\"font\":{\"color\":\"#2a3f5f\"},\"geo\":{\"bgcolor\":\"white\",\"lakecolor\":\"white\",\"landcolor\":\"#E5ECF6\",\"showlakes\":true,\"showland\":true,\"subunitcolor\":\"white\"},\"hoverlabel\":{\"align\":\"left\"},\"hovermode\":\"closest\",\"mapbox\":{\"style\":\"light\"},\"paper_bgcolor\":\"white\",\"plot_bgcolor\":\"#E5ECF6\",\"polar\":{\"angularaxis\":{\"gridcolor\":\"white\",\"linecolor\":\"white\",\"ticks\":\"\"},\"bgcolor\":\"#E5ECF6\",\"radialaxis\":{\"gridcolor\":\"white\",\"linecolor\":\"white\",\"ticks\":\"\"}},\"scene\":{\"xaxis\":{\"backgroundcolor\":\"#E5ECF6\",\"gridcolor\":\"white\",\"gridwidth\":2,\"linecolor\":\"white\",\"showbackground\":true,\"ticks\":\"\",\"zerolinecolor\":\"white\"},\"yaxis\":{\"backgroundcolor\":\"#E5ECF6\",\"gridcolor\":\"white\",\"gridwidth\":2,\"linecolor\":\"white\",\"showbackground\":true,\"ticks\":\"\",\"zerolinecolor\":\"white\"},\"zaxis\":{\"backgroundcolor\":\"#E5ECF6\",\"gridcolor\":\"white\",\"gridwidth\":2,\"linecolor\":\"white\",\"showbackground\":true,\"ticks\":\"\",\"zerolinecolor\":\"white\"}},\"shapedefaults\":{\"line\":{\"color\":\"#2a3f5f\"}},\"ternary\":{\"aaxis\":{\"gridcolor\":\"white\",\"linecolor\":\"white\",\"ticks\":\"\"},\"baxis\":{\"gridcolor\":\"white\",\"linecolor\":\"white\",\"ticks\":\"\"},\"bgcolor\":\"#E5ECF6\",\"caxis\":{\"gridcolor\":\"white\",\"linecolor\":\"white\",\"ticks\":\"\"}},\"title\":{\"x\":0.05},\"xaxis\":{\"automargin\":true,\"gridcolor\":\"white\",\"linecolor\":\"white\",\"ticks\":\"\",\"title\":{\"standoff\":15},\"zerolinecolor\":\"white\",\"zerolinewidth\":2},\"yaxis\":{\"automargin\":true,\"gridcolor\":\"white\",\"linecolor\":\"white\",\"ticks\":\"\",\"title\":{\"standoff\":15},\"zerolinecolor\":\"white\",\"zerolinewidth\":2}}},\"title\":{\"font\":{\"color\":\"#4D5663\"}},\"xaxis\":{\"gridcolor\":\"#E1E5ED\",\"showgrid\":true,\"tickfont\":{\"color\":\"#4D5663\"},\"title\":{\"font\":{\"color\":\"#4D5663\"},\"text\":\"\"},\"zerolinecolor\":\"#E1E5ED\"},\"yaxis\":{\"gridcolor\":\"#E1E5ED\",\"showgrid\":true,\"tickfont\":{\"color\":\"#4D5663\"},\"title\":{\"font\":{\"color\":\"#4D5663\"},\"text\":\"\"},\"zerolinecolor\":\"#E1E5ED\"}},                        {\"showLink\": true, \"linkText\": \"Export to plot.ly\", \"plotlyServerURL\": \"https://plot.ly\", \"responsive\": true}                    ).then(function(){\n",
       "                            \n",
       "var gd = document.getElementById('8e35ada8-1c24-458c-983a-2bb97e4b75c2');\n",
       "var x = new MutationObserver(function (mutations, observer) {{\n",
       "        var display = window.getComputedStyle(gd).display;\n",
       "        if (!display || display === 'none') {{\n",
       "            console.log([gd, 'removed!']);\n",
       "            Plotly.purge(gd);\n",
       "            observer.disconnect();\n",
       "        }}\n",
       "}});\n",
       "\n",
       "// Listen for the removal of the full notebook cells\n",
       "var notebookContainer = gd.closest('#notebook-container');\n",
       "if (notebookContainer) {{\n",
       "    x.observe(notebookContainer, {childList: true});\n",
       "}}\n",
       "\n",
       "// Listen for the clearing of the current output cell\n",
       "var outputEl = gd.closest('.output');\n",
       "if (outputEl) {{\n",
       "    x.observe(outputEl, {childList: true});\n",
       "}}\n",
       "\n",
       "                        })                };                });            </script>        </div>"
      ]
     },
     "metadata": {},
     "output_type": "display_data"
    }
   ],
   "source": [
    "df2.iplot(kind='bar', x='Category', y='Values')"
   ]
  },
  {
   "cell_type": "code",
   "execution_count": 13,
   "metadata": {},
   "outputs": [
    {
     "data": {
      "application/vnd.plotly.v1+json": {
       "config": {
        "linkText": "Export to plot.ly",
        "plotlyServerURL": "https://plot.ly",
        "showLink": true
       },
       "data": [
        {
         "marker": {
          "color": "rgba(255, 153, 51, 0.6)",
          "line": {
           "color": "rgba(255, 153, 51, 1.0)",
           "width": 1
          }
         },
         "name": "None",
         "orientation": "v",
         "text": "",
         "type": "bar",
         "x": [
          "A",
          "B",
          "C",
          "D"
         ],
         "y": [
          100,
          100,
          100,
          100
         ]
        }
       ],
       "layout": {
        "legend": {
         "bgcolor": "#F5F6F9",
         "font": {
          "color": "#4D5663"
         }
        },
        "paper_bgcolor": "#F5F6F9",
        "plot_bgcolor": "#F5F6F9",
        "template": {
         "data": {
          "bar": [
           {
            "error_x": {
             "color": "#2a3f5f"
            },
            "error_y": {
             "color": "#2a3f5f"
            },
            "marker": {
             "line": {
              "color": "#E5ECF6",
              "width": 0.5
             },
             "pattern": {
              "fillmode": "overlay",
              "size": 10,
              "solidity": 0.2
             }
            },
            "type": "bar"
           }
          ],
          "barpolar": [
           {
            "marker": {
             "line": {
              "color": "#E5ECF6",
              "width": 0.5
             },
             "pattern": {
              "fillmode": "overlay",
              "size": 10,
              "solidity": 0.2
             }
            },
            "type": "barpolar"
           }
          ],
          "carpet": [
           {
            "aaxis": {
             "endlinecolor": "#2a3f5f",
             "gridcolor": "white",
             "linecolor": "white",
             "minorgridcolor": "white",
             "startlinecolor": "#2a3f5f"
            },
            "baxis": {
             "endlinecolor": "#2a3f5f",
             "gridcolor": "white",
             "linecolor": "white",
             "minorgridcolor": "white",
             "startlinecolor": "#2a3f5f"
            },
            "type": "carpet"
           }
          ],
          "choropleth": [
           {
            "colorbar": {
             "outlinewidth": 0,
             "ticks": ""
            },
            "type": "choropleth"
           }
          ],
          "contour": [
           {
            "colorbar": {
             "outlinewidth": 0,
             "ticks": ""
            },
            "colorscale": [
             [
              0,
              "#0d0887"
             ],
             [
              0.1111111111111111,
              "#46039f"
             ],
             [
              0.2222222222222222,
              "#7201a8"
             ],
             [
              0.3333333333333333,
              "#9c179e"
             ],
             [
              0.4444444444444444,
              "#bd3786"
             ],
             [
              0.5555555555555556,
              "#d8576b"
             ],
             [
              0.6666666666666666,
              "#ed7953"
             ],
             [
              0.7777777777777778,
              "#fb9f3a"
             ],
             [
              0.8888888888888888,
              "#fdca26"
             ],
             [
              1,
              "#f0f921"
             ]
            ],
            "type": "contour"
           }
          ],
          "contourcarpet": [
           {
            "colorbar": {
             "outlinewidth": 0,
             "ticks": ""
            },
            "type": "contourcarpet"
           }
          ],
          "heatmap": [
           {
            "colorbar": {
             "outlinewidth": 0,
             "ticks": ""
            },
            "colorscale": [
             [
              0,
              "#0d0887"
             ],
             [
              0.1111111111111111,
              "#46039f"
             ],
             [
              0.2222222222222222,
              "#7201a8"
             ],
             [
              0.3333333333333333,
              "#9c179e"
             ],
             [
              0.4444444444444444,
              "#bd3786"
             ],
             [
              0.5555555555555556,
              "#d8576b"
             ],
             [
              0.6666666666666666,
              "#ed7953"
             ],
             [
              0.7777777777777778,
              "#fb9f3a"
             ],
             [
              0.8888888888888888,
              "#fdca26"
             ],
             [
              1,
              "#f0f921"
             ]
            ],
            "type": "heatmap"
           }
          ],
          "heatmapgl": [
           {
            "colorbar": {
             "outlinewidth": 0,
             "ticks": ""
            },
            "colorscale": [
             [
              0,
              "#0d0887"
             ],
             [
              0.1111111111111111,
              "#46039f"
             ],
             [
              0.2222222222222222,
              "#7201a8"
             ],
             [
              0.3333333333333333,
              "#9c179e"
             ],
             [
              0.4444444444444444,
              "#bd3786"
             ],
             [
              0.5555555555555556,
              "#d8576b"
             ],
             [
              0.6666666666666666,
              "#ed7953"
             ],
             [
              0.7777777777777778,
              "#fb9f3a"
             ],
             [
              0.8888888888888888,
              "#fdca26"
             ],
             [
              1,
              "#f0f921"
             ]
            ],
            "type": "heatmapgl"
           }
          ],
          "histogram": [
           {
            "marker": {
             "pattern": {
              "fillmode": "overlay",
              "size": 10,
              "solidity": 0.2
             }
            },
            "type": "histogram"
           }
          ],
          "histogram2d": [
           {
            "colorbar": {
             "outlinewidth": 0,
             "ticks": ""
            },
            "colorscale": [
             [
              0,
              "#0d0887"
             ],
             [
              0.1111111111111111,
              "#46039f"
             ],
             [
              0.2222222222222222,
              "#7201a8"
             ],
             [
              0.3333333333333333,
              "#9c179e"
             ],
             [
              0.4444444444444444,
              "#bd3786"
             ],
             [
              0.5555555555555556,
              "#d8576b"
             ],
             [
              0.6666666666666666,
              "#ed7953"
             ],
             [
              0.7777777777777778,
              "#fb9f3a"
             ],
             [
              0.8888888888888888,
              "#fdca26"
             ],
             [
              1,
              "#f0f921"
             ]
            ],
            "type": "histogram2d"
           }
          ],
          "histogram2dcontour": [
           {
            "colorbar": {
             "outlinewidth": 0,
             "ticks": ""
            },
            "colorscale": [
             [
              0,
              "#0d0887"
             ],
             [
              0.1111111111111111,
              "#46039f"
             ],
             [
              0.2222222222222222,
              "#7201a8"
             ],
             [
              0.3333333333333333,
              "#9c179e"
             ],
             [
              0.4444444444444444,
              "#bd3786"
             ],
             [
              0.5555555555555556,
              "#d8576b"
             ],
             [
              0.6666666666666666,
              "#ed7953"
             ],
             [
              0.7777777777777778,
              "#fb9f3a"
             ],
             [
              0.8888888888888888,
              "#fdca26"
             ],
             [
              1,
              "#f0f921"
             ]
            ],
            "type": "histogram2dcontour"
           }
          ],
          "mesh3d": [
           {
            "colorbar": {
             "outlinewidth": 0,
             "ticks": ""
            },
            "type": "mesh3d"
           }
          ],
          "parcoords": [
           {
            "line": {
             "colorbar": {
              "outlinewidth": 0,
              "ticks": ""
             }
            },
            "type": "parcoords"
           }
          ],
          "pie": [
           {
            "automargin": true,
            "type": "pie"
           }
          ],
          "scatter": [
           {
            "fillpattern": {
             "fillmode": "overlay",
             "size": 10,
             "solidity": 0.2
            },
            "type": "scatter"
           }
          ],
          "scatter3d": [
           {
            "line": {
             "colorbar": {
              "outlinewidth": 0,
              "ticks": ""
             }
            },
            "marker": {
             "colorbar": {
              "outlinewidth": 0,
              "ticks": ""
             }
            },
            "type": "scatter3d"
           }
          ],
          "scattercarpet": [
           {
            "marker": {
             "colorbar": {
              "outlinewidth": 0,
              "ticks": ""
             }
            },
            "type": "scattercarpet"
           }
          ],
          "scattergeo": [
           {
            "marker": {
             "colorbar": {
              "outlinewidth": 0,
              "ticks": ""
             }
            },
            "type": "scattergeo"
           }
          ],
          "scattergl": [
           {
            "marker": {
             "colorbar": {
              "outlinewidth": 0,
              "ticks": ""
             }
            },
            "type": "scattergl"
           }
          ],
          "scattermapbox": [
           {
            "marker": {
             "colorbar": {
              "outlinewidth": 0,
              "ticks": ""
             }
            },
            "type": "scattermapbox"
           }
          ],
          "scatterpolar": [
           {
            "marker": {
             "colorbar": {
              "outlinewidth": 0,
              "ticks": ""
             }
            },
            "type": "scatterpolar"
           }
          ],
          "scatterpolargl": [
           {
            "marker": {
             "colorbar": {
              "outlinewidth": 0,
              "ticks": ""
             }
            },
            "type": "scatterpolargl"
           }
          ],
          "scatterternary": [
           {
            "marker": {
             "colorbar": {
              "outlinewidth": 0,
              "ticks": ""
             }
            },
            "type": "scatterternary"
           }
          ],
          "surface": [
           {
            "colorbar": {
             "outlinewidth": 0,
             "ticks": ""
            },
            "colorscale": [
             [
              0,
              "#0d0887"
             ],
             [
              0.1111111111111111,
              "#46039f"
             ],
             [
              0.2222222222222222,
              "#7201a8"
             ],
             [
              0.3333333333333333,
              "#9c179e"
             ],
             [
              0.4444444444444444,
              "#bd3786"
             ],
             [
              0.5555555555555556,
              "#d8576b"
             ],
             [
              0.6666666666666666,
              "#ed7953"
             ],
             [
              0.7777777777777778,
              "#fb9f3a"
             ],
             [
              0.8888888888888888,
              "#fdca26"
             ],
             [
              1,
              "#f0f921"
             ]
            ],
            "type": "surface"
           }
          ],
          "table": [
           {
            "cells": {
             "fill": {
              "color": "#EBF0F8"
             },
             "line": {
              "color": "white"
             }
            },
            "header": {
             "fill": {
              "color": "#C8D4E3"
             },
             "line": {
              "color": "white"
             }
            },
            "type": "table"
           }
          ]
         },
         "layout": {
          "annotationdefaults": {
           "arrowcolor": "#2a3f5f",
           "arrowhead": 0,
           "arrowwidth": 1
          },
          "autotypenumbers": "strict",
          "coloraxis": {
           "colorbar": {
            "outlinewidth": 0,
            "ticks": ""
           }
          },
          "colorscale": {
           "diverging": [
            [
             0,
             "#8e0152"
            ],
            [
             0.1,
             "#c51b7d"
            ],
            [
             0.2,
             "#de77ae"
            ],
            [
             0.3,
             "#f1b6da"
            ],
            [
             0.4,
             "#fde0ef"
            ],
            [
             0.5,
             "#f7f7f7"
            ],
            [
             0.6,
             "#e6f5d0"
            ],
            [
             0.7,
             "#b8e186"
            ],
            [
             0.8,
             "#7fbc41"
            ],
            [
             0.9,
             "#4d9221"
            ],
            [
             1,
             "#276419"
            ]
           ],
           "sequential": [
            [
             0,
             "#0d0887"
            ],
            [
             0.1111111111111111,
             "#46039f"
            ],
            [
             0.2222222222222222,
             "#7201a8"
            ],
            [
             0.3333333333333333,
             "#9c179e"
            ],
            [
             0.4444444444444444,
             "#bd3786"
            ],
            [
             0.5555555555555556,
             "#d8576b"
            ],
            [
             0.6666666666666666,
             "#ed7953"
            ],
            [
             0.7777777777777778,
             "#fb9f3a"
            ],
            [
             0.8888888888888888,
             "#fdca26"
            ],
            [
             1,
             "#f0f921"
            ]
           ],
           "sequentialminus": [
            [
             0,
             "#0d0887"
            ],
            [
             0.1111111111111111,
             "#46039f"
            ],
            [
             0.2222222222222222,
             "#7201a8"
            ],
            [
             0.3333333333333333,
             "#9c179e"
            ],
            [
             0.4444444444444444,
             "#bd3786"
            ],
            [
             0.5555555555555556,
             "#d8576b"
            ],
            [
             0.6666666666666666,
             "#ed7953"
            ],
            [
             0.7777777777777778,
             "#fb9f3a"
            ],
            [
             0.8888888888888888,
             "#fdca26"
            ],
            [
             1,
             "#f0f921"
            ]
           ]
          },
          "colorway": [
           "#636efa",
           "#EF553B",
           "#00cc96",
           "#ab63fa",
           "#FFA15A",
           "#19d3f3",
           "#FF6692",
           "#B6E880",
           "#FF97FF",
           "#FECB52"
          ],
          "font": {
           "color": "#2a3f5f"
          },
          "geo": {
           "bgcolor": "white",
           "lakecolor": "white",
           "landcolor": "#E5ECF6",
           "showlakes": true,
           "showland": true,
           "subunitcolor": "white"
          },
          "hoverlabel": {
           "align": "left"
          },
          "hovermode": "closest",
          "mapbox": {
           "style": "light"
          },
          "paper_bgcolor": "white",
          "plot_bgcolor": "#E5ECF6",
          "polar": {
           "angularaxis": {
            "gridcolor": "white",
            "linecolor": "white",
            "ticks": ""
           },
           "bgcolor": "#E5ECF6",
           "radialaxis": {
            "gridcolor": "white",
            "linecolor": "white",
            "ticks": ""
           }
          },
          "scene": {
           "xaxis": {
            "backgroundcolor": "#E5ECF6",
            "gridcolor": "white",
            "gridwidth": 2,
            "linecolor": "white",
            "showbackground": true,
            "ticks": "",
            "zerolinecolor": "white"
           },
           "yaxis": {
            "backgroundcolor": "#E5ECF6",
            "gridcolor": "white",
            "gridwidth": 2,
            "linecolor": "white",
            "showbackground": true,
            "ticks": "",
            "zerolinecolor": "white"
           },
           "zaxis": {
            "backgroundcolor": "#E5ECF6",
            "gridcolor": "white",
            "gridwidth": 2,
            "linecolor": "white",
            "showbackground": true,
            "ticks": "",
            "zerolinecolor": "white"
           }
          },
          "shapedefaults": {
           "line": {
            "color": "#2a3f5f"
           }
          },
          "ternary": {
           "aaxis": {
            "gridcolor": "white",
            "linecolor": "white",
            "ticks": ""
           },
           "baxis": {
            "gridcolor": "white",
            "linecolor": "white",
            "ticks": ""
           },
           "bgcolor": "#E5ECF6",
           "caxis": {
            "gridcolor": "white",
            "linecolor": "white",
            "ticks": ""
           }
          },
          "title": {
           "x": 0.05
          },
          "xaxis": {
           "automargin": true,
           "gridcolor": "white",
           "linecolor": "white",
           "ticks": "",
           "title": {
            "standoff": 15
           },
           "zerolinecolor": "white",
           "zerolinewidth": 2
          },
          "yaxis": {
           "automargin": true,
           "gridcolor": "white",
           "linecolor": "white",
           "ticks": "",
           "title": {
            "standoff": 15
           },
           "zerolinecolor": "white",
           "zerolinewidth": 2
          }
         }
        },
        "title": {
         "font": {
          "color": "#4D5663"
         }
        },
        "xaxis": {
         "gridcolor": "#E1E5ED",
         "showgrid": true,
         "tickfont": {
          "color": "#4D5663"
         },
         "title": {
          "font": {
           "color": "#4D5663"
          },
          "text": ""
         },
         "zerolinecolor": "#E1E5ED"
        },
        "yaxis": {
         "gridcolor": "#E1E5ED",
         "showgrid": true,
         "tickfont": {
          "color": "#4D5663"
         },
         "title": {
          "font": {
           "color": "#4D5663"
          },
          "text": ""
         },
         "zerolinecolor": "#E1E5ED"
        }
       }
      },
      "text/html": [
       "<div>                            <div id=\"1e3fb65b-e5e0-459f-939b-5304fc5c5508\" class=\"plotly-graph-div\" style=\"height:525px; width:100%;\"></div>            <script type=\"text/javascript\">                require([\"plotly\"], function(Plotly) {                    window.PLOTLYENV=window.PLOTLYENV || {};\n",
       "                    window.PLOTLYENV.BASE_URL='https://plot.ly';                                    if (document.getElementById(\"1e3fb65b-e5e0-459f-939b-5304fc5c5508\")) {                    Plotly.newPlot(                        \"1e3fb65b-e5e0-459f-939b-5304fc5c5508\",                        [{\"marker\":{\"color\":\"rgba(255, 153, 51, 0.6)\",\"line\":{\"color\":\"rgba(255, 153, 51, 1.0)\",\"width\":1}},\"name\":\"None\",\"orientation\":\"v\",\"text\":\"\",\"x\":[\"A\",\"B\",\"C\",\"D\"],\"y\":[100,100,100,100],\"type\":\"bar\"}],                        {\"legend\":{\"bgcolor\":\"#F5F6F9\",\"font\":{\"color\":\"#4D5663\"}},\"paper_bgcolor\":\"#F5F6F9\",\"plot_bgcolor\":\"#F5F6F9\",\"template\":{\"data\":{\"barpolar\":[{\"marker\":{\"line\":{\"color\":\"#E5ECF6\",\"width\":0.5},\"pattern\":{\"fillmode\":\"overlay\",\"size\":10,\"solidity\":0.2}},\"type\":\"barpolar\"}],\"bar\":[{\"error_x\":{\"color\":\"#2a3f5f\"},\"error_y\":{\"color\":\"#2a3f5f\"},\"marker\":{\"line\":{\"color\":\"#E5ECF6\",\"width\":0.5},\"pattern\":{\"fillmode\":\"overlay\",\"size\":10,\"solidity\":0.2}},\"type\":\"bar\"}],\"carpet\":[{\"aaxis\":{\"endlinecolor\":\"#2a3f5f\",\"gridcolor\":\"white\",\"linecolor\":\"white\",\"minorgridcolor\":\"white\",\"startlinecolor\":\"#2a3f5f\"},\"baxis\":{\"endlinecolor\":\"#2a3f5f\",\"gridcolor\":\"white\",\"linecolor\":\"white\",\"minorgridcolor\":\"white\",\"startlinecolor\":\"#2a3f5f\"},\"type\":\"carpet\"}],\"choropleth\":[{\"colorbar\":{\"outlinewidth\":0,\"ticks\":\"\"},\"type\":\"choropleth\"}],\"contourcarpet\":[{\"colorbar\":{\"outlinewidth\":0,\"ticks\":\"\"},\"type\":\"contourcarpet\"}],\"contour\":[{\"colorbar\":{\"outlinewidth\":0,\"ticks\":\"\"},\"colorscale\":[[0.0,\"#0d0887\"],[0.1111111111111111,\"#46039f\"],[0.2222222222222222,\"#7201a8\"],[0.3333333333333333,\"#9c179e\"],[0.4444444444444444,\"#bd3786\"],[0.5555555555555556,\"#d8576b\"],[0.6666666666666666,\"#ed7953\"],[0.7777777777777778,\"#fb9f3a\"],[0.8888888888888888,\"#fdca26\"],[1.0,\"#f0f921\"]],\"type\":\"contour\"}],\"heatmapgl\":[{\"colorbar\":{\"outlinewidth\":0,\"ticks\":\"\"},\"colorscale\":[[0.0,\"#0d0887\"],[0.1111111111111111,\"#46039f\"],[0.2222222222222222,\"#7201a8\"],[0.3333333333333333,\"#9c179e\"],[0.4444444444444444,\"#bd3786\"],[0.5555555555555556,\"#d8576b\"],[0.6666666666666666,\"#ed7953\"],[0.7777777777777778,\"#fb9f3a\"],[0.8888888888888888,\"#fdca26\"],[1.0,\"#f0f921\"]],\"type\":\"heatmapgl\"}],\"heatmap\":[{\"colorbar\":{\"outlinewidth\":0,\"ticks\":\"\"},\"colorscale\":[[0.0,\"#0d0887\"],[0.1111111111111111,\"#46039f\"],[0.2222222222222222,\"#7201a8\"],[0.3333333333333333,\"#9c179e\"],[0.4444444444444444,\"#bd3786\"],[0.5555555555555556,\"#d8576b\"],[0.6666666666666666,\"#ed7953\"],[0.7777777777777778,\"#fb9f3a\"],[0.8888888888888888,\"#fdca26\"],[1.0,\"#f0f921\"]],\"type\":\"heatmap\"}],\"histogram2dcontour\":[{\"colorbar\":{\"outlinewidth\":0,\"ticks\":\"\"},\"colorscale\":[[0.0,\"#0d0887\"],[0.1111111111111111,\"#46039f\"],[0.2222222222222222,\"#7201a8\"],[0.3333333333333333,\"#9c179e\"],[0.4444444444444444,\"#bd3786\"],[0.5555555555555556,\"#d8576b\"],[0.6666666666666666,\"#ed7953\"],[0.7777777777777778,\"#fb9f3a\"],[0.8888888888888888,\"#fdca26\"],[1.0,\"#f0f921\"]],\"type\":\"histogram2dcontour\"}],\"histogram2d\":[{\"colorbar\":{\"outlinewidth\":0,\"ticks\":\"\"},\"colorscale\":[[0.0,\"#0d0887\"],[0.1111111111111111,\"#46039f\"],[0.2222222222222222,\"#7201a8\"],[0.3333333333333333,\"#9c179e\"],[0.4444444444444444,\"#bd3786\"],[0.5555555555555556,\"#d8576b\"],[0.6666666666666666,\"#ed7953\"],[0.7777777777777778,\"#fb9f3a\"],[0.8888888888888888,\"#fdca26\"],[1.0,\"#f0f921\"]],\"type\":\"histogram2d\"}],\"histogram\":[{\"marker\":{\"pattern\":{\"fillmode\":\"overlay\",\"size\":10,\"solidity\":0.2}},\"type\":\"histogram\"}],\"mesh3d\":[{\"colorbar\":{\"outlinewidth\":0,\"ticks\":\"\"},\"type\":\"mesh3d\"}],\"parcoords\":[{\"line\":{\"colorbar\":{\"outlinewidth\":0,\"ticks\":\"\"}},\"type\":\"parcoords\"}],\"pie\":[{\"automargin\":true,\"type\":\"pie\"}],\"scatter3d\":[{\"line\":{\"colorbar\":{\"outlinewidth\":0,\"ticks\":\"\"}},\"marker\":{\"colorbar\":{\"outlinewidth\":0,\"ticks\":\"\"}},\"type\":\"scatter3d\"}],\"scattercarpet\":[{\"marker\":{\"colorbar\":{\"outlinewidth\":0,\"ticks\":\"\"}},\"type\":\"scattercarpet\"}],\"scattergeo\":[{\"marker\":{\"colorbar\":{\"outlinewidth\":0,\"ticks\":\"\"}},\"type\":\"scattergeo\"}],\"scattergl\":[{\"marker\":{\"colorbar\":{\"outlinewidth\":0,\"ticks\":\"\"}},\"type\":\"scattergl\"}],\"scattermapbox\":[{\"marker\":{\"colorbar\":{\"outlinewidth\":0,\"ticks\":\"\"}},\"type\":\"scattermapbox\"}],\"scatterpolargl\":[{\"marker\":{\"colorbar\":{\"outlinewidth\":0,\"ticks\":\"\"}},\"type\":\"scatterpolargl\"}],\"scatterpolar\":[{\"marker\":{\"colorbar\":{\"outlinewidth\":0,\"ticks\":\"\"}},\"type\":\"scatterpolar\"}],\"scatter\":[{\"fillpattern\":{\"fillmode\":\"overlay\",\"size\":10,\"solidity\":0.2},\"type\":\"scatter\"}],\"scatterternary\":[{\"marker\":{\"colorbar\":{\"outlinewidth\":0,\"ticks\":\"\"}},\"type\":\"scatterternary\"}],\"surface\":[{\"colorbar\":{\"outlinewidth\":0,\"ticks\":\"\"},\"colorscale\":[[0.0,\"#0d0887\"],[0.1111111111111111,\"#46039f\"],[0.2222222222222222,\"#7201a8\"],[0.3333333333333333,\"#9c179e\"],[0.4444444444444444,\"#bd3786\"],[0.5555555555555556,\"#d8576b\"],[0.6666666666666666,\"#ed7953\"],[0.7777777777777778,\"#fb9f3a\"],[0.8888888888888888,\"#fdca26\"],[1.0,\"#f0f921\"]],\"type\":\"surface\"}],\"table\":[{\"cells\":{\"fill\":{\"color\":\"#EBF0F8\"},\"line\":{\"color\":\"white\"}},\"header\":{\"fill\":{\"color\":\"#C8D4E3\"},\"line\":{\"color\":\"white\"}},\"type\":\"table\"}]},\"layout\":{\"annotationdefaults\":{\"arrowcolor\":\"#2a3f5f\",\"arrowhead\":0,\"arrowwidth\":1},\"autotypenumbers\":\"strict\",\"coloraxis\":{\"colorbar\":{\"outlinewidth\":0,\"ticks\":\"\"}},\"colorscale\":{\"diverging\":[[0,\"#8e0152\"],[0.1,\"#c51b7d\"],[0.2,\"#de77ae\"],[0.3,\"#f1b6da\"],[0.4,\"#fde0ef\"],[0.5,\"#f7f7f7\"],[0.6,\"#e6f5d0\"],[0.7,\"#b8e186\"],[0.8,\"#7fbc41\"],[0.9,\"#4d9221\"],[1,\"#276419\"]],\"sequential\":[[0.0,\"#0d0887\"],[0.1111111111111111,\"#46039f\"],[0.2222222222222222,\"#7201a8\"],[0.3333333333333333,\"#9c179e\"],[0.4444444444444444,\"#bd3786\"],[0.5555555555555556,\"#d8576b\"],[0.6666666666666666,\"#ed7953\"],[0.7777777777777778,\"#fb9f3a\"],[0.8888888888888888,\"#fdca26\"],[1.0,\"#f0f921\"]],\"sequentialminus\":[[0.0,\"#0d0887\"],[0.1111111111111111,\"#46039f\"],[0.2222222222222222,\"#7201a8\"],[0.3333333333333333,\"#9c179e\"],[0.4444444444444444,\"#bd3786\"],[0.5555555555555556,\"#d8576b\"],[0.6666666666666666,\"#ed7953\"],[0.7777777777777778,\"#fb9f3a\"],[0.8888888888888888,\"#fdca26\"],[1.0,\"#f0f921\"]]},\"colorway\":[\"#636efa\",\"#EF553B\",\"#00cc96\",\"#ab63fa\",\"#FFA15A\",\"#19d3f3\",\"#FF6692\",\"#B6E880\",\"#FF97FF\",\"#FECB52\"],\"font\":{\"color\":\"#2a3f5f\"},\"geo\":{\"bgcolor\":\"white\",\"lakecolor\":\"white\",\"landcolor\":\"#E5ECF6\",\"showlakes\":true,\"showland\":true,\"subunitcolor\":\"white\"},\"hoverlabel\":{\"align\":\"left\"},\"hovermode\":\"closest\",\"mapbox\":{\"style\":\"light\"},\"paper_bgcolor\":\"white\",\"plot_bgcolor\":\"#E5ECF6\",\"polar\":{\"angularaxis\":{\"gridcolor\":\"white\",\"linecolor\":\"white\",\"ticks\":\"\"},\"bgcolor\":\"#E5ECF6\",\"radialaxis\":{\"gridcolor\":\"white\",\"linecolor\":\"white\",\"ticks\":\"\"}},\"scene\":{\"xaxis\":{\"backgroundcolor\":\"#E5ECF6\",\"gridcolor\":\"white\",\"gridwidth\":2,\"linecolor\":\"white\",\"showbackground\":true,\"ticks\":\"\",\"zerolinecolor\":\"white\"},\"yaxis\":{\"backgroundcolor\":\"#E5ECF6\",\"gridcolor\":\"white\",\"gridwidth\":2,\"linecolor\":\"white\",\"showbackground\":true,\"ticks\":\"\",\"zerolinecolor\":\"white\"},\"zaxis\":{\"backgroundcolor\":\"#E5ECF6\",\"gridcolor\":\"white\",\"gridwidth\":2,\"linecolor\":\"white\",\"showbackground\":true,\"ticks\":\"\",\"zerolinecolor\":\"white\"}},\"shapedefaults\":{\"line\":{\"color\":\"#2a3f5f\"}},\"ternary\":{\"aaxis\":{\"gridcolor\":\"white\",\"linecolor\":\"white\",\"ticks\":\"\"},\"baxis\":{\"gridcolor\":\"white\",\"linecolor\":\"white\",\"ticks\":\"\"},\"bgcolor\":\"#E5ECF6\",\"caxis\":{\"gridcolor\":\"white\",\"linecolor\":\"white\",\"ticks\":\"\"}},\"title\":{\"x\":0.05},\"xaxis\":{\"automargin\":true,\"gridcolor\":\"white\",\"linecolor\":\"white\",\"ticks\":\"\",\"title\":{\"standoff\":15},\"zerolinecolor\":\"white\",\"zerolinewidth\":2},\"yaxis\":{\"automargin\":true,\"gridcolor\":\"white\",\"linecolor\":\"white\",\"ticks\":\"\",\"title\":{\"standoff\":15},\"zerolinecolor\":\"white\",\"zerolinewidth\":2}}},\"title\":{\"font\":{\"color\":\"#4D5663\"}},\"xaxis\":{\"gridcolor\":\"#E1E5ED\",\"showgrid\":true,\"tickfont\":{\"color\":\"#4D5663\"},\"title\":{\"font\":{\"color\":\"#4D5663\"},\"text\":\"\"},\"zerolinecolor\":\"#E1E5ED\"},\"yaxis\":{\"gridcolor\":\"#E1E5ED\",\"showgrid\":true,\"tickfont\":{\"color\":\"#4D5663\"},\"title\":{\"font\":{\"color\":\"#4D5663\"},\"text\":\"\"},\"zerolinecolor\":\"#E1E5ED\"}},                        {\"showLink\": true, \"linkText\": \"Export to plot.ly\", \"plotlyServerURL\": \"https://plot.ly\", \"responsive\": true}                    ).then(function(){\n",
       "                            \n",
       "var gd = document.getElementById('1e3fb65b-e5e0-459f-939b-5304fc5c5508');\n",
       "var x = new MutationObserver(function (mutations, observer) {{\n",
       "        var display = window.getComputedStyle(gd).display;\n",
       "        if (!display || display === 'none') {{\n",
       "            console.log([gd, 'removed!']);\n",
       "            Plotly.purge(gd);\n",
       "            observer.disconnect();\n",
       "        }}\n",
       "}});\n",
       "\n",
       "// Listen for the removal of the full notebook cells\n",
       "var notebookContainer = gd.closest('#notebook-container');\n",
       "if (notebookContainer) {{\n",
       "    x.observe(notebookContainer, {childList: true});\n",
       "}}\n",
       "\n",
       "// Listen for the clearing of the current output cell\n",
       "var outputEl = gd.closest('.output');\n",
       "if (outputEl) {{\n",
       "    x.observe(outputEl, {childList: true});\n",
       "}}\n",
       "\n",
       "                        })                };                });            </script>        </div>"
      ]
     },
     "metadata": {},
     "output_type": "display_data"
    }
   ],
   "source": [
    "df.count().iplot(kind='bar')"
   ]
  },
  {
   "cell_type": "markdown",
   "metadata": {},
   "source": [
    "## Boxplots"
   ]
  },
  {
   "cell_type": "code",
   "execution_count": 14,
   "metadata": {},
   "outputs": [
    {
     "data": {
      "application/vnd.plotly.v1+json": {
       "config": {
        "linkText": "Export to plot.ly",
        "plotlyServerURL": "https://plot.ly",
        "showLink": true
       },
       "data": [
        {
         "boxpoints": false,
         "line": {
          "width": 1.3
         },
         "marker": {
          "color": "rgba(255, 153, 51, 1.0)"
         },
         "name": "A",
         "orientation": "v",
         "type": "box",
         "y": [
          2.378704592613066,
          0.7949812084298118,
          0.020347293573050422,
          0.16868777949177213,
          -0.8814220662121459,
          -0.5469894743183308,
          0.6590071765436658,
          0.3613179293562961,
          -1.2147461277054892,
          -1.0717006945379468,
          1.4730551122551672,
          -2.0182139728885113,
          0.862170819233818,
          0.45865902626215327,
          0.8212707351013381,
          -1.0658356940582248,
          0.03295835561673598,
          -0.926351955662341,
          -1.022016441866523,
          0.40418350578692364,
          -0.7181779587551178,
          -0.6886833824381282,
          0.6589900815740977,
          0.3362218418822843,
          -0.8820682824005845,
          0.7525581971493505,
          0.9744354545245969,
          0.3941171740728787,
          -0.3148279512998113,
          0.027511879249834822,
          1.0690736558569764,
          1.945965592580823,
          -0.7404405629930189,
          -0.9320931040826592,
          -0.9725128365556344,
          -0.022925786738108116,
          0.23524105357779349,
          -0.7870873351298374,
          -0.8820383123923283,
          0.5388653659796684,
          0.3467960749027645,
          0.9180377599871524,
          0.7964447306733002,
          0.26387076427638695,
          -1.6624756533038676,
          -0.6588661312752233,
          0.5217396969238294,
          0.8970812642468908,
          -1.3713926827076768,
          -0.4548300287598396,
          -0.045966239535387074,
          1.9282569880928602,
          -0.10928180133163234,
          -1.206470846341257,
          1.507713498434342,
          0.05592745845622738,
          -1.5132312506460328,
          0.47489113129330857,
          -1.3952618471111324,
          0.8038273818921229,
          1.1856349700169242,
          0.16273611112484013,
          -0.12258699650513145,
          1.465768004736537,
          1.2102174987321017,
          -0.7665906106697451,
          1.481523198660766,
          0.0427859215020586,
          0.10498569010405591,
          -0.3532346970575991,
          0.7470035130696405,
          -1.5138294405419948,
          0.39125537467149357,
          1.0554685121921457,
          -1.1603309027478979,
          1.2680819308540339,
          -1.6729243287440783,
          -0.800055858574939,
          -0.06054705752571512,
          -0.9499836719749434,
          -0.814075664122035,
          -1.026934113840444,
          0.3404099087659415,
          -1.0694526605321897,
          -0.8912421592491239,
          -1.0298025520047036,
          -0.8461521807594581,
          0.38163340848760885,
          -0.854143270793631,
          2.7339580890475754,
          -1.1192422975843501,
          -1.2409109590645255,
          -1.6961826901225727,
          -2.531659068148911,
          -0.9385020930493669,
          0.4024336318072811,
          0.5681600037698108,
          1.027833998158066,
          0.29826246449978355,
          1.3920428913571818
         ]
        },
        {
         "boxpoints": false,
         "line": {
          "width": 1.3
         },
         "marker": {
          "color": "rgba(55, 128, 191, 1.0)"
         },
         "name": "B",
         "orientation": "v",
         "type": "box",
         "y": [
          -1.4109524815414125,
          1.1282465007801148,
          0.047738942839579426,
          1.1925776700433535,
          -0.6760291052564088,
          0.1790913936831051,
          -0.03351469037462734,
          0.3771657627762725,
          -0.9767022195579985,
          0.21141886110062716,
          0.1584196563489074,
          -0.26903850577050065,
          0.1336348126478488,
          0.5566619988174846,
          0.1068228699217611,
          0.14722205713031677,
          -0.2343686404535711,
          -0.1262077308186696,
          0.2028854190184494,
          -1.184744979491366,
          0.09891423137821188,
          -1.290136702571667,
          0.6610727598457594,
          0.6702717303544894,
          0.0912079810352433,
          -0.9638006134894856,
          0.16094260320748796,
          0.2966406238557308,
          1.2821294846940516,
          -0.067473604084655,
          0.6795513181159056,
          0.5491447905266279,
          -0.689806015680189,
          0.6289590663833551,
          -1.9550310814406153,
          1.3285163272544,
          -0.6016863121951649,
          -2.287052069467176,
          -0.046040797789362084,
          0.6332369562901614,
          -0.7580283974698023,
          -0.06036705191617741,
          -0.1456939613387233,
          -0.5115588069642251,
          -0.9638838012193599,
          1.9645250905586364,
          0.7530690446506421,
          -0.5454797258160548,
          1.1264285526198632,
          0.5309788677230551,
          0.37017010060986144,
          -1.1250898914401306,
          -0.28798151582684817,
          0.5946295317590171,
          -0.3347454800425729,
          0.3149458216962703,
          0.5583138746908815,
          -1.3610380889173985,
          -0.015197888111185916,
          0.5839205545037052,
          0.7950892840941408,
          -0.9638717777634335,
          -1.1790577083086358,
          0.7429474030938845,
          0.3609668315824039,
          1.0454595794961696,
          -1.3695181820018538,
          1.1131185717922327,
          0.5216827552405487,
          0.5073722744981483,
          -0.4022519329950429,
          -0.3158636790719244,
          -0.8504176310575834,
          -0.3903836881740838,
          1.1044927868985561,
          -0.5736934071368204,
          0.7757993030735614,
          0.17272730723566684,
          0.7395094056847753,
          -0.8108546768655773,
          0.8372945924989318,
          0.4622740489612075,
          1.1748008403104275,
          0.3902602603754761,
          0.8569649092316891,
          0.29879524251049244,
          0.12796874998029747,
          0.3150133146889394,
          -0.8190428447575135,
          0.1948280774662253,
          0.39465257829795125,
          0.1448000685913453,
          -0.38815316801875377,
          -0.45750751101059955,
          1.6738795196045138,
          0.13198167186586035,
          -0.4374958634037224,
          -0.3477123127206604,
          -0.08952001727038991,
          0.7885530702008177
         ]
        },
        {
         "boxpoints": false,
         "line": {
          "width": 1.3
         },
         "marker": {
          "color": "rgba(50, 171, 96, 1.0)"
         },
         "name": "C",
         "orientation": "v",
         "type": "box",
         "y": [
          0.17493221116815275,
          0.4793758192571896,
          0.21258612000992697,
          -0.3051805244399655,
          1.0606996103251298,
          -0.10697146465351072,
          -0.3841404221690915,
          1.0423220285351649,
          0.7269093409326219,
          0.38060189034033354,
          -0.1818149422948353,
          -0.6984886674942541,
          -0.313757264337441,
          -0.5486225282889398,
          -0.8331284141437214,
          -0.9162890222393818,
          1.9355482968661735,
          0.02856699038782565,
          0.3410190274668679,
          0.4777408670606353,
          0.4381074363021479,
          0.2517541363746415,
          0.9885168125822753,
          -0.8773476227904854,
          1.5561480585691498,
          -2.024844965224311,
          0.7929513022678248,
          -0.5783851085248758,
          -0.6404510193709894,
          -1.4942629348193786,
          -0.6320513331520645,
          -1.1466143142339078,
          -0.9207009700228542,
          0.36682264310325,
          0.3706522339897603,
          -0.9383474280811428,
          0.5143722551444027,
          1.192968195409823,
          -0.058010055486303454,
          0.6152560354393877,
          -0.16198371675758022,
          -0.4992467396063783,
          -0.06199340598664998,
          0.006860550130539408,
          -0.9495913028319866,
          0.6382815978484642,
          -1.6101490984594868,
          -1.7165502448724768,
          -0.33202346522380916,
          0.03985816668478454,
          -2.1597925789475974,
          0.14616622441014854,
          -1.1168795626046077,
          0.040527964942006646,
          -0.34756079481149277,
          0.37157580086920716,
          0.6992194446323146,
          0.1176846043503712,
          -0.20387503671841584,
          -2.1556288625410005,
          -0.7851953792554399,
          0.6303791296083932,
          1.0445640738455229,
          0.39165825269121296,
          -0.2993021318345419,
          0.6749425174900014,
          1.4021546052004057,
          0.7619064751769392,
          1.5032297286678435,
          -0.4216779445630397,
          -0.026775698664428593,
          -0.7637159902925708,
          0.8657016632682935,
          -0.3349668194768887,
          -0.33387005795860425,
          -0.8085780740314094,
          0.5083782876188743,
          -0.8204219778728703,
          0.17256163186597867,
          1.1174581721446908,
          0.5335563178561191,
          -0.5022592275185176,
          -0.6024752374575938,
          -2.2741222046352596,
          1.2241854682087892,
          1.48630061368994,
          0.6198096295433813,
          -0.15358819522064296,
          0.07320407327786461,
          -1.259567699690709,
          -0.046221509263831714,
          -0.5890848916747219,
          2.5599191631892237,
          1.0035106960672098,
          0.32536719790756413,
          0.1995208286177687,
          0.9254501325588356,
          0.31498373218774767,
          -0.3594515185934348,
          -0.7503454120001366
         ]
        },
        {
         "boxpoints": false,
         "line": {
          "width": 1.3
         },
         "marker": {
          "color": "rgba(128, 0, 128, 1.0)"
         },
         "name": "D",
         "orientation": "v",
         "type": "box",
         "y": [
          -0.018385070907257328,
          0.06962125358790339,
          -0.6626264273228573,
          -0.015385100683070094,
          2.7658895454036148,
          1.1268982815346882,
          0.42766094342591576,
          0.744999551395111,
          0.6274136542261247,
          0.5657899549138765,
          -1.0234175798834177,
          -1.8869624708304624,
          -1.13657899165744,
          -1.8505678703324018,
          1.842502108958259,
          -0.6795722642626434,
          1.3841049075876044,
          -0.8274659008208299,
          -1.5610244576737744,
          -0.6721971880176133,
          0.8007358771232236,
          -1.0684345815995333,
          0.5498855666169603,
          -0.9292363556347426,
          0.5750784813022343,
          0.8492057141704004,
          0.21535279068720967,
          2.270467141616758,
          0.9093378482170529,
          1.6633660459671185,
          2.342937325319705,
          -1.2420407626498153,
          -0.047286911120520705,
          -0.5417172144800272,
          1.4930684630441913,
          -0.9128095513386675,
          0.06182797314151452,
          -1.5290323843430564,
          1.3122813038828185,
          -0.5386952611976297,
          -0.3221364482167507,
          0.06967063201639041,
          0.69679577306518,
          0.4054792389874191,
          -1.982921060868619,
          0.15133432088554055,
          1.1229114452362143,
          -0.46082353298472795,
          0.8640013578042112,
          0.5065297393613364,
          1.4761671807423808,
          0.7614721166438643,
          0.28665884630755833,
          -1.073003598555776,
          0.05998038876479074,
          0.5426245589448745,
          0.7938739440389128,
          -0.7771581848769925,
          -0.23607492447418005,
          0.565798778011827,
          -2.3821262382788104,
          1.3042170922242016,
          -0.10538740443498984,
          -0.27424523494404707,
          0.9350127849296727,
          0.3614390527115907,
          -0.5209936457773134,
          -2.101927634552361,
          0.24222570174319777,
          -0.17760446106716765,
          -0.677205711348729,
          0.9581402420532362,
          -0.4100866127433445,
          1.5559386410443146,
          -0.514555899641962,
          0.35978373956063303,
          -1.3293861192761252,
          0.057897283960288516,
          -0.8771718673938348,
          -0.2850658346709371,
          -1.6440962515421318,
          -1.0506128896191553,
          -0.2834438891401006,
          0.6107830985099255,
          -0.4633452133162602,
          0.4282306074897751,
          0.422929509013625,
          -1.6577349278122488,
          2.016555349435422,
          -0.9028541528919203,
          -1.6354240777107187,
          0.8443344404829118,
          0.1616149958644247,
          -0.9661661712101364,
          -1.3952367043412177,
          0.7314235730413206,
          0.2755388647011913,
          0.363609002051579,
          0.15429612934553036,
          0.4739733043293338
         ]
        }
       ],
       "layout": {
        "legend": {
         "bgcolor": "#F5F6F9",
         "font": {
          "color": "#4D5663"
         }
        },
        "paper_bgcolor": "#F5F6F9",
        "plot_bgcolor": "#F5F6F9",
        "template": {
         "data": {
          "bar": [
           {
            "error_x": {
             "color": "#2a3f5f"
            },
            "error_y": {
             "color": "#2a3f5f"
            },
            "marker": {
             "line": {
              "color": "#E5ECF6",
              "width": 0.5
             },
             "pattern": {
              "fillmode": "overlay",
              "size": 10,
              "solidity": 0.2
             }
            },
            "type": "bar"
           }
          ],
          "barpolar": [
           {
            "marker": {
             "line": {
              "color": "#E5ECF6",
              "width": 0.5
             },
             "pattern": {
              "fillmode": "overlay",
              "size": 10,
              "solidity": 0.2
             }
            },
            "type": "barpolar"
           }
          ],
          "carpet": [
           {
            "aaxis": {
             "endlinecolor": "#2a3f5f",
             "gridcolor": "white",
             "linecolor": "white",
             "minorgridcolor": "white",
             "startlinecolor": "#2a3f5f"
            },
            "baxis": {
             "endlinecolor": "#2a3f5f",
             "gridcolor": "white",
             "linecolor": "white",
             "minorgridcolor": "white",
             "startlinecolor": "#2a3f5f"
            },
            "type": "carpet"
           }
          ],
          "choropleth": [
           {
            "colorbar": {
             "outlinewidth": 0,
             "ticks": ""
            },
            "type": "choropleth"
           }
          ],
          "contour": [
           {
            "colorbar": {
             "outlinewidth": 0,
             "ticks": ""
            },
            "colorscale": [
             [
              0,
              "#0d0887"
             ],
             [
              0.1111111111111111,
              "#46039f"
             ],
             [
              0.2222222222222222,
              "#7201a8"
             ],
             [
              0.3333333333333333,
              "#9c179e"
             ],
             [
              0.4444444444444444,
              "#bd3786"
             ],
             [
              0.5555555555555556,
              "#d8576b"
             ],
             [
              0.6666666666666666,
              "#ed7953"
             ],
             [
              0.7777777777777778,
              "#fb9f3a"
             ],
             [
              0.8888888888888888,
              "#fdca26"
             ],
             [
              1,
              "#f0f921"
             ]
            ],
            "type": "contour"
           }
          ],
          "contourcarpet": [
           {
            "colorbar": {
             "outlinewidth": 0,
             "ticks": ""
            },
            "type": "contourcarpet"
           }
          ],
          "heatmap": [
           {
            "colorbar": {
             "outlinewidth": 0,
             "ticks": ""
            },
            "colorscale": [
             [
              0,
              "#0d0887"
             ],
             [
              0.1111111111111111,
              "#46039f"
             ],
             [
              0.2222222222222222,
              "#7201a8"
             ],
             [
              0.3333333333333333,
              "#9c179e"
             ],
             [
              0.4444444444444444,
              "#bd3786"
             ],
             [
              0.5555555555555556,
              "#d8576b"
             ],
             [
              0.6666666666666666,
              "#ed7953"
             ],
             [
              0.7777777777777778,
              "#fb9f3a"
             ],
             [
              0.8888888888888888,
              "#fdca26"
             ],
             [
              1,
              "#f0f921"
             ]
            ],
            "type": "heatmap"
           }
          ],
          "heatmapgl": [
           {
            "colorbar": {
             "outlinewidth": 0,
             "ticks": ""
            },
            "colorscale": [
             [
              0,
              "#0d0887"
             ],
             [
              0.1111111111111111,
              "#46039f"
             ],
             [
              0.2222222222222222,
              "#7201a8"
             ],
             [
              0.3333333333333333,
              "#9c179e"
             ],
             [
              0.4444444444444444,
              "#bd3786"
             ],
             [
              0.5555555555555556,
              "#d8576b"
             ],
             [
              0.6666666666666666,
              "#ed7953"
             ],
             [
              0.7777777777777778,
              "#fb9f3a"
             ],
             [
              0.8888888888888888,
              "#fdca26"
             ],
             [
              1,
              "#f0f921"
             ]
            ],
            "type": "heatmapgl"
           }
          ],
          "histogram": [
           {
            "marker": {
             "pattern": {
              "fillmode": "overlay",
              "size": 10,
              "solidity": 0.2
             }
            },
            "type": "histogram"
           }
          ],
          "histogram2d": [
           {
            "colorbar": {
             "outlinewidth": 0,
             "ticks": ""
            },
            "colorscale": [
             [
              0,
              "#0d0887"
             ],
             [
              0.1111111111111111,
              "#46039f"
             ],
             [
              0.2222222222222222,
              "#7201a8"
             ],
             [
              0.3333333333333333,
              "#9c179e"
             ],
             [
              0.4444444444444444,
              "#bd3786"
             ],
             [
              0.5555555555555556,
              "#d8576b"
             ],
             [
              0.6666666666666666,
              "#ed7953"
             ],
             [
              0.7777777777777778,
              "#fb9f3a"
             ],
             [
              0.8888888888888888,
              "#fdca26"
             ],
             [
              1,
              "#f0f921"
             ]
            ],
            "type": "histogram2d"
           }
          ],
          "histogram2dcontour": [
           {
            "colorbar": {
             "outlinewidth": 0,
             "ticks": ""
            },
            "colorscale": [
             [
              0,
              "#0d0887"
             ],
             [
              0.1111111111111111,
              "#46039f"
             ],
             [
              0.2222222222222222,
              "#7201a8"
             ],
             [
              0.3333333333333333,
              "#9c179e"
             ],
             [
              0.4444444444444444,
              "#bd3786"
             ],
             [
              0.5555555555555556,
              "#d8576b"
             ],
             [
              0.6666666666666666,
              "#ed7953"
             ],
             [
              0.7777777777777778,
              "#fb9f3a"
             ],
             [
              0.8888888888888888,
              "#fdca26"
             ],
             [
              1,
              "#f0f921"
             ]
            ],
            "type": "histogram2dcontour"
           }
          ],
          "mesh3d": [
           {
            "colorbar": {
             "outlinewidth": 0,
             "ticks": ""
            },
            "type": "mesh3d"
           }
          ],
          "parcoords": [
           {
            "line": {
             "colorbar": {
              "outlinewidth": 0,
              "ticks": ""
             }
            },
            "type": "parcoords"
           }
          ],
          "pie": [
           {
            "automargin": true,
            "type": "pie"
           }
          ],
          "scatter": [
           {
            "fillpattern": {
             "fillmode": "overlay",
             "size": 10,
             "solidity": 0.2
            },
            "type": "scatter"
           }
          ],
          "scatter3d": [
           {
            "line": {
             "colorbar": {
              "outlinewidth": 0,
              "ticks": ""
             }
            },
            "marker": {
             "colorbar": {
              "outlinewidth": 0,
              "ticks": ""
             }
            },
            "type": "scatter3d"
           }
          ],
          "scattercarpet": [
           {
            "marker": {
             "colorbar": {
              "outlinewidth": 0,
              "ticks": ""
             }
            },
            "type": "scattercarpet"
           }
          ],
          "scattergeo": [
           {
            "marker": {
             "colorbar": {
              "outlinewidth": 0,
              "ticks": ""
             }
            },
            "type": "scattergeo"
           }
          ],
          "scattergl": [
           {
            "marker": {
             "colorbar": {
              "outlinewidth": 0,
              "ticks": ""
             }
            },
            "type": "scattergl"
           }
          ],
          "scattermapbox": [
           {
            "marker": {
             "colorbar": {
              "outlinewidth": 0,
              "ticks": ""
             }
            },
            "type": "scattermapbox"
           }
          ],
          "scatterpolar": [
           {
            "marker": {
             "colorbar": {
              "outlinewidth": 0,
              "ticks": ""
             }
            },
            "type": "scatterpolar"
           }
          ],
          "scatterpolargl": [
           {
            "marker": {
             "colorbar": {
              "outlinewidth": 0,
              "ticks": ""
             }
            },
            "type": "scatterpolargl"
           }
          ],
          "scatterternary": [
           {
            "marker": {
             "colorbar": {
              "outlinewidth": 0,
              "ticks": ""
             }
            },
            "type": "scatterternary"
           }
          ],
          "surface": [
           {
            "colorbar": {
             "outlinewidth": 0,
             "ticks": ""
            },
            "colorscale": [
             [
              0,
              "#0d0887"
             ],
             [
              0.1111111111111111,
              "#46039f"
             ],
             [
              0.2222222222222222,
              "#7201a8"
             ],
             [
              0.3333333333333333,
              "#9c179e"
             ],
             [
              0.4444444444444444,
              "#bd3786"
             ],
             [
              0.5555555555555556,
              "#d8576b"
             ],
             [
              0.6666666666666666,
              "#ed7953"
             ],
             [
              0.7777777777777778,
              "#fb9f3a"
             ],
             [
              0.8888888888888888,
              "#fdca26"
             ],
             [
              1,
              "#f0f921"
             ]
            ],
            "type": "surface"
           }
          ],
          "table": [
           {
            "cells": {
             "fill": {
              "color": "#EBF0F8"
             },
             "line": {
              "color": "white"
             }
            },
            "header": {
             "fill": {
              "color": "#C8D4E3"
             },
             "line": {
              "color": "white"
             }
            },
            "type": "table"
           }
          ]
         },
         "layout": {
          "annotationdefaults": {
           "arrowcolor": "#2a3f5f",
           "arrowhead": 0,
           "arrowwidth": 1
          },
          "autotypenumbers": "strict",
          "coloraxis": {
           "colorbar": {
            "outlinewidth": 0,
            "ticks": ""
           }
          },
          "colorscale": {
           "diverging": [
            [
             0,
             "#8e0152"
            ],
            [
             0.1,
             "#c51b7d"
            ],
            [
             0.2,
             "#de77ae"
            ],
            [
             0.3,
             "#f1b6da"
            ],
            [
             0.4,
             "#fde0ef"
            ],
            [
             0.5,
             "#f7f7f7"
            ],
            [
             0.6,
             "#e6f5d0"
            ],
            [
             0.7,
             "#b8e186"
            ],
            [
             0.8,
             "#7fbc41"
            ],
            [
             0.9,
             "#4d9221"
            ],
            [
             1,
             "#276419"
            ]
           ],
           "sequential": [
            [
             0,
             "#0d0887"
            ],
            [
             0.1111111111111111,
             "#46039f"
            ],
            [
             0.2222222222222222,
             "#7201a8"
            ],
            [
             0.3333333333333333,
             "#9c179e"
            ],
            [
             0.4444444444444444,
             "#bd3786"
            ],
            [
             0.5555555555555556,
             "#d8576b"
            ],
            [
             0.6666666666666666,
             "#ed7953"
            ],
            [
             0.7777777777777778,
             "#fb9f3a"
            ],
            [
             0.8888888888888888,
             "#fdca26"
            ],
            [
             1,
             "#f0f921"
            ]
           ],
           "sequentialminus": [
            [
             0,
             "#0d0887"
            ],
            [
             0.1111111111111111,
             "#46039f"
            ],
            [
             0.2222222222222222,
             "#7201a8"
            ],
            [
             0.3333333333333333,
             "#9c179e"
            ],
            [
             0.4444444444444444,
             "#bd3786"
            ],
            [
             0.5555555555555556,
             "#d8576b"
            ],
            [
             0.6666666666666666,
             "#ed7953"
            ],
            [
             0.7777777777777778,
             "#fb9f3a"
            ],
            [
             0.8888888888888888,
             "#fdca26"
            ],
            [
             1,
             "#f0f921"
            ]
           ]
          },
          "colorway": [
           "#636efa",
           "#EF553B",
           "#00cc96",
           "#ab63fa",
           "#FFA15A",
           "#19d3f3",
           "#FF6692",
           "#B6E880",
           "#FF97FF",
           "#FECB52"
          ],
          "font": {
           "color": "#2a3f5f"
          },
          "geo": {
           "bgcolor": "white",
           "lakecolor": "white",
           "landcolor": "#E5ECF6",
           "showlakes": true,
           "showland": true,
           "subunitcolor": "white"
          },
          "hoverlabel": {
           "align": "left"
          },
          "hovermode": "closest",
          "mapbox": {
           "style": "light"
          },
          "paper_bgcolor": "white",
          "plot_bgcolor": "#E5ECF6",
          "polar": {
           "angularaxis": {
            "gridcolor": "white",
            "linecolor": "white",
            "ticks": ""
           },
           "bgcolor": "#E5ECF6",
           "radialaxis": {
            "gridcolor": "white",
            "linecolor": "white",
            "ticks": ""
           }
          },
          "scene": {
           "xaxis": {
            "backgroundcolor": "#E5ECF6",
            "gridcolor": "white",
            "gridwidth": 2,
            "linecolor": "white",
            "showbackground": true,
            "ticks": "",
            "zerolinecolor": "white"
           },
           "yaxis": {
            "backgroundcolor": "#E5ECF6",
            "gridcolor": "white",
            "gridwidth": 2,
            "linecolor": "white",
            "showbackground": true,
            "ticks": "",
            "zerolinecolor": "white"
           },
           "zaxis": {
            "backgroundcolor": "#E5ECF6",
            "gridcolor": "white",
            "gridwidth": 2,
            "linecolor": "white",
            "showbackground": true,
            "ticks": "",
            "zerolinecolor": "white"
           }
          },
          "shapedefaults": {
           "line": {
            "color": "#2a3f5f"
           }
          },
          "ternary": {
           "aaxis": {
            "gridcolor": "white",
            "linecolor": "white",
            "ticks": ""
           },
           "baxis": {
            "gridcolor": "white",
            "linecolor": "white",
            "ticks": ""
           },
           "bgcolor": "#E5ECF6",
           "caxis": {
            "gridcolor": "white",
            "linecolor": "white",
            "ticks": ""
           }
          },
          "title": {
           "x": 0.05
          },
          "xaxis": {
           "automargin": true,
           "gridcolor": "white",
           "linecolor": "white",
           "ticks": "",
           "title": {
            "standoff": 15
           },
           "zerolinecolor": "white",
           "zerolinewidth": 2
          },
          "yaxis": {
           "automargin": true,
           "gridcolor": "white",
           "linecolor": "white",
           "ticks": "",
           "title": {
            "standoff": 15
           },
           "zerolinecolor": "white",
           "zerolinewidth": 2
          }
         }
        },
        "title": {
         "font": {
          "color": "#4D5663"
         }
        },
        "xaxis": {
         "gridcolor": "#E1E5ED",
         "showgrid": true,
         "tickfont": {
          "color": "#4D5663"
         },
         "title": {
          "font": {
           "color": "#4D5663"
          },
          "text": ""
         },
         "zerolinecolor": "#E1E5ED"
        },
        "yaxis": {
         "gridcolor": "#E1E5ED",
         "showgrid": true,
         "tickfont": {
          "color": "#4D5663"
         },
         "title": {
          "font": {
           "color": "#4D5663"
          },
          "text": ""
         },
         "zerolinecolor": "#E1E5ED"
        }
       }
      },
      "text/html": [
       "<div>                            <div id=\"8f58d201-003b-4fad-b13c-92e33abf1bbe\" class=\"plotly-graph-div\" style=\"height:525px; width:100%;\"></div>            <script type=\"text/javascript\">                require([\"plotly\"], function(Plotly) {                    window.PLOTLYENV=window.PLOTLYENV || {};\n",
       "                    window.PLOTLYENV.BASE_URL='https://plot.ly';                                    if (document.getElementById(\"8f58d201-003b-4fad-b13c-92e33abf1bbe\")) {                    Plotly.newPlot(                        \"8f58d201-003b-4fad-b13c-92e33abf1bbe\",                        [{\"boxpoints\":false,\"line\":{\"width\":1.3},\"marker\":{\"color\":\"rgba(255, 153, 51, 1.0)\"},\"name\":\"A\",\"orientation\":\"v\",\"y\":[2.378704592613066,0.7949812084298118,0.020347293573050422,0.16868777949177213,-0.8814220662121459,-0.5469894743183308,0.6590071765436658,0.3613179293562961,-1.2147461277054892,-1.0717006945379468,1.4730551122551672,-2.0182139728885113,0.862170819233818,0.45865902626215327,0.8212707351013381,-1.0658356940582248,0.03295835561673598,-0.926351955662341,-1.022016441866523,0.40418350578692364,-0.7181779587551178,-0.6886833824381282,0.6589900815740977,0.3362218418822843,-0.8820682824005845,0.7525581971493505,0.9744354545245969,0.3941171740728787,-0.3148279512998113,0.027511879249834822,1.0690736558569764,1.945965592580823,-0.7404405629930189,-0.9320931040826592,-0.9725128365556344,-0.022925786738108116,0.23524105357779349,-0.7870873351298374,-0.8820383123923283,0.5388653659796684,0.3467960749027645,0.9180377599871524,0.7964447306733002,0.26387076427638695,-1.6624756533038676,-0.6588661312752233,0.5217396969238294,0.8970812642468908,-1.3713926827076768,-0.4548300287598396,-0.045966239535387074,1.9282569880928602,-0.10928180133163234,-1.206470846341257,1.507713498434342,0.05592745845622738,-1.5132312506460328,0.47489113129330857,-1.3952618471111324,0.8038273818921229,1.1856349700169242,0.16273611112484013,-0.12258699650513145,1.465768004736537,1.2102174987321017,-0.7665906106697451,1.481523198660766,0.0427859215020586,0.10498569010405591,-0.3532346970575991,0.7470035130696405,-1.5138294405419948,0.39125537467149357,1.0554685121921457,-1.1603309027478979,1.2680819308540339,-1.6729243287440783,-0.800055858574939,-0.06054705752571512,-0.9499836719749434,-0.814075664122035,-1.026934113840444,0.3404099087659415,-1.0694526605321897,-0.8912421592491239,-1.0298025520047036,-0.8461521807594581,0.38163340848760885,-0.854143270793631,2.7339580890475754,-1.1192422975843501,-1.2409109590645255,-1.6961826901225727,-2.531659068148911,-0.9385020930493669,0.4024336318072811,0.5681600037698108,1.027833998158066,0.29826246449978355,1.3920428913571818],\"type\":\"box\"},{\"boxpoints\":false,\"line\":{\"width\":1.3},\"marker\":{\"color\":\"rgba(55, 128, 191, 1.0)\"},\"name\":\"B\",\"orientation\":\"v\",\"y\":[-1.4109524815414125,1.1282465007801148,0.047738942839579426,1.1925776700433535,-0.6760291052564088,0.1790913936831051,-0.03351469037462734,0.3771657627762725,-0.9767022195579985,0.21141886110062716,0.1584196563489074,-0.26903850577050065,0.1336348126478488,0.5566619988174846,0.1068228699217611,0.14722205713031677,-0.2343686404535711,-0.1262077308186696,0.2028854190184494,-1.184744979491366,0.09891423137821188,-1.290136702571667,0.6610727598457594,0.6702717303544894,0.0912079810352433,-0.9638006134894856,0.16094260320748796,0.2966406238557308,1.2821294846940516,-0.067473604084655,0.6795513181159056,0.5491447905266279,-0.689806015680189,0.6289590663833551,-1.9550310814406153,1.3285163272544,-0.6016863121951649,-2.287052069467176,-0.046040797789362084,0.6332369562901614,-0.7580283974698023,-0.06036705191617741,-0.1456939613387233,-0.5115588069642251,-0.9638838012193599,1.9645250905586364,0.7530690446506421,-0.5454797258160548,1.1264285526198632,0.5309788677230551,0.37017010060986144,-1.1250898914401306,-0.28798151582684817,0.5946295317590171,-0.3347454800425729,0.3149458216962703,0.5583138746908815,-1.3610380889173985,-0.015197888111185916,0.5839205545037052,0.7950892840941408,-0.9638717777634335,-1.1790577083086358,0.7429474030938845,0.3609668315824039,1.0454595794961696,-1.3695181820018538,1.1131185717922327,0.5216827552405487,0.5073722744981483,-0.4022519329950429,-0.3158636790719244,-0.8504176310575834,-0.3903836881740838,1.1044927868985561,-0.5736934071368204,0.7757993030735614,0.17272730723566684,0.7395094056847753,-0.8108546768655773,0.8372945924989318,0.4622740489612075,1.1748008403104275,0.3902602603754761,0.8569649092316891,0.29879524251049244,0.12796874998029747,0.3150133146889394,-0.8190428447575135,0.1948280774662253,0.39465257829795125,0.1448000685913453,-0.38815316801875377,-0.45750751101059955,1.6738795196045138,0.13198167186586035,-0.4374958634037224,-0.3477123127206604,-0.08952001727038991,0.7885530702008177],\"type\":\"box\"},{\"boxpoints\":false,\"line\":{\"width\":1.3},\"marker\":{\"color\":\"rgba(50, 171, 96, 1.0)\"},\"name\":\"C\",\"orientation\":\"v\",\"y\":[0.17493221116815275,0.4793758192571896,0.21258612000992697,-0.3051805244399655,1.0606996103251298,-0.10697146465351072,-0.3841404221690915,1.0423220285351649,0.7269093409326219,0.38060189034033354,-0.1818149422948353,-0.6984886674942541,-0.313757264337441,-0.5486225282889398,-0.8331284141437214,-0.9162890222393818,1.9355482968661735,0.02856699038782565,0.3410190274668679,0.4777408670606353,0.4381074363021479,0.2517541363746415,0.9885168125822753,-0.8773476227904854,1.5561480585691498,-2.024844965224311,0.7929513022678248,-0.5783851085248758,-0.6404510193709894,-1.4942629348193786,-0.6320513331520645,-1.1466143142339078,-0.9207009700228542,0.36682264310325,0.3706522339897603,-0.9383474280811428,0.5143722551444027,1.192968195409823,-0.058010055486303454,0.6152560354393877,-0.16198371675758022,-0.4992467396063783,-0.06199340598664998,0.006860550130539408,-0.9495913028319866,0.6382815978484642,-1.6101490984594868,-1.7165502448724768,-0.33202346522380916,0.03985816668478454,-2.1597925789475974,0.14616622441014854,-1.1168795626046077,0.040527964942006646,-0.34756079481149277,0.37157580086920716,0.6992194446323146,0.1176846043503712,-0.20387503671841584,-2.1556288625410005,-0.7851953792554399,0.6303791296083932,1.0445640738455229,0.39165825269121296,-0.2993021318345419,0.6749425174900014,1.4021546052004057,0.7619064751769392,1.5032297286678435,-0.4216779445630397,-0.026775698664428593,-0.7637159902925708,0.8657016632682935,-0.3349668194768887,-0.33387005795860425,-0.8085780740314094,0.5083782876188743,-0.8204219778728703,0.17256163186597867,1.1174581721446908,0.5335563178561191,-0.5022592275185176,-0.6024752374575938,-2.2741222046352596,1.2241854682087892,1.48630061368994,0.6198096295433813,-0.15358819522064296,0.07320407327786461,-1.259567699690709,-0.046221509263831714,-0.5890848916747219,2.5599191631892237,1.0035106960672098,0.32536719790756413,0.1995208286177687,0.9254501325588356,0.31498373218774767,-0.3594515185934348,-0.7503454120001366],\"type\":\"box\"},{\"boxpoints\":false,\"line\":{\"width\":1.3},\"marker\":{\"color\":\"rgba(128, 0, 128, 1.0)\"},\"name\":\"D\",\"orientation\":\"v\",\"y\":[-0.018385070907257328,0.06962125358790339,-0.6626264273228573,-0.015385100683070094,2.7658895454036148,1.1268982815346882,0.42766094342591576,0.744999551395111,0.6274136542261247,0.5657899549138765,-1.0234175798834177,-1.8869624708304624,-1.13657899165744,-1.8505678703324018,1.842502108958259,-0.6795722642626434,1.3841049075876044,-0.8274659008208299,-1.5610244576737744,-0.6721971880176133,0.8007358771232236,-1.0684345815995333,0.5498855666169603,-0.9292363556347426,0.5750784813022343,0.8492057141704004,0.21535279068720967,2.270467141616758,0.9093378482170529,1.6633660459671185,2.342937325319705,-1.2420407626498153,-0.047286911120520705,-0.5417172144800272,1.4930684630441913,-0.9128095513386675,0.06182797314151452,-1.5290323843430564,1.3122813038828185,-0.5386952611976297,-0.3221364482167507,0.06967063201639041,0.69679577306518,0.4054792389874191,-1.982921060868619,0.15133432088554055,1.1229114452362143,-0.46082353298472795,0.8640013578042112,0.5065297393613364,1.4761671807423808,0.7614721166438643,0.28665884630755833,-1.073003598555776,0.05998038876479074,0.5426245589448745,0.7938739440389128,-0.7771581848769925,-0.23607492447418005,0.565798778011827,-2.3821262382788104,1.3042170922242016,-0.10538740443498984,-0.27424523494404707,0.9350127849296727,0.3614390527115907,-0.5209936457773134,-2.101927634552361,0.24222570174319777,-0.17760446106716765,-0.677205711348729,0.9581402420532362,-0.4100866127433445,1.5559386410443146,-0.514555899641962,0.35978373956063303,-1.3293861192761252,0.057897283960288516,-0.8771718673938348,-0.2850658346709371,-1.6440962515421318,-1.0506128896191553,-0.2834438891401006,0.6107830985099255,-0.4633452133162602,0.4282306074897751,0.422929509013625,-1.6577349278122488,2.016555349435422,-0.9028541528919203,-1.6354240777107187,0.8443344404829118,0.1616149958644247,-0.9661661712101364,-1.3952367043412177,0.7314235730413206,0.2755388647011913,0.363609002051579,0.15429612934553036,0.4739733043293338],\"type\":\"box\"}],                        {\"legend\":{\"bgcolor\":\"#F5F6F9\",\"font\":{\"color\":\"#4D5663\"}},\"paper_bgcolor\":\"#F5F6F9\",\"plot_bgcolor\":\"#F5F6F9\",\"template\":{\"data\":{\"barpolar\":[{\"marker\":{\"line\":{\"color\":\"#E5ECF6\",\"width\":0.5},\"pattern\":{\"fillmode\":\"overlay\",\"size\":10,\"solidity\":0.2}},\"type\":\"barpolar\"}],\"bar\":[{\"error_x\":{\"color\":\"#2a3f5f\"},\"error_y\":{\"color\":\"#2a3f5f\"},\"marker\":{\"line\":{\"color\":\"#E5ECF6\",\"width\":0.5},\"pattern\":{\"fillmode\":\"overlay\",\"size\":10,\"solidity\":0.2}},\"type\":\"bar\"}],\"carpet\":[{\"aaxis\":{\"endlinecolor\":\"#2a3f5f\",\"gridcolor\":\"white\",\"linecolor\":\"white\",\"minorgridcolor\":\"white\",\"startlinecolor\":\"#2a3f5f\"},\"baxis\":{\"endlinecolor\":\"#2a3f5f\",\"gridcolor\":\"white\",\"linecolor\":\"white\",\"minorgridcolor\":\"white\",\"startlinecolor\":\"#2a3f5f\"},\"type\":\"carpet\"}],\"choropleth\":[{\"colorbar\":{\"outlinewidth\":0,\"ticks\":\"\"},\"type\":\"choropleth\"}],\"contourcarpet\":[{\"colorbar\":{\"outlinewidth\":0,\"ticks\":\"\"},\"type\":\"contourcarpet\"}],\"contour\":[{\"colorbar\":{\"outlinewidth\":0,\"ticks\":\"\"},\"colorscale\":[[0.0,\"#0d0887\"],[0.1111111111111111,\"#46039f\"],[0.2222222222222222,\"#7201a8\"],[0.3333333333333333,\"#9c179e\"],[0.4444444444444444,\"#bd3786\"],[0.5555555555555556,\"#d8576b\"],[0.6666666666666666,\"#ed7953\"],[0.7777777777777778,\"#fb9f3a\"],[0.8888888888888888,\"#fdca26\"],[1.0,\"#f0f921\"]],\"type\":\"contour\"}],\"heatmapgl\":[{\"colorbar\":{\"outlinewidth\":0,\"ticks\":\"\"},\"colorscale\":[[0.0,\"#0d0887\"],[0.1111111111111111,\"#46039f\"],[0.2222222222222222,\"#7201a8\"],[0.3333333333333333,\"#9c179e\"],[0.4444444444444444,\"#bd3786\"],[0.5555555555555556,\"#d8576b\"],[0.6666666666666666,\"#ed7953\"],[0.7777777777777778,\"#fb9f3a\"],[0.8888888888888888,\"#fdca26\"],[1.0,\"#f0f921\"]],\"type\":\"heatmapgl\"}],\"heatmap\":[{\"colorbar\":{\"outlinewidth\":0,\"ticks\":\"\"},\"colorscale\":[[0.0,\"#0d0887\"],[0.1111111111111111,\"#46039f\"],[0.2222222222222222,\"#7201a8\"],[0.3333333333333333,\"#9c179e\"],[0.4444444444444444,\"#bd3786\"],[0.5555555555555556,\"#d8576b\"],[0.6666666666666666,\"#ed7953\"],[0.7777777777777778,\"#fb9f3a\"],[0.8888888888888888,\"#fdca26\"],[1.0,\"#f0f921\"]],\"type\":\"heatmap\"}],\"histogram2dcontour\":[{\"colorbar\":{\"outlinewidth\":0,\"ticks\":\"\"},\"colorscale\":[[0.0,\"#0d0887\"],[0.1111111111111111,\"#46039f\"],[0.2222222222222222,\"#7201a8\"],[0.3333333333333333,\"#9c179e\"],[0.4444444444444444,\"#bd3786\"],[0.5555555555555556,\"#d8576b\"],[0.6666666666666666,\"#ed7953\"],[0.7777777777777778,\"#fb9f3a\"],[0.8888888888888888,\"#fdca26\"],[1.0,\"#f0f921\"]],\"type\":\"histogram2dcontour\"}],\"histogram2d\":[{\"colorbar\":{\"outlinewidth\":0,\"ticks\":\"\"},\"colorscale\":[[0.0,\"#0d0887\"],[0.1111111111111111,\"#46039f\"],[0.2222222222222222,\"#7201a8\"],[0.3333333333333333,\"#9c179e\"],[0.4444444444444444,\"#bd3786\"],[0.5555555555555556,\"#d8576b\"],[0.6666666666666666,\"#ed7953\"],[0.7777777777777778,\"#fb9f3a\"],[0.8888888888888888,\"#fdca26\"],[1.0,\"#f0f921\"]],\"type\":\"histogram2d\"}],\"histogram\":[{\"marker\":{\"pattern\":{\"fillmode\":\"overlay\",\"size\":10,\"solidity\":0.2}},\"type\":\"histogram\"}],\"mesh3d\":[{\"colorbar\":{\"outlinewidth\":0,\"ticks\":\"\"},\"type\":\"mesh3d\"}],\"parcoords\":[{\"line\":{\"colorbar\":{\"outlinewidth\":0,\"ticks\":\"\"}},\"type\":\"parcoords\"}],\"pie\":[{\"automargin\":true,\"type\":\"pie\"}],\"scatter3d\":[{\"line\":{\"colorbar\":{\"outlinewidth\":0,\"ticks\":\"\"}},\"marker\":{\"colorbar\":{\"outlinewidth\":0,\"ticks\":\"\"}},\"type\":\"scatter3d\"}],\"scattercarpet\":[{\"marker\":{\"colorbar\":{\"outlinewidth\":0,\"ticks\":\"\"}},\"type\":\"scattercarpet\"}],\"scattergeo\":[{\"marker\":{\"colorbar\":{\"outlinewidth\":0,\"ticks\":\"\"}},\"type\":\"scattergeo\"}],\"scattergl\":[{\"marker\":{\"colorbar\":{\"outlinewidth\":0,\"ticks\":\"\"}},\"type\":\"scattergl\"}],\"scattermapbox\":[{\"marker\":{\"colorbar\":{\"outlinewidth\":0,\"ticks\":\"\"}},\"type\":\"scattermapbox\"}],\"scatterpolargl\":[{\"marker\":{\"colorbar\":{\"outlinewidth\":0,\"ticks\":\"\"}},\"type\":\"scatterpolargl\"}],\"scatterpolar\":[{\"marker\":{\"colorbar\":{\"outlinewidth\":0,\"ticks\":\"\"}},\"type\":\"scatterpolar\"}],\"scatter\":[{\"fillpattern\":{\"fillmode\":\"overlay\",\"size\":10,\"solidity\":0.2},\"type\":\"scatter\"}],\"scatterternary\":[{\"marker\":{\"colorbar\":{\"outlinewidth\":0,\"ticks\":\"\"}},\"type\":\"scatterternary\"}],\"surface\":[{\"colorbar\":{\"outlinewidth\":0,\"ticks\":\"\"},\"colorscale\":[[0.0,\"#0d0887\"],[0.1111111111111111,\"#46039f\"],[0.2222222222222222,\"#7201a8\"],[0.3333333333333333,\"#9c179e\"],[0.4444444444444444,\"#bd3786\"],[0.5555555555555556,\"#d8576b\"],[0.6666666666666666,\"#ed7953\"],[0.7777777777777778,\"#fb9f3a\"],[0.8888888888888888,\"#fdca26\"],[1.0,\"#f0f921\"]],\"type\":\"surface\"}],\"table\":[{\"cells\":{\"fill\":{\"color\":\"#EBF0F8\"},\"line\":{\"color\":\"white\"}},\"header\":{\"fill\":{\"color\":\"#C8D4E3\"},\"line\":{\"color\":\"white\"}},\"type\":\"table\"}]},\"layout\":{\"annotationdefaults\":{\"arrowcolor\":\"#2a3f5f\",\"arrowhead\":0,\"arrowwidth\":1},\"autotypenumbers\":\"strict\",\"coloraxis\":{\"colorbar\":{\"outlinewidth\":0,\"ticks\":\"\"}},\"colorscale\":{\"diverging\":[[0,\"#8e0152\"],[0.1,\"#c51b7d\"],[0.2,\"#de77ae\"],[0.3,\"#f1b6da\"],[0.4,\"#fde0ef\"],[0.5,\"#f7f7f7\"],[0.6,\"#e6f5d0\"],[0.7,\"#b8e186\"],[0.8,\"#7fbc41\"],[0.9,\"#4d9221\"],[1,\"#276419\"]],\"sequential\":[[0.0,\"#0d0887\"],[0.1111111111111111,\"#46039f\"],[0.2222222222222222,\"#7201a8\"],[0.3333333333333333,\"#9c179e\"],[0.4444444444444444,\"#bd3786\"],[0.5555555555555556,\"#d8576b\"],[0.6666666666666666,\"#ed7953\"],[0.7777777777777778,\"#fb9f3a\"],[0.8888888888888888,\"#fdca26\"],[1.0,\"#f0f921\"]],\"sequentialminus\":[[0.0,\"#0d0887\"],[0.1111111111111111,\"#46039f\"],[0.2222222222222222,\"#7201a8\"],[0.3333333333333333,\"#9c179e\"],[0.4444444444444444,\"#bd3786\"],[0.5555555555555556,\"#d8576b\"],[0.6666666666666666,\"#ed7953\"],[0.7777777777777778,\"#fb9f3a\"],[0.8888888888888888,\"#fdca26\"],[1.0,\"#f0f921\"]]},\"colorway\":[\"#636efa\",\"#EF553B\",\"#00cc96\",\"#ab63fa\",\"#FFA15A\",\"#19d3f3\",\"#FF6692\",\"#B6E880\",\"#FF97FF\",\"#FECB52\"],\"font\":{\"color\":\"#2a3f5f\"},\"geo\":{\"bgcolor\":\"white\",\"lakecolor\":\"white\",\"landcolor\":\"#E5ECF6\",\"showlakes\":true,\"showland\":true,\"subunitcolor\":\"white\"},\"hoverlabel\":{\"align\":\"left\"},\"hovermode\":\"closest\",\"mapbox\":{\"style\":\"light\"},\"paper_bgcolor\":\"white\",\"plot_bgcolor\":\"#E5ECF6\",\"polar\":{\"angularaxis\":{\"gridcolor\":\"white\",\"linecolor\":\"white\",\"ticks\":\"\"},\"bgcolor\":\"#E5ECF6\",\"radialaxis\":{\"gridcolor\":\"white\",\"linecolor\":\"white\",\"ticks\":\"\"}},\"scene\":{\"xaxis\":{\"backgroundcolor\":\"#E5ECF6\",\"gridcolor\":\"white\",\"gridwidth\":2,\"linecolor\":\"white\",\"showbackground\":true,\"ticks\":\"\",\"zerolinecolor\":\"white\"},\"yaxis\":{\"backgroundcolor\":\"#E5ECF6\",\"gridcolor\":\"white\",\"gridwidth\":2,\"linecolor\":\"white\",\"showbackground\":true,\"ticks\":\"\",\"zerolinecolor\":\"white\"},\"zaxis\":{\"backgroundcolor\":\"#E5ECF6\",\"gridcolor\":\"white\",\"gridwidth\":2,\"linecolor\":\"white\",\"showbackground\":true,\"ticks\":\"\",\"zerolinecolor\":\"white\"}},\"shapedefaults\":{\"line\":{\"color\":\"#2a3f5f\"}},\"ternary\":{\"aaxis\":{\"gridcolor\":\"white\",\"linecolor\":\"white\",\"ticks\":\"\"},\"baxis\":{\"gridcolor\":\"white\",\"linecolor\":\"white\",\"ticks\":\"\"},\"bgcolor\":\"#E5ECF6\",\"caxis\":{\"gridcolor\":\"white\",\"linecolor\":\"white\",\"ticks\":\"\"}},\"title\":{\"x\":0.05},\"xaxis\":{\"automargin\":true,\"gridcolor\":\"white\",\"linecolor\":\"white\",\"ticks\":\"\",\"title\":{\"standoff\":15},\"zerolinecolor\":\"white\",\"zerolinewidth\":2},\"yaxis\":{\"automargin\":true,\"gridcolor\":\"white\",\"linecolor\":\"white\",\"ticks\":\"\",\"title\":{\"standoff\":15},\"zerolinecolor\":\"white\",\"zerolinewidth\":2}}},\"title\":{\"font\":{\"color\":\"#4D5663\"}},\"xaxis\":{\"gridcolor\":\"#E1E5ED\",\"showgrid\":true,\"tickfont\":{\"color\":\"#4D5663\"},\"title\":{\"font\":{\"color\":\"#4D5663\"},\"text\":\"\"},\"zerolinecolor\":\"#E1E5ED\"},\"yaxis\":{\"gridcolor\":\"#E1E5ED\",\"showgrid\":true,\"tickfont\":{\"color\":\"#4D5663\"},\"title\":{\"font\":{\"color\":\"#4D5663\"},\"text\":\"\"},\"zerolinecolor\":\"#E1E5ED\"}},                        {\"showLink\": true, \"linkText\": \"Export to plot.ly\", \"plotlyServerURL\": \"https://plot.ly\", \"responsive\": true}                    ).then(function(){\n",
       "                            \n",
       "var gd = document.getElementById('8f58d201-003b-4fad-b13c-92e33abf1bbe');\n",
       "var x = new MutationObserver(function (mutations, observer) {{\n",
       "        var display = window.getComputedStyle(gd).display;\n",
       "        if (!display || display === 'none') {{\n",
       "            console.log([gd, 'removed!']);\n",
       "            Plotly.purge(gd);\n",
       "            observer.disconnect();\n",
       "        }}\n",
       "}});\n",
       "\n",
       "// Listen for the removal of the full notebook cells\n",
       "var notebookContainer = gd.closest('#notebook-container');\n",
       "if (notebookContainer) {{\n",
       "    x.observe(notebookContainer, {childList: true});\n",
       "}}\n",
       "\n",
       "// Listen for the clearing of the current output cell\n",
       "var outputEl = gd.closest('.output');\n",
       "if (outputEl) {{\n",
       "    x.observe(outputEl, {childList: true});\n",
       "}}\n",
       "\n",
       "                        })                };                });            </script>        </div>"
      ]
     },
     "metadata": {},
     "output_type": "display_data"
    }
   ],
   "source": [
    "df.iplot(kind='box')"
   ]
  },
  {
   "cell_type": "markdown",
   "metadata": {},
   "source": [
    "## 3D Surface Plots"
   ]
  },
  {
   "cell_type": "code",
   "execution_count": 15,
   "metadata": {},
   "outputs": [
    {
     "data": {
      "application/vnd.plotly.v1+json": {
       "config": {
        "linkText": "Export to plot.ly",
        "plotlyServerURL": "https://plot.ly",
        "showLink": true
       },
       "data": [
        {
         "colorscale": [
          [
           0,
           "rgb(165,0,38)"
          ],
          [
           0.1,
           "rgb(215,48,39)"
          ],
          [
           0.2,
           "rgb(244,109,67)"
          ],
          [
           0.3,
           "rgb(253,174,97)"
          ],
          [
           0.4,
           "rgb(254,224,144)"
          ],
          [
           0.5,
           "rgb(255,255,191)"
          ],
          [
           0.6,
           "rgb(224,243,248)"
          ],
          [
           0.7,
           "rgb(171,217,233)"
          ],
          [
           0.8,
           "rgb(116,173,209)"
          ],
          [
           0.9,
           "rgb(69,117,180)"
          ],
          [
           1,
           "rgb(49,54,149)"
          ]
         ],
         "type": "surface",
         "x": [
          0,
          1,
          2,
          3,
          4
         ],
         "y": [
          "x",
          "y",
          "z"
         ],
         "z": [
          [
           1,
           2,
           3,
           4,
           5
          ],
          [
           10,
           20,
           30,
           20,
           10
          ],
          [
           5,
           4,
           3,
           2,
           1
          ]
         ]
        }
       ],
       "layout": {
        "legend": {
         "bgcolor": "#F5F6F9",
         "font": {
          "color": "#4D5663"
         }
        },
        "paper_bgcolor": "#F5F6F9",
        "plot_bgcolor": "#F5F6F9",
        "template": {
         "data": {
          "bar": [
           {
            "error_x": {
             "color": "#2a3f5f"
            },
            "error_y": {
             "color": "#2a3f5f"
            },
            "marker": {
             "line": {
              "color": "#E5ECF6",
              "width": 0.5
             },
             "pattern": {
              "fillmode": "overlay",
              "size": 10,
              "solidity": 0.2
             }
            },
            "type": "bar"
           }
          ],
          "barpolar": [
           {
            "marker": {
             "line": {
              "color": "#E5ECF6",
              "width": 0.5
             },
             "pattern": {
              "fillmode": "overlay",
              "size": 10,
              "solidity": 0.2
             }
            },
            "type": "barpolar"
           }
          ],
          "carpet": [
           {
            "aaxis": {
             "endlinecolor": "#2a3f5f",
             "gridcolor": "white",
             "linecolor": "white",
             "minorgridcolor": "white",
             "startlinecolor": "#2a3f5f"
            },
            "baxis": {
             "endlinecolor": "#2a3f5f",
             "gridcolor": "white",
             "linecolor": "white",
             "minorgridcolor": "white",
             "startlinecolor": "#2a3f5f"
            },
            "type": "carpet"
           }
          ],
          "choropleth": [
           {
            "colorbar": {
             "outlinewidth": 0,
             "ticks": ""
            },
            "type": "choropleth"
           }
          ],
          "contour": [
           {
            "colorbar": {
             "outlinewidth": 0,
             "ticks": ""
            },
            "colorscale": [
             [
              0,
              "#0d0887"
             ],
             [
              0.1111111111111111,
              "#46039f"
             ],
             [
              0.2222222222222222,
              "#7201a8"
             ],
             [
              0.3333333333333333,
              "#9c179e"
             ],
             [
              0.4444444444444444,
              "#bd3786"
             ],
             [
              0.5555555555555556,
              "#d8576b"
             ],
             [
              0.6666666666666666,
              "#ed7953"
             ],
             [
              0.7777777777777778,
              "#fb9f3a"
             ],
             [
              0.8888888888888888,
              "#fdca26"
             ],
             [
              1,
              "#f0f921"
             ]
            ],
            "type": "contour"
           }
          ],
          "contourcarpet": [
           {
            "colorbar": {
             "outlinewidth": 0,
             "ticks": ""
            },
            "type": "contourcarpet"
           }
          ],
          "heatmap": [
           {
            "colorbar": {
             "outlinewidth": 0,
             "ticks": ""
            },
            "colorscale": [
             [
              0,
              "#0d0887"
             ],
             [
              0.1111111111111111,
              "#46039f"
             ],
             [
              0.2222222222222222,
              "#7201a8"
             ],
             [
              0.3333333333333333,
              "#9c179e"
             ],
             [
              0.4444444444444444,
              "#bd3786"
             ],
             [
              0.5555555555555556,
              "#d8576b"
             ],
             [
              0.6666666666666666,
              "#ed7953"
             ],
             [
              0.7777777777777778,
              "#fb9f3a"
             ],
             [
              0.8888888888888888,
              "#fdca26"
             ],
             [
              1,
              "#f0f921"
             ]
            ],
            "type": "heatmap"
           }
          ],
          "heatmapgl": [
           {
            "colorbar": {
             "outlinewidth": 0,
             "ticks": ""
            },
            "colorscale": [
             [
              0,
              "#0d0887"
             ],
             [
              0.1111111111111111,
              "#46039f"
             ],
             [
              0.2222222222222222,
              "#7201a8"
             ],
             [
              0.3333333333333333,
              "#9c179e"
             ],
             [
              0.4444444444444444,
              "#bd3786"
             ],
             [
              0.5555555555555556,
              "#d8576b"
             ],
             [
              0.6666666666666666,
              "#ed7953"
             ],
             [
              0.7777777777777778,
              "#fb9f3a"
             ],
             [
              0.8888888888888888,
              "#fdca26"
             ],
             [
              1,
              "#f0f921"
             ]
            ],
            "type": "heatmapgl"
           }
          ],
          "histogram": [
           {
            "marker": {
             "pattern": {
              "fillmode": "overlay",
              "size": 10,
              "solidity": 0.2
             }
            },
            "type": "histogram"
           }
          ],
          "histogram2d": [
           {
            "colorbar": {
             "outlinewidth": 0,
             "ticks": ""
            },
            "colorscale": [
             [
              0,
              "#0d0887"
             ],
             [
              0.1111111111111111,
              "#46039f"
             ],
             [
              0.2222222222222222,
              "#7201a8"
             ],
             [
              0.3333333333333333,
              "#9c179e"
             ],
             [
              0.4444444444444444,
              "#bd3786"
             ],
             [
              0.5555555555555556,
              "#d8576b"
             ],
             [
              0.6666666666666666,
              "#ed7953"
             ],
             [
              0.7777777777777778,
              "#fb9f3a"
             ],
             [
              0.8888888888888888,
              "#fdca26"
             ],
             [
              1,
              "#f0f921"
             ]
            ],
            "type": "histogram2d"
           }
          ],
          "histogram2dcontour": [
           {
            "colorbar": {
             "outlinewidth": 0,
             "ticks": ""
            },
            "colorscale": [
             [
              0,
              "#0d0887"
             ],
             [
              0.1111111111111111,
              "#46039f"
             ],
             [
              0.2222222222222222,
              "#7201a8"
             ],
             [
              0.3333333333333333,
              "#9c179e"
             ],
             [
              0.4444444444444444,
              "#bd3786"
             ],
             [
              0.5555555555555556,
              "#d8576b"
             ],
             [
              0.6666666666666666,
              "#ed7953"
             ],
             [
              0.7777777777777778,
              "#fb9f3a"
             ],
             [
              0.8888888888888888,
              "#fdca26"
             ],
             [
              1,
              "#f0f921"
             ]
            ],
            "type": "histogram2dcontour"
           }
          ],
          "mesh3d": [
           {
            "colorbar": {
             "outlinewidth": 0,
             "ticks": ""
            },
            "type": "mesh3d"
           }
          ],
          "parcoords": [
           {
            "line": {
             "colorbar": {
              "outlinewidth": 0,
              "ticks": ""
             }
            },
            "type": "parcoords"
           }
          ],
          "pie": [
           {
            "automargin": true,
            "type": "pie"
           }
          ],
          "scatter": [
           {
            "fillpattern": {
             "fillmode": "overlay",
             "size": 10,
             "solidity": 0.2
            },
            "type": "scatter"
           }
          ],
          "scatter3d": [
           {
            "line": {
             "colorbar": {
              "outlinewidth": 0,
              "ticks": ""
             }
            },
            "marker": {
             "colorbar": {
              "outlinewidth": 0,
              "ticks": ""
             }
            },
            "type": "scatter3d"
           }
          ],
          "scattercarpet": [
           {
            "marker": {
             "colorbar": {
              "outlinewidth": 0,
              "ticks": ""
             }
            },
            "type": "scattercarpet"
           }
          ],
          "scattergeo": [
           {
            "marker": {
             "colorbar": {
              "outlinewidth": 0,
              "ticks": ""
             }
            },
            "type": "scattergeo"
           }
          ],
          "scattergl": [
           {
            "marker": {
             "colorbar": {
              "outlinewidth": 0,
              "ticks": ""
             }
            },
            "type": "scattergl"
           }
          ],
          "scattermapbox": [
           {
            "marker": {
             "colorbar": {
              "outlinewidth": 0,
              "ticks": ""
             }
            },
            "type": "scattermapbox"
           }
          ],
          "scatterpolar": [
           {
            "marker": {
             "colorbar": {
              "outlinewidth": 0,
              "ticks": ""
             }
            },
            "type": "scatterpolar"
           }
          ],
          "scatterpolargl": [
           {
            "marker": {
             "colorbar": {
              "outlinewidth": 0,
              "ticks": ""
             }
            },
            "type": "scatterpolargl"
           }
          ],
          "scatterternary": [
           {
            "marker": {
             "colorbar": {
              "outlinewidth": 0,
              "ticks": ""
             }
            },
            "type": "scatterternary"
           }
          ],
          "surface": [
           {
            "colorbar": {
             "outlinewidth": 0,
             "ticks": ""
            },
            "colorscale": [
             [
              0,
              "#0d0887"
             ],
             [
              0.1111111111111111,
              "#46039f"
             ],
             [
              0.2222222222222222,
              "#7201a8"
             ],
             [
              0.3333333333333333,
              "#9c179e"
             ],
             [
              0.4444444444444444,
              "#bd3786"
             ],
             [
              0.5555555555555556,
              "#d8576b"
             ],
             [
              0.6666666666666666,
              "#ed7953"
             ],
             [
              0.7777777777777778,
              "#fb9f3a"
             ],
             [
              0.8888888888888888,
              "#fdca26"
             ],
             [
              1,
              "#f0f921"
             ]
            ],
            "type": "surface"
           }
          ],
          "table": [
           {
            "cells": {
             "fill": {
              "color": "#EBF0F8"
             },
             "line": {
              "color": "white"
             }
            },
            "header": {
             "fill": {
              "color": "#C8D4E3"
             },
             "line": {
              "color": "white"
             }
            },
            "type": "table"
           }
          ]
         },
         "layout": {
          "annotationdefaults": {
           "arrowcolor": "#2a3f5f",
           "arrowhead": 0,
           "arrowwidth": 1
          },
          "autotypenumbers": "strict",
          "coloraxis": {
           "colorbar": {
            "outlinewidth": 0,
            "ticks": ""
           }
          },
          "colorscale": {
           "diverging": [
            [
             0,
             "#8e0152"
            ],
            [
             0.1,
             "#c51b7d"
            ],
            [
             0.2,
             "#de77ae"
            ],
            [
             0.3,
             "#f1b6da"
            ],
            [
             0.4,
             "#fde0ef"
            ],
            [
             0.5,
             "#f7f7f7"
            ],
            [
             0.6,
             "#e6f5d0"
            ],
            [
             0.7,
             "#b8e186"
            ],
            [
             0.8,
             "#7fbc41"
            ],
            [
             0.9,
             "#4d9221"
            ],
            [
             1,
             "#276419"
            ]
           ],
           "sequential": [
            [
             0,
             "#0d0887"
            ],
            [
             0.1111111111111111,
             "#46039f"
            ],
            [
             0.2222222222222222,
             "#7201a8"
            ],
            [
             0.3333333333333333,
             "#9c179e"
            ],
            [
             0.4444444444444444,
             "#bd3786"
            ],
            [
             0.5555555555555556,
             "#d8576b"
            ],
            [
             0.6666666666666666,
             "#ed7953"
            ],
            [
             0.7777777777777778,
             "#fb9f3a"
            ],
            [
             0.8888888888888888,
             "#fdca26"
            ],
            [
             1,
             "#f0f921"
            ]
           ],
           "sequentialminus": [
            [
             0,
             "#0d0887"
            ],
            [
             0.1111111111111111,
             "#46039f"
            ],
            [
             0.2222222222222222,
             "#7201a8"
            ],
            [
             0.3333333333333333,
             "#9c179e"
            ],
            [
             0.4444444444444444,
             "#bd3786"
            ],
            [
             0.5555555555555556,
             "#d8576b"
            ],
            [
             0.6666666666666666,
             "#ed7953"
            ],
            [
             0.7777777777777778,
             "#fb9f3a"
            ],
            [
             0.8888888888888888,
             "#fdca26"
            ],
            [
             1,
             "#f0f921"
            ]
           ]
          },
          "colorway": [
           "#636efa",
           "#EF553B",
           "#00cc96",
           "#ab63fa",
           "#FFA15A",
           "#19d3f3",
           "#FF6692",
           "#B6E880",
           "#FF97FF",
           "#FECB52"
          ],
          "font": {
           "color": "#2a3f5f"
          },
          "geo": {
           "bgcolor": "white",
           "lakecolor": "white",
           "landcolor": "#E5ECF6",
           "showlakes": true,
           "showland": true,
           "subunitcolor": "white"
          },
          "hoverlabel": {
           "align": "left"
          },
          "hovermode": "closest",
          "mapbox": {
           "style": "light"
          },
          "paper_bgcolor": "white",
          "plot_bgcolor": "#E5ECF6",
          "polar": {
           "angularaxis": {
            "gridcolor": "white",
            "linecolor": "white",
            "ticks": ""
           },
           "bgcolor": "#E5ECF6",
           "radialaxis": {
            "gridcolor": "white",
            "linecolor": "white",
            "ticks": ""
           }
          },
          "scene": {
           "xaxis": {
            "backgroundcolor": "#E5ECF6",
            "gridcolor": "white",
            "gridwidth": 2,
            "linecolor": "white",
            "showbackground": true,
            "ticks": "",
            "zerolinecolor": "white"
           },
           "yaxis": {
            "backgroundcolor": "#E5ECF6",
            "gridcolor": "white",
            "gridwidth": 2,
            "linecolor": "white",
            "showbackground": true,
            "ticks": "",
            "zerolinecolor": "white"
           },
           "zaxis": {
            "backgroundcolor": "#E5ECF6",
            "gridcolor": "white",
            "gridwidth": 2,
            "linecolor": "white",
            "showbackground": true,
            "ticks": "",
            "zerolinecolor": "white"
           }
          },
          "shapedefaults": {
           "line": {
            "color": "#2a3f5f"
           }
          },
          "ternary": {
           "aaxis": {
            "gridcolor": "white",
            "linecolor": "white",
            "ticks": ""
           },
           "baxis": {
            "gridcolor": "white",
            "linecolor": "white",
            "ticks": ""
           },
           "bgcolor": "#E5ECF6",
           "caxis": {
            "gridcolor": "white",
            "linecolor": "white",
            "ticks": ""
           }
          },
          "title": {
           "x": 0.05
          },
          "xaxis": {
           "automargin": true,
           "gridcolor": "white",
           "linecolor": "white",
           "ticks": "",
           "title": {
            "standoff": 15
           },
           "zerolinecolor": "white",
           "zerolinewidth": 2
          },
          "yaxis": {
           "automargin": true,
           "gridcolor": "white",
           "linecolor": "white",
           "ticks": "",
           "title": {
            "standoff": 15
           },
           "zerolinecolor": "white",
           "zerolinewidth": 2
          }
         }
        },
        "title": {
         "font": {
          "color": "#4D5663"
         }
        },
        "xaxis": {
         "gridcolor": "#E1E5ED",
         "showgrid": true,
         "tickfont": {
          "color": "#4D5663"
         },
         "title": {
          "font": {
           "color": "#4D5663"
          },
          "text": ""
         },
         "zerolinecolor": "#E1E5ED"
        },
        "yaxis": {
         "gridcolor": "#E1E5ED",
         "showgrid": true,
         "tickfont": {
          "color": "#4D5663"
         },
         "title": {
          "font": {
           "color": "#4D5663"
          },
          "text": ""
         },
         "zerolinecolor": "#E1E5ED"
        }
       }
      },
      "text/html": [
       "<div>                            <div id=\"959f673d-ba04-4c35-8144-d0fa2e32857e\" class=\"plotly-graph-div\" style=\"height:525px; width:100%;\"></div>            <script type=\"text/javascript\">                require([\"plotly\"], function(Plotly) {                    window.PLOTLYENV=window.PLOTLYENV || {};\n",
       "                    window.PLOTLYENV.BASE_URL='https://plot.ly';                                    if (document.getElementById(\"959f673d-ba04-4c35-8144-d0fa2e32857e\")) {                    Plotly.newPlot(                        \"959f673d-ba04-4c35-8144-d0fa2e32857e\",                        [{\"colorscale\":[[0.0,\"rgb(165,0,38)\"],[0.1,\"rgb(215,48,39)\"],[0.2,\"rgb(244,109,67)\"],[0.3,\"rgb(253,174,97)\"],[0.4,\"rgb(254,224,144)\"],[0.5,\"rgb(255,255,191)\"],[0.6,\"rgb(224,243,248)\"],[0.7,\"rgb(171,217,233)\"],[0.8,\"rgb(116,173,209)\"],[0.9,\"rgb(69,117,180)\"],[1.0,\"rgb(49,54,149)\"]],\"x\":[0,1,2,3,4],\"y\":[\"x\",\"y\",\"z\"],\"z\":[[1,2,3,4,5],[10,20,30,20,10],[5,4,3,2,1]],\"type\":\"surface\"}],                        {\"legend\":{\"bgcolor\":\"#F5F6F9\",\"font\":{\"color\":\"#4D5663\"}},\"paper_bgcolor\":\"#F5F6F9\",\"plot_bgcolor\":\"#F5F6F9\",\"template\":{\"data\":{\"barpolar\":[{\"marker\":{\"line\":{\"color\":\"#E5ECF6\",\"width\":0.5},\"pattern\":{\"fillmode\":\"overlay\",\"size\":10,\"solidity\":0.2}},\"type\":\"barpolar\"}],\"bar\":[{\"error_x\":{\"color\":\"#2a3f5f\"},\"error_y\":{\"color\":\"#2a3f5f\"},\"marker\":{\"line\":{\"color\":\"#E5ECF6\",\"width\":0.5},\"pattern\":{\"fillmode\":\"overlay\",\"size\":10,\"solidity\":0.2}},\"type\":\"bar\"}],\"carpet\":[{\"aaxis\":{\"endlinecolor\":\"#2a3f5f\",\"gridcolor\":\"white\",\"linecolor\":\"white\",\"minorgridcolor\":\"white\",\"startlinecolor\":\"#2a3f5f\"},\"baxis\":{\"endlinecolor\":\"#2a3f5f\",\"gridcolor\":\"white\",\"linecolor\":\"white\",\"minorgridcolor\":\"white\",\"startlinecolor\":\"#2a3f5f\"},\"type\":\"carpet\"}],\"choropleth\":[{\"colorbar\":{\"outlinewidth\":0,\"ticks\":\"\"},\"type\":\"choropleth\"}],\"contourcarpet\":[{\"colorbar\":{\"outlinewidth\":0,\"ticks\":\"\"},\"type\":\"contourcarpet\"}],\"contour\":[{\"colorbar\":{\"outlinewidth\":0,\"ticks\":\"\"},\"colorscale\":[[0.0,\"#0d0887\"],[0.1111111111111111,\"#46039f\"],[0.2222222222222222,\"#7201a8\"],[0.3333333333333333,\"#9c179e\"],[0.4444444444444444,\"#bd3786\"],[0.5555555555555556,\"#d8576b\"],[0.6666666666666666,\"#ed7953\"],[0.7777777777777778,\"#fb9f3a\"],[0.8888888888888888,\"#fdca26\"],[1.0,\"#f0f921\"]],\"type\":\"contour\"}],\"heatmapgl\":[{\"colorbar\":{\"outlinewidth\":0,\"ticks\":\"\"},\"colorscale\":[[0.0,\"#0d0887\"],[0.1111111111111111,\"#46039f\"],[0.2222222222222222,\"#7201a8\"],[0.3333333333333333,\"#9c179e\"],[0.4444444444444444,\"#bd3786\"],[0.5555555555555556,\"#d8576b\"],[0.6666666666666666,\"#ed7953\"],[0.7777777777777778,\"#fb9f3a\"],[0.8888888888888888,\"#fdca26\"],[1.0,\"#f0f921\"]],\"type\":\"heatmapgl\"}],\"heatmap\":[{\"colorbar\":{\"outlinewidth\":0,\"ticks\":\"\"},\"colorscale\":[[0.0,\"#0d0887\"],[0.1111111111111111,\"#46039f\"],[0.2222222222222222,\"#7201a8\"],[0.3333333333333333,\"#9c179e\"],[0.4444444444444444,\"#bd3786\"],[0.5555555555555556,\"#d8576b\"],[0.6666666666666666,\"#ed7953\"],[0.7777777777777778,\"#fb9f3a\"],[0.8888888888888888,\"#fdca26\"],[1.0,\"#f0f921\"]],\"type\":\"heatmap\"}],\"histogram2dcontour\":[{\"colorbar\":{\"outlinewidth\":0,\"ticks\":\"\"},\"colorscale\":[[0.0,\"#0d0887\"],[0.1111111111111111,\"#46039f\"],[0.2222222222222222,\"#7201a8\"],[0.3333333333333333,\"#9c179e\"],[0.4444444444444444,\"#bd3786\"],[0.5555555555555556,\"#d8576b\"],[0.6666666666666666,\"#ed7953\"],[0.7777777777777778,\"#fb9f3a\"],[0.8888888888888888,\"#fdca26\"],[1.0,\"#f0f921\"]],\"type\":\"histogram2dcontour\"}],\"histogram2d\":[{\"colorbar\":{\"outlinewidth\":0,\"ticks\":\"\"},\"colorscale\":[[0.0,\"#0d0887\"],[0.1111111111111111,\"#46039f\"],[0.2222222222222222,\"#7201a8\"],[0.3333333333333333,\"#9c179e\"],[0.4444444444444444,\"#bd3786\"],[0.5555555555555556,\"#d8576b\"],[0.6666666666666666,\"#ed7953\"],[0.7777777777777778,\"#fb9f3a\"],[0.8888888888888888,\"#fdca26\"],[1.0,\"#f0f921\"]],\"type\":\"histogram2d\"}],\"histogram\":[{\"marker\":{\"pattern\":{\"fillmode\":\"overlay\",\"size\":10,\"solidity\":0.2}},\"type\":\"histogram\"}],\"mesh3d\":[{\"colorbar\":{\"outlinewidth\":0,\"ticks\":\"\"},\"type\":\"mesh3d\"}],\"parcoords\":[{\"line\":{\"colorbar\":{\"outlinewidth\":0,\"ticks\":\"\"}},\"type\":\"parcoords\"}],\"pie\":[{\"automargin\":true,\"type\":\"pie\"}],\"scatter3d\":[{\"line\":{\"colorbar\":{\"outlinewidth\":0,\"ticks\":\"\"}},\"marker\":{\"colorbar\":{\"outlinewidth\":0,\"ticks\":\"\"}},\"type\":\"scatter3d\"}],\"scattercarpet\":[{\"marker\":{\"colorbar\":{\"outlinewidth\":0,\"ticks\":\"\"}},\"type\":\"scattercarpet\"}],\"scattergeo\":[{\"marker\":{\"colorbar\":{\"outlinewidth\":0,\"ticks\":\"\"}},\"type\":\"scattergeo\"}],\"scattergl\":[{\"marker\":{\"colorbar\":{\"outlinewidth\":0,\"ticks\":\"\"}},\"type\":\"scattergl\"}],\"scattermapbox\":[{\"marker\":{\"colorbar\":{\"outlinewidth\":0,\"ticks\":\"\"}},\"type\":\"scattermapbox\"}],\"scatterpolargl\":[{\"marker\":{\"colorbar\":{\"outlinewidth\":0,\"ticks\":\"\"}},\"type\":\"scatterpolargl\"}],\"scatterpolar\":[{\"marker\":{\"colorbar\":{\"outlinewidth\":0,\"ticks\":\"\"}},\"type\":\"scatterpolar\"}],\"scatter\":[{\"fillpattern\":{\"fillmode\":\"overlay\",\"size\":10,\"solidity\":0.2},\"type\":\"scatter\"}],\"scatterternary\":[{\"marker\":{\"colorbar\":{\"outlinewidth\":0,\"ticks\":\"\"}},\"type\":\"scatterternary\"}],\"surface\":[{\"colorbar\":{\"outlinewidth\":0,\"ticks\":\"\"},\"colorscale\":[[0.0,\"#0d0887\"],[0.1111111111111111,\"#46039f\"],[0.2222222222222222,\"#7201a8\"],[0.3333333333333333,\"#9c179e\"],[0.4444444444444444,\"#bd3786\"],[0.5555555555555556,\"#d8576b\"],[0.6666666666666666,\"#ed7953\"],[0.7777777777777778,\"#fb9f3a\"],[0.8888888888888888,\"#fdca26\"],[1.0,\"#f0f921\"]],\"type\":\"surface\"}],\"table\":[{\"cells\":{\"fill\":{\"color\":\"#EBF0F8\"},\"line\":{\"color\":\"white\"}},\"header\":{\"fill\":{\"color\":\"#C8D4E3\"},\"line\":{\"color\":\"white\"}},\"type\":\"table\"}]},\"layout\":{\"annotationdefaults\":{\"arrowcolor\":\"#2a3f5f\",\"arrowhead\":0,\"arrowwidth\":1},\"autotypenumbers\":\"strict\",\"coloraxis\":{\"colorbar\":{\"outlinewidth\":0,\"ticks\":\"\"}},\"colorscale\":{\"diverging\":[[0,\"#8e0152\"],[0.1,\"#c51b7d\"],[0.2,\"#de77ae\"],[0.3,\"#f1b6da\"],[0.4,\"#fde0ef\"],[0.5,\"#f7f7f7\"],[0.6,\"#e6f5d0\"],[0.7,\"#b8e186\"],[0.8,\"#7fbc41\"],[0.9,\"#4d9221\"],[1,\"#276419\"]],\"sequential\":[[0.0,\"#0d0887\"],[0.1111111111111111,\"#46039f\"],[0.2222222222222222,\"#7201a8\"],[0.3333333333333333,\"#9c179e\"],[0.4444444444444444,\"#bd3786\"],[0.5555555555555556,\"#d8576b\"],[0.6666666666666666,\"#ed7953\"],[0.7777777777777778,\"#fb9f3a\"],[0.8888888888888888,\"#fdca26\"],[1.0,\"#f0f921\"]],\"sequentialminus\":[[0.0,\"#0d0887\"],[0.1111111111111111,\"#46039f\"],[0.2222222222222222,\"#7201a8\"],[0.3333333333333333,\"#9c179e\"],[0.4444444444444444,\"#bd3786\"],[0.5555555555555556,\"#d8576b\"],[0.6666666666666666,\"#ed7953\"],[0.7777777777777778,\"#fb9f3a\"],[0.8888888888888888,\"#fdca26\"],[1.0,\"#f0f921\"]]},\"colorway\":[\"#636efa\",\"#EF553B\",\"#00cc96\",\"#ab63fa\",\"#FFA15A\",\"#19d3f3\",\"#FF6692\",\"#B6E880\",\"#FF97FF\",\"#FECB52\"],\"font\":{\"color\":\"#2a3f5f\"},\"geo\":{\"bgcolor\":\"white\",\"lakecolor\":\"white\",\"landcolor\":\"#E5ECF6\",\"showlakes\":true,\"showland\":true,\"subunitcolor\":\"white\"},\"hoverlabel\":{\"align\":\"left\"},\"hovermode\":\"closest\",\"mapbox\":{\"style\":\"light\"},\"paper_bgcolor\":\"white\",\"plot_bgcolor\":\"#E5ECF6\",\"polar\":{\"angularaxis\":{\"gridcolor\":\"white\",\"linecolor\":\"white\",\"ticks\":\"\"},\"bgcolor\":\"#E5ECF6\",\"radialaxis\":{\"gridcolor\":\"white\",\"linecolor\":\"white\",\"ticks\":\"\"}},\"scene\":{\"xaxis\":{\"backgroundcolor\":\"#E5ECF6\",\"gridcolor\":\"white\",\"gridwidth\":2,\"linecolor\":\"white\",\"showbackground\":true,\"ticks\":\"\",\"zerolinecolor\":\"white\"},\"yaxis\":{\"backgroundcolor\":\"#E5ECF6\",\"gridcolor\":\"white\",\"gridwidth\":2,\"linecolor\":\"white\",\"showbackground\":true,\"ticks\":\"\",\"zerolinecolor\":\"white\"},\"zaxis\":{\"backgroundcolor\":\"#E5ECF6\",\"gridcolor\":\"white\",\"gridwidth\":2,\"linecolor\":\"white\",\"showbackground\":true,\"ticks\":\"\",\"zerolinecolor\":\"white\"}},\"shapedefaults\":{\"line\":{\"color\":\"#2a3f5f\"}},\"ternary\":{\"aaxis\":{\"gridcolor\":\"white\",\"linecolor\":\"white\",\"ticks\":\"\"},\"baxis\":{\"gridcolor\":\"white\",\"linecolor\":\"white\",\"ticks\":\"\"},\"bgcolor\":\"#E5ECF6\",\"caxis\":{\"gridcolor\":\"white\",\"linecolor\":\"white\",\"ticks\":\"\"}},\"title\":{\"x\":0.05},\"xaxis\":{\"automargin\":true,\"gridcolor\":\"white\",\"linecolor\":\"white\",\"ticks\":\"\",\"title\":{\"standoff\":15},\"zerolinecolor\":\"white\",\"zerolinewidth\":2},\"yaxis\":{\"automargin\":true,\"gridcolor\":\"white\",\"linecolor\":\"white\",\"ticks\":\"\",\"title\":{\"standoff\":15},\"zerolinecolor\":\"white\",\"zerolinewidth\":2}}},\"title\":{\"font\":{\"color\":\"#4D5663\"}},\"xaxis\":{\"gridcolor\":\"#E1E5ED\",\"showgrid\":true,\"tickfont\":{\"color\":\"#4D5663\"},\"title\":{\"font\":{\"color\":\"#4D5663\"},\"text\":\"\"},\"zerolinecolor\":\"#E1E5ED\"},\"yaxis\":{\"gridcolor\":\"#E1E5ED\",\"showgrid\":true,\"tickfont\":{\"color\":\"#4D5663\"},\"title\":{\"font\":{\"color\":\"#4D5663\"},\"text\":\"\"},\"zerolinecolor\":\"#E1E5ED\"}},                        {\"showLink\": true, \"linkText\": \"Export to plot.ly\", \"plotlyServerURL\": \"https://plot.ly\", \"responsive\": true}                    ).then(function(){\n",
       "                            \n",
       "var gd = document.getElementById('959f673d-ba04-4c35-8144-d0fa2e32857e');\n",
       "var x = new MutationObserver(function (mutations, observer) {{\n",
       "        var display = window.getComputedStyle(gd).display;\n",
       "        if (!display || display === 'none') {{\n",
       "            console.log([gd, 'removed!']);\n",
       "            Plotly.purge(gd);\n",
       "            observer.disconnect();\n",
       "        }}\n",
       "}});\n",
       "\n",
       "// Listen for the removal of the full notebook cells\n",
       "var notebookContainer = gd.closest('#notebook-container');\n",
       "if (notebookContainer) {{\n",
       "    x.observe(notebookContainer, {childList: true});\n",
       "}}\n",
       "\n",
       "// Listen for the clearing of the current output cell\n",
       "var outputEl = gd.closest('.output');\n",
       "if (outputEl) {{\n",
       "    x.observe(outputEl, {childList: true});\n",
       "}}\n",
       "\n",
       "                        })                };                });            </script>        </div>"
      ]
     },
     "metadata": {},
     "output_type": "display_data"
    }
   ],
   "source": [
    "# Create DataFrame of 3 columns (x, y, z) with 5 numerical values each\n",
    "df3 = pd.DataFrame({'x':[1, 2, 3, 4, 5], 'y':[10, 20, 30, 20, 10], 'z':[5, 4, 3, 2, 1]})\n",
    "\n",
    "df3.iplot(kind='surface', colorscale='rdylbu')"
   ]
  },
  {
   "cell_type": "markdown",
   "metadata": {},
   "source": [
    "## Spread Plots"
   ]
  },
  {
   "cell_type": "code",
   "execution_count": 24,
   "metadata": {},
   "outputs": [
    {
     "data": {
      "text/html": [
       "<div>\n",
       "<style scoped>\n",
       "    .dataframe tbody tr th:only-of-type {\n",
       "        vertical-align: middle;\n",
       "    }\n",
       "\n",
       "    .dataframe tbody tr th {\n",
       "        vertical-align: top;\n",
       "    }\n",
       "\n",
       "    .dataframe thead th {\n",
       "        text-align: right;\n",
       "    }\n",
       "</style>\n",
       "<table border=\"1\" class=\"dataframe\">\n",
       "  <thead>\n",
       "    <tr style=\"text-align: right;\">\n",
       "      <th></th>\n",
       "      <th>A</th>\n",
       "      <th>B</th>\n",
       "      <th>C</th>\n",
       "      <th>D</th>\n",
       "    </tr>\n",
       "  </thead>\n",
       "  <tbody>\n",
       "    <tr>\n",
       "      <th>0</th>\n",
       "      <td>2.378705</td>\n",
       "      <td>-1.410952</td>\n",
       "      <td>0.174932</td>\n",
       "      <td>-0.018385</td>\n",
       "    </tr>\n",
       "    <tr>\n",
       "      <th>1</th>\n",
       "      <td>0.794981</td>\n",
       "      <td>1.128247</td>\n",
       "      <td>0.479376</td>\n",
       "      <td>0.069621</td>\n",
       "    </tr>\n",
       "    <tr>\n",
       "      <th>2</th>\n",
       "      <td>0.020347</td>\n",
       "      <td>0.047739</td>\n",
       "      <td>0.212586</td>\n",
       "      <td>-0.662626</td>\n",
       "    </tr>\n",
       "    <tr>\n",
       "      <th>3</th>\n",
       "      <td>0.168688</td>\n",
       "      <td>1.192578</td>\n",
       "      <td>-0.305181</td>\n",
       "      <td>-0.015385</td>\n",
       "    </tr>\n",
       "    <tr>\n",
       "      <th>4</th>\n",
       "      <td>-0.881422</td>\n",
       "      <td>-0.676029</td>\n",
       "      <td>1.060700</td>\n",
       "      <td>2.765890</td>\n",
       "    </tr>\n",
       "  </tbody>\n",
       "</table>\n",
       "</div>"
      ],
      "text/plain": [
       "          A         B         C         D\n",
       "0  2.378705 -1.410952  0.174932 -0.018385\n",
       "1  0.794981  1.128247  0.479376  0.069621\n",
       "2  0.020347  0.047739  0.212586 -0.662626\n",
       "3  0.168688  1.192578 -0.305181 -0.015385\n",
       "4 -0.881422 -0.676029  1.060700  2.765890"
      ]
     },
     "execution_count": 24,
     "metadata": {},
     "output_type": "execute_result"
    }
   ],
   "source": [
    "df.head()"
   ]
  },
  {
   "cell_type": "code",
   "execution_count": 26,
   "metadata": {},
   "outputs": [
    {
     "data": {
      "application/vnd.plotly.v1+json": {
       "config": {
        "linkText": "Export to plot.ly",
        "plotlyServerURL": "https://plot.ly",
        "showLink": true
       },
       "data": [
        {
         "line": {
          "color": "rgba(255, 153, 51, 1.0)",
          "dash": "solid",
          "shape": "linear",
          "width": 1.3
         },
         "mode": "lines",
         "name": "A",
         "text": "",
         "type": "scatter",
         "x": [
          0,
          1,
          2,
          3,
          4,
          5,
          6,
          7,
          8,
          9,
          10,
          11,
          12,
          13,
          14,
          15,
          16,
          17,
          18,
          19,
          20,
          21,
          22,
          23,
          24,
          25,
          26,
          27,
          28,
          29,
          30,
          31,
          32,
          33,
          34,
          35,
          36,
          37,
          38,
          39,
          40,
          41,
          42,
          43,
          44,
          45,
          46,
          47,
          48,
          49,
          50,
          51,
          52,
          53,
          54,
          55,
          56,
          57,
          58,
          59,
          60,
          61,
          62,
          63,
          64,
          65,
          66,
          67,
          68,
          69,
          70,
          71,
          72,
          73,
          74,
          75,
          76,
          77,
          78,
          79,
          80,
          81,
          82,
          83,
          84,
          85,
          86,
          87,
          88,
          89,
          90,
          91,
          92,
          93,
          94,
          95,
          96,
          97,
          98,
          99
         ],
         "y": [
          2.378704592613066,
          0.7949812084298118,
          0.020347293573050422,
          0.16868777949177213,
          -0.8814220662121459,
          -0.5469894743183308,
          0.6590071765436658,
          0.3613179293562961,
          -1.2147461277054892,
          -1.0717006945379468,
          1.4730551122551672,
          -2.0182139728885113,
          0.862170819233818,
          0.45865902626215327,
          0.8212707351013381,
          -1.0658356940582248,
          0.03295835561673598,
          -0.926351955662341,
          -1.022016441866523,
          0.40418350578692364,
          -0.7181779587551178,
          -0.6886833824381282,
          0.6589900815740977,
          0.3362218418822843,
          -0.8820682824005845,
          0.7525581971493505,
          0.9744354545245969,
          0.3941171740728787,
          -0.3148279512998113,
          0.027511879249834822,
          1.0690736558569764,
          1.945965592580823,
          -0.7404405629930189,
          -0.9320931040826592,
          -0.9725128365556344,
          -0.022925786738108116,
          0.23524105357779349,
          -0.7870873351298374,
          -0.8820383123923283,
          0.5388653659796684,
          0.3467960749027645,
          0.9180377599871524,
          0.7964447306733002,
          0.26387076427638695,
          -1.6624756533038676,
          -0.6588661312752233,
          0.5217396969238294,
          0.8970812642468908,
          -1.3713926827076768,
          -0.4548300287598396,
          -0.045966239535387074,
          1.9282569880928602,
          -0.10928180133163234,
          -1.206470846341257,
          1.507713498434342,
          0.05592745845622738,
          -1.5132312506460328,
          0.47489113129330857,
          -1.3952618471111324,
          0.8038273818921229,
          1.1856349700169242,
          0.16273611112484013,
          -0.12258699650513145,
          1.465768004736537,
          1.2102174987321017,
          -0.7665906106697451,
          1.481523198660766,
          0.0427859215020586,
          0.10498569010405591,
          -0.3532346970575991,
          0.7470035130696405,
          -1.5138294405419948,
          0.39125537467149357,
          1.0554685121921457,
          -1.1603309027478979,
          1.2680819308540339,
          -1.6729243287440783,
          -0.800055858574939,
          -0.06054705752571512,
          -0.9499836719749434,
          -0.814075664122035,
          -1.026934113840444,
          0.3404099087659415,
          -1.0694526605321897,
          -0.8912421592491239,
          -1.0298025520047036,
          -0.8461521807594581,
          0.38163340848760885,
          -0.854143270793631,
          2.7339580890475754,
          -1.1192422975843501,
          -1.2409109590645255,
          -1.6961826901225727,
          -2.531659068148911,
          -0.9385020930493669,
          0.4024336318072811,
          0.5681600037698108,
          1.027833998158066,
          0.29826246449978355,
          1.3920428913571818
         ]
        },
        {
         "line": {
          "color": "rgba(55, 128, 191, 1.0)",
          "dash": "solid",
          "shape": "linear",
          "width": 1.3
         },
         "mode": "lines",
         "name": "B",
         "text": "",
         "type": "scatter",
         "x": [
          0,
          1,
          2,
          3,
          4,
          5,
          6,
          7,
          8,
          9,
          10,
          11,
          12,
          13,
          14,
          15,
          16,
          17,
          18,
          19,
          20,
          21,
          22,
          23,
          24,
          25,
          26,
          27,
          28,
          29,
          30,
          31,
          32,
          33,
          34,
          35,
          36,
          37,
          38,
          39,
          40,
          41,
          42,
          43,
          44,
          45,
          46,
          47,
          48,
          49,
          50,
          51,
          52,
          53,
          54,
          55,
          56,
          57,
          58,
          59,
          60,
          61,
          62,
          63,
          64,
          65,
          66,
          67,
          68,
          69,
          70,
          71,
          72,
          73,
          74,
          75,
          76,
          77,
          78,
          79,
          80,
          81,
          82,
          83,
          84,
          85,
          86,
          87,
          88,
          89,
          90,
          91,
          92,
          93,
          94,
          95,
          96,
          97,
          98,
          99
         ],
         "y": [
          -1.4109524815414125,
          1.1282465007801148,
          0.047738942839579426,
          1.1925776700433535,
          -0.6760291052564088,
          0.1790913936831051,
          -0.03351469037462734,
          0.3771657627762725,
          -0.9767022195579985,
          0.21141886110062716,
          0.1584196563489074,
          -0.26903850577050065,
          0.1336348126478488,
          0.5566619988174846,
          0.1068228699217611,
          0.14722205713031677,
          -0.2343686404535711,
          -0.1262077308186696,
          0.2028854190184494,
          -1.184744979491366,
          0.09891423137821188,
          -1.290136702571667,
          0.6610727598457594,
          0.6702717303544894,
          0.0912079810352433,
          -0.9638006134894856,
          0.16094260320748796,
          0.2966406238557308,
          1.2821294846940516,
          -0.067473604084655,
          0.6795513181159056,
          0.5491447905266279,
          -0.689806015680189,
          0.6289590663833551,
          -1.9550310814406153,
          1.3285163272544,
          -0.6016863121951649,
          -2.287052069467176,
          -0.046040797789362084,
          0.6332369562901614,
          -0.7580283974698023,
          -0.06036705191617741,
          -0.1456939613387233,
          -0.5115588069642251,
          -0.9638838012193599,
          1.9645250905586364,
          0.7530690446506421,
          -0.5454797258160548,
          1.1264285526198632,
          0.5309788677230551,
          0.37017010060986144,
          -1.1250898914401306,
          -0.28798151582684817,
          0.5946295317590171,
          -0.3347454800425729,
          0.3149458216962703,
          0.5583138746908815,
          -1.3610380889173985,
          -0.015197888111185916,
          0.5839205545037052,
          0.7950892840941408,
          -0.9638717777634335,
          -1.1790577083086358,
          0.7429474030938845,
          0.3609668315824039,
          1.0454595794961696,
          -1.3695181820018538,
          1.1131185717922327,
          0.5216827552405487,
          0.5073722744981483,
          -0.4022519329950429,
          -0.3158636790719244,
          -0.8504176310575834,
          -0.3903836881740838,
          1.1044927868985561,
          -0.5736934071368204,
          0.7757993030735614,
          0.17272730723566684,
          0.7395094056847753,
          -0.8108546768655773,
          0.8372945924989318,
          0.4622740489612075,
          1.1748008403104275,
          0.3902602603754761,
          0.8569649092316891,
          0.29879524251049244,
          0.12796874998029747,
          0.3150133146889394,
          -0.8190428447575135,
          0.1948280774662253,
          0.39465257829795125,
          0.1448000685913453,
          -0.38815316801875377,
          -0.45750751101059955,
          1.6738795196045138,
          0.13198167186586035,
          -0.4374958634037224,
          -0.3477123127206604,
          -0.08952001727038991,
          0.7885530702008177
         ]
        },
        {
         "connectgaps": false,
         "fill": "tozeroy",
         "line": {
          "color": "green",
          "dash": "solid",
          "shape": "linear",
          "width": 0.5
         },
         "mode": "lines",
         "name": "Spread",
         "showlegend": false,
         "type": "scatter",
         "x": [
          0,
          1,
          2,
          3,
          4,
          5,
          6,
          7,
          8,
          9,
          10,
          11,
          12,
          13,
          14,
          15,
          16,
          17,
          18,
          19,
          20,
          21,
          22,
          23,
          24,
          25,
          26,
          27,
          28,
          29,
          30,
          31,
          32,
          33,
          34,
          35,
          36,
          37,
          38,
          39,
          40,
          41,
          42,
          43,
          44,
          45,
          46,
          47,
          48,
          49,
          50,
          51,
          52,
          53,
          54,
          55,
          56,
          57,
          58,
          59,
          60,
          61,
          62,
          63,
          64,
          65,
          66,
          67,
          68,
          69,
          70,
          71,
          72,
          73,
          74,
          75,
          76,
          77,
          78,
          79,
          80,
          81,
          82,
          83,
          84,
          85,
          86,
          87,
          88,
          89,
          90,
          91,
          92,
          93,
          94,
          95,
          96,
          97,
          98,
          99
         ],
         "xaxis": "x2",
         "y": [
          3.7896570741544786,
          "",
          "",
          "",
          "",
          "",
          0.6925218669182931,
          "",
          "",
          "",
          1.3146354559062599,
          "",
          0.7285360065859692,
          "",
          0.7144478651795769,
          "",
          0.2673269960703071,
          "",
          "",
          1.5889284852782897,
          "",
          0.6014533201335388,
          "",
          "",
          "",
          1.716358810638836,
          0.8134928513171089,
          0.0974765502171479,
          "",
          0.09498548333448982,
          0.3895223377410708,
          1.396820802054195,
          "",
          "",
          0.982518244884981,
          "",
          0.8369273657729583,
          1.4999647343373388,
          "",
          "",
          1.1048244723725669,
          0.9784048119033298,
          0.9421386920120236,
          0.7754295712406121,
          "",
          "",
          "",
          1.4425609900629457,
          "",
          "",
          "",
          3.0533468795329908,
          0.17869971449521582,
          "",
          1.842458978476915,
          "",
          "",
          1.8359292202107071,
          "",
          0.2199068273884177,
          0.3905456859227834,
          1.1266078888882736,
          1.0564707118035044,
          0.7228206016426524,
          0.8492506671496978,
          "",
          2.85104138066262,
          "",
          "",
          "",
          1.1492554460646836,
          "",
          1.241673005729077,
          1.4458522003662295,
          "",
          1.8417753379908541,
          "",
          "",
          "",
          "",
          "",
          "",
          "",
          "",
          "",
          "",
          "",
          0.06662009379866946,
          "",
          2.53913001158135,
          "",
          "",
          "",
          "",
          "",
          0.27045195994142074,
          1.0056558671735332,
          1.3755463108787263,
          0.3877824817701735,
          0.6034898211563642
         ],
         "yaxis": "y2"
        },
        {
         "connectgaps": false,
         "fill": "tozeroy",
         "line": {
          "color": "red",
          "dash": "solid",
          "shape": "linear",
          "width": 0.5
         },
         "mode": "lines",
         "name": "Spread",
         "showlegend": false,
         "type": "scatter",
         "x": [
          0,
          1,
          2,
          3,
          4,
          5,
          6,
          7,
          8,
          9,
          10,
          11,
          12,
          13,
          14,
          15,
          16,
          17,
          18,
          19,
          20,
          21,
          22,
          23,
          24,
          25,
          26,
          27,
          28,
          29,
          30,
          31,
          32,
          33,
          34,
          35,
          36,
          37,
          38,
          39,
          40,
          41,
          42,
          43,
          44,
          45,
          46,
          47,
          48,
          49,
          50,
          51,
          52,
          53,
          54,
          55,
          56,
          57,
          58,
          59,
          60,
          61,
          62,
          63,
          64,
          65,
          66,
          67,
          68,
          69,
          70,
          71,
          72,
          73,
          74,
          75,
          76,
          77,
          78,
          79,
          80,
          81,
          82,
          83,
          84,
          85,
          86,
          87,
          88,
          89,
          90,
          91,
          92,
          93,
          94,
          95,
          96,
          97,
          98,
          99
         ],
         "xaxis": "x2",
         "y": [
          "",
          -0.333265292350303,
          -0.027391649266529004,
          -1.0238898905515814,
          -0.2053929609557371,
          -0.7260808680014359,
          "",
          -0.01584783341997642,
          -0.23804390814749066,
          -1.283119555638574,
          "",
          -1.7491754671180106,
          "",
          -0.0980029725553313,
          "",
          -1.2130577511885416,
          "",
          -0.8001442248436714,
          -1.2249018608849724,
          "",
          -0.8170921901333297,
          "",
          -0.002082678271661753,
          -0.33404988847220507,
          -0.9732762634358278,
          "",
          "",
          "",
          -1.596957435993863,
          "",
          "",
          "",
          -0.0506345473128299,
          -1.5610521704660143,
          "",
          -1.3514421139925081,
          "",
          "",
          -0.8359975146029662,
          -0.09437159031049303,
          "",
          "",
          "",
          "",
          -0.6985918520845077,
          -2.6233912218338595,
          -0.23132934772681268,
          "",
          -2.4978212353275397,
          -0.9858088964828947,
          -0.41613634014524853,
          "",
          "",
          -1.8011003781002741,
          "",
          -0.2590183632400429,
          -2.071545125336914,
          "",
          -1.3800639589999466,
          "",
          "",
          "",
          "",
          "",
          "",
          -1.8120501901659147,
          "",
          -1.0703326502901742,
          -0.41669706513649285,
          -0.8606069715557474,
          "",
          -1.1979657614700703,
          "",
          "",
          -2.264823689646454,
          "",
          -2.4487236318176397,
          -0.9727831658106059,
          -0.8000564632104904,
          -0.13912899510936605,
          -1.6513702566209667,
          -1.4892081628016514,
          -0.834390931544486,
          -1.4597129209076658,
          -1.7482070684808129,
          -1.328597794515196,
          -0.9741209307397556,
          "",
          -0.035100426036117405,
          "",
          -1.5138948758823014,
          -1.3857110276558708,
          -1.308029522103819,
          -2.074151557138311,
          -2.6123816126538806,
          "",
          "",
          "",
          "",
          ""
         ],
         "yaxis": "y2"
        }
       ],
       "layout": {
        "hovermode": "x",
        "legend": {
         "bgcolor": "#F5F6F9",
         "font": {
          "color": "#4D5663"
         }
        },
        "paper_bgcolor": "#F5F6F9",
        "plot_bgcolor": "#F5F6F9",
        "template": {
         "data": {
          "bar": [
           {
            "error_x": {
             "color": "#2a3f5f"
            },
            "error_y": {
             "color": "#2a3f5f"
            },
            "marker": {
             "line": {
              "color": "#E5ECF6",
              "width": 0.5
             },
             "pattern": {
              "fillmode": "overlay",
              "size": 10,
              "solidity": 0.2
             }
            },
            "type": "bar"
           }
          ],
          "barpolar": [
           {
            "marker": {
             "line": {
              "color": "#E5ECF6",
              "width": 0.5
             },
             "pattern": {
              "fillmode": "overlay",
              "size": 10,
              "solidity": 0.2
             }
            },
            "type": "barpolar"
           }
          ],
          "carpet": [
           {
            "aaxis": {
             "endlinecolor": "#2a3f5f",
             "gridcolor": "white",
             "linecolor": "white",
             "minorgridcolor": "white",
             "startlinecolor": "#2a3f5f"
            },
            "baxis": {
             "endlinecolor": "#2a3f5f",
             "gridcolor": "white",
             "linecolor": "white",
             "minorgridcolor": "white",
             "startlinecolor": "#2a3f5f"
            },
            "type": "carpet"
           }
          ],
          "choropleth": [
           {
            "colorbar": {
             "outlinewidth": 0,
             "ticks": ""
            },
            "type": "choropleth"
           }
          ],
          "contour": [
           {
            "colorbar": {
             "outlinewidth": 0,
             "ticks": ""
            },
            "colorscale": [
             [
              0,
              "#0d0887"
             ],
             [
              0.1111111111111111,
              "#46039f"
             ],
             [
              0.2222222222222222,
              "#7201a8"
             ],
             [
              0.3333333333333333,
              "#9c179e"
             ],
             [
              0.4444444444444444,
              "#bd3786"
             ],
             [
              0.5555555555555556,
              "#d8576b"
             ],
             [
              0.6666666666666666,
              "#ed7953"
             ],
             [
              0.7777777777777778,
              "#fb9f3a"
             ],
             [
              0.8888888888888888,
              "#fdca26"
             ],
             [
              1,
              "#f0f921"
             ]
            ],
            "type": "contour"
           }
          ],
          "contourcarpet": [
           {
            "colorbar": {
             "outlinewidth": 0,
             "ticks": ""
            },
            "type": "contourcarpet"
           }
          ],
          "heatmap": [
           {
            "colorbar": {
             "outlinewidth": 0,
             "ticks": ""
            },
            "colorscale": [
             [
              0,
              "#0d0887"
             ],
             [
              0.1111111111111111,
              "#46039f"
             ],
             [
              0.2222222222222222,
              "#7201a8"
             ],
             [
              0.3333333333333333,
              "#9c179e"
             ],
             [
              0.4444444444444444,
              "#bd3786"
             ],
             [
              0.5555555555555556,
              "#d8576b"
             ],
             [
              0.6666666666666666,
              "#ed7953"
             ],
             [
              0.7777777777777778,
              "#fb9f3a"
             ],
             [
              0.8888888888888888,
              "#fdca26"
             ],
             [
              1,
              "#f0f921"
             ]
            ],
            "type": "heatmap"
           }
          ],
          "heatmapgl": [
           {
            "colorbar": {
             "outlinewidth": 0,
             "ticks": ""
            },
            "colorscale": [
             [
              0,
              "#0d0887"
             ],
             [
              0.1111111111111111,
              "#46039f"
             ],
             [
              0.2222222222222222,
              "#7201a8"
             ],
             [
              0.3333333333333333,
              "#9c179e"
             ],
             [
              0.4444444444444444,
              "#bd3786"
             ],
             [
              0.5555555555555556,
              "#d8576b"
             ],
             [
              0.6666666666666666,
              "#ed7953"
             ],
             [
              0.7777777777777778,
              "#fb9f3a"
             ],
             [
              0.8888888888888888,
              "#fdca26"
             ],
             [
              1,
              "#f0f921"
             ]
            ],
            "type": "heatmapgl"
           }
          ],
          "histogram": [
           {
            "marker": {
             "pattern": {
              "fillmode": "overlay",
              "size": 10,
              "solidity": 0.2
             }
            },
            "type": "histogram"
           }
          ],
          "histogram2d": [
           {
            "colorbar": {
             "outlinewidth": 0,
             "ticks": ""
            },
            "colorscale": [
             [
              0,
              "#0d0887"
             ],
             [
              0.1111111111111111,
              "#46039f"
             ],
             [
              0.2222222222222222,
              "#7201a8"
             ],
             [
              0.3333333333333333,
              "#9c179e"
             ],
             [
              0.4444444444444444,
              "#bd3786"
             ],
             [
              0.5555555555555556,
              "#d8576b"
             ],
             [
              0.6666666666666666,
              "#ed7953"
             ],
             [
              0.7777777777777778,
              "#fb9f3a"
             ],
             [
              0.8888888888888888,
              "#fdca26"
             ],
             [
              1,
              "#f0f921"
             ]
            ],
            "type": "histogram2d"
           }
          ],
          "histogram2dcontour": [
           {
            "colorbar": {
             "outlinewidth": 0,
             "ticks": ""
            },
            "colorscale": [
             [
              0,
              "#0d0887"
             ],
             [
              0.1111111111111111,
              "#46039f"
             ],
             [
              0.2222222222222222,
              "#7201a8"
             ],
             [
              0.3333333333333333,
              "#9c179e"
             ],
             [
              0.4444444444444444,
              "#bd3786"
             ],
             [
              0.5555555555555556,
              "#d8576b"
             ],
             [
              0.6666666666666666,
              "#ed7953"
             ],
             [
              0.7777777777777778,
              "#fb9f3a"
             ],
             [
              0.8888888888888888,
              "#fdca26"
             ],
             [
              1,
              "#f0f921"
             ]
            ],
            "type": "histogram2dcontour"
           }
          ],
          "mesh3d": [
           {
            "colorbar": {
             "outlinewidth": 0,
             "ticks": ""
            },
            "type": "mesh3d"
           }
          ],
          "parcoords": [
           {
            "line": {
             "colorbar": {
              "outlinewidth": 0,
              "ticks": ""
             }
            },
            "type": "parcoords"
           }
          ],
          "pie": [
           {
            "automargin": true,
            "type": "pie"
           }
          ],
          "scatter": [
           {
            "fillpattern": {
             "fillmode": "overlay",
             "size": 10,
             "solidity": 0.2
            },
            "type": "scatter"
           }
          ],
          "scatter3d": [
           {
            "line": {
             "colorbar": {
              "outlinewidth": 0,
              "ticks": ""
             }
            },
            "marker": {
             "colorbar": {
              "outlinewidth": 0,
              "ticks": ""
             }
            },
            "type": "scatter3d"
           }
          ],
          "scattercarpet": [
           {
            "marker": {
             "colorbar": {
              "outlinewidth": 0,
              "ticks": ""
             }
            },
            "type": "scattercarpet"
           }
          ],
          "scattergeo": [
           {
            "marker": {
             "colorbar": {
              "outlinewidth": 0,
              "ticks": ""
             }
            },
            "type": "scattergeo"
           }
          ],
          "scattergl": [
           {
            "marker": {
             "colorbar": {
              "outlinewidth": 0,
              "ticks": ""
             }
            },
            "type": "scattergl"
           }
          ],
          "scattermapbox": [
           {
            "marker": {
             "colorbar": {
              "outlinewidth": 0,
              "ticks": ""
             }
            },
            "type": "scattermapbox"
           }
          ],
          "scatterpolar": [
           {
            "marker": {
             "colorbar": {
              "outlinewidth": 0,
              "ticks": ""
             }
            },
            "type": "scatterpolar"
           }
          ],
          "scatterpolargl": [
           {
            "marker": {
             "colorbar": {
              "outlinewidth": 0,
              "ticks": ""
             }
            },
            "type": "scatterpolargl"
           }
          ],
          "scatterternary": [
           {
            "marker": {
             "colorbar": {
              "outlinewidth": 0,
              "ticks": ""
             }
            },
            "type": "scatterternary"
           }
          ],
          "surface": [
           {
            "colorbar": {
             "outlinewidth": 0,
             "ticks": ""
            },
            "colorscale": [
             [
              0,
              "#0d0887"
             ],
             [
              0.1111111111111111,
              "#46039f"
             ],
             [
              0.2222222222222222,
              "#7201a8"
             ],
             [
              0.3333333333333333,
              "#9c179e"
             ],
             [
              0.4444444444444444,
              "#bd3786"
             ],
             [
              0.5555555555555556,
              "#d8576b"
             ],
             [
              0.6666666666666666,
              "#ed7953"
             ],
             [
              0.7777777777777778,
              "#fb9f3a"
             ],
             [
              0.8888888888888888,
              "#fdca26"
             ],
             [
              1,
              "#f0f921"
             ]
            ],
            "type": "surface"
           }
          ],
          "table": [
           {
            "cells": {
             "fill": {
              "color": "#EBF0F8"
             },
             "line": {
              "color": "white"
             }
            },
            "header": {
             "fill": {
              "color": "#C8D4E3"
             },
             "line": {
              "color": "white"
             }
            },
            "type": "table"
           }
          ]
         },
         "layout": {
          "annotationdefaults": {
           "arrowcolor": "#2a3f5f",
           "arrowhead": 0,
           "arrowwidth": 1
          },
          "autotypenumbers": "strict",
          "coloraxis": {
           "colorbar": {
            "outlinewidth": 0,
            "ticks": ""
           }
          },
          "colorscale": {
           "diverging": [
            [
             0,
             "#8e0152"
            ],
            [
             0.1,
             "#c51b7d"
            ],
            [
             0.2,
             "#de77ae"
            ],
            [
             0.3,
             "#f1b6da"
            ],
            [
             0.4,
             "#fde0ef"
            ],
            [
             0.5,
             "#f7f7f7"
            ],
            [
             0.6,
             "#e6f5d0"
            ],
            [
             0.7,
             "#b8e186"
            ],
            [
             0.8,
             "#7fbc41"
            ],
            [
             0.9,
             "#4d9221"
            ],
            [
             1,
             "#276419"
            ]
           ],
           "sequential": [
            [
             0,
             "#0d0887"
            ],
            [
             0.1111111111111111,
             "#46039f"
            ],
            [
             0.2222222222222222,
             "#7201a8"
            ],
            [
             0.3333333333333333,
             "#9c179e"
            ],
            [
             0.4444444444444444,
             "#bd3786"
            ],
            [
             0.5555555555555556,
             "#d8576b"
            ],
            [
             0.6666666666666666,
             "#ed7953"
            ],
            [
             0.7777777777777778,
             "#fb9f3a"
            ],
            [
             0.8888888888888888,
             "#fdca26"
            ],
            [
             1,
             "#f0f921"
            ]
           ],
           "sequentialminus": [
            [
             0,
             "#0d0887"
            ],
            [
             0.1111111111111111,
             "#46039f"
            ],
            [
             0.2222222222222222,
             "#7201a8"
            ],
            [
             0.3333333333333333,
             "#9c179e"
            ],
            [
             0.4444444444444444,
             "#bd3786"
            ],
            [
             0.5555555555555556,
             "#d8576b"
            ],
            [
             0.6666666666666666,
             "#ed7953"
            ],
            [
             0.7777777777777778,
             "#fb9f3a"
            ],
            [
             0.8888888888888888,
             "#fdca26"
            ],
            [
             1,
             "#f0f921"
            ]
           ]
          },
          "colorway": [
           "#636efa",
           "#EF553B",
           "#00cc96",
           "#ab63fa",
           "#FFA15A",
           "#19d3f3",
           "#FF6692",
           "#B6E880",
           "#FF97FF",
           "#FECB52"
          ],
          "font": {
           "color": "#2a3f5f"
          },
          "geo": {
           "bgcolor": "white",
           "lakecolor": "white",
           "landcolor": "#E5ECF6",
           "showlakes": true,
           "showland": true,
           "subunitcolor": "white"
          },
          "hoverlabel": {
           "align": "left"
          },
          "hovermode": "closest",
          "mapbox": {
           "style": "light"
          },
          "paper_bgcolor": "white",
          "plot_bgcolor": "#E5ECF6",
          "polar": {
           "angularaxis": {
            "gridcolor": "white",
            "linecolor": "white",
            "ticks": ""
           },
           "bgcolor": "#E5ECF6",
           "radialaxis": {
            "gridcolor": "white",
            "linecolor": "white",
            "ticks": ""
           }
          },
          "scene": {
           "xaxis": {
            "backgroundcolor": "#E5ECF6",
            "gridcolor": "white",
            "gridwidth": 2,
            "linecolor": "white",
            "showbackground": true,
            "ticks": "",
            "zerolinecolor": "white"
           },
           "yaxis": {
            "backgroundcolor": "#E5ECF6",
            "gridcolor": "white",
            "gridwidth": 2,
            "linecolor": "white",
            "showbackground": true,
            "ticks": "",
            "zerolinecolor": "white"
           },
           "zaxis": {
            "backgroundcolor": "#E5ECF6",
            "gridcolor": "white",
            "gridwidth": 2,
            "linecolor": "white",
            "showbackground": true,
            "ticks": "",
            "zerolinecolor": "white"
           }
          },
          "shapedefaults": {
           "line": {
            "color": "#2a3f5f"
           }
          },
          "ternary": {
           "aaxis": {
            "gridcolor": "white",
            "linecolor": "white",
            "ticks": ""
           },
           "baxis": {
            "gridcolor": "white",
            "linecolor": "white",
            "ticks": ""
           },
           "bgcolor": "#E5ECF6",
           "caxis": {
            "gridcolor": "white",
            "linecolor": "white",
            "ticks": ""
           }
          },
          "title": {
           "x": 0.05
          },
          "xaxis": {
           "automargin": true,
           "gridcolor": "white",
           "linecolor": "white",
           "ticks": "",
           "title": {
            "standoff": 15
           },
           "zerolinecolor": "white",
           "zerolinewidth": 2
          },
          "yaxis": {
           "automargin": true,
           "gridcolor": "white",
           "linecolor": "white",
           "ticks": "",
           "title": {
            "standoff": 15
           },
           "zerolinecolor": "white",
           "zerolinewidth": 2
          }
         }
        },
        "title": {
         "font": {
          "color": "#4D5663"
         }
        },
        "xaxis": {
         "gridcolor": "#E1E5ED",
         "showgrid": true,
         "tickfont": {
          "color": "#4D5663"
         },
         "title": {
          "font": {
           "color": "#4D5663"
          },
          "text": ""
         },
         "zerolinecolor": "#E1E5ED"
        },
        "xaxis2": {
         "anchor": "y2",
         "gridcolor": "#E1E5ED",
         "showgrid": true,
         "showticklabels": false,
         "tickfont": {
          "color": "#4D5663"
         },
         "title": {
          "font": {
           "color": "#4D5663"
          },
          "text": ""
         },
         "zerolinecolor": "#E1E5ED"
        },
        "yaxis": {
         "domain": [
          0.3,
          1
         ],
         "gridcolor": "#E1E5ED",
         "showgrid": true,
         "tickfont": {
          "color": "#4D5663"
         },
         "title": {
          "font": {
           "color": "#4D5663"
          },
          "text": ""
         },
         "zerolinecolor": "#E1E5ED"
        },
        "yaxis2": {
         "domain": [
          0,
          0.25
         ],
         "gridcolor": "#E1E5ED",
         "showgrid": true,
         "tickfont": {
          "color": "#4D5663"
         },
         "title": {
          "font": {
           "color": "#4D5663"
          },
          "text": "Spread"
         },
         "zerolinecolor": "#E1E5ED"
        }
       }
      },
      "text/html": [
       "<div>                            <div id=\"43961371-a8e2-4bab-8a7a-b6553bc027a5\" class=\"plotly-graph-div\" style=\"height:525px; width:100%;\"></div>            <script type=\"text/javascript\">                require([\"plotly\"], function(Plotly) {                    window.PLOTLYENV=window.PLOTLYENV || {};\n",
       "                    window.PLOTLYENV.BASE_URL='https://plot.ly';                                    if (document.getElementById(\"43961371-a8e2-4bab-8a7a-b6553bc027a5\")) {                    Plotly.newPlot(                        \"43961371-a8e2-4bab-8a7a-b6553bc027a5\",                        [{\"line\":{\"color\":\"rgba(255, 153, 51, 1.0)\",\"dash\":\"solid\",\"shape\":\"linear\",\"width\":1.3},\"mode\":\"lines\",\"name\":\"A\",\"text\":\"\",\"x\":[0,1,2,3,4,5,6,7,8,9,10,11,12,13,14,15,16,17,18,19,20,21,22,23,24,25,26,27,28,29,30,31,32,33,34,35,36,37,38,39,40,41,42,43,44,45,46,47,48,49,50,51,52,53,54,55,56,57,58,59,60,61,62,63,64,65,66,67,68,69,70,71,72,73,74,75,76,77,78,79,80,81,82,83,84,85,86,87,88,89,90,91,92,93,94,95,96,97,98,99],\"y\":[2.378704592613066,0.7949812084298118,0.020347293573050422,0.16868777949177213,-0.8814220662121459,-0.5469894743183308,0.6590071765436658,0.3613179293562961,-1.2147461277054892,-1.0717006945379468,1.4730551122551672,-2.0182139728885113,0.862170819233818,0.45865902626215327,0.8212707351013381,-1.0658356940582248,0.03295835561673598,-0.926351955662341,-1.022016441866523,0.40418350578692364,-0.7181779587551178,-0.6886833824381282,0.6589900815740977,0.3362218418822843,-0.8820682824005845,0.7525581971493505,0.9744354545245969,0.3941171740728787,-0.3148279512998113,0.027511879249834822,1.0690736558569764,1.945965592580823,-0.7404405629930189,-0.9320931040826592,-0.9725128365556344,-0.022925786738108116,0.23524105357779349,-0.7870873351298374,-0.8820383123923283,0.5388653659796684,0.3467960749027645,0.9180377599871524,0.7964447306733002,0.26387076427638695,-1.6624756533038676,-0.6588661312752233,0.5217396969238294,0.8970812642468908,-1.3713926827076768,-0.4548300287598396,-0.045966239535387074,1.9282569880928602,-0.10928180133163234,-1.206470846341257,1.507713498434342,0.05592745845622738,-1.5132312506460328,0.47489113129330857,-1.3952618471111324,0.8038273818921229,1.1856349700169242,0.16273611112484013,-0.12258699650513145,1.465768004736537,1.2102174987321017,-0.7665906106697451,1.481523198660766,0.0427859215020586,0.10498569010405591,-0.3532346970575991,0.7470035130696405,-1.5138294405419948,0.39125537467149357,1.0554685121921457,-1.1603309027478979,1.2680819308540339,-1.6729243287440783,-0.800055858574939,-0.06054705752571512,-0.9499836719749434,-0.814075664122035,-1.026934113840444,0.3404099087659415,-1.0694526605321897,-0.8912421592491239,-1.0298025520047036,-0.8461521807594581,0.38163340848760885,-0.854143270793631,2.7339580890475754,-1.1192422975843501,-1.2409109590645255,-1.6961826901225727,-2.531659068148911,-0.9385020930493669,0.4024336318072811,0.5681600037698108,1.027833998158066,0.29826246449978355,1.3920428913571818],\"type\":\"scatter\"},{\"line\":{\"color\":\"rgba(55, 128, 191, 1.0)\",\"dash\":\"solid\",\"shape\":\"linear\",\"width\":1.3},\"mode\":\"lines\",\"name\":\"B\",\"text\":\"\",\"x\":[0,1,2,3,4,5,6,7,8,9,10,11,12,13,14,15,16,17,18,19,20,21,22,23,24,25,26,27,28,29,30,31,32,33,34,35,36,37,38,39,40,41,42,43,44,45,46,47,48,49,50,51,52,53,54,55,56,57,58,59,60,61,62,63,64,65,66,67,68,69,70,71,72,73,74,75,76,77,78,79,80,81,82,83,84,85,86,87,88,89,90,91,92,93,94,95,96,97,98,99],\"y\":[-1.4109524815414125,1.1282465007801148,0.047738942839579426,1.1925776700433535,-0.6760291052564088,0.1790913936831051,-0.03351469037462734,0.3771657627762725,-0.9767022195579985,0.21141886110062716,0.1584196563489074,-0.26903850577050065,0.1336348126478488,0.5566619988174846,0.1068228699217611,0.14722205713031677,-0.2343686404535711,-0.1262077308186696,0.2028854190184494,-1.184744979491366,0.09891423137821188,-1.290136702571667,0.6610727598457594,0.6702717303544894,0.0912079810352433,-0.9638006134894856,0.16094260320748796,0.2966406238557308,1.2821294846940516,-0.067473604084655,0.6795513181159056,0.5491447905266279,-0.689806015680189,0.6289590663833551,-1.9550310814406153,1.3285163272544,-0.6016863121951649,-2.287052069467176,-0.046040797789362084,0.6332369562901614,-0.7580283974698023,-0.06036705191617741,-0.1456939613387233,-0.5115588069642251,-0.9638838012193599,1.9645250905586364,0.7530690446506421,-0.5454797258160548,1.1264285526198632,0.5309788677230551,0.37017010060986144,-1.1250898914401306,-0.28798151582684817,0.5946295317590171,-0.3347454800425729,0.3149458216962703,0.5583138746908815,-1.3610380889173985,-0.015197888111185916,0.5839205545037052,0.7950892840941408,-0.9638717777634335,-1.1790577083086358,0.7429474030938845,0.3609668315824039,1.0454595794961696,-1.3695181820018538,1.1131185717922327,0.5216827552405487,0.5073722744981483,-0.4022519329950429,-0.3158636790719244,-0.8504176310575834,-0.3903836881740838,1.1044927868985561,-0.5736934071368204,0.7757993030735614,0.17272730723566684,0.7395094056847753,-0.8108546768655773,0.8372945924989318,0.4622740489612075,1.1748008403104275,0.3902602603754761,0.8569649092316891,0.29879524251049244,0.12796874998029747,0.3150133146889394,-0.8190428447575135,0.1948280774662253,0.39465257829795125,0.1448000685913453,-0.38815316801875377,-0.45750751101059955,1.6738795196045138,0.13198167186586035,-0.4374958634037224,-0.3477123127206604,-0.08952001727038991,0.7885530702008177],\"type\":\"scatter\"},{\"connectgaps\":false,\"fill\":\"tozeroy\",\"line\":{\"color\":\"green\",\"dash\":\"solid\",\"shape\":\"linear\",\"width\":0.5},\"mode\":\"lines\",\"name\":\"Spread\",\"showlegend\":false,\"x\":[0,1,2,3,4,5,6,7,8,9,10,11,12,13,14,15,16,17,18,19,20,21,22,23,24,25,26,27,28,29,30,31,32,33,34,35,36,37,38,39,40,41,42,43,44,45,46,47,48,49,50,51,52,53,54,55,56,57,58,59,60,61,62,63,64,65,66,67,68,69,70,71,72,73,74,75,76,77,78,79,80,81,82,83,84,85,86,87,88,89,90,91,92,93,94,95,96,97,98,99],\"xaxis\":\"x2\",\"y\":[3.7896570741544786,\"\",\"\",\"\",\"\",\"\",0.6925218669182931,\"\",\"\",\"\",1.3146354559062599,\"\",0.7285360065859692,\"\",0.7144478651795769,\"\",0.2673269960703071,\"\",\"\",1.5889284852782897,\"\",0.6014533201335388,\"\",\"\",\"\",1.716358810638836,0.8134928513171089,0.0974765502171479,\"\",0.09498548333448982,0.3895223377410708,1.396820802054195,\"\",\"\",0.982518244884981,\"\",0.8369273657729583,1.4999647343373388,\"\",\"\",1.1048244723725669,0.9784048119033298,0.9421386920120236,0.7754295712406121,\"\",\"\",\"\",1.4425609900629457,\"\",\"\",\"\",3.0533468795329908,0.17869971449521582,\"\",1.842458978476915,\"\",\"\",1.8359292202107071,\"\",0.2199068273884177,0.3905456859227834,1.1266078888882736,1.0564707118035044,0.7228206016426524,0.8492506671496978,\"\",2.85104138066262,\"\",\"\",\"\",1.1492554460646836,\"\",1.241673005729077,1.4458522003662295,\"\",1.8417753379908541,\"\",\"\",\"\",\"\",\"\",\"\",\"\",\"\",\"\",\"\",\"\",0.06662009379866946,\"\",2.53913001158135,\"\",\"\",\"\",\"\",\"\",0.27045195994142074,1.0056558671735332,1.3755463108787263,0.3877824817701735,0.6034898211563642],\"yaxis\":\"y2\",\"type\":\"scatter\"},{\"connectgaps\":false,\"fill\":\"tozeroy\",\"line\":{\"color\":\"red\",\"dash\":\"solid\",\"shape\":\"linear\",\"width\":0.5},\"mode\":\"lines\",\"name\":\"Spread\",\"showlegend\":false,\"x\":[0,1,2,3,4,5,6,7,8,9,10,11,12,13,14,15,16,17,18,19,20,21,22,23,24,25,26,27,28,29,30,31,32,33,34,35,36,37,38,39,40,41,42,43,44,45,46,47,48,49,50,51,52,53,54,55,56,57,58,59,60,61,62,63,64,65,66,67,68,69,70,71,72,73,74,75,76,77,78,79,80,81,82,83,84,85,86,87,88,89,90,91,92,93,94,95,96,97,98,99],\"xaxis\":\"x2\",\"y\":[\"\",-0.333265292350303,-0.027391649266529004,-1.0238898905515814,-0.2053929609557371,-0.7260808680014359,\"\",-0.01584783341997642,-0.23804390814749066,-1.283119555638574,\"\",-1.7491754671180106,\"\",-0.0980029725553313,\"\",-1.2130577511885416,\"\",-0.8001442248436714,-1.2249018608849724,\"\",-0.8170921901333297,\"\",-0.002082678271661753,-0.33404988847220507,-0.9732762634358278,\"\",\"\",\"\",-1.596957435993863,\"\",\"\",\"\",-0.0506345473128299,-1.5610521704660143,\"\",-1.3514421139925081,\"\",\"\",-0.8359975146029662,-0.09437159031049303,\"\",\"\",\"\",\"\",-0.6985918520845077,-2.6233912218338595,-0.23132934772681268,\"\",-2.4978212353275397,-0.9858088964828947,-0.41613634014524853,\"\",\"\",-1.8011003781002741,\"\",-0.2590183632400429,-2.071545125336914,\"\",-1.3800639589999466,\"\",\"\",\"\",\"\",\"\",\"\",-1.8120501901659147,\"\",-1.0703326502901742,-0.41669706513649285,-0.8606069715557474,\"\",-1.1979657614700703,\"\",\"\",-2.264823689646454,\"\",-2.4487236318176397,-0.9727831658106059,-0.8000564632104904,-0.13912899510936605,-1.6513702566209667,-1.4892081628016514,-0.834390931544486,-1.4597129209076658,-1.7482070684808129,-1.328597794515196,-0.9741209307397556,\"\",-0.035100426036117405,\"\",-1.5138948758823014,-1.3857110276558708,-1.308029522103819,-2.074151557138311,-2.6123816126538806,\"\",\"\",\"\",\"\",\"\"],\"yaxis\":\"y2\",\"type\":\"scatter\"}],                        {\"hovermode\":\"x\",\"legend\":{\"bgcolor\":\"#F5F6F9\",\"font\":{\"color\":\"#4D5663\"}},\"paper_bgcolor\":\"#F5F6F9\",\"plot_bgcolor\":\"#F5F6F9\",\"template\":{\"data\":{\"barpolar\":[{\"marker\":{\"line\":{\"color\":\"#E5ECF6\",\"width\":0.5},\"pattern\":{\"fillmode\":\"overlay\",\"size\":10,\"solidity\":0.2}},\"type\":\"barpolar\"}],\"bar\":[{\"error_x\":{\"color\":\"#2a3f5f\"},\"error_y\":{\"color\":\"#2a3f5f\"},\"marker\":{\"line\":{\"color\":\"#E5ECF6\",\"width\":0.5},\"pattern\":{\"fillmode\":\"overlay\",\"size\":10,\"solidity\":0.2}},\"type\":\"bar\"}],\"carpet\":[{\"aaxis\":{\"endlinecolor\":\"#2a3f5f\",\"gridcolor\":\"white\",\"linecolor\":\"white\",\"minorgridcolor\":\"white\",\"startlinecolor\":\"#2a3f5f\"},\"baxis\":{\"endlinecolor\":\"#2a3f5f\",\"gridcolor\":\"white\",\"linecolor\":\"white\",\"minorgridcolor\":\"white\",\"startlinecolor\":\"#2a3f5f\"},\"type\":\"carpet\"}],\"choropleth\":[{\"colorbar\":{\"outlinewidth\":0,\"ticks\":\"\"},\"type\":\"choropleth\"}],\"contourcarpet\":[{\"colorbar\":{\"outlinewidth\":0,\"ticks\":\"\"},\"type\":\"contourcarpet\"}],\"contour\":[{\"colorbar\":{\"outlinewidth\":0,\"ticks\":\"\"},\"colorscale\":[[0.0,\"#0d0887\"],[0.1111111111111111,\"#46039f\"],[0.2222222222222222,\"#7201a8\"],[0.3333333333333333,\"#9c179e\"],[0.4444444444444444,\"#bd3786\"],[0.5555555555555556,\"#d8576b\"],[0.6666666666666666,\"#ed7953\"],[0.7777777777777778,\"#fb9f3a\"],[0.8888888888888888,\"#fdca26\"],[1.0,\"#f0f921\"]],\"type\":\"contour\"}],\"heatmapgl\":[{\"colorbar\":{\"outlinewidth\":0,\"ticks\":\"\"},\"colorscale\":[[0.0,\"#0d0887\"],[0.1111111111111111,\"#46039f\"],[0.2222222222222222,\"#7201a8\"],[0.3333333333333333,\"#9c179e\"],[0.4444444444444444,\"#bd3786\"],[0.5555555555555556,\"#d8576b\"],[0.6666666666666666,\"#ed7953\"],[0.7777777777777778,\"#fb9f3a\"],[0.8888888888888888,\"#fdca26\"],[1.0,\"#f0f921\"]],\"type\":\"heatmapgl\"}],\"heatmap\":[{\"colorbar\":{\"outlinewidth\":0,\"ticks\":\"\"},\"colorscale\":[[0.0,\"#0d0887\"],[0.1111111111111111,\"#46039f\"],[0.2222222222222222,\"#7201a8\"],[0.3333333333333333,\"#9c179e\"],[0.4444444444444444,\"#bd3786\"],[0.5555555555555556,\"#d8576b\"],[0.6666666666666666,\"#ed7953\"],[0.7777777777777778,\"#fb9f3a\"],[0.8888888888888888,\"#fdca26\"],[1.0,\"#f0f921\"]],\"type\":\"heatmap\"}],\"histogram2dcontour\":[{\"colorbar\":{\"outlinewidth\":0,\"ticks\":\"\"},\"colorscale\":[[0.0,\"#0d0887\"],[0.1111111111111111,\"#46039f\"],[0.2222222222222222,\"#7201a8\"],[0.3333333333333333,\"#9c179e\"],[0.4444444444444444,\"#bd3786\"],[0.5555555555555556,\"#d8576b\"],[0.6666666666666666,\"#ed7953\"],[0.7777777777777778,\"#fb9f3a\"],[0.8888888888888888,\"#fdca26\"],[1.0,\"#f0f921\"]],\"type\":\"histogram2dcontour\"}],\"histogram2d\":[{\"colorbar\":{\"outlinewidth\":0,\"ticks\":\"\"},\"colorscale\":[[0.0,\"#0d0887\"],[0.1111111111111111,\"#46039f\"],[0.2222222222222222,\"#7201a8\"],[0.3333333333333333,\"#9c179e\"],[0.4444444444444444,\"#bd3786\"],[0.5555555555555556,\"#d8576b\"],[0.6666666666666666,\"#ed7953\"],[0.7777777777777778,\"#fb9f3a\"],[0.8888888888888888,\"#fdca26\"],[1.0,\"#f0f921\"]],\"type\":\"histogram2d\"}],\"histogram\":[{\"marker\":{\"pattern\":{\"fillmode\":\"overlay\",\"size\":10,\"solidity\":0.2}},\"type\":\"histogram\"}],\"mesh3d\":[{\"colorbar\":{\"outlinewidth\":0,\"ticks\":\"\"},\"type\":\"mesh3d\"}],\"parcoords\":[{\"line\":{\"colorbar\":{\"outlinewidth\":0,\"ticks\":\"\"}},\"type\":\"parcoords\"}],\"pie\":[{\"automargin\":true,\"type\":\"pie\"}],\"scatter3d\":[{\"line\":{\"colorbar\":{\"outlinewidth\":0,\"ticks\":\"\"}},\"marker\":{\"colorbar\":{\"outlinewidth\":0,\"ticks\":\"\"}},\"type\":\"scatter3d\"}],\"scattercarpet\":[{\"marker\":{\"colorbar\":{\"outlinewidth\":0,\"ticks\":\"\"}},\"type\":\"scattercarpet\"}],\"scattergeo\":[{\"marker\":{\"colorbar\":{\"outlinewidth\":0,\"ticks\":\"\"}},\"type\":\"scattergeo\"}],\"scattergl\":[{\"marker\":{\"colorbar\":{\"outlinewidth\":0,\"ticks\":\"\"}},\"type\":\"scattergl\"}],\"scattermapbox\":[{\"marker\":{\"colorbar\":{\"outlinewidth\":0,\"ticks\":\"\"}},\"type\":\"scattermapbox\"}],\"scatterpolargl\":[{\"marker\":{\"colorbar\":{\"outlinewidth\":0,\"ticks\":\"\"}},\"type\":\"scatterpolargl\"}],\"scatterpolar\":[{\"marker\":{\"colorbar\":{\"outlinewidth\":0,\"ticks\":\"\"}},\"type\":\"scatterpolar\"}],\"scatter\":[{\"fillpattern\":{\"fillmode\":\"overlay\",\"size\":10,\"solidity\":0.2},\"type\":\"scatter\"}],\"scatterternary\":[{\"marker\":{\"colorbar\":{\"outlinewidth\":0,\"ticks\":\"\"}},\"type\":\"scatterternary\"}],\"surface\":[{\"colorbar\":{\"outlinewidth\":0,\"ticks\":\"\"},\"colorscale\":[[0.0,\"#0d0887\"],[0.1111111111111111,\"#46039f\"],[0.2222222222222222,\"#7201a8\"],[0.3333333333333333,\"#9c179e\"],[0.4444444444444444,\"#bd3786\"],[0.5555555555555556,\"#d8576b\"],[0.6666666666666666,\"#ed7953\"],[0.7777777777777778,\"#fb9f3a\"],[0.8888888888888888,\"#fdca26\"],[1.0,\"#f0f921\"]],\"type\":\"surface\"}],\"table\":[{\"cells\":{\"fill\":{\"color\":\"#EBF0F8\"},\"line\":{\"color\":\"white\"}},\"header\":{\"fill\":{\"color\":\"#C8D4E3\"},\"line\":{\"color\":\"white\"}},\"type\":\"table\"}]},\"layout\":{\"annotationdefaults\":{\"arrowcolor\":\"#2a3f5f\",\"arrowhead\":0,\"arrowwidth\":1},\"autotypenumbers\":\"strict\",\"coloraxis\":{\"colorbar\":{\"outlinewidth\":0,\"ticks\":\"\"}},\"colorscale\":{\"diverging\":[[0,\"#8e0152\"],[0.1,\"#c51b7d\"],[0.2,\"#de77ae\"],[0.3,\"#f1b6da\"],[0.4,\"#fde0ef\"],[0.5,\"#f7f7f7\"],[0.6,\"#e6f5d0\"],[0.7,\"#b8e186\"],[0.8,\"#7fbc41\"],[0.9,\"#4d9221\"],[1,\"#276419\"]],\"sequential\":[[0.0,\"#0d0887\"],[0.1111111111111111,\"#46039f\"],[0.2222222222222222,\"#7201a8\"],[0.3333333333333333,\"#9c179e\"],[0.4444444444444444,\"#bd3786\"],[0.5555555555555556,\"#d8576b\"],[0.6666666666666666,\"#ed7953\"],[0.7777777777777778,\"#fb9f3a\"],[0.8888888888888888,\"#fdca26\"],[1.0,\"#f0f921\"]],\"sequentialminus\":[[0.0,\"#0d0887\"],[0.1111111111111111,\"#46039f\"],[0.2222222222222222,\"#7201a8\"],[0.3333333333333333,\"#9c179e\"],[0.4444444444444444,\"#bd3786\"],[0.5555555555555556,\"#d8576b\"],[0.6666666666666666,\"#ed7953\"],[0.7777777777777778,\"#fb9f3a\"],[0.8888888888888888,\"#fdca26\"],[1.0,\"#f0f921\"]]},\"colorway\":[\"#636efa\",\"#EF553B\",\"#00cc96\",\"#ab63fa\",\"#FFA15A\",\"#19d3f3\",\"#FF6692\",\"#B6E880\",\"#FF97FF\",\"#FECB52\"],\"font\":{\"color\":\"#2a3f5f\"},\"geo\":{\"bgcolor\":\"white\",\"lakecolor\":\"white\",\"landcolor\":\"#E5ECF6\",\"showlakes\":true,\"showland\":true,\"subunitcolor\":\"white\"},\"hoverlabel\":{\"align\":\"left\"},\"hovermode\":\"closest\",\"mapbox\":{\"style\":\"light\"},\"paper_bgcolor\":\"white\",\"plot_bgcolor\":\"#E5ECF6\",\"polar\":{\"angularaxis\":{\"gridcolor\":\"white\",\"linecolor\":\"white\",\"ticks\":\"\"},\"bgcolor\":\"#E5ECF6\",\"radialaxis\":{\"gridcolor\":\"white\",\"linecolor\":\"white\",\"ticks\":\"\"}},\"scene\":{\"xaxis\":{\"backgroundcolor\":\"#E5ECF6\",\"gridcolor\":\"white\",\"gridwidth\":2,\"linecolor\":\"white\",\"showbackground\":true,\"ticks\":\"\",\"zerolinecolor\":\"white\"},\"yaxis\":{\"backgroundcolor\":\"#E5ECF6\",\"gridcolor\":\"white\",\"gridwidth\":2,\"linecolor\":\"white\",\"showbackground\":true,\"ticks\":\"\",\"zerolinecolor\":\"white\"},\"zaxis\":{\"backgroundcolor\":\"#E5ECF6\",\"gridcolor\":\"white\",\"gridwidth\":2,\"linecolor\":\"white\",\"showbackground\":true,\"ticks\":\"\",\"zerolinecolor\":\"white\"}},\"shapedefaults\":{\"line\":{\"color\":\"#2a3f5f\"}},\"ternary\":{\"aaxis\":{\"gridcolor\":\"white\",\"linecolor\":\"white\",\"ticks\":\"\"},\"baxis\":{\"gridcolor\":\"white\",\"linecolor\":\"white\",\"ticks\":\"\"},\"bgcolor\":\"#E5ECF6\",\"caxis\":{\"gridcolor\":\"white\",\"linecolor\":\"white\",\"ticks\":\"\"}},\"title\":{\"x\":0.05},\"xaxis\":{\"automargin\":true,\"gridcolor\":\"white\",\"linecolor\":\"white\",\"ticks\":\"\",\"title\":{\"standoff\":15},\"zerolinecolor\":\"white\",\"zerolinewidth\":2},\"yaxis\":{\"automargin\":true,\"gridcolor\":\"white\",\"linecolor\":\"white\",\"ticks\":\"\",\"title\":{\"standoff\":15},\"zerolinecolor\":\"white\",\"zerolinewidth\":2}}},\"title\":{\"font\":{\"color\":\"#4D5663\"}},\"xaxis\":{\"gridcolor\":\"#E1E5ED\",\"showgrid\":true,\"tickfont\":{\"color\":\"#4D5663\"},\"title\":{\"font\":{\"color\":\"#4D5663\"},\"text\":\"\"},\"zerolinecolor\":\"#E1E5ED\"},\"yaxis\":{\"domain\":[0.3,1],\"gridcolor\":\"#E1E5ED\",\"showgrid\":true,\"tickfont\":{\"color\":\"#4D5663\"},\"title\":{\"font\":{\"color\":\"#4D5663\"},\"text\":\"\"},\"zerolinecolor\":\"#E1E5ED\"},\"yaxis2\":{\"domain\":[0,0.25],\"gridcolor\":\"#E1E5ED\",\"showgrid\":true,\"tickfont\":{\"color\":\"#4D5663\"},\"title\":{\"font\":{\"color\":\"#4D5663\"},\"text\":\"Spread\"},\"zerolinecolor\":\"#E1E5ED\"},\"xaxis2\":{\"anchor\":\"y2\",\"gridcolor\":\"#E1E5ED\",\"showgrid\":true,\"showticklabels\":false,\"tickfont\":{\"color\":\"#4D5663\"},\"title\":{\"font\":{\"color\":\"#4D5663\"},\"text\":\"\"},\"zerolinecolor\":\"#E1E5ED\"}},                        {\"showLink\": true, \"linkText\": \"Export to plot.ly\", \"plotlyServerURL\": \"https://plot.ly\", \"responsive\": true}                    ).then(function(){\n",
       "                            \n",
       "var gd = document.getElementById('43961371-a8e2-4bab-8a7a-b6553bc027a5');\n",
       "var x = new MutationObserver(function (mutations, observer) {{\n",
       "        var display = window.getComputedStyle(gd).display;\n",
       "        if (!display || display === 'none') {{\n",
       "            console.log([gd, 'removed!']);\n",
       "            Plotly.purge(gd);\n",
       "            observer.disconnect();\n",
       "        }}\n",
       "}});\n",
       "\n",
       "// Listen for the removal of the full notebook cells\n",
       "var notebookContainer = gd.closest('#notebook-container');\n",
       "if (notebookContainer) {{\n",
       "    x.observe(notebookContainer, {childList: true});\n",
       "}}\n",
       "\n",
       "// Listen for the clearing of the current output cell\n",
       "var outputEl = gd.closest('.output');\n",
       "if (outputEl) {{\n",
       "    x.observe(outputEl, {childList: true});\n",
       "}}\n",
       "\n",
       "                        })                };                });            </script>        </div>"
      ]
     },
     "metadata": {},
     "output_type": "display_data"
    }
   ],
   "source": [
    "import numpy as np\n",
    "\n",
    "df[['A', 'B']].iplot(kind='spread')"
   ]
  },
  {
   "cell_type": "markdown",
   "metadata": {},
   "source": [
    "## Histogram"
   ]
  },
  {
   "cell_type": "code",
   "execution_count": 17,
   "metadata": {},
   "outputs": [
    {
     "data": {
      "application/vnd.plotly.v1+json": {
       "config": {
        "linkText": "Export to plot.ly",
        "plotlyServerURL": "https://plot.ly",
        "showLink": true
       },
       "data": [
        {
         "histfunc": "count",
         "histnorm": "",
         "marker": {
          "color": "rgba(255, 153, 51, 1.0)",
          "line": {
           "color": "#4D5663",
           "width": 1.3
          }
         },
         "name": "A",
         "nbinsx": 25,
         "opacity": 0.8,
         "orientation": "v",
         "type": "histogram",
         "x": [
          2.378704592613066,
          0.7949812084298118,
          0.020347293573050422,
          0.16868777949177213,
          -0.8814220662121459,
          -0.5469894743183308,
          0.6590071765436658,
          0.3613179293562961,
          -1.2147461277054892,
          -1.0717006945379468,
          1.4730551122551672,
          -2.0182139728885113,
          0.862170819233818,
          0.45865902626215327,
          0.8212707351013381,
          -1.0658356940582248,
          0.03295835561673598,
          -0.926351955662341,
          -1.022016441866523,
          0.40418350578692364,
          -0.7181779587551178,
          -0.6886833824381282,
          0.6589900815740977,
          0.3362218418822843,
          -0.8820682824005845,
          0.7525581971493505,
          0.9744354545245969,
          0.3941171740728787,
          -0.3148279512998113,
          0.027511879249834822,
          1.0690736558569764,
          1.945965592580823,
          -0.7404405629930189,
          -0.9320931040826592,
          -0.9725128365556344,
          -0.022925786738108116,
          0.23524105357779349,
          -0.7870873351298374,
          -0.8820383123923283,
          0.5388653659796684,
          0.3467960749027645,
          0.9180377599871524,
          0.7964447306733002,
          0.26387076427638695,
          -1.6624756533038676,
          -0.6588661312752233,
          0.5217396969238294,
          0.8970812642468908,
          -1.3713926827076768,
          -0.4548300287598396,
          -0.045966239535387074,
          1.9282569880928602,
          -0.10928180133163234,
          -1.206470846341257,
          1.507713498434342,
          0.05592745845622738,
          -1.5132312506460328,
          0.47489113129330857,
          -1.3952618471111324,
          0.8038273818921229,
          1.1856349700169242,
          0.16273611112484013,
          -0.12258699650513145,
          1.465768004736537,
          1.2102174987321017,
          -0.7665906106697451,
          1.481523198660766,
          0.0427859215020586,
          0.10498569010405591,
          -0.3532346970575991,
          0.7470035130696405,
          -1.5138294405419948,
          0.39125537467149357,
          1.0554685121921457,
          -1.1603309027478979,
          1.2680819308540339,
          -1.6729243287440783,
          -0.800055858574939,
          -0.06054705752571512,
          -0.9499836719749434,
          -0.814075664122035,
          -1.026934113840444,
          0.3404099087659415,
          -1.0694526605321897,
          -0.8912421592491239,
          -1.0298025520047036,
          -0.8461521807594581,
          0.38163340848760885,
          -0.854143270793631,
          2.7339580890475754,
          -1.1192422975843501,
          -1.2409109590645255,
          -1.6961826901225727,
          -2.531659068148911,
          -0.9385020930493669,
          0.4024336318072811,
          0.5681600037698108,
          1.027833998158066,
          0.29826246449978355,
          1.3920428913571818
         ]
        }
       ],
       "layout": {
        "barmode": "overlay",
        "legend": {
         "bgcolor": "#F5F6F9",
         "font": {
          "color": "#4D5663"
         }
        },
        "paper_bgcolor": "#F5F6F9",
        "plot_bgcolor": "#F5F6F9",
        "template": {
         "data": {
          "bar": [
           {
            "error_x": {
             "color": "#2a3f5f"
            },
            "error_y": {
             "color": "#2a3f5f"
            },
            "marker": {
             "line": {
              "color": "#E5ECF6",
              "width": 0.5
             },
             "pattern": {
              "fillmode": "overlay",
              "size": 10,
              "solidity": 0.2
             }
            },
            "type": "bar"
           }
          ],
          "barpolar": [
           {
            "marker": {
             "line": {
              "color": "#E5ECF6",
              "width": 0.5
             },
             "pattern": {
              "fillmode": "overlay",
              "size": 10,
              "solidity": 0.2
             }
            },
            "type": "barpolar"
           }
          ],
          "carpet": [
           {
            "aaxis": {
             "endlinecolor": "#2a3f5f",
             "gridcolor": "white",
             "linecolor": "white",
             "minorgridcolor": "white",
             "startlinecolor": "#2a3f5f"
            },
            "baxis": {
             "endlinecolor": "#2a3f5f",
             "gridcolor": "white",
             "linecolor": "white",
             "minorgridcolor": "white",
             "startlinecolor": "#2a3f5f"
            },
            "type": "carpet"
           }
          ],
          "choropleth": [
           {
            "colorbar": {
             "outlinewidth": 0,
             "ticks": ""
            },
            "type": "choropleth"
           }
          ],
          "contour": [
           {
            "colorbar": {
             "outlinewidth": 0,
             "ticks": ""
            },
            "colorscale": [
             [
              0,
              "#0d0887"
             ],
             [
              0.1111111111111111,
              "#46039f"
             ],
             [
              0.2222222222222222,
              "#7201a8"
             ],
             [
              0.3333333333333333,
              "#9c179e"
             ],
             [
              0.4444444444444444,
              "#bd3786"
             ],
             [
              0.5555555555555556,
              "#d8576b"
             ],
             [
              0.6666666666666666,
              "#ed7953"
             ],
             [
              0.7777777777777778,
              "#fb9f3a"
             ],
             [
              0.8888888888888888,
              "#fdca26"
             ],
             [
              1,
              "#f0f921"
             ]
            ],
            "type": "contour"
           }
          ],
          "contourcarpet": [
           {
            "colorbar": {
             "outlinewidth": 0,
             "ticks": ""
            },
            "type": "contourcarpet"
           }
          ],
          "heatmap": [
           {
            "colorbar": {
             "outlinewidth": 0,
             "ticks": ""
            },
            "colorscale": [
             [
              0,
              "#0d0887"
             ],
             [
              0.1111111111111111,
              "#46039f"
             ],
             [
              0.2222222222222222,
              "#7201a8"
             ],
             [
              0.3333333333333333,
              "#9c179e"
             ],
             [
              0.4444444444444444,
              "#bd3786"
             ],
             [
              0.5555555555555556,
              "#d8576b"
             ],
             [
              0.6666666666666666,
              "#ed7953"
             ],
             [
              0.7777777777777778,
              "#fb9f3a"
             ],
             [
              0.8888888888888888,
              "#fdca26"
             ],
             [
              1,
              "#f0f921"
             ]
            ],
            "type": "heatmap"
           }
          ],
          "heatmapgl": [
           {
            "colorbar": {
             "outlinewidth": 0,
             "ticks": ""
            },
            "colorscale": [
             [
              0,
              "#0d0887"
             ],
             [
              0.1111111111111111,
              "#46039f"
             ],
             [
              0.2222222222222222,
              "#7201a8"
             ],
             [
              0.3333333333333333,
              "#9c179e"
             ],
             [
              0.4444444444444444,
              "#bd3786"
             ],
             [
              0.5555555555555556,
              "#d8576b"
             ],
             [
              0.6666666666666666,
              "#ed7953"
             ],
             [
              0.7777777777777778,
              "#fb9f3a"
             ],
             [
              0.8888888888888888,
              "#fdca26"
             ],
             [
              1,
              "#f0f921"
             ]
            ],
            "type": "heatmapgl"
           }
          ],
          "histogram": [
           {
            "marker": {
             "pattern": {
              "fillmode": "overlay",
              "size": 10,
              "solidity": 0.2
             }
            },
            "type": "histogram"
           }
          ],
          "histogram2d": [
           {
            "colorbar": {
             "outlinewidth": 0,
             "ticks": ""
            },
            "colorscale": [
             [
              0,
              "#0d0887"
             ],
             [
              0.1111111111111111,
              "#46039f"
             ],
             [
              0.2222222222222222,
              "#7201a8"
             ],
             [
              0.3333333333333333,
              "#9c179e"
             ],
             [
              0.4444444444444444,
              "#bd3786"
             ],
             [
              0.5555555555555556,
              "#d8576b"
             ],
             [
              0.6666666666666666,
              "#ed7953"
             ],
             [
              0.7777777777777778,
              "#fb9f3a"
             ],
             [
              0.8888888888888888,
              "#fdca26"
             ],
             [
              1,
              "#f0f921"
             ]
            ],
            "type": "histogram2d"
           }
          ],
          "histogram2dcontour": [
           {
            "colorbar": {
             "outlinewidth": 0,
             "ticks": ""
            },
            "colorscale": [
             [
              0,
              "#0d0887"
             ],
             [
              0.1111111111111111,
              "#46039f"
             ],
             [
              0.2222222222222222,
              "#7201a8"
             ],
             [
              0.3333333333333333,
              "#9c179e"
             ],
             [
              0.4444444444444444,
              "#bd3786"
             ],
             [
              0.5555555555555556,
              "#d8576b"
             ],
             [
              0.6666666666666666,
              "#ed7953"
             ],
             [
              0.7777777777777778,
              "#fb9f3a"
             ],
             [
              0.8888888888888888,
              "#fdca26"
             ],
             [
              1,
              "#f0f921"
             ]
            ],
            "type": "histogram2dcontour"
           }
          ],
          "mesh3d": [
           {
            "colorbar": {
             "outlinewidth": 0,
             "ticks": ""
            },
            "type": "mesh3d"
           }
          ],
          "parcoords": [
           {
            "line": {
             "colorbar": {
              "outlinewidth": 0,
              "ticks": ""
             }
            },
            "type": "parcoords"
           }
          ],
          "pie": [
           {
            "automargin": true,
            "type": "pie"
           }
          ],
          "scatter": [
           {
            "fillpattern": {
             "fillmode": "overlay",
             "size": 10,
             "solidity": 0.2
            },
            "type": "scatter"
           }
          ],
          "scatter3d": [
           {
            "line": {
             "colorbar": {
              "outlinewidth": 0,
              "ticks": ""
             }
            },
            "marker": {
             "colorbar": {
              "outlinewidth": 0,
              "ticks": ""
             }
            },
            "type": "scatter3d"
           }
          ],
          "scattercarpet": [
           {
            "marker": {
             "colorbar": {
              "outlinewidth": 0,
              "ticks": ""
             }
            },
            "type": "scattercarpet"
           }
          ],
          "scattergeo": [
           {
            "marker": {
             "colorbar": {
              "outlinewidth": 0,
              "ticks": ""
             }
            },
            "type": "scattergeo"
           }
          ],
          "scattergl": [
           {
            "marker": {
             "colorbar": {
              "outlinewidth": 0,
              "ticks": ""
             }
            },
            "type": "scattergl"
           }
          ],
          "scattermapbox": [
           {
            "marker": {
             "colorbar": {
              "outlinewidth": 0,
              "ticks": ""
             }
            },
            "type": "scattermapbox"
           }
          ],
          "scatterpolar": [
           {
            "marker": {
             "colorbar": {
              "outlinewidth": 0,
              "ticks": ""
             }
            },
            "type": "scatterpolar"
           }
          ],
          "scatterpolargl": [
           {
            "marker": {
             "colorbar": {
              "outlinewidth": 0,
              "ticks": ""
             }
            },
            "type": "scatterpolargl"
           }
          ],
          "scatterternary": [
           {
            "marker": {
             "colorbar": {
              "outlinewidth": 0,
              "ticks": ""
             }
            },
            "type": "scatterternary"
           }
          ],
          "surface": [
           {
            "colorbar": {
             "outlinewidth": 0,
             "ticks": ""
            },
            "colorscale": [
             [
              0,
              "#0d0887"
             ],
             [
              0.1111111111111111,
              "#46039f"
             ],
             [
              0.2222222222222222,
              "#7201a8"
             ],
             [
              0.3333333333333333,
              "#9c179e"
             ],
             [
              0.4444444444444444,
              "#bd3786"
             ],
             [
              0.5555555555555556,
              "#d8576b"
             ],
             [
              0.6666666666666666,
              "#ed7953"
             ],
             [
              0.7777777777777778,
              "#fb9f3a"
             ],
             [
              0.8888888888888888,
              "#fdca26"
             ],
             [
              1,
              "#f0f921"
             ]
            ],
            "type": "surface"
           }
          ],
          "table": [
           {
            "cells": {
             "fill": {
              "color": "#EBF0F8"
             },
             "line": {
              "color": "white"
             }
            },
            "header": {
             "fill": {
              "color": "#C8D4E3"
             },
             "line": {
              "color": "white"
             }
            },
            "type": "table"
           }
          ]
         },
         "layout": {
          "annotationdefaults": {
           "arrowcolor": "#2a3f5f",
           "arrowhead": 0,
           "arrowwidth": 1
          },
          "autotypenumbers": "strict",
          "coloraxis": {
           "colorbar": {
            "outlinewidth": 0,
            "ticks": ""
           }
          },
          "colorscale": {
           "diverging": [
            [
             0,
             "#8e0152"
            ],
            [
             0.1,
             "#c51b7d"
            ],
            [
             0.2,
             "#de77ae"
            ],
            [
             0.3,
             "#f1b6da"
            ],
            [
             0.4,
             "#fde0ef"
            ],
            [
             0.5,
             "#f7f7f7"
            ],
            [
             0.6,
             "#e6f5d0"
            ],
            [
             0.7,
             "#b8e186"
            ],
            [
             0.8,
             "#7fbc41"
            ],
            [
             0.9,
             "#4d9221"
            ],
            [
             1,
             "#276419"
            ]
           ],
           "sequential": [
            [
             0,
             "#0d0887"
            ],
            [
             0.1111111111111111,
             "#46039f"
            ],
            [
             0.2222222222222222,
             "#7201a8"
            ],
            [
             0.3333333333333333,
             "#9c179e"
            ],
            [
             0.4444444444444444,
             "#bd3786"
            ],
            [
             0.5555555555555556,
             "#d8576b"
            ],
            [
             0.6666666666666666,
             "#ed7953"
            ],
            [
             0.7777777777777778,
             "#fb9f3a"
            ],
            [
             0.8888888888888888,
             "#fdca26"
            ],
            [
             1,
             "#f0f921"
            ]
           ],
           "sequentialminus": [
            [
             0,
             "#0d0887"
            ],
            [
             0.1111111111111111,
             "#46039f"
            ],
            [
             0.2222222222222222,
             "#7201a8"
            ],
            [
             0.3333333333333333,
             "#9c179e"
            ],
            [
             0.4444444444444444,
             "#bd3786"
            ],
            [
             0.5555555555555556,
             "#d8576b"
            ],
            [
             0.6666666666666666,
             "#ed7953"
            ],
            [
             0.7777777777777778,
             "#fb9f3a"
            ],
            [
             0.8888888888888888,
             "#fdca26"
            ],
            [
             1,
             "#f0f921"
            ]
           ]
          },
          "colorway": [
           "#636efa",
           "#EF553B",
           "#00cc96",
           "#ab63fa",
           "#FFA15A",
           "#19d3f3",
           "#FF6692",
           "#B6E880",
           "#FF97FF",
           "#FECB52"
          ],
          "font": {
           "color": "#2a3f5f"
          },
          "geo": {
           "bgcolor": "white",
           "lakecolor": "white",
           "landcolor": "#E5ECF6",
           "showlakes": true,
           "showland": true,
           "subunitcolor": "white"
          },
          "hoverlabel": {
           "align": "left"
          },
          "hovermode": "closest",
          "mapbox": {
           "style": "light"
          },
          "paper_bgcolor": "white",
          "plot_bgcolor": "#E5ECF6",
          "polar": {
           "angularaxis": {
            "gridcolor": "white",
            "linecolor": "white",
            "ticks": ""
           },
           "bgcolor": "#E5ECF6",
           "radialaxis": {
            "gridcolor": "white",
            "linecolor": "white",
            "ticks": ""
           }
          },
          "scene": {
           "xaxis": {
            "backgroundcolor": "#E5ECF6",
            "gridcolor": "white",
            "gridwidth": 2,
            "linecolor": "white",
            "showbackground": true,
            "ticks": "",
            "zerolinecolor": "white"
           },
           "yaxis": {
            "backgroundcolor": "#E5ECF6",
            "gridcolor": "white",
            "gridwidth": 2,
            "linecolor": "white",
            "showbackground": true,
            "ticks": "",
            "zerolinecolor": "white"
           },
           "zaxis": {
            "backgroundcolor": "#E5ECF6",
            "gridcolor": "white",
            "gridwidth": 2,
            "linecolor": "white",
            "showbackground": true,
            "ticks": "",
            "zerolinecolor": "white"
           }
          },
          "shapedefaults": {
           "line": {
            "color": "#2a3f5f"
           }
          },
          "ternary": {
           "aaxis": {
            "gridcolor": "white",
            "linecolor": "white",
            "ticks": ""
           },
           "baxis": {
            "gridcolor": "white",
            "linecolor": "white",
            "ticks": ""
           },
           "bgcolor": "#E5ECF6",
           "caxis": {
            "gridcolor": "white",
            "linecolor": "white",
            "ticks": ""
           }
          },
          "title": {
           "x": 0.05
          },
          "xaxis": {
           "automargin": true,
           "gridcolor": "white",
           "linecolor": "white",
           "ticks": "",
           "title": {
            "standoff": 15
           },
           "zerolinecolor": "white",
           "zerolinewidth": 2
          },
          "yaxis": {
           "automargin": true,
           "gridcolor": "white",
           "linecolor": "white",
           "ticks": "",
           "title": {
            "standoff": 15
           },
           "zerolinecolor": "white",
           "zerolinewidth": 2
          }
         }
        },
        "title": {
         "font": {
          "color": "#4D5663"
         }
        },
        "xaxis": {
         "gridcolor": "#E1E5ED",
         "showgrid": true,
         "tickfont": {
          "color": "#4D5663"
         },
         "title": {
          "font": {
           "color": "#4D5663"
          },
          "text": ""
         },
         "zerolinecolor": "#E1E5ED"
        },
        "yaxis": {
         "gridcolor": "#E1E5ED",
         "showgrid": true,
         "tickfont": {
          "color": "#4D5663"
         },
         "title": {
          "font": {
           "color": "#4D5663"
          },
          "text": ""
         },
         "zerolinecolor": "#E1E5ED"
        }
       }
      },
      "text/html": [
       "<div>                            <div id=\"7de84d14-a75f-4f37-b3dc-0e0eab531f86\" class=\"plotly-graph-div\" style=\"height:525px; width:100%;\"></div>            <script type=\"text/javascript\">                require([\"plotly\"], function(Plotly) {                    window.PLOTLYENV=window.PLOTLYENV || {};\n",
       "                    window.PLOTLYENV.BASE_URL='https://plot.ly';                                    if (document.getElementById(\"7de84d14-a75f-4f37-b3dc-0e0eab531f86\")) {                    Plotly.newPlot(                        \"7de84d14-a75f-4f37-b3dc-0e0eab531f86\",                        [{\"histfunc\":\"count\",\"histnorm\":\"\",\"marker\":{\"color\":\"rgba(255, 153, 51, 1.0)\",\"line\":{\"color\":\"#4D5663\",\"width\":1.3}},\"name\":\"A\",\"nbinsx\":25,\"opacity\":0.8,\"orientation\":\"v\",\"x\":[2.378704592613066,0.7949812084298118,0.020347293573050422,0.16868777949177213,-0.8814220662121459,-0.5469894743183308,0.6590071765436658,0.3613179293562961,-1.2147461277054892,-1.0717006945379468,1.4730551122551672,-2.0182139728885113,0.862170819233818,0.45865902626215327,0.8212707351013381,-1.0658356940582248,0.03295835561673598,-0.926351955662341,-1.022016441866523,0.40418350578692364,-0.7181779587551178,-0.6886833824381282,0.6589900815740977,0.3362218418822843,-0.8820682824005845,0.7525581971493505,0.9744354545245969,0.3941171740728787,-0.3148279512998113,0.027511879249834822,1.0690736558569764,1.945965592580823,-0.7404405629930189,-0.9320931040826592,-0.9725128365556344,-0.022925786738108116,0.23524105357779349,-0.7870873351298374,-0.8820383123923283,0.5388653659796684,0.3467960749027645,0.9180377599871524,0.7964447306733002,0.26387076427638695,-1.6624756533038676,-0.6588661312752233,0.5217396969238294,0.8970812642468908,-1.3713926827076768,-0.4548300287598396,-0.045966239535387074,1.9282569880928602,-0.10928180133163234,-1.206470846341257,1.507713498434342,0.05592745845622738,-1.5132312506460328,0.47489113129330857,-1.3952618471111324,0.8038273818921229,1.1856349700169242,0.16273611112484013,-0.12258699650513145,1.465768004736537,1.2102174987321017,-0.7665906106697451,1.481523198660766,0.0427859215020586,0.10498569010405591,-0.3532346970575991,0.7470035130696405,-1.5138294405419948,0.39125537467149357,1.0554685121921457,-1.1603309027478979,1.2680819308540339,-1.6729243287440783,-0.800055858574939,-0.06054705752571512,-0.9499836719749434,-0.814075664122035,-1.026934113840444,0.3404099087659415,-1.0694526605321897,-0.8912421592491239,-1.0298025520047036,-0.8461521807594581,0.38163340848760885,-0.854143270793631,2.7339580890475754,-1.1192422975843501,-1.2409109590645255,-1.6961826901225727,-2.531659068148911,-0.9385020930493669,0.4024336318072811,0.5681600037698108,1.027833998158066,0.29826246449978355,1.3920428913571818],\"type\":\"histogram\"}],                        {\"barmode\":\"overlay\",\"legend\":{\"bgcolor\":\"#F5F6F9\",\"font\":{\"color\":\"#4D5663\"}},\"paper_bgcolor\":\"#F5F6F9\",\"plot_bgcolor\":\"#F5F6F9\",\"template\":{\"data\":{\"barpolar\":[{\"marker\":{\"line\":{\"color\":\"#E5ECF6\",\"width\":0.5},\"pattern\":{\"fillmode\":\"overlay\",\"size\":10,\"solidity\":0.2}},\"type\":\"barpolar\"}],\"bar\":[{\"error_x\":{\"color\":\"#2a3f5f\"},\"error_y\":{\"color\":\"#2a3f5f\"},\"marker\":{\"line\":{\"color\":\"#E5ECF6\",\"width\":0.5},\"pattern\":{\"fillmode\":\"overlay\",\"size\":10,\"solidity\":0.2}},\"type\":\"bar\"}],\"carpet\":[{\"aaxis\":{\"endlinecolor\":\"#2a3f5f\",\"gridcolor\":\"white\",\"linecolor\":\"white\",\"minorgridcolor\":\"white\",\"startlinecolor\":\"#2a3f5f\"},\"baxis\":{\"endlinecolor\":\"#2a3f5f\",\"gridcolor\":\"white\",\"linecolor\":\"white\",\"minorgridcolor\":\"white\",\"startlinecolor\":\"#2a3f5f\"},\"type\":\"carpet\"}],\"choropleth\":[{\"colorbar\":{\"outlinewidth\":0,\"ticks\":\"\"},\"type\":\"choropleth\"}],\"contourcarpet\":[{\"colorbar\":{\"outlinewidth\":0,\"ticks\":\"\"},\"type\":\"contourcarpet\"}],\"contour\":[{\"colorbar\":{\"outlinewidth\":0,\"ticks\":\"\"},\"colorscale\":[[0.0,\"#0d0887\"],[0.1111111111111111,\"#46039f\"],[0.2222222222222222,\"#7201a8\"],[0.3333333333333333,\"#9c179e\"],[0.4444444444444444,\"#bd3786\"],[0.5555555555555556,\"#d8576b\"],[0.6666666666666666,\"#ed7953\"],[0.7777777777777778,\"#fb9f3a\"],[0.8888888888888888,\"#fdca26\"],[1.0,\"#f0f921\"]],\"type\":\"contour\"}],\"heatmapgl\":[{\"colorbar\":{\"outlinewidth\":0,\"ticks\":\"\"},\"colorscale\":[[0.0,\"#0d0887\"],[0.1111111111111111,\"#46039f\"],[0.2222222222222222,\"#7201a8\"],[0.3333333333333333,\"#9c179e\"],[0.4444444444444444,\"#bd3786\"],[0.5555555555555556,\"#d8576b\"],[0.6666666666666666,\"#ed7953\"],[0.7777777777777778,\"#fb9f3a\"],[0.8888888888888888,\"#fdca26\"],[1.0,\"#f0f921\"]],\"type\":\"heatmapgl\"}],\"heatmap\":[{\"colorbar\":{\"outlinewidth\":0,\"ticks\":\"\"},\"colorscale\":[[0.0,\"#0d0887\"],[0.1111111111111111,\"#46039f\"],[0.2222222222222222,\"#7201a8\"],[0.3333333333333333,\"#9c179e\"],[0.4444444444444444,\"#bd3786\"],[0.5555555555555556,\"#d8576b\"],[0.6666666666666666,\"#ed7953\"],[0.7777777777777778,\"#fb9f3a\"],[0.8888888888888888,\"#fdca26\"],[1.0,\"#f0f921\"]],\"type\":\"heatmap\"}],\"histogram2dcontour\":[{\"colorbar\":{\"outlinewidth\":0,\"ticks\":\"\"},\"colorscale\":[[0.0,\"#0d0887\"],[0.1111111111111111,\"#46039f\"],[0.2222222222222222,\"#7201a8\"],[0.3333333333333333,\"#9c179e\"],[0.4444444444444444,\"#bd3786\"],[0.5555555555555556,\"#d8576b\"],[0.6666666666666666,\"#ed7953\"],[0.7777777777777778,\"#fb9f3a\"],[0.8888888888888888,\"#fdca26\"],[1.0,\"#f0f921\"]],\"type\":\"histogram2dcontour\"}],\"histogram2d\":[{\"colorbar\":{\"outlinewidth\":0,\"ticks\":\"\"},\"colorscale\":[[0.0,\"#0d0887\"],[0.1111111111111111,\"#46039f\"],[0.2222222222222222,\"#7201a8\"],[0.3333333333333333,\"#9c179e\"],[0.4444444444444444,\"#bd3786\"],[0.5555555555555556,\"#d8576b\"],[0.6666666666666666,\"#ed7953\"],[0.7777777777777778,\"#fb9f3a\"],[0.8888888888888888,\"#fdca26\"],[1.0,\"#f0f921\"]],\"type\":\"histogram2d\"}],\"histogram\":[{\"marker\":{\"pattern\":{\"fillmode\":\"overlay\",\"size\":10,\"solidity\":0.2}},\"type\":\"histogram\"}],\"mesh3d\":[{\"colorbar\":{\"outlinewidth\":0,\"ticks\":\"\"},\"type\":\"mesh3d\"}],\"parcoords\":[{\"line\":{\"colorbar\":{\"outlinewidth\":0,\"ticks\":\"\"}},\"type\":\"parcoords\"}],\"pie\":[{\"automargin\":true,\"type\":\"pie\"}],\"scatter3d\":[{\"line\":{\"colorbar\":{\"outlinewidth\":0,\"ticks\":\"\"}},\"marker\":{\"colorbar\":{\"outlinewidth\":0,\"ticks\":\"\"}},\"type\":\"scatter3d\"}],\"scattercarpet\":[{\"marker\":{\"colorbar\":{\"outlinewidth\":0,\"ticks\":\"\"}},\"type\":\"scattercarpet\"}],\"scattergeo\":[{\"marker\":{\"colorbar\":{\"outlinewidth\":0,\"ticks\":\"\"}},\"type\":\"scattergeo\"}],\"scattergl\":[{\"marker\":{\"colorbar\":{\"outlinewidth\":0,\"ticks\":\"\"}},\"type\":\"scattergl\"}],\"scattermapbox\":[{\"marker\":{\"colorbar\":{\"outlinewidth\":0,\"ticks\":\"\"}},\"type\":\"scattermapbox\"}],\"scatterpolargl\":[{\"marker\":{\"colorbar\":{\"outlinewidth\":0,\"ticks\":\"\"}},\"type\":\"scatterpolargl\"}],\"scatterpolar\":[{\"marker\":{\"colorbar\":{\"outlinewidth\":0,\"ticks\":\"\"}},\"type\":\"scatterpolar\"}],\"scatter\":[{\"fillpattern\":{\"fillmode\":\"overlay\",\"size\":10,\"solidity\":0.2},\"type\":\"scatter\"}],\"scatterternary\":[{\"marker\":{\"colorbar\":{\"outlinewidth\":0,\"ticks\":\"\"}},\"type\":\"scatterternary\"}],\"surface\":[{\"colorbar\":{\"outlinewidth\":0,\"ticks\":\"\"},\"colorscale\":[[0.0,\"#0d0887\"],[0.1111111111111111,\"#46039f\"],[0.2222222222222222,\"#7201a8\"],[0.3333333333333333,\"#9c179e\"],[0.4444444444444444,\"#bd3786\"],[0.5555555555555556,\"#d8576b\"],[0.6666666666666666,\"#ed7953\"],[0.7777777777777778,\"#fb9f3a\"],[0.8888888888888888,\"#fdca26\"],[1.0,\"#f0f921\"]],\"type\":\"surface\"}],\"table\":[{\"cells\":{\"fill\":{\"color\":\"#EBF0F8\"},\"line\":{\"color\":\"white\"}},\"header\":{\"fill\":{\"color\":\"#C8D4E3\"},\"line\":{\"color\":\"white\"}},\"type\":\"table\"}]},\"layout\":{\"annotationdefaults\":{\"arrowcolor\":\"#2a3f5f\",\"arrowhead\":0,\"arrowwidth\":1},\"autotypenumbers\":\"strict\",\"coloraxis\":{\"colorbar\":{\"outlinewidth\":0,\"ticks\":\"\"}},\"colorscale\":{\"diverging\":[[0,\"#8e0152\"],[0.1,\"#c51b7d\"],[0.2,\"#de77ae\"],[0.3,\"#f1b6da\"],[0.4,\"#fde0ef\"],[0.5,\"#f7f7f7\"],[0.6,\"#e6f5d0\"],[0.7,\"#b8e186\"],[0.8,\"#7fbc41\"],[0.9,\"#4d9221\"],[1,\"#276419\"]],\"sequential\":[[0.0,\"#0d0887\"],[0.1111111111111111,\"#46039f\"],[0.2222222222222222,\"#7201a8\"],[0.3333333333333333,\"#9c179e\"],[0.4444444444444444,\"#bd3786\"],[0.5555555555555556,\"#d8576b\"],[0.6666666666666666,\"#ed7953\"],[0.7777777777777778,\"#fb9f3a\"],[0.8888888888888888,\"#fdca26\"],[1.0,\"#f0f921\"]],\"sequentialminus\":[[0.0,\"#0d0887\"],[0.1111111111111111,\"#46039f\"],[0.2222222222222222,\"#7201a8\"],[0.3333333333333333,\"#9c179e\"],[0.4444444444444444,\"#bd3786\"],[0.5555555555555556,\"#d8576b\"],[0.6666666666666666,\"#ed7953\"],[0.7777777777777778,\"#fb9f3a\"],[0.8888888888888888,\"#fdca26\"],[1.0,\"#f0f921\"]]},\"colorway\":[\"#636efa\",\"#EF553B\",\"#00cc96\",\"#ab63fa\",\"#FFA15A\",\"#19d3f3\",\"#FF6692\",\"#B6E880\",\"#FF97FF\",\"#FECB52\"],\"font\":{\"color\":\"#2a3f5f\"},\"geo\":{\"bgcolor\":\"white\",\"lakecolor\":\"white\",\"landcolor\":\"#E5ECF6\",\"showlakes\":true,\"showland\":true,\"subunitcolor\":\"white\"},\"hoverlabel\":{\"align\":\"left\"},\"hovermode\":\"closest\",\"mapbox\":{\"style\":\"light\"},\"paper_bgcolor\":\"white\",\"plot_bgcolor\":\"#E5ECF6\",\"polar\":{\"angularaxis\":{\"gridcolor\":\"white\",\"linecolor\":\"white\",\"ticks\":\"\"},\"bgcolor\":\"#E5ECF6\",\"radialaxis\":{\"gridcolor\":\"white\",\"linecolor\":\"white\",\"ticks\":\"\"}},\"scene\":{\"xaxis\":{\"backgroundcolor\":\"#E5ECF6\",\"gridcolor\":\"white\",\"gridwidth\":2,\"linecolor\":\"white\",\"showbackground\":true,\"ticks\":\"\",\"zerolinecolor\":\"white\"},\"yaxis\":{\"backgroundcolor\":\"#E5ECF6\",\"gridcolor\":\"white\",\"gridwidth\":2,\"linecolor\":\"white\",\"showbackground\":true,\"ticks\":\"\",\"zerolinecolor\":\"white\"},\"zaxis\":{\"backgroundcolor\":\"#E5ECF6\",\"gridcolor\":\"white\",\"gridwidth\":2,\"linecolor\":\"white\",\"showbackground\":true,\"ticks\":\"\",\"zerolinecolor\":\"white\"}},\"shapedefaults\":{\"line\":{\"color\":\"#2a3f5f\"}},\"ternary\":{\"aaxis\":{\"gridcolor\":\"white\",\"linecolor\":\"white\",\"ticks\":\"\"},\"baxis\":{\"gridcolor\":\"white\",\"linecolor\":\"white\",\"ticks\":\"\"},\"bgcolor\":\"#E5ECF6\",\"caxis\":{\"gridcolor\":\"white\",\"linecolor\":\"white\",\"ticks\":\"\"}},\"title\":{\"x\":0.05},\"xaxis\":{\"automargin\":true,\"gridcolor\":\"white\",\"linecolor\":\"white\",\"ticks\":\"\",\"title\":{\"standoff\":15},\"zerolinecolor\":\"white\",\"zerolinewidth\":2},\"yaxis\":{\"automargin\":true,\"gridcolor\":\"white\",\"linecolor\":\"white\",\"ticks\":\"\",\"title\":{\"standoff\":15},\"zerolinecolor\":\"white\",\"zerolinewidth\":2}}},\"title\":{\"font\":{\"color\":\"#4D5663\"}},\"xaxis\":{\"gridcolor\":\"#E1E5ED\",\"showgrid\":true,\"tickfont\":{\"color\":\"#4D5663\"},\"title\":{\"font\":{\"color\":\"#4D5663\"},\"text\":\"\"},\"zerolinecolor\":\"#E1E5ED\"},\"yaxis\":{\"gridcolor\":\"#E1E5ED\",\"showgrid\":true,\"tickfont\":{\"color\":\"#4D5663\"},\"title\":{\"font\":{\"color\":\"#4D5663\"},\"text\":\"\"},\"zerolinecolor\":\"#E1E5ED\"}},                        {\"showLink\": true, \"linkText\": \"Export to plot.ly\", \"plotlyServerURL\": \"https://plot.ly\", \"responsive\": true}                    ).then(function(){\n",
       "                            \n",
       "var gd = document.getElementById('7de84d14-a75f-4f37-b3dc-0e0eab531f86');\n",
       "var x = new MutationObserver(function (mutations, observer) {{\n",
       "        var display = window.getComputedStyle(gd).display;\n",
       "        if (!display || display === 'none') {{\n",
       "            console.log([gd, 'removed!']);\n",
       "            Plotly.purge(gd);\n",
       "            observer.disconnect();\n",
       "        }}\n",
       "}});\n",
       "\n",
       "// Listen for the removal of the full notebook cells\n",
       "var notebookContainer = gd.closest('#notebook-container');\n",
       "if (notebookContainer) {{\n",
       "    x.observe(notebookContainer, {childList: true});\n",
       "}}\n",
       "\n",
       "// Listen for the clearing of the current output cell\n",
       "var outputEl = gd.closest('.output');\n",
       "if (outputEl) {{\n",
       "    x.observe(outputEl, {childList: true});\n",
       "}}\n",
       "\n",
       "                        })                };                });            </script>        </div>"
      ]
     },
     "metadata": {},
     "output_type": "display_data"
    }
   ],
   "source": [
    "df['A'].iplot(kind='hist', bins=25)"
   ]
  },
  {
   "cell_type": "markdown",
   "metadata": {},
   "source": [
    "## Bubble Plot"
   ]
  },
  {
   "cell_type": "code",
   "execution_count": 18,
   "metadata": {
    "scrolled": false
   },
   "outputs": [
    {
     "data": {
      "application/vnd.plotly.v1+json": {
       "config": {
        "linkText": "Export to plot.ly",
        "plotlyServerURL": "https://plot.ly",
        "showLink": true
       },
       "data": [
        {
         "marker": {
          "color": [
           "rgb(255, 153, 51)",
           "rgb(55, 128, 191)",
           "rgb(50, 171, 96)",
           "rgb(128, 0, 128)",
           "rgb(219, 64, 82)",
           "rgb(0, 128, 128)",
           "rgb(255, 255, 51)",
           "rgb(128, 128, 0)",
           "rgb(251, 128, 114)",
           "rgb(128, 177, 211)"
          ],
          "line": {
           "width": 1.3
          },
          "size": [
           62,
           68,
           63,
           52,
           80,
           56,
           51,
           80,
           74,
           66,
           55,
           44,
           52,
           47,
           41,
           40,
           99,
           59,
           66,
           68,
           68,
           64,
           79,
           40,
           91,
           17,
           75,
           47,
           45,
           28,
           45,
           35,
           39,
           66,
           66,
           39,
           69,
           83,
           57,
           71,
           55,
           48,
           57,
           59,
           39,
           72,
           25,
           23,
           52,
           59,
           14,
           62,
           35,
           59,
           51,
           66,
           73,
           61,
           54,
           14,
           42,
           72,
           80,
           67,
           52,
           73,
           88,
           74,
           90,
           50,
           58,
           43,
           76,
           52,
           52,
           42,
           69,
           42,
           62,
           82,
           70,
           48,
           46,
           12,
           84,
           89,
           71,
           55,
           60,
           32,
           58,
           46,
           112,
           79,
           65,
           63,
           78,
           65,
           51,
           43
          ],
          "symbol": "circle"
         },
         "mode": "markers",
         "text": "",
         "type": "scatter",
         "x": [
          2.378704592613066,
          0.7949812084298118,
          0.020347293573050422,
          0.16868777949177213,
          -0.8814220662121459,
          -0.5469894743183308,
          0.6590071765436658,
          0.3613179293562961,
          -1.2147461277054892,
          -1.0717006945379468,
          1.4730551122551672,
          -2.0182139728885113,
          0.862170819233818,
          0.45865902626215327,
          0.8212707351013381,
          -1.0658356940582248,
          0.03295835561673598,
          -0.926351955662341,
          -1.022016441866523,
          0.40418350578692364,
          -0.7181779587551178,
          -0.6886833824381282,
          0.6589900815740977,
          0.3362218418822843,
          -0.8820682824005845,
          0.7525581971493505,
          0.9744354545245969,
          0.3941171740728787,
          -0.3148279512998113,
          0.027511879249834822,
          1.0690736558569764,
          1.945965592580823,
          -0.7404405629930189,
          -0.9320931040826592,
          -0.9725128365556344,
          -0.022925786738108116,
          0.23524105357779349,
          -0.7870873351298374,
          -0.8820383123923283,
          0.5388653659796684,
          0.3467960749027645,
          0.9180377599871524,
          0.7964447306733002,
          0.26387076427638695,
          -1.6624756533038676,
          -0.6588661312752233,
          0.5217396969238294,
          0.8970812642468908,
          -1.3713926827076768,
          -0.4548300287598396,
          -0.045966239535387074,
          1.9282569880928602,
          -0.10928180133163234,
          -1.206470846341257,
          1.507713498434342,
          0.05592745845622738,
          -1.5132312506460328,
          0.47489113129330857,
          -1.3952618471111324,
          0.8038273818921229,
          1.1856349700169242,
          0.16273611112484013,
          -0.12258699650513145,
          1.465768004736537,
          1.2102174987321017,
          -0.7665906106697451,
          1.481523198660766,
          0.0427859215020586,
          0.10498569010405591,
          -0.3532346970575991,
          0.7470035130696405,
          -1.5138294405419948,
          0.39125537467149357,
          1.0554685121921457,
          -1.1603309027478979,
          1.2680819308540339,
          -1.6729243287440783,
          -0.800055858574939,
          -0.06054705752571512,
          -0.9499836719749434,
          -0.814075664122035,
          -1.026934113840444,
          0.3404099087659415,
          -1.0694526605321897,
          -0.8912421592491239,
          -1.0298025520047036,
          -0.8461521807594581,
          0.38163340848760885,
          -0.854143270793631,
          2.7339580890475754,
          -1.1192422975843501,
          -1.2409109590645255,
          -1.6961826901225727,
          -2.531659068148911,
          -0.9385020930493669,
          0.4024336318072811,
          0.5681600037698108,
          1.027833998158066,
          0.29826246449978355,
          1.3920428913571818
         ],
         "y": [
          -1.4109524815414125,
          1.1282465007801148,
          0.047738942839579426,
          1.1925776700433535,
          -0.6760291052564088,
          0.1790913936831051,
          -0.03351469037462734,
          0.3771657627762725,
          -0.9767022195579985,
          0.21141886110062716,
          0.1584196563489074,
          -0.26903850577050065,
          0.1336348126478488,
          0.5566619988174846,
          0.1068228699217611,
          0.14722205713031677,
          -0.2343686404535711,
          -0.1262077308186696,
          0.2028854190184494,
          -1.184744979491366,
          0.09891423137821188,
          -1.290136702571667,
          0.6610727598457594,
          0.6702717303544894,
          0.0912079810352433,
          -0.9638006134894856,
          0.16094260320748796,
          0.2966406238557308,
          1.2821294846940516,
          -0.067473604084655,
          0.6795513181159056,
          0.5491447905266279,
          -0.689806015680189,
          0.6289590663833551,
          -1.9550310814406153,
          1.3285163272544,
          -0.6016863121951649,
          -2.287052069467176,
          -0.046040797789362084,
          0.6332369562901614,
          -0.7580283974698023,
          -0.06036705191617741,
          -0.1456939613387233,
          -0.5115588069642251,
          -0.9638838012193599,
          1.9645250905586364,
          0.7530690446506421,
          -0.5454797258160548,
          1.1264285526198632,
          0.5309788677230551,
          0.37017010060986144,
          -1.1250898914401306,
          -0.28798151582684817,
          0.5946295317590171,
          -0.3347454800425729,
          0.3149458216962703,
          0.5583138746908815,
          -1.3610380889173985,
          -0.015197888111185916,
          0.5839205545037052,
          0.7950892840941408,
          -0.9638717777634335,
          -1.1790577083086358,
          0.7429474030938845,
          0.3609668315824039,
          1.0454595794961696,
          -1.3695181820018538,
          1.1131185717922327,
          0.5216827552405487,
          0.5073722744981483,
          -0.4022519329950429,
          -0.3158636790719244,
          -0.8504176310575834,
          -0.3903836881740838,
          1.1044927868985561,
          -0.5736934071368204,
          0.7757993030735614,
          0.17272730723566684,
          0.7395094056847753,
          -0.8108546768655773,
          0.8372945924989318,
          0.4622740489612075,
          1.1748008403104275,
          0.3902602603754761,
          0.8569649092316891,
          0.29879524251049244,
          0.12796874998029747,
          0.3150133146889394,
          -0.8190428447575135,
          0.1948280774662253,
          0.39465257829795125,
          0.1448000685913453,
          -0.38815316801875377,
          -0.45750751101059955,
          1.6738795196045138,
          0.13198167186586035,
          -0.4374958634037224,
          -0.3477123127206604,
          -0.08952001727038991,
          0.7885530702008177
         ]
        }
       ],
       "layout": {
        "legend": {
         "bgcolor": "#F5F6F9",
         "font": {
          "color": "#4D5663"
         }
        },
        "paper_bgcolor": "#F5F6F9",
        "plot_bgcolor": "#F5F6F9",
        "template": {
         "data": {
          "bar": [
           {
            "error_x": {
             "color": "#2a3f5f"
            },
            "error_y": {
             "color": "#2a3f5f"
            },
            "marker": {
             "line": {
              "color": "#E5ECF6",
              "width": 0.5
             },
             "pattern": {
              "fillmode": "overlay",
              "size": 10,
              "solidity": 0.2
             }
            },
            "type": "bar"
           }
          ],
          "barpolar": [
           {
            "marker": {
             "line": {
              "color": "#E5ECF6",
              "width": 0.5
             },
             "pattern": {
              "fillmode": "overlay",
              "size": 10,
              "solidity": 0.2
             }
            },
            "type": "barpolar"
           }
          ],
          "carpet": [
           {
            "aaxis": {
             "endlinecolor": "#2a3f5f",
             "gridcolor": "white",
             "linecolor": "white",
             "minorgridcolor": "white",
             "startlinecolor": "#2a3f5f"
            },
            "baxis": {
             "endlinecolor": "#2a3f5f",
             "gridcolor": "white",
             "linecolor": "white",
             "minorgridcolor": "white",
             "startlinecolor": "#2a3f5f"
            },
            "type": "carpet"
           }
          ],
          "choropleth": [
           {
            "colorbar": {
             "outlinewidth": 0,
             "ticks": ""
            },
            "type": "choropleth"
           }
          ],
          "contour": [
           {
            "colorbar": {
             "outlinewidth": 0,
             "ticks": ""
            },
            "colorscale": [
             [
              0,
              "#0d0887"
             ],
             [
              0.1111111111111111,
              "#46039f"
             ],
             [
              0.2222222222222222,
              "#7201a8"
             ],
             [
              0.3333333333333333,
              "#9c179e"
             ],
             [
              0.4444444444444444,
              "#bd3786"
             ],
             [
              0.5555555555555556,
              "#d8576b"
             ],
             [
              0.6666666666666666,
              "#ed7953"
             ],
             [
              0.7777777777777778,
              "#fb9f3a"
             ],
             [
              0.8888888888888888,
              "#fdca26"
             ],
             [
              1,
              "#f0f921"
             ]
            ],
            "type": "contour"
           }
          ],
          "contourcarpet": [
           {
            "colorbar": {
             "outlinewidth": 0,
             "ticks": ""
            },
            "type": "contourcarpet"
           }
          ],
          "heatmap": [
           {
            "colorbar": {
             "outlinewidth": 0,
             "ticks": ""
            },
            "colorscale": [
             [
              0,
              "#0d0887"
             ],
             [
              0.1111111111111111,
              "#46039f"
             ],
             [
              0.2222222222222222,
              "#7201a8"
             ],
             [
              0.3333333333333333,
              "#9c179e"
             ],
             [
              0.4444444444444444,
              "#bd3786"
             ],
             [
              0.5555555555555556,
              "#d8576b"
             ],
             [
              0.6666666666666666,
              "#ed7953"
             ],
             [
              0.7777777777777778,
              "#fb9f3a"
             ],
             [
              0.8888888888888888,
              "#fdca26"
             ],
             [
              1,
              "#f0f921"
             ]
            ],
            "type": "heatmap"
           }
          ],
          "heatmapgl": [
           {
            "colorbar": {
             "outlinewidth": 0,
             "ticks": ""
            },
            "colorscale": [
             [
              0,
              "#0d0887"
             ],
             [
              0.1111111111111111,
              "#46039f"
             ],
             [
              0.2222222222222222,
              "#7201a8"
             ],
             [
              0.3333333333333333,
              "#9c179e"
             ],
             [
              0.4444444444444444,
              "#bd3786"
             ],
             [
              0.5555555555555556,
              "#d8576b"
             ],
             [
              0.6666666666666666,
              "#ed7953"
             ],
             [
              0.7777777777777778,
              "#fb9f3a"
             ],
             [
              0.8888888888888888,
              "#fdca26"
             ],
             [
              1,
              "#f0f921"
             ]
            ],
            "type": "heatmapgl"
           }
          ],
          "histogram": [
           {
            "marker": {
             "pattern": {
              "fillmode": "overlay",
              "size": 10,
              "solidity": 0.2
             }
            },
            "type": "histogram"
           }
          ],
          "histogram2d": [
           {
            "colorbar": {
             "outlinewidth": 0,
             "ticks": ""
            },
            "colorscale": [
             [
              0,
              "#0d0887"
             ],
             [
              0.1111111111111111,
              "#46039f"
             ],
             [
              0.2222222222222222,
              "#7201a8"
             ],
             [
              0.3333333333333333,
              "#9c179e"
             ],
             [
              0.4444444444444444,
              "#bd3786"
             ],
             [
              0.5555555555555556,
              "#d8576b"
             ],
             [
              0.6666666666666666,
              "#ed7953"
             ],
             [
              0.7777777777777778,
              "#fb9f3a"
             ],
             [
              0.8888888888888888,
              "#fdca26"
             ],
             [
              1,
              "#f0f921"
             ]
            ],
            "type": "histogram2d"
           }
          ],
          "histogram2dcontour": [
           {
            "colorbar": {
             "outlinewidth": 0,
             "ticks": ""
            },
            "colorscale": [
             [
              0,
              "#0d0887"
             ],
             [
              0.1111111111111111,
              "#46039f"
             ],
             [
              0.2222222222222222,
              "#7201a8"
             ],
             [
              0.3333333333333333,
              "#9c179e"
             ],
             [
              0.4444444444444444,
              "#bd3786"
             ],
             [
              0.5555555555555556,
              "#d8576b"
             ],
             [
              0.6666666666666666,
              "#ed7953"
             ],
             [
              0.7777777777777778,
              "#fb9f3a"
             ],
             [
              0.8888888888888888,
              "#fdca26"
             ],
             [
              1,
              "#f0f921"
             ]
            ],
            "type": "histogram2dcontour"
           }
          ],
          "mesh3d": [
           {
            "colorbar": {
             "outlinewidth": 0,
             "ticks": ""
            },
            "type": "mesh3d"
           }
          ],
          "parcoords": [
           {
            "line": {
             "colorbar": {
              "outlinewidth": 0,
              "ticks": ""
             }
            },
            "type": "parcoords"
           }
          ],
          "pie": [
           {
            "automargin": true,
            "type": "pie"
           }
          ],
          "scatter": [
           {
            "fillpattern": {
             "fillmode": "overlay",
             "size": 10,
             "solidity": 0.2
            },
            "type": "scatter"
           }
          ],
          "scatter3d": [
           {
            "line": {
             "colorbar": {
              "outlinewidth": 0,
              "ticks": ""
             }
            },
            "marker": {
             "colorbar": {
              "outlinewidth": 0,
              "ticks": ""
             }
            },
            "type": "scatter3d"
           }
          ],
          "scattercarpet": [
           {
            "marker": {
             "colorbar": {
              "outlinewidth": 0,
              "ticks": ""
             }
            },
            "type": "scattercarpet"
           }
          ],
          "scattergeo": [
           {
            "marker": {
             "colorbar": {
              "outlinewidth": 0,
              "ticks": ""
             }
            },
            "type": "scattergeo"
           }
          ],
          "scattergl": [
           {
            "marker": {
             "colorbar": {
              "outlinewidth": 0,
              "ticks": ""
             }
            },
            "type": "scattergl"
           }
          ],
          "scattermapbox": [
           {
            "marker": {
             "colorbar": {
              "outlinewidth": 0,
              "ticks": ""
             }
            },
            "type": "scattermapbox"
           }
          ],
          "scatterpolar": [
           {
            "marker": {
             "colorbar": {
              "outlinewidth": 0,
              "ticks": ""
             }
            },
            "type": "scatterpolar"
           }
          ],
          "scatterpolargl": [
           {
            "marker": {
             "colorbar": {
              "outlinewidth": 0,
              "ticks": ""
             }
            },
            "type": "scatterpolargl"
           }
          ],
          "scatterternary": [
           {
            "marker": {
             "colorbar": {
              "outlinewidth": 0,
              "ticks": ""
             }
            },
            "type": "scatterternary"
           }
          ],
          "surface": [
           {
            "colorbar": {
             "outlinewidth": 0,
             "ticks": ""
            },
            "colorscale": [
             [
              0,
              "#0d0887"
             ],
             [
              0.1111111111111111,
              "#46039f"
             ],
             [
              0.2222222222222222,
              "#7201a8"
             ],
             [
              0.3333333333333333,
              "#9c179e"
             ],
             [
              0.4444444444444444,
              "#bd3786"
             ],
             [
              0.5555555555555556,
              "#d8576b"
             ],
             [
              0.6666666666666666,
              "#ed7953"
             ],
             [
              0.7777777777777778,
              "#fb9f3a"
             ],
             [
              0.8888888888888888,
              "#fdca26"
             ],
             [
              1,
              "#f0f921"
             ]
            ],
            "type": "surface"
           }
          ],
          "table": [
           {
            "cells": {
             "fill": {
              "color": "#EBF0F8"
             },
             "line": {
              "color": "white"
             }
            },
            "header": {
             "fill": {
              "color": "#C8D4E3"
             },
             "line": {
              "color": "white"
             }
            },
            "type": "table"
           }
          ]
         },
         "layout": {
          "annotationdefaults": {
           "arrowcolor": "#2a3f5f",
           "arrowhead": 0,
           "arrowwidth": 1
          },
          "autotypenumbers": "strict",
          "coloraxis": {
           "colorbar": {
            "outlinewidth": 0,
            "ticks": ""
           }
          },
          "colorscale": {
           "diverging": [
            [
             0,
             "#8e0152"
            ],
            [
             0.1,
             "#c51b7d"
            ],
            [
             0.2,
             "#de77ae"
            ],
            [
             0.3,
             "#f1b6da"
            ],
            [
             0.4,
             "#fde0ef"
            ],
            [
             0.5,
             "#f7f7f7"
            ],
            [
             0.6,
             "#e6f5d0"
            ],
            [
             0.7,
             "#b8e186"
            ],
            [
             0.8,
             "#7fbc41"
            ],
            [
             0.9,
             "#4d9221"
            ],
            [
             1,
             "#276419"
            ]
           ],
           "sequential": [
            [
             0,
             "#0d0887"
            ],
            [
             0.1111111111111111,
             "#46039f"
            ],
            [
             0.2222222222222222,
             "#7201a8"
            ],
            [
             0.3333333333333333,
             "#9c179e"
            ],
            [
             0.4444444444444444,
             "#bd3786"
            ],
            [
             0.5555555555555556,
             "#d8576b"
            ],
            [
             0.6666666666666666,
             "#ed7953"
            ],
            [
             0.7777777777777778,
             "#fb9f3a"
            ],
            [
             0.8888888888888888,
             "#fdca26"
            ],
            [
             1,
             "#f0f921"
            ]
           ],
           "sequentialminus": [
            [
             0,
             "#0d0887"
            ],
            [
             0.1111111111111111,
             "#46039f"
            ],
            [
             0.2222222222222222,
             "#7201a8"
            ],
            [
             0.3333333333333333,
             "#9c179e"
            ],
            [
             0.4444444444444444,
             "#bd3786"
            ],
            [
             0.5555555555555556,
             "#d8576b"
            ],
            [
             0.6666666666666666,
             "#ed7953"
            ],
            [
             0.7777777777777778,
             "#fb9f3a"
            ],
            [
             0.8888888888888888,
             "#fdca26"
            ],
            [
             1,
             "#f0f921"
            ]
           ]
          },
          "colorway": [
           "#636efa",
           "#EF553B",
           "#00cc96",
           "#ab63fa",
           "#FFA15A",
           "#19d3f3",
           "#FF6692",
           "#B6E880",
           "#FF97FF",
           "#FECB52"
          ],
          "font": {
           "color": "#2a3f5f"
          },
          "geo": {
           "bgcolor": "white",
           "lakecolor": "white",
           "landcolor": "#E5ECF6",
           "showlakes": true,
           "showland": true,
           "subunitcolor": "white"
          },
          "hoverlabel": {
           "align": "left"
          },
          "hovermode": "closest",
          "mapbox": {
           "style": "light"
          },
          "paper_bgcolor": "white",
          "plot_bgcolor": "#E5ECF6",
          "polar": {
           "angularaxis": {
            "gridcolor": "white",
            "linecolor": "white",
            "ticks": ""
           },
           "bgcolor": "#E5ECF6",
           "radialaxis": {
            "gridcolor": "white",
            "linecolor": "white",
            "ticks": ""
           }
          },
          "scene": {
           "xaxis": {
            "backgroundcolor": "#E5ECF6",
            "gridcolor": "white",
            "gridwidth": 2,
            "linecolor": "white",
            "showbackground": true,
            "ticks": "",
            "zerolinecolor": "white"
           },
           "yaxis": {
            "backgroundcolor": "#E5ECF6",
            "gridcolor": "white",
            "gridwidth": 2,
            "linecolor": "white",
            "showbackground": true,
            "ticks": "",
            "zerolinecolor": "white"
           },
           "zaxis": {
            "backgroundcolor": "#E5ECF6",
            "gridcolor": "white",
            "gridwidth": 2,
            "linecolor": "white",
            "showbackground": true,
            "ticks": "",
            "zerolinecolor": "white"
           }
          },
          "shapedefaults": {
           "line": {
            "color": "#2a3f5f"
           }
          },
          "ternary": {
           "aaxis": {
            "gridcolor": "white",
            "linecolor": "white",
            "ticks": ""
           },
           "baxis": {
            "gridcolor": "white",
            "linecolor": "white",
            "ticks": ""
           },
           "bgcolor": "#E5ECF6",
           "caxis": {
            "gridcolor": "white",
            "linecolor": "white",
            "ticks": ""
           }
          },
          "title": {
           "x": 0.05
          },
          "xaxis": {
           "automargin": true,
           "gridcolor": "white",
           "linecolor": "white",
           "ticks": "",
           "title": {
            "standoff": 15
           },
           "zerolinecolor": "white",
           "zerolinewidth": 2
          },
          "yaxis": {
           "automargin": true,
           "gridcolor": "white",
           "linecolor": "white",
           "ticks": "",
           "title": {
            "standoff": 15
           },
           "zerolinecolor": "white",
           "zerolinewidth": 2
          }
         }
        },
        "title": {
         "font": {
          "color": "#4D5663"
         }
        },
        "xaxis": {
         "gridcolor": "#E1E5ED",
         "showgrid": true,
         "tickfont": {
          "color": "#4D5663"
         },
         "title": {
          "font": {
           "color": "#4D5663"
          },
          "text": ""
         },
         "zerolinecolor": "#E1E5ED"
        },
        "yaxis": {
         "gridcolor": "#E1E5ED",
         "showgrid": true,
         "tickfont": {
          "color": "#4D5663"
         },
         "title": {
          "font": {
           "color": "#4D5663"
          },
          "text": ""
         },
         "zerolinecolor": "#E1E5ED"
        }
       }
      },
      "text/html": [
       "<div>                            <div id=\"3d730052-05ba-4126-93a9-1bcaa99166d8\" class=\"plotly-graph-div\" style=\"height:525px; width:100%;\"></div>            <script type=\"text/javascript\">                require([\"plotly\"], function(Plotly) {                    window.PLOTLYENV=window.PLOTLYENV || {};\n",
       "                    window.PLOTLYENV.BASE_URL='https://plot.ly';                                    if (document.getElementById(\"3d730052-05ba-4126-93a9-1bcaa99166d8\")) {                    Plotly.newPlot(                        \"3d730052-05ba-4126-93a9-1bcaa99166d8\",                        [{\"marker\":{\"color\":[\"rgb(255, 153, 51)\",\"rgb(55, 128, 191)\",\"rgb(50, 171, 96)\",\"rgb(128, 0, 128)\",\"rgb(219, 64, 82)\",\"rgb(0, 128, 128)\",\"rgb(255, 255, 51)\",\"rgb(128, 128, 0)\",\"rgb(251, 128, 114)\",\"rgb(128, 177, 211)\"],\"line\":{\"width\":1.3},\"size\":[62,68,63,52,80,56,51,80,74,66,55,44,52,47,41,40,99,59,66,68,68,64,79,40,91,17,75,47,45,28,45,35,39,66,66,39,69,83,57,71,55,48,57,59,39,72,25,23,52,59,14,62,35,59,51,66,73,61,54,14,42,72,80,67,52,73,88,74,90,50,58,43,76,52,52,42,69,42,62,82,70,48,46,12,84,89,71,55,60,32,58,46,112,79,65,63,78,65,51,43],\"symbol\":\"circle\"},\"mode\":\"markers\",\"text\":\"\",\"x\":[2.378704592613066,0.7949812084298118,0.020347293573050422,0.16868777949177213,-0.8814220662121459,-0.5469894743183308,0.6590071765436658,0.3613179293562961,-1.2147461277054892,-1.0717006945379468,1.4730551122551672,-2.0182139728885113,0.862170819233818,0.45865902626215327,0.8212707351013381,-1.0658356940582248,0.03295835561673598,-0.926351955662341,-1.022016441866523,0.40418350578692364,-0.7181779587551178,-0.6886833824381282,0.6589900815740977,0.3362218418822843,-0.8820682824005845,0.7525581971493505,0.9744354545245969,0.3941171740728787,-0.3148279512998113,0.027511879249834822,1.0690736558569764,1.945965592580823,-0.7404405629930189,-0.9320931040826592,-0.9725128365556344,-0.022925786738108116,0.23524105357779349,-0.7870873351298374,-0.8820383123923283,0.5388653659796684,0.3467960749027645,0.9180377599871524,0.7964447306733002,0.26387076427638695,-1.6624756533038676,-0.6588661312752233,0.5217396969238294,0.8970812642468908,-1.3713926827076768,-0.4548300287598396,-0.045966239535387074,1.9282569880928602,-0.10928180133163234,-1.206470846341257,1.507713498434342,0.05592745845622738,-1.5132312506460328,0.47489113129330857,-1.3952618471111324,0.8038273818921229,1.1856349700169242,0.16273611112484013,-0.12258699650513145,1.465768004736537,1.2102174987321017,-0.7665906106697451,1.481523198660766,0.0427859215020586,0.10498569010405591,-0.3532346970575991,0.7470035130696405,-1.5138294405419948,0.39125537467149357,1.0554685121921457,-1.1603309027478979,1.2680819308540339,-1.6729243287440783,-0.800055858574939,-0.06054705752571512,-0.9499836719749434,-0.814075664122035,-1.026934113840444,0.3404099087659415,-1.0694526605321897,-0.8912421592491239,-1.0298025520047036,-0.8461521807594581,0.38163340848760885,-0.854143270793631,2.7339580890475754,-1.1192422975843501,-1.2409109590645255,-1.6961826901225727,-2.531659068148911,-0.9385020930493669,0.4024336318072811,0.5681600037698108,1.027833998158066,0.29826246449978355,1.3920428913571818],\"y\":[-1.4109524815414125,1.1282465007801148,0.047738942839579426,1.1925776700433535,-0.6760291052564088,0.1790913936831051,-0.03351469037462734,0.3771657627762725,-0.9767022195579985,0.21141886110062716,0.1584196563489074,-0.26903850577050065,0.1336348126478488,0.5566619988174846,0.1068228699217611,0.14722205713031677,-0.2343686404535711,-0.1262077308186696,0.2028854190184494,-1.184744979491366,0.09891423137821188,-1.290136702571667,0.6610727598457594,0.6702717303544894,0.0912079810352433,-0.9638006134894856,0.16094260320748796,0.2966406238557308,1.2821294846940516,-0.067473604084655,0.6795513181159056,0.5491447905266279,-0.689806015680189,0.6289590663833551,-1.9550310814406153,1.3285163272544,-0.6016863121951649,-2.287052069467176,-0.046040797789362084,0.6332369562901614,-0.7580283974698023,-0.06036705191617741,-0.1456939613387233,-0.5115588069642251,-0.9638838012193599,1.9645250905586364,0.7530690446506421,-0.5454797258160548,1.1264285526198632,0.5309788677230551,0.37017010060986144,-1.1250898914401306,-0.28798151582684817,0.5946295317590171,-0.3347454800425729,0.3149458216962703,0.5583138746908815,-1.3610380889173985,-0.015197888111185916,0.5839205545037052,0.7950892840941408,-0.9638717777634335,-1.1790577083086358,0.7429474030938845,0.3609668315824039,1.0454595794961696,-1.3695181820018538,1.1131185717922327,0.5216827552405487,0.5073722744981483,-0.4022519329950429,-0.3158636790719244,-0.8504176310575834,-0.3903836881740838,1.1044927868985561,-0.5736934071368204,0.7757993030735614,0.17272730723566684,0.7395094056847753,-0.8108546768655773,0.8372945924989318,0.4622740489612075,1.1748008403104275,0.3902602603754761,0.8569649092316891,0.29879524251049244,0.12796874998029747,0.3150133146889394,-0.8190428447575135,0.1948280774662253,0.39465257829795125,0.1448000685913453,-0.38815316801875377,-0.45750751101059955,1.6738795196045138,0.13198167186586035,-0.4374958634037224,-0.3477123127206604,-0.08952001727038991,0.7885530702008177],\"type\":\"scatter\"}],                        {\"legend\":{\"bgcolor\":\"#F5F6F9\",\"font\":{\"color\":\"#4D5663\"}},\"paper_bgcolor\":\"#F5F6F9\",\"plot_bgcolor\":\"#F5F6F9\",\"template\":{\"data\":{\"barpolar\":[{\"marker\":{\"line\":{\"color\":\"#E5ECF6\",\"width\":0.5},\"pattern\":{\"fillmode\":\"overlay\",\"size\":10,\"solidity\":0.2}},\"type\":\"barpolar\"}],\"bar\":[{\"error_x\":{\"color\":\"#2a3f5f\"},\"error_y\":{\"color\":\"#2a3f5f\"},\"marker\":{\"line\":{\"color\":\"#E5ECF6\",\"width\":0.5},\"pattern\":{\"fillmode\":\"overlay\",\"size\":10,\"solidity\":0.2}},\"type\":\"bar\"}],\"carpet\":[{\"aaxis\":{\"endlinecolor\":\"#2a3f5f\",\"gridcolor\":\"white\",\"linecolor\":\"white\",\"minorgridcolor\":\"white\",\"startlinecolor\":\"#2a3f5f\"},\"baxis\":{\"endlinecolor\":\"#2a3f5f\",\"gridcolor\":\"white\",\"linecolor\":\"white\",\"minorgridcolor\":\"white\",\"startlinecolor\":\"#2a3f5f\"},\"type\":\"carpet\"}],\"choropleth\":[{\"colorbar\":{\"outlinewidth\":0,\"ticks\":\"\"},\"type\":\"choropleth\"}],\"contourcarpet\":[{\"colorbar\":{\"outlinewidth\":0,\"ticks\":\"\"},\"type\":\"contourcarpet\"}],\"contour\":[{\"colorbar\":{\"outlinewidth\":0,\"ticks\":\"\"},\"colorscale\":[[0.0,\"#0d0887\"],[0.1111111111111111,\"#46039f\"],[0.2222222222222222,\"#7201a8\"],[0.3333333333333333,\"#9c179e\"],[0.4444444444444444,\"#bd3786\"],[0.5555555555555556,\"#d8576b\"],[0.6666666666666666,\"#ed7953\"],[0.7777777777777778,\"#fb9f3a\"],[0.8888888888888888,\"#fdca26\"],[1.0,\"#f0f921\"]],\"type\":\"contour\"}],\"heatmapgl\":[{\"colorbar\":{\"outlinewidth\":0,\"ticks\":\"\"},\"colorscale\":[[0.0,\"#0d0887\"],[0.1111111111111111,\"#46039f\"],[0.2222222222222222,\"#7201a8\"],[0.3333333333333333,\"#9c179e\"],[0.4444444444444444,\"#bd3786\"],[0.5555555555555556,\"#d8576b\"],[0.6666666666666666,\"#ed7953\"],[0.7777777777777778,\"#fb9f3a\"],[0.8888888888888888,\"#fdca26\"],[1.0,\"#f0f921\"]],\"type\":\"heatmapgl\"}],\"heatmap\":[{\"colorbar\":{\"outlinewidth\":0,\"ticks\":\"\"},\"colorscale\":[[0.0,\"#0d0887\"],[0.1111111111111111,\"#46039f\"],[0.2222222222222222,\"#7201a8\"],[0.3333333333333333,\"#9c179e\"],[0.4444444444444444,\"#bd3786\"],[0.5555555555555556,\"#d8576b\"],[0.6666666666666666,\"#ed7953\"],[0.7777777777777778,\"#fb9f3a\"],[0.8888888888888888,\"#fdca26\"],[1.0,\"#f0f921\"]],\"type\":\"heatmap\"}],\"histogram2dcontour\":[{\"colorbar\":{\"outlinewidth\":0,\"ticks\":\"\"},\"colorscale\":[[0.0,\"#0d0887\"],[0.1111111111111111,\"#46039f\"],[0.2222222222222222,\"#7201a8\"],[0.3333333333333333,\"#9c179e\"],[0.4444444444444444,\"#bd3786\"],[0.5555555555555556,\"#d8576b\"],[0.6666666666666666,\"#ed7953\"],[0.7777777777777778,\"#fb9f3a\"],[0.8888888888888888,\"#fdca26\"],[1.0,\"#f0f921\"]],\"type\":\"histogram2dcontour\"}],\"histogram2d\":[{\"colorbar\":{\"outlinewidth\":0,\"ticks\":\"\"},\"colorscale\":[[0.0,\"#0d0887\"],[0.1111111111111111,\"#46039f\"],[0.2222222222222222,\"#7201a8\"],[0.3333333333333333,\"#9c179e\"],[0.4444444444444444,\"#bd3786\"],[0.5555555555555556,\"#d8576b\"],[0.6666666666666666,\"#ed7953\"],[0.7777777777777778,\"#fb9f3a\"],[0.8888888888888888,\"#fdca26\"],[1.0,\"#f0f921\"]],\"type\":\"histogram2d\"}],\"histogram\":[{\"marker\":{\"pattern\":{\"fillmode\":\"overlay\",\"size\":10,\"solidity\":0.2}},\"type\":\"histogram\"}],\"mesh3d\":[{\"colorbar\":{\"outlinewidth\":0,\"ticks\":\"\"},\"type\":\"mesh3d\"}],\"parcoords\":[{\"line\":{\"colorbar\":{\"outlinewidth\":0,\"ticks\":\"\"}},\"type\":\"parcoords\"}],\"pie\":[{\"automargin\":true,\"type\":\"pie\"}],\"scatter3d\":[{\"line\":{\"colorbar\":{\"outlinewidth\":0,\"ticks\":\"\"}},\"marker\":{\"colorbar\":{\"outlinewidth\":0,\"ticks\":\"\"}},\"type\":\"scatter3d\"}],\"scattercarpet\":[{\"marker\":{\"colorbar\":{\"outlinewidth\":0,\"ticks\":\"\"}},\"type\":\"scattercarpet\"}],\"scattergeo\":[{\"marker\":{\"colorbar\":{\"outlinewidth\":0,\"ticks\":\"\"}},\"type\":\"scattergeo\"}],\"scattergl\":[{\"marker\":{\"colorbar\":{\"outlinewidth\":0,\"ticks\":\"\"}},\"type\":\"scattergl\"}],\"scattermapbox\":[{\"marker\":{\"colorbar\":{\"outlinewidth\":0,\"ticks\":\"\"}},\"type\":\"scattermapbox\"}],\"scatterpolargl\":[{\"marker\":{\"colorbar\":{\"outlinewidth\":0,\"ticks\":\"\"}},\"type\":\"scatterpolargl\"}],\"scatterpolar\":[{\"marker\":{\"colorbar\":{\"outlinewidth\":0,\"ticks\":\"\"}},\"type\":\"scatterpolar\"}],\"scatter\":[{\"fillpattern\":{\"fillmode\":\"overlay\",\"size\":10,\"solidity\":0.2},\"type\":\"scatter\"}],\"scatterternary\":[{\"marker\":{\"colorbar\":{\"outlinewidth\":0,\"ticks\":\"\"}},\"type\":\"scatterternary\"}],\"surface\":[{\"colorbar\":{\"outlinewidth\":0,\"ticks\":\"\"},\"colorscale\":[[0.0,\"#0d0887\"],[0.1111111111111111,\"#46039f\"],[0.2222222222222222,\"#7201a8\"],[0.3333333333333333,\"#9c179e\"],[0.4444444444444444,\"#bd3786\"],[0.5555555555555556,\"#d8576b\"],[0.6666666666666666,\"#ed7953\"],[0.7777777777777778,\"#fb9f3a\"],[0.8888888888888888,\"#fdca26\"],[1.0,\"#f0f921\"]],\"type\":\"surface\"}],\"table\":[{\"cells\":{\"fill\":{\"color\":\"#EBF0F8\"},\"line\":{\"color\":\"white\"}},\"header\":{\"fill\":{\"color\":\"#C8D4E3\"},\"line\":{\"color\":\"white\"}},\"type\":\"table\"}]},\"layout\":{\"annotationdefaults\":{\"arrowcolor\":\"#2a3f5f\",\"arrowhead\":0,\"arrowwidth\":1},\"autotypenumbers\":\"strict\",\"coloraxis\":{\"colorbar\":{\"outlinewidth\":0,\"ticks\":\"\"}},\"colorscale\":{\"diverging\":[[0,\"#8e0152\"],[0.1,\"#c51b7d\"],[0.2,\"#de77ae\"],[0.3,\"#f1b6da\"],[0.4,\"#fde0ef\"],[0.5,\"#f7f7f7\"],[0.6,\"#e6f5d0\"],[0.7,\"#b8e186\"],[0.8,\"#7fbc41\"],[0.9,\"#4d9221\"],[1,\"#276419\"]],\"sequential\":[[0.0,\"#0d0887\"],[0.1111111111111111,\"#46039f\"],[0.2222222222222222,\"#7201a8\"],[0.3333333333333333,\"#9c179e\"],[0.4444444444444444,\"#bd3786\"],[0.5555555555555556,\"#d8576b\"],[0.6666666666666666,\"#ed7953\"],[0.7777777777777778,\"#fb9f3a\"],[0.8888888888888888,\"#fdca26\"],[1.0,\"#f0f921\"]],\"sequentialminus\":[[0.0,\"#0d0887\"],[0.1111111111111111,\"#46039f\"],[0.2222222222222222,\"#7201a8\"],[0.3333333333333333,\"#9c179e\"],[0.4444444444444444,\"#bd3786\"],[0.5555555555555556,\"#d8576b\"],[0.6666666666666666,\"#ed7953\"],[0.7777777777777778,\"#fb9f3a\"],[0.8888888888888888,\"#fdca26\"],[1.0,\"#f0f921\"]]},\"colorway\":[\"#636efa\",\"#EF553B\",\"#00cc96\",\"#ab63fa\",\"#FFA15A\",\"#19d3f3\",\"#FF6692\",\"#B6E880\",\"#FF97FF\",\"#FECB52\"],\"font\":{\"color\":\"#2a3f5f\"},\"geo\":{\"bgcolor\":\"white\",\"lakecolor\":\"white\",\"landcolor\":\"#E5ECF6\",\"showlakes\":true,\"showland\":true,\"subunitcolor\":\"white\"},\"hoverlabel\":{\"align\":\"left\"},\"hovermode\":\"closest\",\"mapbox\":{\"style\":\"light\"},\"paper_bgcolor\":\"white\",\"plot_bgcolor\":\"#E5ECF6\",\"polar\":{\"angularaxis\":{\"gridcolor\":\"white\",\"linecolor\":\"white\",\"ticks\":\"\"},\"bgcolor\":\"#E5ECF6\",\"radialaxis\":{\"gridcolor\":\"white\",\"linecolor\":\"white\",\"ticks\":\"\"}},\"scene\":{\"xaxis\":{\"backgroundcolor\":\"#E5ECF6\",\"gridcolor\":\"white\",\"gridwidth\":2,\"linecolor\":\"white\",\"showbackground\":true,\"ticks\":\"\",\"zerolinecolor\":\"white\"},\"yaxis\":{\"backgroundcolor\":\"#E5ECF6\",\"gridcolor\":\"white\",\"gridwidth\":2,\"linecolor\":\"white\",\"showbackground\":true,\"ticks\":\"\",\"zerolinecolor\":\"white\"},\"zaxis\":{\"backgroundcolor\":\"#E5ECF6\",\"gridcolor\":\"white\",\"gridwidth\":2,\"linecolor\":\"white\",\"showbackground\":true,\"ticks\":\"\",\"zerolinecolor\":\"white\"}},\"shapedefaults\":{\"line\":{\"color\":\"#2a3f5f\"}},\"ternary\":{\"aaxis\":{\"gridcolor\":\"white\",\"linecolor\":\"white\",\"ticks\":\"\"},\"baxis\":{\"gridcolor\":\"white\",\"linecolor\":\"white\",\"ticks\":\"\"},\"bgcolor\":\"#E5ECF6\",\"caxis\":{\"gridcolor\":\"white\",\"linecolor\":\"white\",\"ticks\":\"\"}},\"title\":{\"x\":0.05},\"xaxis\":{\"automargin\":true,\"gridcolor\":\"white\",\"linecolor\":\"white\",\"ticks\":\"\",\"title\":{\"standoff\":15},\"zerolinecolor\":\"white\",\"zerolinewidth\":2},\"yaxis\":{\"automargin\":true,\"gridcolor\":\"white\",\"linecolor\":\"white\",\"ticks\":\"\",\"title\":{\"standoff\":15},\"zerolinecolor\":\"white\",\"zerolinewidth\":2}}},\"title\":{\"font\":{\"color\":\"#4D5663\"}},\"xaxis\":{\"gridcolor\":\"#E1E5ED\",\"showgrid\":true,\"tickfont\":{\"color\":\"#4D5663\"},\"title\":{\"font\":{\"color\":\"#4D5663\"},\"text\":\"\"},\"zerolinecolor\":\"#E1E5ED\"},\"yaxis\":{\"gridcolor\":\"#E1E5ED\",\"showgrid\":true,\"tickfont\":{\"color\":\"#4D5663\"},\"title\":{\"font\":{\"color\":\"#4D5663\"},\"text\":\"\"},\"zerolinecolor\":\"#E1E5ED\"}},                        {\"showLink\": true, \"linkText\": \"Export to plot.ly\", \"plotlyServerURL\": \"https://plot.ly\", \"responsive\": true}                    ).then(function(){\n",
       "                            \n",
       "var gd = document.getElementById('3d730052-05ba-4126-93a9-1bcaa99166d8');\n",
       "var x = new MutationObserver(function (mutations, observer) {{\n",
       "        var display = window.getComputedStyle(gd).display;\n",
       "        if (!display || display === 'none') {{\n",
       "            console.log([gd, 'removed!']);\n",
       "            Plotly.purge(gd);\n",
       "            observer.disconnect();\n",
       "        }}\n",
       "}});\n",
       "\n",
       "// Listen for the removal of the full notebook cells\n",
       "var notebookContainer = gd.closest('#notebook-container');\n",
       "if (notebookContainer) {{\n",
       "    x.observe(notebookContainer, {childList: true});\n",
       "}}\n",
       "\n",
       "// Listen for the clearing of the current output cell\n",
       "var outputEl = gd.closest('.output');\n",
       "if (outputEl) {{\n",
       "    x.observe(outputEl, {childList: true});\n",
       "}}\n",
       "\n",
       "                        })                };                });            </script>        </div>"
      ]
     },
     "metadata": {},
     "output_type": "display_data"
    }
   ],
   "source": [
    "df.iplot(kind='bubble', x='A', y='B', size='C')"
   ]
  },
  {
   "cell_type": "markdown",
   "metadata": {},
   "source": [
    "## Scatter Matrix\n",
    "\n",
    "Similar to `sns.pairplot()`"
   ]
  },
  {
   "cell_type": "code",
   "execution_count": 19,
   "metadata": {},
   "outputs": [
    {
     "data": {
      "application/vnd.plotly.v1+json": {
       "config": {
        "linkText": "Export to plot.ly",
        "plotlyServerURL": "https://plot.ly",
        "showLink": true
       },
       "data": [
        {
         "histfunc": "count",
         "histnorm": "",
         "marker": {
          "color": "rgba(255, 153, 51, 1.0)",
          "line": {
           "color": "#4D5663",
           "width": 1.3
          }
         },
         "name": "A",
         "nbinsx": 10,
         "opacity": 0.8,
         "orientation": "v",
         "type": "histogram",
         "x": [
          2.378704592613066,
          0.7949812084298118,
          0.020347293573050422,
          0.16868777949177213,
          -0.8814220662121459,
          -0.5469894743183308,
          0.6590071765436658,
          0.3613179293562961,
          -1.2147461277054892,
          -1.0717006945379468,
          1.4730551122551672,
          -2.0182139728885113,
          0.862170819233818,
          0.45865902626215327,
          0.8212707351013381,
          -1.0658356940582248,
          0.03295835561673598,
          -0.926351955662341,
          -1.022016441866523,
          0.40418350578692364,
          -0.7181779587551178,
          -0.6886833824381282,
          0.6589900815740977,
          0.3362218418822843,
          -0.8820682824005845,
          0.7525581971493505,
          0.9744354545245969,
          0.3941171740728787,
          -0.3148279512998113,
          0.027511879249834822,
          1.0690736558569764,
          1.945965592580823,
          -0.7404405629930189,
          -0.9320931040826592,
          -0.9725128365556344,
          -0.022925786738108116,
          0.23524105357779349,
          -0.7870873351298374,
          -0.8820383123923283,
          0.5388653659796684,
          0.3467960749027645,
          0.9180377599871524,
          0.7964447306733002,
          0.26387076427638695,
          -1.6624756533038676,
          -0.6588661312752233,
          0.5217396969238294,
          0.8970812642468908,
          -1.3713926827076768,
          -0.4548300287598396,
          -0.045966239535387074,
          1.9282569880928602,
          -0.10928180133163234,
          -1.206470846341257,
          1.507713498434342,
          0.05592745845622738,
          -1.5132312506460328,
          0.47489113129330857,
          -1.3952618471111324,
          0.8038273818921229,
          1.1856349700169242,
          0.16273611112484013,
          -0.12258699650513145,
          1.465768004736537,
          1.2102174987321017,
          -0.7665906106697451,
          1.481523198660766,
          0.0427859215020586,
          0.10498569010405591,
          -0.3532346970575991,
          0.7470035130696405,
          -1.5138294405419948,
          0.39125537467149357,
          1.0554685121921457,
          -1.1603309027478979,
          1.2680819308540339,
          -1.6729243287440783,
          -0.800055858574939,
          -0.06054705752571512,
          -0.9499836719749434,
          -0.814075664122035,
          -1.026934113840444,
          0.3404099087659415,
          -1.0694526605321897,
          -0.8912421592491239,
          -1.0298025520047036,
          -0.8461521807594581,
          0.38163340848760885,
          -0.854143270793631,
          2.7339580890475754,
          -1.1192422975843501,
          -1.2409109590645255,
          -1.6961826901225727,
          -2.531659068148911,
          -0.9385020930493669,
          0.4024336318072811,
          0.5681600037698108,
          1.027833998158066,
          0.29826246449978355,
          1.3920428913571818
         ],
         "xaxis": "x",
         "yaxis": "y"
        },
        {
         "line": {
          "color": "rgba(128, 128, 128, 1.0)",
          "dash": "solid",
          "shape": "linear",
          "width": 1.3
         },
         "marker": {
          "size": 2,
          "symbol": "circle"
         },
         "mode": "markers",
         "name": "A",
         "text": "",
         "type": "scatter",
         "x": [
          -1.4109524815414125,
          1.1282465007801148,
          0.047738942839579426,
          1.1925776700433535,
          -0.6760291052564088,
          0.1790913936831051,
          -0.03351469037462734,
          0.3771657627762725,
          -0.9767022195579985,
          0.21141886110062716,
          0.1584196563489074,
          -0.26903850577050065,
          0.1336348126478488,
          0.5566619988174846,
          0.1068228699217611,
          0.14722205713031677,
          -0.2343686404535711,
          -0.1262077308186696,
          0.2028854190184494,
          -1.184744979491366,
          0.09891423137821188,
          -1.290136702571667,
          0.6610727598457594,
          0.6702717303544894,
          0.0912079810352433,
          -0.9638006134894856,
          0.16094260320748796,
          0.2966406238557308,
          1.2821294846940516,
          -0.067473604084655,
          0.6795513181159056,
          0.5491447905266279,
          -0.689806015680189,
          0.6289590663833551,
          -1.9550310814406153,
          1.3285163272544,
          -0.6016863121951649,
          -2.287052069467176,
          -0.046040797789362084,
          0.6332369562901614,
          -0.7580283974698023,
          -0.06036705191617741,
          -0.1456939613387233,
          -0.5115588069642251,
          -0.9638838012193599,
          1.9645250905586364,
          0.7530690446506421,
          -0.5454797258160548,
          1.1264285526198632,
          0.5309788677230551,
          0.37017010060986144,
          -1.1250898914401306,
          -0.28798151582684817,
          0.5946295317590171,
          -0.3347454800425729,
          0.3149458216962703,
          0.5583138746908815,
          -1.3610380889173985,
          -0.015197888111185916,
          0.5839205545037052,
          0.7950892840941408,
          -0.9638717777634335,
          -1.1790577083086358,
          0.7429474030938845,
          0.3609668315824039,
          1.0454595794961696,
          -1.3695181820018538,
          1.1131185717922327,
          0.5216827552405487,
          0.5073722744981483,
          -0.4022519329950429,
          -0.3158636790719244,
          -0.8504176310575834,
          -0.3903836881740838,
          1.1044927868985561,
          -0.5736934071368204,
          0.7757993030735614,
          0.17272730723566684,
          0.7395094056847753,
          -0.8108546768655773,
          0.8372945924989318,
          0.4622740489612075,
          1.1748008403104275,
          0.3902602603754761,
          0.8569649092316891,
          0.29879524251049244,
          0.12796874998029747,
          0.3150133146889394,
          -0.8190428447575135,
          0.1948280774662253,
          0.39465257829795125,
          0.1448000685913453,
          -0.38815316801875377,
          -0.45750751101059955,
          1.6738795196045138,
          0.13198167186586035,
          -0.4374958634037224,
          -0.3477123127206604,
          -0.08952001727038991,
          0.7885530702008177
         ],
         "xaxis": "x2",
         "y": [
          2.378704592613066,
          0.7949812084298118,
          0.020347293573050422,
          0.16868777949177213,
          -0.8814220662121459,
          -0.5469894743183308,
          0.6590071765436658,
          0.3613179293562961,
          -1.2147461277054892,
          -1.0717006945379468,
          1.4730551122551672,
          -2.0182139728885113,
          0.862170819233818,
          0.45865902626215327,
          0.8212707351013381,
          -1.0658356940582248,
          0.03295835561673598,
          -0.926351955662341,
          -1.022016441866523,
          0.40418350578692364,
          -0.7181779587551178,
          -0.6886833824381282,
          0.6589900815740977,
          0.3362218418822843,
          -0.8820682824005845,
          0.7525581971493505,
          0.9744354545245969,
          0.3941171740728787,
          -0.3148279512998113,
          0.027511879249834822,
          1.0690736558569764,
          1.945965592580823,
          -0.7404405629930189,
          -0.9320931040826592,
          -0.9725128365556344,
          -0.022925786738108116,
          0.23524105357779349,
          -0.7870873351298374,
          -0.8820383123923283,
          0.5388653659796684,
          0.3467960749027645,
          0.9180377599871524,
          0.7964447306733002,
          0.26387076427638695,
          -1.6624756533038676,
          -0.6588661312752233,
          0.5217396969238294,
          0.8970812642468908,
          -1.3713926827076768,
          -0.4548300287598396,
          -0.045966239535387074,
          1.9282569880928602,
          -0.10928180133163234,
          -1.206470846341257,
          1.507713498434342,
          0.05592745845622738,
          -1.5132312506460328,
          0.47489113129330857,
          -1.3952618471111324,
          0.8038273818921229,
          1.1856349700169242,
          0.16273611112484013,
          -0.12258699650513145,
          1.465768004736537,
          1.2102174987321017,
          -0.7665906106697451,
          1.481523198660766,
          0.0427859215020586,
          0.10498569010405591,
          -0.3532346970575991,
          0.7470035130696405,
          -1.5138294405419948,
          0.39125537467149357,
          1.0554685121921457,
          -1.1603309027478979,
          1.2680819308540339,
          -1.6729243287440783,
          -0.800055858574939,
          -0.06054705752571512,
          -0.9499836719749434,
          -0.814075664122035,
          -1.026934113840444,
          0.3404099087659415,
          -1.0694526605321897,
          -0.8912421592491239,
          -1.0298025520047036,
          -0.8461521807594581,
          0.38163340848760885,
          -0.854143270793631,
          2.7339580890475754,
          -1.1192422975843501,
          -1.2409109590645255,
          -1.6961826901225727,
          -2.531659068148911,
          -0.9385020930493669,
          0.4024336318072811,
          0.5681600037698108,
          1.027833998158066,
          0.29826246449978355,
          1.3920428913571818
         ],
         "yaxis": "y2"
        },
        {
         "line": {
          "color": "rgba(128, 128, 128, 1.0)",
          "dash": "solid",
          "shape": "linear",
          "width": 1.3
         },
         "marker": {
          "size": 2,
          "symbol": "circle"
         },
         "mode": "markers",
         "name": "A",
         "text": "",
         "type": "scatter",
         "x": [
          0.17493221116815275,
          0.4793758192571896,
          0.21258612000992697,
          -0.3051805244399655,
          1.0606996103251298,
          -0.10697146465351072,
          -0.3841404221690915,
          1.0423220285351649,
          0.7269093409326219,
          0.38060189034033354,
          -0.1818149422948353,
          -0.6984886674942541,
          -0.313757264337441,
          -0.5486225282889398,
          -0.8331284141437214,
          -0.9162890222393818,
          1.9355482968661735,
          0.02856699038782565,
          0.3410190274668679,
          0.4777408670606353,
          0.4381074363021479,
          0.2517541363746415,
          0.9885168125822753,
          -0.8773476227904854,
          1.5561480585691498,
          -2.024844965224311,
          0.7929513022678248,
          -0.5783851085248758,
          -0.6404510193709894,
          -1.4942629348193786,
          -0.6320513331520645,
          -1.1466143142339078,
          -0.9207009700228542,
          0.36682264310325,
          0.3706522339897603,
          -0.9383474280811428,
          0.5143722551444027,
          1.192968195409823,
          -0.058010055486303454,
          0.6152560354393877,
          -0.16198371675758022,
          -0.4992467396063783,
          -0.06199340598664998,
          0.006860550130539408,
          -0.9495913028319866,
          0.6382815978484642,
          -1.6101490984594868,
          -1.7165502448724768,
          -0.33202346522380916,
          0.03985816668478454,
          -2.1597925789475974,
          0.14616622441014854,
          -1.1168795626046077,
          0.040527964942006646,
          -0.34756079481149277,
          0.37157580086920716,
          0.6992194446323146,
          0.1176846043503712,
          -0.20387503671841584,
          -2.1556288625410005,
          -0.7851953792554399,
          0.6303791296083932,
          1.0445640738455229,
          0.39165825269121296,
          -0.2993021318345419,
          0.6749425174900014,
          1.4021546052004057,
          0.7619064751769392,
          1.5032297286678435,
          -0.4216779445630397,
          -0.026775698664428593,
          -0.7637159902925708,
          0.8657016632682935,
          -0.3349668194768887,
          -0.33387005795860425,
          -0.8085780740314094,
          0.5083782876188743,
          -0.8204219778728703,
          0.17256163186597867,
          1.1174581721446908,
          0.5335563178561191,
          -0.5022592275185176,
          -0.6024752374575938,
          -2.2741222046352596,
          1.2241854682087892,
          1.48630061368994,
          0.6198096295433813,
          -0.15358819522064296,
          0.07320407327786461,
          -1.259567699690709,
          -0.046221509263831714,
          -0.5890848916747219,
          2.5599191631892237,
          1.0035106960672098,
          0.32536719790756413,
          0.1995208286177687,
          0.9254501325588356,
          0.31498373218774767,
          -0.3594515185934348,
          -0.7503454120001366
         ],
         "xaxis": "x3",
         "y": [
          2.378704592613066,
          0.7949812084298118,
          0.020347293573050422,
          0.16868777949177213,
          -0.8814220662121459,
          -0.5469894743183308,
          0.6590071765436658,
          0.3613179293562961,
          -1.2147461277054892,
          -1.0717006945379468,
          1.4730551122551672,
          -2.0182139728885113,
          0.862170819233818,
          0.45865902626215327,
          0.8212707351013381,
          -1.0658356940582248,
          0.03295835561673598,
          -0.926351955662341,
          -1.022016441866523,
          0.40418350578692364,
          -0.7181779587551178,
          -0.6886833824381282,
          0.6589900815740977,
          0.3362218418822843,
          -0.8820682824005845,
          0.7525581971493505,
          0.9744354545245969,
          0.3941171740728787,
          -0.3148279512998113,
          0.027511879249834822,
          1.0690736558569764,
          1.945965592580823,
          -0.7404405629930189,
          -0.9320931040826592,
          -0.9725128365556344,
          -0.022925786738108116,
          0.23524105357779349,
          -0.7870873351298374,
          -0.8820383123923283,
          0.5388653659796684,
          0.3467960749027645,
          0.9180377599871524,
          0.7964447306733002,
          0.26387076427638695,
          -1.6624756533038676,
          -0.6588661312752233,
          0.5217396969238294,
          0.8970812642468908,
          -1.3713926827076768,
          -0.4548300287598396,
          -0.045966239535387074,
          1.9282569880928602,
          -0.10928180133163234,
          -1.206470846341257,
          1.507713498434342,
          0.05592745845622738,
          -1.5132312506460328,
          0.47489113129330857,
          -1.3952618471111324,
          0.8038273818921229,
          1.1856349700169242,
          0.16273611112484013,
          -0.12258699650513145,
          1.465768004736537,
          1.2102174987321017,
          -0.7665906106697451,
          1.481523198660766,
          0.0427859215020586,
          0.10498569010405591,
          -0.3532346970575991,
          0.7470035130696405,
          -1.5138294405419948,
          0.39125537467149357,
          1.0554685121921457,
          -1.1603309027478979,
          1.2680819308540339,
          -1.6729243287440783,
          -0.800055858574939,
          -0.06054705752571512,
          -0.9499836719749434,
          -0.814075664122035,
          -1.026934113840444,
          0.3404099087659415,
          -1.0694526605321897,
          -0.8912421592491239,
          -1.0298025520047036,
          -0.8461521807594581,
          0.38163340848760885,
          -0.854143270793631,
          2.7339580890475754,
          -1.1192422975843501,
          -1.2409109590645255,
          -1.6961826901225727,
          -2.531659068148911,
          -0.9385020930493669,
          0.4024336318072811,
          0.5681600037698108,
          1.027833998158066,
          0.29826246449978355,
          1.3920428913571818
         ],
         "yaxis": "y3"
        },
        {
         "line": {
          "color": "rgba(128, 128, 128, 1.0)",
          "dash": "solid",
          "shape": "linear",
          "width": 1.3
         },
         "marker": {
          "size": 2,
          "symbol": "circle"
         },
         "mode": "markers",
         "name": "A",
         "text": "",
         "type": "scatter",
         "x": [
          -0.018385070907257328,
          0.06962125358790339,
          -0.6626264273228573,
          -0.015385100683070094,
          2.7658895454036148,
          1.1268982815346882,
          0.42766094342591576,
          0.744999551395111,
          0.6274136542261247,
          0.5657899549138765,
          -1.0234175798834177,
          -1.8869624708304624,
          -1.13657899165744,
          -1.8505678703324018,
          1.842502108958259,
          -0.6795722642626434,
          1.3841049075876044,
          -0.8274659008208299,
          -1.5610244576737744,
          -0.6721971880176133,
          0.8007358771232236,
          -1.0684345815995333,
          0.5498855666169603,
          -0.9292363556347426,
          0.5750784813022343,
          0.8492057141704004,
          0.21535279068720967,
          2.270467141616758,
          0.9093378482170529,
          1.6633660459671185,
          2.342937325319705,
          -1.2420407626498153,
          -0.047286911120520705,
          -0.5417172144800272,
          1.4930684630441913,
          -0.9128095513386675,
          0.06182797314151452,
          -1.5290323843430564,
          1.3122813038828185,
          -0.5386952611976297,
          -0.3221364482167507,
          0.06967063201639041,
          0.69679577306518,
          0.4054792389874191,
          -1.982921060868619,
          0.15133432088554055,
          1.1229114452362143,
          -0.46082353298472795,
          0.8640013578042112,
          0.5065297393613364,
          1.4761671807423808,
          0.7614721166438643,
          0.28665884630755833,
          -1.073003598555776,
          0.05998038876479074,
          0.5426245589448745,
          0.7938739440389128,
          -0.7771581848769925,
          -0.23607492447418005,
          0.565798778011827,
          -2.3821262382788104,
          1.3042170922242016,
          -0.10538740443498984,
          -0.27424523494404707,
          0.9350127849296727,
          0.3614390527115907,
          -0.5209936457773134,
          -2.101927634552361,
          0.24222570174319777,
          -0.17760446106716765,
          -0.677205711348729,
          0.9581402420532362,
          -0.4100866127433445,
          1.5559386410443146,
          -0.514555899641962,
          0.35978373956063303,
          -1.3293861192761252,
          0.057897283960288516,
          -0.8771718673938348,
          -0.2850658346709371,
          -1.6440962515421318,
          -1.0506128896191553,
          -0.2834438891401006,
          0.6107830985099255,
          -0.4633452133162602,
          0.4282306074897751,
          0.422929509013625,
          -1.6577349278122488,
          2.016555349435422,
          -0.9028541528919203,
          -1.6354240777107187,
          0.8443344404829118,
          0.1616149958644247,
          -0.9661661712101364,
          -1.3952367043412177,
          0.7314235730413206,
          0.2755388647011913,
          0.363609002051579,
          0.15429612934553036,
          0.4739733043293338
         ],
         "xaxis": "x4",
         "y": [
          2.378704592613066,
          0.7949812084298118,
          0.020347293573050422,
          0.16868777949177213,
          -0.8814220662121459,
          -0.5469894743183308,
          0.6590071765436658,
          0.3613179293562961,
          -1.2147461277054892,
          -1.0717006945379468,
          1.4730551122551672,
          -2.0182139728885113,
          0.862170819233818,
          0.45865902626215327,
          0.8212707351013381,
          -1.0658356940582248,
          0.03295835561673598,
          -0.926351955662341,
          -1.022016441866523,
          0.40418350578692364,
          -0.7181779587551178,
          -0.6886833824381282,
          0.6589900815740977,
          0.3362218418822843,
          -0.8820682824005845,
          0.7525581971493505,
          0.9744354545245969,
          0.3941171740728787,
          -0.3148279512998113,
          0.027511879249834822,
          1.0690736558569764,
          1.945965592580823,
          -0.7404405629930189,
          -0.9320931040826592,
          -0.9725128365556344,
          -0.022925786738108116,
          0.23524105357779349,
          -0.7870873351298374,
          -0.8820383123923283,
          0.5388653659796684,
          0.3467960749027645,
          0.9180377599871524,
          0.7964447306733002,
          0.26387076427638695,
          -1.6624756533038676,
          -0.6588661312752233,
          0.5217396969238294,
          0.8970812642468908,
          -1.3713926827076768,
          -0.4548300287598396,
          -0.045966239535387074,
          1.9282569880928602,
          -0.10928180133163234,
          -1.206470846341257,
          1.507713498434342,
          0.05592745845622738,
          -1.5132312506460328,
          0.47489113129330857,
          -1.3952618471111324,
          0.8038273818921229,
          1.1856349700169242,
          0.16273611112484013,
          -0.12258699650513145,
          1.465768004736537,
          1.2102174987321017,
          -0.7665906106697451,
          1.481523198660766,
          0.0427859215020586,
          0.10498569010405591,
          -0.3532346970575991,
          0.7470035130696405,
          -1.5138294405419948,
          0.39125537467149357,
          1.0554685121921457,
          -1.1603309027478979,
          1.2680819308540339,
          -1.6729243287440783,
          -0.800055858574939,
          -0.06054705752571512,
          -0.9499836719749434,
          -0.814075664122035,
          -1.026934113840444,
          0.3404099087659415,
          -1.0694526605321897,
          -0.8912421592491239,
          -1.0298025520047036,
          -0.8461521807594581,
          0.38163340848760885,
          -0.854143270793631,
          2.7339580890475754,
          -1.1192422975843501,
          -1.2409109590645255,
          -1.6961826901225727,
          -2.531659068148911,
          -0.9385020930493669,
          0.4024336318072811,
          0.5681600037698108,
          1.027833998158066,
          0.29826246449978355,
          1.3920428913571818
         ],
         "yaxis": "y4"
        },
        {
         "line": {
          "color": "rgba(128, 128, 128, 1.0)",
          "dash": "solid",
          "shape": "linear",
          "width": 1.3
         },
         "marker": {
          "size": 2,
          "symbol": "circle"
         },
         "mode": "markers",
         "name": "B",
         "text": "",
         "type": "scatter",
         "x": [
          2.378704592613066,
          0.7949812084298118,
          0.020347293573050422,
          0.16868777949177213,
          -0.8814220662121459,
          -0.5469894743183308,
          0.6590071765436658,
          0.3613179293562961,
          -1.2147461277054892,
          -1.0717006945379468,
          1.4730551122551672,
          -2.0182139728885113,
          0.862170819233818,
          0.45865902626215327,
          0.8212707351013381,
          -1.0658356940582248,
          0.03295835561673598,
          -0.926351955662341,
          -1.022016441866523,
          0.40418350578692364,
          -0.7181779587551178,
          -0.6886833824381282,
          0.6589900815740977,
          0.3362218418822843,
          -0.8820682824005845,
          0.7525581971493505,
          0.9744354545245969,
          0.3941171740728787,
          -0.3148279512998113,
          0.027511879249834822,
          1.0690736558569764,
          1.945965592580823,
          -0.7404405629930189,
          -0.9320931040826592,
          -0.9725128365556344,
          -0.022925786738108116,
          0.23524105357779349,
          -0.7870873351298374,
          -0.8820383123923283,
          0.5388653659796684,
          0.3467960749027645,
          0.9180377599871524,
          0.7964447306733002,
          0.26387076427638695,
          -1.6624756533038676,
          -0.6588661312752233,
          0.5217396969238294,
          0.8970812642468908,
          -1.3713926827076768,
          -0.4548300287598396,
          -0.045966239535387074,
          1.9282569880928602,
          -0.10928180133163234,
          -1.206470846341257,
          1.507713498434342,
          0.05592745845622738,
          -1.5132312506460328,
          0.47489113129330857,
          -1.3952618471111324,
          0.8038273818921229,
          1.1856349700169242,
          0.16273611112484013,
          -0.12258699650513145,
          1.465768004736537,
          1.2102174987321017,
          -0.7665906106697451,
          1.481523198660766,
          0.0427859215020586,
          0.10498569010405591,
          -0.3532346970575991,
          0.7470035130696405,
          -1.5138294405419948,
          0.39125537467149357,
          1.0554685121921457,
          -1.1603309027478979,
          1.2680819308540339,
          -1.6729243287440783,
          -0.800055858574939,
          -0.06054705752571512,
          -0.9499836719749434,
          -0.814075664122035,
          -1.026934113840444,
          0.3404099087659415,
          -1.0694526605321897,
          -0.8912421592491239,
          -1.0298025520047036,
          -0.8461521807594581,
          0.38163340848760885,
          -0.854143270793631,
          2.7339580890475754,
          -1.1192422975843501,
          -1.2409109590645255,
          -1.6961826901225727,
          -2.531659068148911,
          -0.9385020930493669,
          0.4024336318072811,
          0.5681600037698108,
          1.027833998158066,
          0.29826246449978355,
          1.3920428913571818
         ],
         "xaxis": "x5",
         "y": [
          -1.4109524815414125,
          1.1282465007801148,
          0.047738942839579426,
          1.1925776700433535,
          -0.6760291052564088,
          0.1790913936831051,
          -0.03351469037462734,
          0.3771657627762725,
          -0.9767022195579985,
          0.21141886110062716,
          0.1584196563489074,
          -0.26903850577050065,
          0.1336348126478488,
          0.5566619988174846,
          0.1068228699217611,
          0.14722205713031677,
          -0.2343686404535711,
          -0.1262077308186696,
          0.2028854190184494,
          -1.184744979491366,
          0.09891423137821188,
          -1.290136702571667,
          0.6610727598457594,
          0.6702717303544894,
          0.0912079810352433,
          -0.9638006134894856,
          0.16094260320748796,
          0.2966406238557308,
          1.2821294846940516,
          -0.067473604084655,
          0.6795513181159056,
          0.5491447905266279,
          -0.689806015680189,
          0.6289590663833551,
          -1.9550310814406153,
          1.3285163272544,
          -0.6016863121951649,
          -2.287052069467176,
          -0.046040797789362084,
          0.6332369562901614,
          -0.7580283974698023,
          -0.06036705191617741,
          -0.1456939613387233,
          -0.5115588069642251,
          -0.9638838012193599,
          1.9645250905586364,
          0.7530690446506421,
          -0.5454797258160548,
          1.1264285526198632,
          0.5309788677230551,
          0.37017010060986144,
          -1.1250898914401306,
          -0.28798151582684817,
          0.5946295317590171,
          -0.3347454800425729,
          0.3149458216962703,
          0.5583138746908815,
          -1.3610380889173985,
          -0.015197888111185916,
          0.5839205545037052,
          0.7950892840941408,
          -0.9638717777634335,
          -1.1790577083086358,
          0.7429474030938845,
          0.3609668315824039,
          1.0454595794961696,
          -1.3695181820018538,
          1.1131185717922327,
          0.5216827552405487,
          0.5073722744981483,
          -0.4022519329950429,
          -0.3158636790719244,
          -0.8504176310575834,
          -0.3903836881740838,
          1.1044927868985561,
          -0.5736934071368204,
          0.7757993030735614,
          0.17272730723566684,
          0.7395094056847753,
          -0.8108546768655773,
          0.8372945924989318,
          0.4622740489612075,
          1.1748008403104275,
          0.3902602603754761,
          0.8569649092316891,
          0.29879524251049244,
          0.12796874998029747,
          0.3150133146889394,
          -0.8190428447575135,
          0.1948280774662253,
          0.39465257829795125,
          0.1448000685913453,
          -0.38815316801875377,
          -0.45750751101059955,
          1.6738795196045138,
          0.13198167186586035,
          -0.4374958634037224,
          -0.3477123127206604,
          -0.08952001727038991,
          0.7885530702008177
         ],
         "yaxis": "y5"
        },
        {
         "histfunc": "count",
         "histnorm": "",
         "marker": {
          "color": "rgba(55, 128, 191, 1.0)",
          "line": {
           "color": "#4D5663",
           "width": 1.3
          }
         },
         "name": "B",
         "nbinsx": 10,
         "opacity": 0.8,
         "orientation": "v",
         "type": "histogram",
         "x": [
          -1.4109524815414125,
          1.1282465007801148,
          0.047738942839579426,
          1.1925776700433535,
          -0.6760291052564088,
          0.1790913936831051,
          -0.03351469037462734,
          0.3771657627762725,
          -0.9767022195579985,
          0.21141886110062716,
          0.1584196563489074,
          -0.26903850577050065,
          0.1336348126478488,
          0.5566619988174846,
          0.1068228699217611,
          0.14722205713031677,
          -0.2343686404535711,
          -0.1262077308186696,
          0.2028854190184494,
          -1.184744979491366,
          0.09891423137821188,
          -1.290136702571667,
          0.6610727598457594,
          0.6702717303544894,
          0.0912079810352433,
          -0.9638006134894856,
          0.16094260320748796,
          0.2966406238557308,
          1.2821294846940516,
          -0.067473604084655,
          0.6795513181159056,
          0.5491447905266279,
          -0.689806015680189,
          0.6289590663833551,
          -1.9550310814406153,
          1.3285163272544,
          -0.6016863121951649,
          -2.287052069467176,
          -0.046040797789362084,
          0.6332369562901614,
          -0.7580283974698023,
          -0.06036705191617741,
          -0.1456939613387233,
          -0.5115588069642251,
          -0.9638838012193599,
          1.9645250905586364,
          0.7530690446506421,
          -0.5454797258160548,
          1.1264285526198632,
          0.5309788677230551,
          0.37017010060986144,
          -1.1250898914401306,
          -0.28798151582684817,
          0.5946295317590171,
          -0.3347454800425729,
          0.3149458216962703,
          0.5583138746908815,
          -1.3610380889173985,
          -0.015197888111185916,
          0.5839205545037052,
          0.7950892840941408,
          -0.9638717777634335,
          -1.1790577083086358,
          0.7429474030938845,
          0.3609668315824039,
          1.0454595794961696,
          -1.3695181820018538,
          1.1131185717922327,
          0.5216827552405487,
          0.5073722744981483,
          -0.4022519329950429,
          -0.3158636790719244,
          -0.8504176310575834,
          -0.3903836881740838,
          1.1044927868985561,
          -0.5736934071368204,
          0.7757993030735614,
          0.17272730723566684,
          0.7395094056847753,
          -0.8108546768655773,
          0.8372945924989318,
          0.4622740489612075,
          1.1748008403104275,
          0.3902602603754761,
          0.8569649092316891,
          0.29879524251049244,
          0.12796874998029747,
          0.3150133146889394,
          -0.8190428447575135,
          0.1948280774662253,
          0.39465257829795125,
          0.1448000685913453,
          -0.38815316801875377,
          -0.45750751101059955,
          1.6738795196045138,
          0.13198167186586035,
          -0.4374958634037224,
          -0.3477123127206604,
          -0.08952001727038991,
          0.7885530702008177
         ],
         "xaxis": "x6",
         "yaxis": "y6"
        },
        {
         "line": {
          "color": "rgba(128, 128, 128, 1.0)",
          "dash": "solid",
          "shape": "linear",
          "width": 1.3
         },
         "marker": {
          "size": 2,
          "symbol": "circle"
         },
         "mode": "markers",
         "name": "B",
         "text": "",
         "type": "scatter",
         "x": [
          0.17493221116815275,
          0.4793758192571896,
          0.21258612000992697,
          -0.3051805244399655,
          1.0606996103251298,
          -0.10697146465351072,
          -0.3841404221690915,
          1.0423220285351649,
          0.7269093409326219,
          0.38060189034033354,
          -0.1818149422948353,
          -0.6984886674942541,
          -0.313757264337441,
          -0.5486225282889398,
          -0.8331284141437214,
          -0.9162890222393818,
          1.9355482968661735,
          0.02856699038782565,
          0.3410190274668679,
          0.4777408670606353,
          0.4381074363021479,
          0.2517541363746415,
          0.9885168125822753,
          -0.8773476227904854,
          1.5561480585691498,
          -2.024844965224311,
          0.7929513022678248,
          -0.5783851085248758,
          -0.6404510193709894,
          -1.4942629348193786,
          -0.6320513331520645,
          -1.1466143142339078,
          -0.9207009700228542,
          0.36682264310325,
          0.3706522339897603,
          -0.9383474280811428,
          0.5143722551444027,
          1.192968195409823,
          -0.058010055486303454,
          0.6152560354393877,
          -0.16198371675758022,
          -0.4992467396063783,
          -0.06199340598664998,
          0.006860550130539408,
          -0.9495913028319866,
          0.6382815978484642,
          -1.6101490984594868,
          -1.7165502448724768,
          -0.33202346522380916,
          0.03985816668478454,
          -2.1597925789475974,
          0.14616622441014854,
          -1.1168795626046077,
          0.040527964942006646,
          -0.34756079481149277,
          0.37157580086920716,
          0.6992194446323146,
          0.1176846043503712,
          -0.20387503671841584,
          -2.1556288625410005,
          -0.7851953792554399,
          0.6303791296083932,
          1.0445640738455229,
          0.39165825269121296,
          -0.2993021318345419,
          0.6749425174900014,
          1.4021546052004057,
          0.7619064751769392,
          1.5032297286678435,
          -0.4216779445630397,
          -0.026775698664428593,
          -0.7637159902925708,
          0.8657016632682935,
          -0.3349668194768887,
          -0.33387005795860425,
          -0.8085780740314094,
          0.5083782876188743,
          -0.8204219778728703,
          0.17256163186597867,
          1.1174581721446908,
          0.5335563178561191,
          -0.5022592275185176,
          -0.6024752374575938,
          -2.2741222046352596,
          1.2241854682087892,
          1.48630061368994,
          0.6198096295433813,
          -0.15358819522064296,
          0.07320407327786461,
          -1.259567699690709,
          -0.046221509263831714,
          -0.5890848916747219,
          2.5599191631892237,
          1.0035106960672098,
          0.32536719790756413,
          0.1995208286177687,
          0.9254501325588356,
          0.31498373218774767,
          -0.3594515185934348,
          -0.7503454120001366
         ],
         "xaxis": "x7",
         "y": [
          -1.4109524815414125,
          1.1282465007801148,
          0.047738942839579426,
          1.1925776700433535,
          -0.6760291052564088,
          0.1790913936831051,
          -0.03351469037462734,
          0.3771657627762725,
          -0.9767022195579985,
          0.21141886110062716,
          0.1584196563489074,
          -0.26903850577050065,
          0.1336348126478488,
          0.5566619988174846,
          0.1068228699217611,
          0.14722205713031677,
          -0.2343686404535711,
          -0.1262077308186696,
          0.2028854190184494,
          -1.184744979491366,
          0.09891423137821188,
          -1.290136702571667,
          0.6610727598457594,
          0.6702717303544894,
          0.0912079810352433,
          -0.9638006134894856,
          0.16094260320748796,
          0.2966406238557308,
          1.2821294846940516,
          -0.067473604084655,
          0.6795513181159056,
          0.5491447905266279,
          -0.689806015680189,
          0.6289590663833551,
          -1.9550310814406153,
          1.3285163272544,
          -0.6016863121951649,
          -2.287052069467176,
          -0.046040797789362084,
          0.6332369562901614,
          -0.7580283974698023,
          -0.06036705191617741,
          -0.1456939613387233,
          -0.5115588069642251,
          -0.9638838012193599,
          1.9645250905586364,
          0.7530690446506421,
          -0.5454797258160548,
          1.1264285526198632,
          0.5309788677230551,
          0.37017010060986144,
          -1.1250898914401306,
          -0.28798151582684817,
          0.5946295317590171,
          -0.3347454800425729,
          0.3149458216962703,
          0.5583138746908815,
          -1.3610380889173985,
          -0.015197888111185916,
          0.5839205545037052,
          0.7950892840941408,
          -0.9638717777634335,
          -1.1790577083086358,
          0.7429474030938845,
          0.3609668315824039,
          1.0454595794961696,
          -1.3695181820018538,
          1.1131185717922327,
          0.5216827552405487,
          0.5073722744981483,
          -0.4022519329950429,
          -0.3158636790719244,
          -0.8504176310575834,
          -0.3903836881740838,
          1.1044927868985561,
          -0.5736934071368204,
          0.7757993030735614,
          0.17272730723566684,
          0.7395094056847753,
          -0.8108546768655773,
          0.8372945924989318,
          0.4622740489612075,
          1.1748008403104275,
          0.3902602603754761,
          0.8569649092316891,
          0.29879524251049244,
          0.12796874998029747,
          0.3150133146889394,
          -0.8190428447575135,
          0.1948280774662253,
          0.39465257829795125,
          0.1448000685913453,
          -0.38815316801875377,
          -0.45750751101059955,
          1.6738795196045138,
          0.13198167186586035,
          -0.4374958634037224,
          -0.3477123127206604,
          -0.08952001727038991,
          0.7885530702008177
         ],
         "yaxis": "y7"
        },
        {
         "line": {
          "color": "rgba(128, 128, 128, 1.0)",
          "dash": "solid",
          "shape": "linear",
          "width": 1.3
         },
         "marker": {
          "size": 2,
          "symbol": "circle"
         },
         "mode": "markers",
         "name": "B",
         "text": "",
         "type": "scatter",
         "x": [
          -0.018385070907257328,
          0.06962125358790339,
          -0.6626264273228573,
          -0.015385100683070094,
          2.7658895454036148,
          1.1268982815346882,
          0.42766094342591576,
          0.744999551395111,
          0.6274136542261247,
          0.5657899549138765,
          -1.0234175798834177,
          -1.8869624708304624,
          -1.13657899165744,
          -1.8505678703324018,
          1.842502108958259,
          -0.6795722642626434,
          1.3841049075876044,
          -0.8274659008208299,
          -1.5610244576737744,
          -0.6721971880176133,
          0.8007358771232236,
          -1.0684345815995333,
          0.5498855666169603,
          -0.9292363556347426,
          0.5750784813022343,
          0.8492057141704004,
          0.21535279068720967,
          2.270467141616758,
          0.9093378482170529,
          1.6633660459671185,
          2.342937325319705,
          -1.2420407626498153,
          -0.047286911120520705,
          -0.5417172144800272,
          1.4930684630441913,
          -0.9128095513386675,
          0.06182797314151452,
          -1.5290323843430564,
          1.3122813038828185,
          -0.5386952611976297,
          -0.3221364482167507,
          0.06967063201639041,
          0.69679577306518,
          0.4054792389874191,
          -1.982921060868619,
          0.15133432088554055,
          1.1229114452362143,
          -0.46082353298472795,
          0.8640013578042112,
          0.5065297393613364,
          1.4761671807423808,
          0.7614721166438643,
          0.28665884630755833,
          -1.073003598555776,
          0.05998038876479074,
          0.5426245589448745,
          0.7938739440389128,
          -0.7771581848769925,
          -0.23607492447418005,
          0.565798778011827,
          -2.3821262382788104,
          1.3042170922242016,
          -0.10538740443498984,
          -0.27424523494404707,
          0.9350127849296727,
          0.3614390527115907,
          -0.5209936457773134,
          -2.101927634552361,
          0.24222570174319777,
          -0.17760446106716765,
          -0.677205711348729,
          0.9581402420532362,
          -0.4100866127433445,
          1.5559386410443146,
          -0.514555899641962,
          0.35978373956063303,
          -1.3293861192761252,
          0.057897283960288516,
          -0.8771718673938348,
          -0.2850658346709371,
          -1.6440962515421318,
          -1.0506128896191553,
          -0.2834438891401006,
          0.6107830985099255,
          -0.4633452133162602,
          0.4282306074897751,
          0.422929509013625,
          -1.6577349278122488,
          2.016555349435422,
          -0.9028541528919203,
          -1.6354240777107187,
          0.8443344404829118,
          0.1616149958644247,
          -0.9661661712101364,
          -1.3952367043412177,
          0.7314235730413206,
          0.2755388647011913,
          0.363609002051579,
          0.15429612934553036,
          0.4739733043293338
         ],
         "xaxis": "x8",
         "y": [
          -1.4109524815414125,
          1.1282465007801148,
          0.047738942839579426,
          1.1925776700433535,
          -0.6760291052564088,
          0.1790913936831051,
          -0.03351469037462734,
          0.3771657627762725,
          -0.9767022195579985,
          0.21141886110062716,
          0.1584196563489074,
          -0.26903850577050065,
          0.1336348126478488,
          0.5566619988174846,
          0.1068228699217611,
          0.14722205713031677,
          -0.2343686404535711,
          -0.1262077308186696,
          0.2028854190184494,
          -1.184744979491366,
          0.09891423137821188,
          -1.290136702571667,
          0.6610727598457594,
          0.6702717303544894,
          0.0912079810352433,
          -0.9638006134894856,
          0.16094260320748796,
          0.2966406238557308,
          1.2821294846940516,
          -0.067473604084655,
          0.6795513181159056,
          0.5491447905266279,
          -0.689806015680189,
          0.6289590663833551,
          -1.9550310814406153,
          1.3285163272544,
          -0.6016863121951649,
          -2.287052069467176,
          -0.046040797789362084,
          0.6332369562901614,
          -0.7580283974698023,
          -0.06036705191617741,
          -0.1456939613387233,
          -0.5115588069642251,
          -0.9638838012193599,
          1.9645250905586364,
          0.7530690446506421,
          -0.5454797258160548,
          1.1264285526198632,
          0.5309788677230551,
          0.37017010060986144,
          -1.1250898914401306,
          -0.28798151582684817,
          0.5946295317590171,
          -0.3347454800425729,
          0.3149458216962703,
          0.5583138746908815,
          -1.3610380889173985,
          -0.015197888111185916,
          0.5839205545037052,
          0.7950892840941408,
          -0.9638717777634335,
          -1.1790577083086358,
          0.7429474030938845,
          0.3609668315824039,
          1.0454595794961696,
          -1.3695181820018538,
          1.1131185717922327,
          0.5216827552405487,
          0.5073722744981483,
          -0.4022519329950429,
          -0.3158636790719244,
          -0.8504176310575834,
          -0.3903836881740838,
          1.1044927868985561,
          -0.5736934071368204,
          0.7757993030735614,
          0.17272730723566684,
          0.7395094056847753,
          -0.8108546768655773,
          0.8372945924989318,
          0.4622740489612075,
          1.1748008403104275,
          0.3902602603754761,
          0.8569649092316891,
          0.29879524251049244,
          0.12796874998029747,
          0.3150133146889394,
          -0.8190428447575135,
          0.1948280774662253,
          0.39465257829795125,
          0.1448000685913453,
          -0.38815316801875377,
          -0.45750751101059955,
          1.6738795196045138,
          0.13198167186586035,
          -0.4374958634037224,
          -0.3477123127206604,
          -0.08952001727038991,
          0.7885530702008177
         ],
         "yaxis": "y8"
        },
        {
         "line": {
          "color": "rgba(128, 128, 128, 1.0)",
          "dash": "solid",
          "shape": "linear",
          "width": 1.3
         },
         "marker": {
          "size": 2,
          "symbol": "circle"
         },
         "mode": "markers",
         "name": "C",
         "text": "",
         "type": "scatter",
         "x": [
          2.378704592613066,
          0.7949812084298118,
          0.020347293573050422,
          0.16868777949177213,
          -0.8814220662121459,
          -0.5469894743183308,
          0.6590071765436658,
          0.3613179293562961,
          -1.2147461277054892,
          -1.0717006945379468,
          1.4730551122551672,
          -2.0182139728885113,
          0.862170819233818,
          0.45865902626215327,
          0.8212707351013381,
          -1.0658356940582248,
          0.03295835561673598,
          -0.926351955662341,
          -1.022016441866523,
          0.40418350578692364,
          -0.7181779587551178,
          -0.6886833824381282,
          0.6589900815740977,
          0.3362218418822843,
          -0.8820682824005845,
          0.7525581971493505,
          0.9744354545245969,
          0.3941171740728787,
          -0.3148279512998113,
          0.027511879249834822,
          1.0690736558569764,
          1.945965592580823,
          -0.7404405629930189,
          -0.9320931040826592,
          -0.9725128365556344,
          -0.022925786738108116,
          0.23524105357779349,
          -0.7870873351298374,
          -0.8820383123923283,
          0.5388653659796684,
          0.3467960749027645,
          0.9180377599871524,
          0.7964447306733002,
          0.26387076427638695,
          -1.6624756533038676,
          -0.6588661312752233,
          0.5217396969238294,
          0.8970812642468908,
          -1.3713926827076768,
          -0.4548300287598396,
          -0.045966239535387074,
          1.9282569880928602,
          -0.10928180133163234,
          -1.206470846341257,
          1.507713498434342,
          0.05592745845622738,
          -1.5132312506460328,
          0.47489113129330857,
          -1.3952618471111324,
          0.8038273818921229,
          1.1856349700169242,
          0.16273611112484013,
          -0.12258699650513145,
          1.465768004736537,
          1.2102174987321017,
          -0.7665906106697451,
          1.481523198660766,
          0.0427859215020586,
          0.10498569010405591,
          -0.3532346970575991,
          0.7470035130696405,
          -1.5138294405419948,
          0.39125537467149357,
          1.0554685121921457,
          -1.1603309027478979,
          1.2680819308540339,
          -1.6729243287440783,
          -0.800055858574939,
          -0.06054705752571512,
          -0.9499836719749434,
          -0.814075664122035,
          -1.026934113840444,
          0.3404099087659415,
          -1.0694526605321897,
          -0.8912421592491239,
          -1.0298025520047036,
          -0.8461521807594581,
          0.38163340848760885,
          -0.854143270793631,
          2.7339580890475754,
          -1.1192422975843501,
          -1.2409109590645255,
          -1.6961826901225727,
          -2.531659068148911,
          -0.9385020930493669,
          0.4024336318072811,
          0.5681600037698108,
          1.027833998158066,
          0.29826246449978355,
          1.3920428913571818
         ],
         "xaxis": "x9",
         "y": [
          0.17493221116815275,
          0.4793758192571896,
          0.21258612000992697,
          -0.3051805244399655,
          1.0606996103251298,
          -0.10697146465351072,
          -0.3841404221690915,
          1.0423220285351649,
          0.7269093409326219,
          0.38060189034033354,
          -0.1818149422948353,
          -0.6984886674942541,
          -0.313757264337441,
          -0.5486225282889398,
          -0.8331284141437214,
          -0.9162890222393818,
          1.9355482968661735,
          0.02856699038782565,
          0.3410190274668679,
          0.4777408670606353,
          0.4381074363021479,
          0.2517541363746415,
          0.9885168125822753,
          -0.8773476227904854,
          1.5561480585691498,
          -2.024844965224311,
          0.7929513022678248,
          -0.5783851085248758,
          -0.6404510193709894,
          -1.4942629348193786,
          -0.6320513331520645,
          -1.1466143142339078,
          -0.9207009700228542,
          0.36682264310325,
          0.3706522339897603,
          -0.9383474280811428,
          0.5143722551444027,
          1.192968195409823,
          -0.058010055486303454,
          0.6152560354393877,
          -0.16198371675758022,
          -0.4992467396063783,
          -0.06199340598664998,
          0.006860550130539408,
          -0.9495913028319866,
          0.6382815978484642,
          -1.6101490984594868,
          -1.7165502448724768,
          -0.33202346522380916,
          0.03985816668478454,
          -2.1597925789475974,
          0.14616622441014854,
          -1.1168795626046077,
          0.040527964942006646,
          -0.34756079481149277,
          0.37157580086920716,
          0.6992194446323146,
          0.1176846043503712,
          -0.20387503671841584,
          -2.1556288625410005,
          -0.7851953792554399,
          0.6303791296083932,
          1.0445640738455229,
          0.39165825269121296,
          -0.2993021318345419,
          0.6749425174900014,
          1.4021546052004057,
          0.7619064751769392,
          1.5032297286678435,
          -0.4216779445630397,
          -0.026775698664428593,
          -0.7637159902925708,
          0.8657016632682935,
          -0.3349668194768887,
          -0.33387005795860425,
          -0.8085780740314094,
          0.5083782876188743,
          -0.8204219778728703,
          0.17256163186597867,
          1.1174581721446908,
          0.5335563178561191,
          -0.5022592275185176,
          -0.6024752374575938,
          -2.2741222046352596,
          1.2241854682087892,
          1.48630061368994,
          0.6198096295433813,
          -0.15358819522064296,
          0.07320407327786461,
          -1.259567699690709,
          -0.046221509263831714,
          -0.5890848916747219,
          2.5599191631892237,
          1.0035106960672098,
          0.32536719790756413,
          0.1995208286177687,
          0.9254501325588356,
          0.31498373218774767,
          -0.3594515185934348,
          -0.7503454120001366
         ],
         "yaxis": "y9"
        },
        {
         "line": {
          "color": "rgba(128, 128, 128, 1.0)",
          "dash": "solid",
          "shape": "linear",
          "width": 1.3
         },
         "marker": {
          "size": 2,
          "symbol": "circle"
         },
         "mode": "markers",
         "name": "C",
         "text": "",
         "type": "scatter",
         "x": [
          -1.4109524815414125,
          1.1282465007801148,
          0.047738942839579426,
          1.1925776700433535,
          -0.6760291052564088,
          0.1790913936831051,
          -0.03351469037462734,
          0.3771657627762725,
          -0.9767022195579985,
          0.21141886110062716,
          0.1584196563489074,
          -0.26903850577050065,
          0.1336348126478488,
          0.5566619988174846,
          0.1068228699217611,
          0.14722205713031677,
          -0.2343686404535711,
          -0.1262077308186696,
          0.2028854190184494,
          -1.184744979491366,
          0.09891423137821188,
          -1.290136702571667,
          0.6610727598457594,
          0.6702717303544894,
          0.0912079810352433,
          -0.9638006134894856,
          0.16094260320748796,
          0.2966406238557308,
          1.2821294846940516,
          -0.067473604084655,
          0.6795513181159056,
          0.5491447905266279,
          -0.689806015680189,
          0.6289590663833551,
          -1.9550310814406153,
          1.3285163272544,
          -0.6016863121951649,
          -2.287052069467176,
          -0.046040797789362084,
          0.6332369562901614,
          -0.7580283974698023,
          -0.06036705191617741,
          -0.1456939613387233,
          -0.5115588069642251,
          -0.9638838012193599,
          1.9645250905586364,
          0.7530690446506421,
          -0.5454797258160548,
          1.1264285526198632,
          0.5309788677230551,
          0.37017010060986144,
          -1.1250898914401306,
          -0.28798151582684817,
          0.5946295317590171,
          -0.3347454800425729,
          0.3149458216962703,
          0.5583138746908815,
          -1.3610380889173985,
          -0.015197888111185916,
          0.5839205545037052,
          0.7950892840941408,
          -0.9638717777634335,
          -1.1790577083086358,
          0.7429474030938845,
          0.3609668315824039,
          1.0454595794961696,
          -1.3695181820018538,
          1.1131185717922327,
          0.5216827552405487,
          0.5073722744981483,
          -0.4022519329950429,
          -0.3158636790719244,
          -0.8504176310575834,
          -0.3903836881740838,
          1.1044927868985561,
          -0.5736934071368204,
          0.7757993030735614,
          0.17272730723566684,
          0.7395094056847753,
          -0.8108546768655773,
          0.8372945924989318,
          0.4622740489612075,
          1.1748008403104275,
          0.3902602603754761,
          0.8569649092316891,
          0.29879524251049244,
          0.12796874998029747,
          0.3150133146889394,
          -0.8190428447575135,
          0.1948280774662253,
          0.39465257829795125,
          0.1448000685913453,
          -0.38815316801875377,
          -0.45750751101059955,
          1.6738795196045138,
          0.13198167186586035,
          -0.4374958634037224,
          -0.3477123127206604,
          -0.08952001727038991,
          0.7885530702008177
         ],
         "xaxis": "x10",
         "y": [
          0.17493221116815275,
          0.4793758192571896,
          0.21258612000992697,
          -0.3051805244399655,
          1.0606996103251298,
          -0.10697146465351072,
          -0.3841404221690915,
          1.0423220285351649,
          0.7269093409326219,
          0.38060189034033354,
          -0.1818149422948353,
          -0.6984886674942541,
          -0.313757264337441,
          -0.5486225282889398,
          -0.8331284141437214,
          -0.9162890222393818,
          1.9355482968661735,
          0.02856699038782565,
          0.3410190274668679,
          0.4777408670606353,
          0.4381074363021479,
          0.2517541363746415,
          0.9885168125822753,
          -0.8773476227904854,
          1.5561480585691498,
          -2.024844965224311,
          0.7929513022678248,
          -0.5783851085248758,
          -0.6404510193709894,
          -1.4942629348193786,
          -0.6320513331520645,
          -1.1466143142339078,
          -0.9207009700228542,
          0.36682264310325,
          0.3706522339897603,
          -0.9383474280811428,
          0.5143722551444027,
          1.192968195409823,
          -0.058010055486303454,
          0.6152560354393877,
          -0.16198371675758022,
          -0.4992467396063783,
          -0.06199340598664998,
          0.006860550130539408,
          -0.9495913028319866,
          0.6382815978484642,
          -1.6101490984594868,
          -1.7165502448724768,
          -0.33202346522380916,
          0.03985816668478454,
          -2.1597925789475974,
          0.14616622441014854,
          -1.1168795626046077,
          0.040527964942006646,
          -0.34756079481149277,
          0.37157580086920716,
          0.6992194446323146,
          0.1176846043503712,
          -0.20387503671841584,
          -2.1556288625410005,
          -0.7851953792554399,
          0.6303791296083932,
          1.0445640738455229,
          0.39165825269121296,
          -0.2993021318345419,
          0.6749425174900014,
          1.4021546052004057,
          0.7619064751769392,
          1.5032297286678435,
          -0.4216779445630397,
          -0.026775698664428593,
          -0.7637159902925708,
          0.8657016632682935,
          -0.3349668194768887,
          -0.33387005795860425,
          -0.8085780740314094,
          0.5083782876188743,
          -0.8204219778728703,
          0.17256163186597867,
          1.1174581721446908,
          0.5335563178561191,
          -0.5022592275185176,
          -0.6024752374575938,
          -2.2741222046352596,
          1.2241854682087892,
          1.48630061368994,
          0.6198096295433813,
          -0.15358819522064296,
          0.07320407327786461,
          -1.259567699690709,
          -0.046221509263831714,
          -0.5890848916747219,
          2.5599191631892237,
          1.0035106960672098,
          0.32536719790756413,
          0.1995208286177687,
          0.9254501325588356,
          0.31498373218774767,
          -0.3594515185934348,
          -0.7503454120001366
         ],
         "yaxis": "y10"
        },
        {
         "histfunc": "count",
         "histnorm": "",
         "marker": {
          "color": "rgba(50, 171, 96, 1.0)",
          "line": {
           "color": "#4D5663",
           "width": 1.3
          }
         },
         "name": "C",
         "nbinsx": 10,
         "opacity": 0.8,
         "orientation": "v",
         "type": "histogram",
         "x": [
          0.17493221116815275,
          0.4793758192571896,
          0.21258612000992697,
          -0.3051805244399655,
          1.0606996103251298,
          -0.10697146465351072,
          -0.3841404221690915,
          1.0423220285351649,
          0.7269093409326219,
          0.38060189034033354,
          -0.1818149422948353,
          -0.6984886674942541,
          -0.313757264337441,
          -0.5486225282889398,
          -0.8331284141437214,
          -0.9162890222393818,
          1.9355482968661735,
          0.02856699038782565,
          0.3410190274668679,
          0.4777408670606353,
          0.4381074363021479,
          0.2517541363746415,
          0.9885168125822753,
          -0.8773476227904854,
          1.5561480585691498,
          -2.024844965224311,
          0.7929513022678248,
          -0.5783851085248758,
          -0.6404510193709894,
          -1.4942629348193786,
          -0.6320513331520645,
          -1.1466143142339078,
          -0.9207009700228542,
          0.36682264310325,
          0.3706522339897603,
          -0.9383474280811428,
          0.5143722551444027,
          1.192968195409823,
          -0.058010055486303454,
          0.6152560354393877,
          -0.16198371675758022,
          -0.4992467396063783,
          -0.06199340598664998,
          0.006860550130539408,
          -0.9495913028319866,
          0.6382815978484642,
          -1.6101490984594868,
          -1.7165502448724768,
          -0.33202346522380916,
          0.03985816668478454,
          -2.1597925789475974,
          0.14616622441014854,
          -1.1168795626046077,
          0.040527964942006646,
          -0.34756079481149277,
          0.37157580086920716,
          0.6992194446323146,
          0.1176846043503712,
          -0.20387503671841584,
          -2.1556288625410005,
          -0.7851953792554399,
          0.6303791296083932,
          1.0445640738455229,
          0.39165825269121296,
          -0.2993021318345419,
          0.6749425174900014,
          1.4021546052004057,
          0.7619064751769392,
          1.5032297286678435,
          -0.4216779445630397,
          -0.026775698664428593,
          -0.7637159902925708,
          0.8657016632682935,
          -0.3349668194768887,
          -0.33387005795860425,
          -0.8085780740314094,
          0.5083782876188743,
          -0.8204219778728703,
          0.17256163186597867,
          1.1174581721446908,
          0.5335563178561191,
          -0.5022592275185176,
          -0.6024752374575938,
          -2.2741222046352596,
          1.2241854682087892,
          1.48630061368994,
          0.6198096295433813,
          -0.15358819522064296,
          0.07320407327786461,
          -1.259567699690709,
          -0.046221509263831714,
          -0.5890848916747219,
          2.5599191631892237,
          1.0035106960672098,
          0.32536719790756413,
          0.1995208286177687,
          0.9254501325588356,
          0.31498373218774767,
          -0.3594515185934348,
          -0.7503454120001366
         ],
         "xaxis": "x11",
         "yaxis": "y11"
        },
        {
         "line": {
          "color": "rgba(128, 128, 128, 1.0)",
          "dash": "solid",
          "shape": "linear",
          "width": 1.3
         },
         "marker": {
          "size": 2,
          "symbol": "circle"
         },
         "mode": "markers",
         "name": "C",
         "text": "",
         "type": "scatter",
         "x": [
          -0.018385070907257328,
          0.06962125358790339,
          -0.6626264273228573,
          -0.015385100683070094,
          2.7658895454036148,
          1.1268982815346882,
          0.42766094342591576,
          0.744999551395111,
          0.6274136542261247,
          0.5657899549138765,
          -1.0234175798834177,
          -1.8869624708304624,
          -1.13657899165744,
          -1.8505678703324018,
          1.842502108958259,
          -0.6795722642626434,
          1.3841049075876044,
          -0.8274659008208299,
          -1.5610244576737744,
          -0.6721971880176133,
          0.8007358771232236,
          -1.0684345815995333,
          0.5498855666169603,
          -0.9292363556347426,
          0.5750784813022343,
          0.8492057141704004,
          0.21535279068720967,
          2.270467141616758,
          0.9093378482170529,
          1.6633660459671185,
          2.342937325319705,
          -1.2420407626498153,
          -0.047286911120520705,
          -0.5417172144800272,
          1.4930684630441913,
          -0.9128095513386675,
          0.06182797314151452,
          -1.5290323843430564,
          1.3122813038828185,
          -0.5386952611976297,
          -0.3221364482167507,
          0.06967063201639041,
          0.69679577306518,
          0.4054792389874191,
          -1.982921060868619,
          0.15133432088554055,
          1.1229114452362143,
          -0.46082353298472795,
          0.8640013578042112,
          0.5065297393613364,
          1.4761671807423808,
          0.7614721166438643,
          0.28665884630755833,
          -1.073003598555776,
          0.05998038876479074,
          0.5426245589448745,
          0.7938739440389128,
          -0.7771581848769925,
          -0.23607492447418005,
          0.565798778011827,
          -2.3821262382788104,
          1.3042170922242016,
          -0.10538740443498984,
          -0.27424523494404707,
          0.9350127849296727,
          0.3614390527115907,
          -0.5209936457773134,
          -2.101927634552361,
          0.24222570174319777,
          -0.17760446106716765,
          -0.677205711348729,
          0.9581402420532362,
          -0.4100866127433445,
          1.5559386410443146,
          -0.514555899641962,
          0.35978373956063303,
          -1.3293861192761252,
          0.057897283960288516,
          -0.8771718673938348,
          -0.2850658346709371,
          -1.6440962515421318,
          -1.0506128896191553,
          -0.2834438891401006,
          0.6107830985099255,
          -0.4633452133162602,
          0.4282306074897751,
          0.422929509013625,
          -1.6577349278122488,
          2.016555349435422,
          -0.9028541528919203,
          -1.6354240777107187,
          0.8443344404829118,
          0.1616149958644247,
          -0.9661661712101364,
          -1.3952367043412177,
          0.7314235730413206,
          0.2755388647011913,
          0.363609002051579,
          0.15429612934553036,
          0.4739733043293338
         ],
         "xaxis": "x12",
         "y": [
          0.17493221116815275,
          0.4793758192571896,
          0.21258612000992697,
          -0.3051805244399655,
          1.0606996103251298,
          -0.10697146465351072,
          -0.3841404221690915,
          1.0423220285351649,
          0.7269093409326219,
          0.38060189034033354,
          -0.1818149422948353,
          -0.6984886674942541,
          -0.313757264337441,
          -0.5486225282889398,
          -0.8331284141437214,
          -0.9162890222393818,
          1.9355482968661735,
          0.02856699038782565,
          0.3410190274668679,
          0.4777408670606353,
          0.4381074363021479,
          0.2517541363746415,
          0.9885168125822753,
          -0.8773476227904854,
          1.5561480585691498,
          -2.024844965224311,
          0.7929513022678248,
          -0.5783851085248758,
          -0.6404510193709894,
          -1.4942629348193786,
          -0.6320513331520645,
          -1.1466143142339078,
          -0.9207009700228542,
          0.36682264310325,
          0.3706522339897603,
          -0.9383474280811428,
          0.5143722551444027,
          1.192968195409823,
          -0.058010055486303454,
          0.6152560354393877,
          -0.16198371675758022,
          -0.4992467396063783,
          -0.06199340598664998,
          0.006860550130539408,
          -0.9495913028319866,
          0.6382815978484642,
          -1.6101490984594868,
          -1.7165502448724768,
          -0.33202346522380916,
          0.03985816668478454,
          -2.1597925789475974,
          0.14616622441014854,
          -1.1168795626046077,
          0.040527964942006646,
          -0.34756079481149277,
          0.37157580086920716,
          0.6992194446323146,
          0.1176846043503712,
          -0.20387503671841584,
          -2.1556288625410005,
          -0.7851953792554399,
          0.6303791296083932,
          1.0445640738455229,
          0.39165825269121296,
          -0.2993021318345419,
          0.6749425174900014,
          1.4021546052004057,
          0.7619064751769392,
          1.5032297286678435,
          -0.4216779445630397,
          -0.026775698664428593,
          -0.7637159902925708,
          0.8657016632682935,
          -0.3349668194768887,
          -0.33387005795860425,
          -0.8085780740314094,
          0.5083782876188743,
          -0.8204219778728703,
          0.17256163186597867,
          1.1174581721446908,
          0.5335563178561191,
          -0.5022592275185176,
          -0.6024752374575938,
          -2.2741222046352596,
          1.2241854682087892,
          1.48630061368994,
          0.6198096295433813,
          -0.15358819522064296,
          0.07320407327786461,
          -1.259567699690709,
          -0.046221509263831714,
          -0.5890848916747219,
          2.5599191631892237,
          1.0035106960672098,
          0.32536719790756413,
          0.1995208286177687,
          0.9254501325588356,
          0.31498373218774767,
          -0.3594515185934348,
          -0.7503454120001366
         ],
         "yaxis": "y12"
        },
        {
         "line": {
          "color": "rgba(128, 128, 128, 1.0)",
          "dash": "solid",
          "shape": "linear",
          "width": 1.3
         },
         "marker": {
          "size": 2,
          "symbol": "circle"
         },
         "mode": "markers",
         "name": "D",
         "text": "",
         "type": "scatter",
         "x": [
          2.378704592613066,
          0.7949812084298118,
          0.020347293573050422,
          0.16868777949177213,
          -0.8814220662121459,
          -0.5469894743183308,
          0.6590071765436658,
          0.3613179293562961,
          -1.2147461277054892,
          -1.0717006945379468,
          1.4730551122551672,
          -2.0182139728885113,
          0.862170819233818,
          0.45865902626215327,
          0.8212707351013381,
          -1.0658356940582248,
          0.03295835561673598,
          -0.926351955662341,
          -1.022016441866523,
          0.40418350578692364,
          -0.7181779587551178,
          -0.6886833824381282,
          0.6589900815740977,
          0.3362218418822843,
          -0.8820682824005845,
          0.7525581971493505,
          0.9744354545245969,
          0.3941171740728787,
          -0.3148279512998113,
          0.027511879249834822,
          1.0690736558569764,
          1.945965592580823,
          -0.7404405629930189,
          -0.9320931040826592,
          -0.9725128365556344,
          -0.022925786738108116,
          0.23524105357779349,
          -0.7870873351298374,
          -0.8820383123923283,
          0.5388653659796684,
          0.3467960749027645,
          0.9180377599871524,
          0.7964447306733002,
          0.26387076427638695,
          -1.6624756533038676,
          -0.6588661312752233,
          0.5217396969238294,
          0.8970812642468908,
          -1.3713926827076768,
          -0.4548300287598396,
          -0.045966239535387074,
          1.9282569880928602,
          -0.10928180133163234,
          -1.206470846341257,
          1.507713498434342,
          0.05592745845622738,
          -1.5132312506460328,
          0.47489113129330857,
          -1.3952618471111324,
          0.8038273818921229,
          1.1856349700169242,
          0.16273611112484013,
          -0.12258699650513145,
          1.465768004736537,
          1.2102174987321017,
          -0.7665906106697451,
          1.481523198660766,
          0.0427859215020586,
          0.10498569010405591,
          -0.3532346970575991,
          0.7470035130696405,
          -1.5138294405419948,
          0.39125537467149357,
          1.0554685121921457,
          -1.1603309027478979,
          1.2680819308540339,
          -1.6729243287440783,
          -0.800055858574939,
          -0.06054705752571512,
          -0.9499836719749434,
          -0.814075664122035,
          -1.026934113840444,
          0.3404099087659415,
          -1.0694526605321897,
          -0.8912421592491239,
          -1.0298025520047036,
          -0.8461521807594581,
          0.38163340848760885,
          -0.854143270793631,
          2.7339580890475754,
          -1.1192422975843501,
          -1.2409109590645255,
          -1.6961826901225727,
          -2.531659068148911,
          -0.9385020930493669,
          0.4024336318072811,
          0.5681600037698108,
          1.027833998158066,
          0.29826246449978355,
          1.3920428913571818
         ],
         "xaxis": "x13",
         "y": [
          -0.018385070907257328,
          0.06962125358790339,
          -0.6626264273228573,
          -0.015385100683070094,
          2.7658895454036148,
          1.1268982815346882,
          0.42766094342591576,
          0.744999551395111,
          0.6274136542261247,
          0.5657899549138765,
          -1.0234175798834177,
          -1.8869624708304624,
          -1.13657899165744,
          -1.8505678703324018,
          1.842502108958259,
          -0.6795722642626434,
          1.3841049075876044,
          -0.8274659008208299,
          -1.5610244576737744,
          -0.6721971880176133,
          0.8007358771232236,
          -1.0684345815995333,
          0.5498855666169603,
          -0.9292363556347426,
          0.5750784813022343,
          0.8492057141704004,
          0.21535279068720967,
          2.270467141616758,
          0.9093378482170529,
          1.6633660459671185,
          2.342937325319705,
          -1.2420407626498153,
          -0.047286911120520705,
          -0.5417172144800272,
          1.4930684630441913,
          -0.9128095513386675,
          0.06182797314151452,
          -1.5290323843430564,
          1.3122813038828185,
          -0.5386952611976297,
          -0.3221364482167507,
          0.06967063201639041,
          0.69679577306518,
          0.4054792389874191,
          -1.982921060868619,
          0.15133432088554055,
          1.1229114452362143,
          -0.46082353298472795,
          0.8640013578042112,
          0.5065297393613364,
          1.4761671807423808,
          0.7614721166438643,
          0.28665884630755833,
          -1.073003598555776,
          0.05998038876479074,
          0.5426245589448745,
          0.7938739440389128,
          -0.7771581848769925,
          -0.23607492447418005,
          0.565798778011827,
          -2.3821262382788104,
          1.3042170922242016,
          -0.10538740443498984,
          -0.27424523494404707,
          0.9350127849296727,
          0.3614390527115907,
          -0.5209936457773134,
          -2.101927634552361,
          0.24222570174319777,
          -0.17760446106716765,
          -0.677205711348729,
          0.9581402420532362,
          -0.4100866127433445,
          1.5559386410443146,
          -0.514555899641962,
          0.35978373956063303,
          -1.3293861192761252,
          0.057897283960288516,
          -0.8771718673938348,
          -0.2850658346709371,
          -1.6440962515421318,
          -1.0506128896191553,
          -0.2834438891401006,
          0.6107830985099255,
          -0.4633452133162602,
          0.4282306074897751,
          0.422929509013625,
          -1.6577349278122488,
          2.016555349435422,
          -0.9028541528919203,
          -1.6354240777107187,
          0.8443344404829118,
          0.1616149958644247,
          -0.9661661712101364,
          -1.3952367043412177,
          0.7314235730413206,
          0.2755388647011913,
          0.363609002051579,
          0.15429612934553036,
          0.4739733043293338
         ],
         "yaxis": "y13"
        },
        {
         "line": {
          "color": "rgba(128, 128, 128, 1.0)",
          "dash": "solid",
          "shape": "linear",
          "width": 1.3
         },
         "marker": {
          "size": 2,
          "symbol": "circle"
         },
         "mode": "markers",
         "name": "D",
         "text": "",
         "type": "scatter",
         "x": [
          -1.4109524815414125,
          1.1282465007801148,
          0.047738942839579426,
          1.1925776700433535,
          -0.6760291052564088,
          0.1790913936831051,
          -0.03351469037462734,
          0.3771657627762725,
          -0.9767022195579985,
          0.21141886110062716,
          0.1584196563489074,
          -0.26903850577050065,
          0.1336348126478488,
          0.5566619988174846,
          0.1068228699217611,
          0.14722205713031677,
          -0.2343686404535711,
          -0.1262077308186696,
          0.2028854190184494,
          -1.184744979491366,
          0.09891423137821188,
          -1.290136702571667,
          0.6610727598457594,
          0.6702717303544894,
          0.0912079810352433,
          -0.9638006134894856,
          0.16094260320748796,
          0.2966406238557308,
          1.2821294846940516,
          -0.067473604084655,
          0.6795513181159056,
          0.5491447905266279,
          -0.689806015680189,
          0.6289590663833551,
          -1.9550310814406153,
          1.3285163272544,
          -0.6016863121951649,
          -2.287052069467176,
          -0.046040797789362084,
          0.6332369562901614,
          -0.7580283974698023,
          -0.06036705191617741,
          -0.1456939613387233,
          -0.5115588069642251,
          -0.9638838012193599,
          1.9645250905586364,
          0.7530690446506421,
          -0.5454797258160548,
          1.1264285526198632,
          0.5309788677230551,
          0.37017010060986144,
          -1.1250898914401306,
          -0.28798151582684817,
          0.5946295317590171,
          -0.3347454800425729,
          0.3149458216962703,
          0.5583138746908815,
          -1.3610380889173985,
          -0.015197888111185916,
          0.5839205545037052,
          0.7950892840941408,
          -0.9638717777634335,
          -1.1790577083086358,
          0.7429474030938845,
          0.3609668315824039,
          1.0454595794961696,
          -1.3695181820018538,
          1.1131185717922327,
          0.5216827552405487,
          0.5073722744981483,
          -0.4022519329950429,
          -0.3158636790719244,
          -0.8504176310575834,
          -0.3903836881740838,
          1.1044927868985561,
          -0.5736934071368204,
          0.7757993030735614,
          0.17272730723566684,
          0.7395094056847753,
          -0.8108546768655773,
          0.8372945924989318,
          0.4622740489612075,
          1.1748008403104275,
          0.3902602603754761,
          0.8569649092316891,
          0.29879524251049244,
          0.12796874998029747,
          0.3150133146889394,
          -0.8190428447575135,
          0.1948280774662253,
          0.39465257829795125,
          0.1448000685913453,
          -0.38815316801875377,
          -0.45750751101059955,
          1.6738795196045138,
          0.13198167186586035,
          -0.4374958634037224,
          -0.3477123127206604,
          -0.08952001727038991,
          0.7885530702008177
         ],
         "xaxis": "x14",
         "y": [
          -0.018385070907257328,
          0.06962125358790339,
          -0.6626264273228573,
          -0.015385100683070094,
          2.7658895454036148,
          1.1268982815346882,
          0.42766094342591576,
          0.744999551395111,
          0.6274136542261247,
          0.5657899549138765,
          -1.0234175798834177,
          -1.8869624708304624,
          -1.13657899165744,
          -1.8505678703324018,
          1.842502108958259,
          -0.6795722642626434,
          1.3841049075876044,
          -0.8274659008208299,
          -1.5610244576737744,
          -0.6721971880176133,
          0.8007358771232236,
          -1.0684345815995333,
          0.5498855666169603,
          -0.9292363556347426,
          0.5750784813022343,
          0.8492057141704004,
          0.21535279068720967,
          2.270467141616758,
          0.9093378482170529,
          1.6633660459671185,
          2.342937325319705,
          -1.2420407626498153,
          -0.047286911120520705,
          -0.5417172144800272,
          1.4930684630441913,
          -0.9128095513386675,
          0.06182797314151452,
          -1.5290323843430564,
          1.3122813038828185,
          -0.5386952611976297,
          -0.3221364482167507,
          0.06967063201639041,
          0.69679577306518,
          0.4054792389874191,
          -1.982921060868619,
          0.15133432088554055,
          1.1229114452362143,
          -0.46082353298472795,
          0.8640013578042112,
          0.5065297393613364,
          1.4761671807423808,
          0.7614721166438643,
          0.28665884630755833,
          -1.073003598555776,
          0.05998038876479074,
          0.5426245589448745,
          0.7938739440389128,
          -0.7771581848769925,
          -0.23607492447418005,
          0.565798778011827,
          -2.3821262382788104,
          1.3042170922242016,
          -0.10538740443498984,
          -0.27424523494404707,
          0.9350127849296727,
          0.3614390527115907,
          -0.5209936457773134,
          -2.101927634552361,
          0.24222570174319777,
          -0.17760446106716765,
          -0.677205711348729,
          0.9581402420532362,
          -0.4100866127433445,
          1.5559386410443146,
          -0.514555899641962,
          0.35978373956063303,
          -1.3293861192761252,
          0.057897283960288516,
          -0.8771718673938348,
          -0.2850658346709371,
          -1.6440962515421318,
          -1.0506128896191553,
          -0.2834438891401006,
          0.6107830985099255,
          -0.4633452133162602,
          0.4282306074897751,
          0.422929509013625,
          -1.6577349278122488,
          2.016555349435422,
          -0.9028541528919203,
          -1.6354240777107187,
          0.8443344404829118,
          0.1616149958644247,
          -0.9661661712101364,
          -1.3952367043412177,
          0.7314235730413206,
          0.2755388647011913,
          0.363609002051579,
          0.15429612934553036,
          0.4739733043293338
         ],
         "yaxis": "y14"
        },
        {
         "line": {
          "color": "rgba(128, 128, 128, 1.0)",
          "dash": "solid",
          "shape": "linear",
          "width": 1.3
         },
         "marker": {
          "size": 2,
          "symbol": "circle"
         },
         "mode": "markers",
         "name": "D",
         "text": "",
         "type": "scatter",
         "x": [
          0.17493221116815275,
          0.4793758192571896,
          0.21258612000992697,
          -0.3051805244399655,
          1.0606996103251298,
          -0.10697146465351072,
          -0.3841404221690915,
          1.0423220285351649,
          0.7269093409326219,
          0.38060189034033354,
          -0.1818149422948353,
          -0.6984886674942541,
          -0.313757264337441,
          -0.5486225282889398,
          -0.8331284141437214,
          -0.9162890222393818,
          1.9355482968661735,
          0.02856699038782565,
          0.3410190274668679,
          0.4777408670606353,
          0.4381074363021479,
          0.2517541363746415,
          0.9885168125822753,
          -0.8773476227904854,
          1.5561480585691498,
          -2.024844965224311,
          0.7929513022678248,
          -0.5783851085248758,
          -0.6404510193709894,
          -1.4942629348193786,
          -0.6320513331520645,
          -1.1466143142339078,
          -0.9207009700228542,
          0.36682264310325,
          0.3706522339897603,
          -0.9383474280811428,
          0.5143722551444027,
          1.192968195409823,
          -0.058010055486303454,
          0.6152560354393877,
          -0.16198371675758022,
          -0.4992467396063783,
          -0.06199340598664998,
          0.006860550130539408,
          -0.9495913028319866,
          0.6382815978484642,
          -1.6101490984594868,
          -1.7165502448724768,
          -0.33202346522380916,
          0.03985816668478454,
          -2.1597925789475974,
          0.14616622441014854,
          -1.1168795626046077,
          0.040527964942006646,
          -0.34756079481149277,
          0.37157580086920716,
          0.6992194446323146,
          0.1176846043503712,
          -0.20387503671841584,
          -2.1556288625410005,
          -0.7851953792554399,
          0.6303791296083932,
          1.0445640738455229,
          0.39165825269121296,
          -0.2993021318345419,
          0.6749425174900014,
          1.4021546052004057,
          0.7619064751769392,
          1.5032297286678435,
          -0.4216779445630397,
          -0.026775698664428593,
          -0.7637159902925708,
          0.8657016632682935,
          -0.3349668194768887,
          -0.33387005795860425,
          -0.8085780740314094,
          0.5083782876188743,
          -0.8204219778728703,
          0.17256163186597867,
          1.1174581721446908,
          0.5335563178561191,
          -0.5022592275185176,
          -0.6024752374575938,
          -2.2741222046352596,
          1.2241854682087892,
          1.48630061368994,
          0.6198096295433813,
          -0.15358819522064296,
          0.07320407327786461,
          -1.259567699690709,
          -0.046221509263831714,
          -0.5890848916747219,
          2.5599191631892237,
          1.0035106960672098,
          0.32536719790756413,
          0.1995208286177687,
          0.9254501325588356,
          0.31498373218774767,
          -0.3594515185934348,
          -0.7503454120001366
         ],
         "xaxis": "x15",
         "y": [
          -0.018385070907257328,
          0.06962125358790339,
          -0.6626264273228573,
          -0.015385100683070094,
          2.7658895454036148,
          1.1268982815346882,
          0.42766094342591576,
          0.744999551395111,
          0.6274136542261247,
          0.5657899549138765,
          -1.0234175798834177,
          -1.8869624708304624,
          -1.13657899165744,
          -1.8505678703324018,
          1.842502108958259,
          -0.6795722642626434,
          1.3841049075876044,
          -0.8274659008208299,
          -1.5610244576737744,
          -0.6721971880176133,
          0.8007358771232236,
          -1.0684345815995333,
          0.5498855666169603,
          -0.9292363556347426,
          0.5750784813022343,
          0.8492057141704004,
          0.21535279068720967,
          2.270467141616758,
          0.9093378482170529,
          1.6633660459671185,
          2.342937325319705,
          -1.2420407626498153,
          -0.047286911120520705,
          -0.5417172144800272,
          1.4930684630441913,
          -0.9128095513386675,
          0.06182797314151452,
          -1.5290323843430564,
          1.3122813038828185,
          -0.5386952611976297,
          -0.3221364482167507,
          0.06967063201639041,
          0.69679577306518,
          0.4054792389874191,
          -1.982921060868619,
          0.15133432088554055,
          1.1229114452362143,
          -0.46082353298472795,
          0.8640013578042112,
          0.5065297393613364,
          1.4761671807423808,
          0.7614721166438643,
          0.28665884630755833,
          -1.073003598555776,
          0.05998038876479074,
          0.5426245589448745,
          0.7938739440389128,
          -0.7771581848769925,
          -0.23607492447418005,
          0.565798778011827,
          -2.3821262382788104,
          1.3042170922242016,
          -0.10538740443498984,
          -0.27424523494404707,
          0.9350127849296727,
          0.3614390527115907,
          -0.5209936457773134,
          -2.101927634552361,
          0.24222570174319777,
          -0.17760446106716765,
          -0.677205711348729,
          0.9581402420532362,
          -0.4100866127433445,
          1.5559386410443146,
          -0.514555899641962,
          0.35978373956063303,
          -1.3293861192761252,
          0.057897283960288516,
          -0.8771718673938348,
          -0.2850658346709371,
          -1.6440962515421318,
          -1.0506128896191553,
          -0.2834438891401006,
          0.6107830985099255,
          -0.4633452133162602,
          0.4282306074897751,
          0.422929509013625,
          -1.6577349278122488,
          2.016555349435422,
          -0.9028541528919203,
          -1.6354240777107187,
          0.8443344404829118,
          0.1616149958644247,
          -0.9661661712101364,
          -1.3952367043412177,
          0.7314235730413206,
          0.2755388647011913,
          0.363609002051579,
          0.15429612934553036,
          0.4739733043293338
         ],
         "yaxis": "y15"
        },
        {
         "histfunc": "count",
         "histnorm": "",
         "marker": {
          "color": "rgba(128, 0, 128, 1.0)",
          "line": {
           "color": "#4D5663",
           "width": 1.3
          }
         },
         "name": "D",
         "nbinsx": 10,
         "opacity": 0.8,
         "orientation": "v",
         "type": "histogram",
         "x": [
          -0.018385070907257328,
          0.06962125358790339,
          -0.6626264273228573,
          -0.015385100683070094,
          2.7658895454036148,
          1.1268982815346882,
          0.42766094342591576,
          0.744999551395111,
          0.6274136542261247,
          0.5657899549138765,
          -1.0234175798834177,
          -1.8869624708304624,
          -1.13657899165744,
          -1.8505678703324018,
          1.842502108958259,
          -0.6795722642626434,
          1.3841049075876044,
          -0.8274659008208299,
          -1.5610244576737744,
          -0.6721971880176133,
          0.8007358771232236,
          -1.0684345815995333,
          0.5498855666169603,
          -0.9292363556347426,
          0.5750784813022343,
          0.8492057141704004,
          0.21535279068720967,
          2.270467141616758,
          0.9093378482170529,
          1.6633660459671185,
          2.342937325319705,
          -1.2420407626498153,
          -0.047286911120520705,
          -0.5417172144800272,
          1.4930684630441913,
          -0.9128095513386675,
          0.06182797314151452,
          -1.5290323843430564,
          1.3122813038828185,
          -0.5386952611976297,
          -0.3221364482167507,
          0.06967063201639041,
          0.69679577306518,
          0.4054792389874191,
          -1.982921060868619,
          0.15133432088554055,
          1.1229114452362143,
          -0.46082353298472795,
          0.8640013578042112,
          0.5065297393613364,
          1.4761671807423808,
          0.7614721166438643,
          0.28665884630755833,
          -1.073003598555776,
          0.05998038876479074,
          0.5426245589448745,
          0.7938739440389128,
          -0.7771581848769925,
          -0.23607492447418005,
          0.565798778011827,
          -2.3821262382788104,
          1.3042170922242016,
          -0.10538740443498984,
          -0.27424523494404707,
          0.9350127849296727,
          0.3614390527115907,
          -0.5209936457773134,
          -2.101927634552361,
          0.24222570174319777,
          -0.17760446106716765,
          -0.677205711348729,
          0.9581402420532362,
          -0.4100866127433445,
          1.5559386410443146,
          -0.514555899641962,
          0.35978373956063303,
          -1.3293861192761252,
          0.057897283960288516,
          -0.8771718673938348,
          -0.2850658346709371,
          -1.6440962515421318,
          -1.0506128896191553,
          -0.2834438891401006,
          0.6107830985099255,
          -0.4633452133162602,
          0.4282306074897751,
          0.422929509013625,
          -1.6577349278122488,
          2.016555349435422,
          -0.9028541528919203,
          -1.6354240777107187,
          0.8443344404829118,
          0.1616149958644247,
          -0.9661661712101364,
          -1.3952367043412177,
          0.7314235730413206,
          0.2755388647011913,
          0.363609002051579,
          0.15429612934553036,
          0.4739733043293338
         ],
         "xaxis": "x16",
         "yaxis": "y16"
        }
       ],
       "layout": {
        "bargap": 0.02,
        "legend": {
         "bgcolor": "#F5F6F9",
         "font": {
          "color": "#4D5663"
         }
        },
        "paper_bgcolor": "#F5F6F9",
        "plot_bgcolor": "#F5F6F9",
        "showlegend": false,
        "template": {
         "data": {
          "bar": [
           {
            "error_x": {
             "color": "#2a3f5f"
            },
            "error_y": {
             "color": "#2a3f5f"
            },
            "marker": {
             "line": {
              "color": "#E5ECF6",
              "width": 0.5
             },
             "pattern": {
              "fillmode": "overlay",
              "size": 10,
              "solidity": 0.2
             }
            },
            "type": "bar"
           }
          ],
          "barpolar": [
           {
            "marker": {
             "line": {
              "color": "#E5ECF6",
              "width": 0.5
             },
             "pattern": {
              "fillmode": "overlay",
              "size": 10,
              "solidity": 0.2
             }
            },
            "type": "barpolar"
           }
          ],
          "carpet": [
           {
            "aaxis": {
             "endlinecolor": "#2a3f5f",
             "gridcolor": "white",
             "linecolor": "white",
             "minorgridcolor": "white",
             "startlinecolor": "#2a3f5f"
            },
            "baxis": {
             "endlinecolor": "#2a3f5f",
             "gridcolor": "white",
             "linecolor": "white",
             "minorgridcolor": "white",
             "startlinecolor": "#2a3f5f"
            },
            "type": "carpet"
           }
          ],
          "choropleth": [
           {
            "colorbar": {
             "outlinewidth": 0,
             "ticks": ""
            },
            "type": "choropleth"
           }
          ],
          "contour": [
           {
            "colorbar": {
             "outlinewidth": 0,
             "ticks": ""
            },
            "colorscale": [
             [
              0,
              "#0d0887"
             ],
             [
              0.1111111111111111,
              "#46039f"
             ],
             [
              0.2222222222222222,
              "#7201a8"
             ],
             [
              0.3333333333333333,
              "#9c179e"
             ],
             [
              0.4444444444444444,
              "#bd3786"
             ],
             [
              0.5555555555555556,
              "#d8576b"
             ],
             [
              0.6666666666666666,
              "#ed7953"
             ],
             [
              0.7777777777777778,
              "#fb9f3a"
             ],
             [
              0.8888888888888888,
              "#fdca26"
             ],
             [
              1,
              "#f0f921"
             ]
            ],
            "type": "contour"
           }
          ],
          "contourcarpet": [
           {
            "colorbar": {
             "outlinewidth": 0,
             "ticks": ""
            },
            "type": "contourcarpet"
           }
          ],
          "heatmap": [
           {
            "colorbar": {
             "outlinewidth": 0,
             "ticks": ""
            },
            "colorscale": [
             [
              0,
              "#0d0887"
             ],
             [
              0.1111111111111111,
              "#46039f"
             ],
             [
              0.2222222222222222,
              "#7201a8"
             ],
             [
              0.3333333333333333,
              "#9c179e"
             ],
             [
              0.4444444444444444,
              "#bd3786"
             ],
             [
              0.5555555555555556,
              "#d8576b"
             ],
             [
              0.6666666666666666,
              "#ed7953"
             ],
             [
              0.7777777777777778,
              "#fb9f3a"
             ],
             [
              0.8888888888888888,
              "#fdca26"
             ],
             [
              1,
              "#f0f921"
             ]
            ],
            "type": "heatmap"
           }
          ],
          "heatmapgl": [
           {
            "colorbar": {
             "outlinewidth": 0,
             "ticks": ""
            },
            "colorscale": [
             [
              0,
              "#0d0887"
             ],
             [
              0.1111111111111111,
              "#46039f"
             ],
             [
              0.2222222222222222,
              "#7201a8"
             ],
             [
              0.3333333333333333,
              "#9c179e"
             ],
             [
              0.4444444444444444,
              "#bd3786"
             ],
             [
              0.5555555555555556,
              "#d8576b"
             ],
             [
              0.6666666666666666,
              "#ed7953"
             ],
             [
              0.7777777777777778,
              "#fb9f3a"
             ],
             [
              0.8888888888888888,
              "#fdca26"
             ],
             [
              1,
              "#f0f921"
             ]
            ],
            "type": "heatmapgl"
           }
          ],
          "histogram": [
           {
            "marker": {
             "pattern": {
              "fillmode": "overlay",
              "size": 10,
              "solidity": 0.2
             }
            },
            "type": "histogram"
           }
          ],
          "histogram2d": [
           {
            "colorbar": {
             "outlinewidth": 0,
             "ticks": ""
            },
            "colorscale": [
             [
              0,
              "#0d0887"
             ],
             [
              0.1111111111111111,
              "#46039f"
             ],
             [
              0.2222222222222222,
              "#7201a8"
             ],
             [
              0.3333333333333333,
              "#9c179e"
             ],
             [
              0.4444444444444444,
              "#bd3786"
             ],
             [
              0.5555555555555556,
              "#d8576b"
             ],
             [
              0.6666666666666666,
              "#ed7953"
             ],
             [
              0.7777777777777778,
              "#fb9f3a"
             ],
             [
              0.8888888888888888,
              "#fdca26"
             ],
             [
              1,
              "#f0f921"
             ]
            ],
            "type": "histogram2d"
           }
          ],
          "histogram2dcontour": [
           {
            "colorbar": {
             "outlinewidth": 0,
             "ticks": ""
            },
            "colorscale": [
             [
              0,
              "#0d0887"
             ],
             [
              0.1111111111111111,
              "#46039f"
             ],
             [
              0.2222222222222222,
              "#7201a8"
             ],
             [
              0.3333333333333333,
              "#9c179e"
             ],
             [
              0.4444444444444444,
              "#bd3786"
             ],
             [
              0.5555555555555556,
              "#d8576b"
             ],
             [
              0.6666666666666666,
              "#ed7953"
             ],
             [
              0.7777777777777778,
              "#fb9f3a"
             ],
             [
              0.8888888888888888,
              "#fdca26"
             ],
             [
              1,
              "#f0f921"
             ]
            ],
            "type": "histogram2dcontour"
           }
          ],
          "mesh3d": [
           {
            "colorbar": {
             "outlinewidth": 0,
             "ticks": ""
            },
            "type": "mesh3d"
           }
          ],
          "parcoords": [
           {
            "line": {
             "colorbar": {
              "outlinewidth": 0,
              "ticks": ""
             }
            },
            "type": "parcoords"
           }
          ],
          "pie": [
           {
            "automargin": true,
            "type": "pie"
           }
          ],
          "scatter": [
           {
            "fillpattern": {
             "fillmode": "overlay",
             "size": 10,
             "solidity": 0.2
            },
            "type": "scatter"
           }
          ],
          "scatter3d": [
           {
            "line": {
             "colorbar": {
              "outlinewidth": 0,
              "ticks": ""
             }
            },
            "marker": {
             "colorbar": {
              "outlinewidth": 0,
              "ticks": ""
             }
            },
            "type": "scatter3d"
           }
          ],
          "scattercarpet": [
           {
            "marker": {
             "colorbar": {
              "outlinewidth": 0,
              "ticks": ""
             }
            },
            "type": "scattercarpet"
           }
          ],
          "scattergeo": [
           {
            "marker": {
             "colorbar": {
              "outlinewidth": 0,
              "ticks": ""
             }
            },
            "type": "scattergeo"
           }
          ],
          "scattergl": [
           {
            "marker": {
             "colorbar": {
              "outlinewidth": 0,
              "ticks": ""
             }
            },
            "type": "scattergl"
           }
          ],
          "scattermapbox": [
           {
            "marker": {
             "colorbar": {
              "outlinewidth": 0,
              "ticks": ""
             }
            },
            "type": "scattermapbox"
           }
          ],
          "scatterpolar": [
           {
            "marker": {
             "colorbar": {
              "outlinewidth": 0,
              "ticks": ""
             }
            },
            "type": "scatterpolar"
           }
          ],
          "scatterpolargl": [
           {
            "marker": {
             "colorbar": {
              "outlinewidth": 0,
              "ticks": ""
             }
            },
            "type": "scatterpolargl"
           }
          ],
          "scatterternary": [
           {
            "marker": {
             "colorbar": {
              "outlinewidth": 0,
              "ticks": ""
             }
            },
            "type": "scatterternary"
           }
          ],
          "surface": [
           {
            "colorbar": {
             "outlinewidth": 0,
             "ticks": ""
            },
            "colorscale": [
             [
              0,
              "#0d0887"
             ],
             [
              0.1111111111111111,
              "#46039f"
             ],
             [
              0.2222222222222222,
              "#7201a8"
             ],
             [
              0.3333333333333333,
              "#9c179e"
             ],
             [
              0.4444444444444444,
              "#bd3786"
             ],
             [
              0.5555555555555556,
              "#d8576b"
             ],
             [
              0.6666666666666666,
              "#ed7953"
             ],
             [
              0.7777777777777778,
              "#fb9f3a"
             ],
             [
              0.8888888888888888,
              "#fdca26"
             ],
             [
              1,
              "#f0f921"
             ]
            ],
            "type": "surface"
           }
          ],
          "table": [
           {
            "cells": {
             "fill": {
              "color": "#EBF0F8"
             },
             "line": {
              "color": "white"
             }
            },
            "header": {
             "fill": {
              "color": "#C8D4E3"
             },
             "line": {
              "color": "white"
             }
            },
            "type": "table"
           }
          ]
         },
         "layout": {
          "annotationdefaults": {
           "arrowcolor": "#2a3f5f",
           "arrowhead": 0,
           "arrowwidth": 1
          },
          "autotypenumbers": "strict",
          "coloraxis": {
           "colorbar": {
            "outlinewidth": 0,
            "ticks": ""
           }
          },
          "colorscale": {
           "diverging": [
            [
             0,
             "#8e0152"
            ],
            [
             0.1,
             "#c51b7d"
            ],
            [
             0.2,
             "#de77ae"
            ],
            [
             0.3,
             "#f1b6da"
            ],
            [
             0.4,
             "#fde0ef"
            ],
            [
             0.5,
             "#f7f7f7"
            ],
            [
             0.6,
             "#e6f5d0"
            ],
            [
             0.7,
             "#b8e186"
            ],
            [
             0.8,
             "#7fbc41"
            ],
            [
             0.9,
             "#4d9221"
            ],
            [
             1,
             "#276419"
            ]
           ],
           "sequential": [
            [
             0,
             "#0d0887"
            ],
            [
             0.1111111111111111,
             "#46039f"
            ],
            [
             0.2222222222222222,
             "#7201a8"
            ],
            [
             0.3333333333333333,
             "#9c179e"
            ],
            [
             0.4444444444444444,
             "#bd3786"
            ],
            [
             0.5555555555555556,
             "#d8576b"
            ],
            [
             0.6666666666666666,
             "#ed7953"
            ],
            [
             0.7777777777777778,
             "#fb9f3a"
            ],
            [
             0.8888888888888888,
             "#fdca26"
            ],
            [
             1,
             "#f0f921"
            ]
           ],
           "sequentialminus": [
            [
             0,
             "#0d0887"
            ],
            [
             0.1111111111111111,
             "#46039f"
            ],
            [
             0.2222222222222222,
             "#7201a8"
            ],
            [
             0.3333333333333333,
             "#9c179e"
            ],
            [
             0.4444444444444444,
             "#bd3786"
            ],
            [
             0.5555555555555556,
             "#d8576b"
            ],
            [
             0.6666666666666666,
             "#ed7953"
            ],
            [
             0.7777777777777778,
             "#fb9f3a"
            ],
            [
             0.8888888888888888,
             "#fdca26"
            ],
            [
             1,
             "#f0f921"
            ]
           ]
          },
          "colorway": [
           "#636efa",
           "#EF553B",
           "#00cc96",
           "#ab63fa",
           "#FFA15A",
           "#19d3f3",
           "#FF6692",
           "#B6E880",
           "#FF97FF",
           "#FECB52"
          ],
          "font": {
           "color": "#2a3f5f"
          },
          "geo": {
           "bgcolor": "white",
           "lakecolor": "white",
           "landcolor": "#E5ECF6",
           "showlakes": true,
           "showland": true,
           "subunitcolor": "white"
          },
          "hoverlabel": {
           "align": "left"
          },
          "hovermode": "closest",
          "mapbox": {
           "style": "light"
          },
          "paper_bgcolor": "white",
          "plot_bgcolor": "#E5ECF6",
          "polar": {
           "angularaxis": {
            "gridcolor": "white",
            "linecolor": "white",
            "ticks": ""
           },
           "bgcolor": "#E5ECF6",
           "radialaxis": {
            "gridcolor": "white",
            "linecolor": "white",
            "ticks": ""
           }
          },
          "scene": {
           "xaxis": {
            "backgroundcolor": "#E5ECF6",
            "gridcolor": "white",
            "gridwidth": 2,
            "linecolor": "white",
            "showbackground": true,
            "ticks": "",
            "zerolinecolor": "white"
           },
           "yaxis": {
            "backgroundcolor": "#E5ECF6",
            "gridcolor": "white",
            "gridwidth": 2,
            "linecolor": "white",
            "showbackground": true,
            "ticks": "",
            "zerolinecolor": "white"
           },
           "zaxis": {
            "backgroundcolor": "#E5ECF6",
            "gridcolor": "white",
            "gridwidth": 2,
            "linecolor": "white",
            "showbackground": true,
            "ticks": "",
            "zerolinecolor": "white"
           }
          },
          "shapedefaults": {
           "line": {
            "color": "#2a3f5f"
           }
          },
          "ternary": {
           "aaxis": {
            "gridcolor": "white",
            "linecolor": "white",
            "ticks": ""
           },
           "baxis": {
            "gridcolor": "white",
            "linecolor": "white",
            "ticks": ""
           },
           "bgcolor": "#E5ECF6",
           "caxis": {
            "gridcolor": "white",
            "linecolor": "white",
            "ticks": ""
           }
          },
          "title": {
           "x": 0.05
          },
          "xaxis": {
           "automargin": true,
           "gridcolor": "white",
           "linecolor": "white",
           "ticks": "",
           "title": {
            "standoff": 15
           },
           "zerolinecolor": "white",
           "zerolinewidth": 2
          },
          "yaxis": {
           "automargin": true,
           "gridcolor": "white",
           "linecolor": "white",
           "ticks": "",
           "title": {
            "standoff": 15
           },
           "zerolinecolor": "white",
           "zerolinewidth": 2
          }
         }
        },
        "title": {
         "font": {
          "color": "#4D5663"
         }
        },
        "xaxis": {
         "anchor": "y",
         "domain": [
          0,
          0.2125
         ],
         "gridcolor": "#E1E5ED",
         "showgrid": false,
         "tickfont": {
          "color": "#4D5663"
         },
         "title": {
          "font": {
           "color": "#4D5663"
          },
          "text": ""
         },
         "zerolinecolor": "#E1E5ED"
        },
        "xaxis10": {
         "anchor": "y10",
         "domain": [
          0.2625,
          0.475
         ],
         "gridcolor": "#E1E5ED",
         "showgrid": false,
         "tickfont": {
          "color": "#4D5663"
         },
         "title": {
          "font": {
           "color": "#4D5663"
          },
          "text": ""
         },
         "zerolinecolor": "#E1E5ED"
        },
        "xaxis11": {
         "anchor": "y11",
         "domain": [
          0.525,
          0.7375
         ],
         "gridcolor": "#E1E5ED",
         "showgrid": false,
         "tickfont": {
          "color": "#4D5663"
         },
         "title": {
          "font": {
           "color": "#4D5663"
          },
          "text": ""
         },
         "zerolinecolor": "#E1E5ED"
        },
        "xaxis12": {
         "anchor": "y12",
         "domain": [
          0.7875,
          1
         ],
         "gridcolor": "#E1E5ED",
         "showgrid": false,
         "tickfont": {
          "color": "#4D5663"
         },
         "title": {
          "font": {
           "color": "#4D5663"
          },
          "text": ""
         },
         "zerolinecolor": "#E1E5ED"
        },
        "xaxis13": {
         "anchor": "y13",
         "domain": [
          0,
          0.2125
         ],
         "gridcolor": "#E1E5ED",
         "showgrid": false,
         "tickfont": {
          "color": "#4D5663"
         },
         "title": {
          "font": {
           "color": "#4D5663"
          },
          "text": ""
         },
         "zerolinecolor": "#E1E5ED"
        },
        "xaxis14": {
         "anchor": "y14",
         "domain": [
          0.2625,
          0.475
         ],
         "gridcolor": "#E1E5ED",
         "showgrid": false,
         "tickfont": {
          "color": "#4D5663"
         },
         "title": {
          "font": {
           "color": "#4D5663"
          },
          "text": ""
         },
         "zerolinecolor": "#E1E5ED"
        },
        "xaxis15": {
         "anchor": "y15",
         "domain": [
          0.525,
          0.7375
         ],
         "gridcolor": "#E1E5ED",
         "showgrid": false,
         "tickfont": {
          "color": "#4D5663"
         },
         "title": {
          "font": {
           "color": "#4D5663"
          },
          "text": ""
         },
         "zerolinecolor": "#E1E5ED"
        },
        "xaxis16": {
         "anchor": "y16",
         "domain": [
          0.7875,
          1
         ],
         "gridcolor": "#E1E5ED",
         "showgrid": false,
         "tickfont": {
          "color": "#4D5663"
         },
         "title": {
          "font": {
           "color": "#4D5663"
          },
          "text": ""
         },
         "zerolinecolor": "#E1E5ED"
        },
        "xaxis2": {
         "anchor": "y2",
         "domain": [
          0.2625,
          0.475
         ],
         "gridcolor": "#E1E5ED",
         "showgrid": false,
         "tickfont": {
          "color": "#4D5663"
         },
         "title": {
          "font": {
           "color": "#4D5663"
          },
          "text": ""
         },
         "zerolinecolor": "#E1E5ED"
        },
        "xaxis3": {
         "anchor": "y3",
         "domain": [
          0.525,
          0.7375
         ],
         "gridcolor": "#E1E5ED",
         "showgrid": false,
         "tickfont": {
          "color": "#4D5663"
         },
         "title": {
          "font": {
           "color": "#4D5663"
          },
          "text": ""
         },
         "zerolinecolor": "#E1E5ED"
        },
        "xaxis4": {
         "anchor": "y4",
         "domain": [
          0.7875,
          1
         ],
         "gridcolor": "#E1E5ED",
         "showgrid": false,
         "tickfont": {
          "color": "#4D5663"
         },
         "title": {
          "font": {
           "color": "#4D5663"
          },
          "text": ""
         },
         "zerolinecolor": "#E1E5ED"
        },
        "xaxis5": {
         "anchor": "y5",
         "domain": [
          0,
          0.2125
         ],
         "gridcolor": "#E1E5ED",
         "showgrid": false,
         "tickfont": {
          "color": "#4D5663"
         },
         "title": {
          "font": {
           "color": "#4D5663"
          },
          "text": ""
         },
         "zerolinecolor": "#E1E5ED"
        },
        "xaxis6": {
         "anchor": "y6",
         "domain": [
          0.2625,
          0.475
         ],
         "gridcolor": "#E1E5ED",
         "showgrid": false,
         "tickfont": {
          "color": "#4D5663"
         },
         "title": {
          "font": {
           "color": "#4D5663"
          },
          "text": ""
         },
         "zerolinecolor": "#E1E5ED"
        },
        "xaxis7": {
         "anchor": "y7",
         "domain": [
          0.525,
          0.7375
         ],
         "gridcolor": "#E1E5ED",
         "showgrid": false,
         "tickfont": {
          "color": "#4D5663"
         },
         "title": {
          "font": {
           "color": "#4D5663"
          },
          "text": ""
         },
         "zerolinecolor": "#E1E5ED"
        },
        "xaxis8": {
         "anchor": "y8",
         "domain": [
          0.7875,
          1
         ],
         "gridcolor": "#E1E5ED",
         "showgrid": false,
         "tickfont": {
          "color": "#4D5663"
         },
         "title": {
          "font": {
           "color": "#4D5663"
          },
          "text": ""
         },
         "zerolinecolor": "#E1E5ED"
        },
        "xaxis9": {
         "anchor": "y9",
         "domain": [
          0,
          0.2125
         ],
         "gridcolor": "#E1E5ED",
         "showgrid": false,
         "tickfont": {
          "color": "#4D5663"
         },
         "title": {
          "font": {
           "color": "#4D5663"
          },
          "text": ""
         },
         "zerolinecolor": "#E1E5ED"
        },
        "yaxis": {
         "anchor": "x",
         "domain": [
          0.8025,
          1
         ],
         "gridcolor": "#E1E5ED",
         "showgrid": false,
         "tickfont": {
          "color": "#4D5663"
         },
         "title": {
          "font": {
           "color": "#4D5663"
          },
          "text": ""
         },
         "zerolinecolor": "#E1E5ED"
        },
        "yaxis10": {
         "anchor": "x10",
         "domain": [
          0.2675,
          0.465
         ],
         "gridcolor": "#E1E5ED",
         "showgrid": false,
         "tickfont": {
          "color": "#4D5663"
         },
         "title": {
          "font": {
           "color": "#4D5663"
          },
          "text": ""
         },
         "zerolinecolor": "#E1E5ED"
        },
        "yaxis11": {
         "anchor": "x11",
         "domain": [
          0.2675,
          0.465
         ],
         "gridcolor": "#E1E5ED",
         "showgrid": false,
         "tickfont": {
          "color": "#4D5663"
         },
         "title": {
          "font": {
           "color": "#4D5663"
          },
          "text": ""
         },
         "zerolinecolor": "#E1E5ED"
        },
        "yaxis12": {
         "anchor": "x12",
         "domain": [
          0.2675,
          0.465
         ],
         "gridcolor": "#E1E5ED",
         "showgrid": false,
         "tickfont": {
          "color": "#4D5663"
         },
         "title": {
          "font": {
           "color": "#4D5663"
          },
          "text": ""
         },
         "zerolinecolor": "#E1E5ED"
        },
        "yaxis13": {
         "anchor": "x13",
         "domain": [
          0,
          0.1975
         ],
         "gridcolor": "#E1E5ED",
         "showgrid": false,
         "tickfont": {
          "color": "#4D5663"
         },
         "title": {
          "font": {
           "color": "#4D5663"
          },
          "text": ""
         },
         "zerolinecolor": "#E1E5ED"
        },
        "yaxis14": {
         "anchor": "x14",
         "domain": [
          0,
          0.1975
         ],
         "gridcolor": "#E1E5ED",
         "showgrid": false,
         "tickfont": {
          "color": "#4D5663"
         },
         "title": {
          "font": {
           "color": "#4D5663"
          },
          "text": ""
         },
         "zerolinecolor": "#E1E5ED"
        },
        "yaxis15": {
         "anchor": "x15",
         "domain": [
          0,
          0.1975
         ],
         "gridcolor": "#E1E5ED",
         "showgrid": false,
         "tickfont": {
          "color": "#4D5663"
         },
         "title": {
          "font": {
           "color": "#4D5663"
          },
          "text": ""
         },
         "zerolinecolor": "#E1E5ED"
        },
        "yaxis16": {
         "anchor": "x16",
         "domain": [
          0,
          0.1975
         ],
         "gridcolor": "#E1E5ED",
         "showgrid": false,
         "tickfont": {
          "color": "#4D5663"
         },
         "title": {
          "font": {
           "color": "#4D5663"
          },
          "text": ""
         },
         "zerolinecolor": "#E1E5ED"
        },
        "yaxis2": {
         "anchor": "x2",
         "domain": [
          0.8025,
          1
         ],
         "gridcolor": "#E1E5ED",
         "showgrid": false,
         "tickfont": {
          "color": "#4D5663"
         },
         "title": {
          "font": {
           "color": "#4D5663"
          },
          "text": ""
         },
         "zerolinecolor": "#E1E5ED"
        },
        "yaxis3": {
         "anchor": "x3",
         "domain": [
          0.8025,
          1
         ],
         "gridcolor": "#E1E5ED",
         "showgrid": false,
         "tickfont": {
          "color": "#4D5663"
         },
         "title": {
          "font": {
           "color": "#4D5663"
          },
          "text": ""
         },
         "zerolinecolor": "#E1E5ED"
        },
        "yaxis4": {
         "anchor": "x4",
         "domain": [
          0.8025,
          1
         ],
         "gridcolor": "#E1E5ED",
         "showgrid": false,
         "tickfont": {
          "color": "#4D5663"
         },
         "title": {
          "font": {
           "color": "#4D5663"
          },
          "text": ""
         },
         "zerolinecolor": "#E1E5ED"
        },
        "yaxis5": {
         "anchor": "x5",
         "domain": [
          0.535,
          0.7325
         ],
         "gridcolor": "#E1E5ED",
         "showgrid": false,
         "tickfont": {
          "color": "#4D5663"
         },
         "title": {
          "font": {
           "color": "#4D5663"
          },
          "text": ""
         },
         "zerolinecolor": "#E1E5ED"
        },
        "yaxis6": {
         "anchor": "x6",
         "domain": [
          0.535,
          0.7325
         ],
         "gridcolor": "#E1E5ED",
         "showgrid": false,
         "tickfont": {
          "color": "#4D5663"
         },
         "title": {
          "font": {
           "color": "#4D5663"
          },
          "text": ""
         },
         "zerolinecolor": "#E1E5ED"
        },
        "yaxis7": {
         "anchor": "x7",
         "domain": [
          0.535,
          0.7325
         ],
         "gridcolor": "#E1E5ED",
         "showgrid": false,
         "tickfont": {
          "color": "#4D5663"
         },
         "title": {
          "font": {
           "color": "#4D5663"
          },
          "text": ""
         },
         "zerolinecolor": "#E1E5ED"
        },
        "yaxis8": {
         "anchor": "x8",
         "domain": [
          0.535,
          0.7325
         ],
         "gridcolor": "#E1E5ED",
         "showgrid": false,
         "tickfont": {
          "color": "#4D5663"
         },
         "title": {
          "font": {
           "color": "#4D5663"
          },
          "text": ""
         },
         "zerolinecolor": "#E1E5ED"
        },
        "yaxis9": {
         "anchor": "x9",
         "domain": [
          0.2675,
          0.465
         ],
         "gridcolor": "#E1E5ED",
         "showgrid": false,
         "tickfont": {
          "color": "#4D5663"
         },
         "title": {
          "font": {
           "color": "#4D5663"
          },
          "text": ""
         },
         "zerolinecolor": "#E1E5ED"
        }
       }
      },
      "text/html": [
       "<div>                            <div id=\"c8017f50-1ee6-4894-be65-70f5fd131687\" class=\"plotly-graph-div\" style=\"height:525px; width:100%;\"></div>            <script type=\"text/javascript\">                require([\"plotly\"], function(Plotly) {                    window.PLOTLYENV=window.PLOTLYENV || {};\n",
       "                    window.PLOTLYENV.BASE_URL='https://plot.ly';                                    if (document.getElementById(\"c8017f50-1ee6-4894-be65-70f5fd131687\")) {                    Plotly.newPlot(                        \"c8017f50-1ee6-4894-be65-70f5fd131687\",                        [{\"histfunc\":\"count\",\"histnorm\":\"\",\"marker\":{\"color\":\"rgba(255, 153, 51, 1.0)\",\"line\":{\"color\":\"#4D5663\",\"width\":1.3}},\"name\":\"A\",\"nbinsx\":10,\"opacity\":0.8,\"orientation\":\"v\",\"x\":[2.378704592613066,0.7949812084298118,0.020347293573050422,0.16868777949177213,-0.8814220662121459,-0.5469894743183308,0.6590071765436658,0.3613179293562961,-1.2147461277054892,-1.0717006945379468,1.4730551122551672,-2.0182139728885113,0.862170819233818,0.45865902626215327,0.8212707351013381,-1.0658356940582248,0.03295835561673598,-0.926351955662341,-1.022016441866523,0.40418350578692364,-0.7181779587551178,-0.6886833824381282,0.6589900815740977,0.3362218418822843,-0.8820682824005845,0.7525581971493505,0.9744354545245969,0.3941171740728787,-0.3148279512998113,0.027511879249834822,1.0690736558569764,1.945965592580823,-0.7404405629930189,-0.9320931040826592,-0.9725128365556344,-0.022925786738108116,0.23524105357779349,-0.7870873351298374,-0.8820383123923283,0.5388653659796684,0.3467960749027645,0.9180377599871524,0.7964447306733002,0.26387076427638695,-1.6624756533038676,-0.6588661312752233,0.5217396969238294,0.8970812642468908,-1.3713926827076768,-0.4548300287598396,-0.045966239535387074,1.9282569880928602,-0.10928180133163234,-1.206470846341257,1.507713498434342,0.05592745845622738,-1.5132312506460328,0.47489113129330857,-1.3952618471111324,0.8038273818921229,1.1856349700169242,0.16273611112484013,-0.12258699650513145,1.465768004736537,1.2102174987321017,-0.7665906106697451,1.481523198660766,0.0427859215020586,0.10498569010405591,-0.3532346970575991,0.7470035130696405,-1.5138294405419948,0.39125537467149357,1.0554685121921457,-1.1603309027478979,1.2680819308540339,-1.6729243287440783,-0.800055858574939,-0.06054705752571512,-0.9499836719749434,-0.814075664122035,-1.026934113840444,0.3404099087659415,-1.0694526605321897,-0.8912421592491239,-1.0298025520047036,-0.8461521807594581,0.38163340848760885,-0.854143270793631,2.7339580890475754,-1.1192422975843501,-1.2409109590645255,-1.6961826901225727,-2.531659068148911,-0.9385020930493669,0.4024336318072811,0.5681600037698108,1.027833998158066,0.29826246449978355,1.3920428913571818],\"xaxis\":\"x\",\"yaxis\":\"y\",\"type\":\"histogram\"},{\"line\":{\"color\":\"rgba(128, 128, 128, 1.0)\",\"dash\":\"solid\",\"shape\":\"linear\",\"width\":1.3},\"marker\":{\"size\":2,\"symbol\":\"circle\"},\"mode\":\"markers\",\"name\":\"A\",\"text\":\"\",\"x\":[-1.4109524815414125,1.1282465007801148,0.047738942839579426,1.1925776700433535,-0.6760291052564088,0.1790913936831051,-0.03351469037462734,0.3771657627762725,-0.9767022195579985,0.21141886110062716,0.1584196563489074,-0.26903850577050065,0.1336348126478488,0.5566619988174846,0.1068228699217611,0.14722205713031677,-0.2343686404535711,-0.1262077308186696,0.2028854190184494,-1.184744979491366,0.09891423137821188,-1.290136702571667,0.6610727598457594,0.6702717303544894,0.0912079810352433,-0.9638006134894856,0.16094260320748796,0.2966406238557308,1.2821294846940516,-0.067473604084655,0.6795513181159056,0.5491447905266279,-0.689806015680189,0.6289590663833551,-1.9550310814406153,1.3285163272544,-0.6016863121951649,-2.287052069467176,-0.046040797789362084,0.6332369562901614,-0.7580283974698023,-0.06036705191617741,-0.1456939613387233,-0.5115588069642251,-0.9638838012193599,1.9645250905586364,0.7530690446506421,-0.5454797258160548,1.1264285526198632,0.5309788677230551,0.37017010060986144,-1.1250898914401306,-0.28798151582684817,0.5946295317590171,-0.3347454800425729,0.3149458216962703,0.5583138746908815,-1.3610380889173985,-0.015197888111185916,0.5839205545037052,0.7950892840941408,-0.9638717777634335,-1.1790577083086358,0.7429474030938845,0.3609668315824039,1.0454595794961696,-1.3695181820018538,1.1131185717922327,0.5216827552405487,0.5073722744981483,-0.4022519329950429,-0.3158636790719244,-0.8504176310575834,-0.3903836881740838,1.1044927868985561,-0.5736934071368204,0.7757993030735614,0.17272730723566684,0.7395094056847753,-0.8108546768655773,0.8372945924989318,0.4622740489612075,1.1748008403104275,0.3902602603754761,0.8569649092316891,0.29879524251049244,0.12796874998029747,0.3150133146889394,-0.8190428447575135,0.1948280774662253,0.39465257829795125,0.1448000685913453,-0.38815316801875377,-0.45750751101059955,1.6738795196045138,0.13198167186586035,-0.4374958634037224,-0.3477123127206604,-0.08952001727038991,0.7885530702008177],\"xaxis\":\"x2\",\"y\":[2.378704592613066,0.7949812084298118,0.020347293573050422,0.16868777949177213,-0.8814220662121459,-0.5469894743183308,0.6590071765436658,0.3613179293562961,-1.2147461277054892,-1.0717006945379468,1.4730551122551672,-2.0182139728885113,0.862170819233818,0.45865902626215327,0.8212707351013381,-1.0658356940582248,0.03295835561673598,-0.926351955662341,-1.022016441866523,0.40418350578692364,-0.7181779587551178,-0.6886833824381282,0.6589900815740977,0.3362218418822843,-0.8820682824005845,0.7525581971493505,0.9744354545245969,0.3941171740728787,-0.3148279512998113,0.027511879249834822,1.0690736558569764,1.945965592580823,-0.7404405629930189,-0.9320931040826592,-0.9725128365556344,-0.022925786738108116,0.23524105357779349,-0.7870873351298374,-0.8820383123923283,0.5388653659796684,0.3467960749027645,0.9180377599871524,0.7964447306733002,0.26387076427638695,-1.6624756533038676,-0.6588661312752233,0.5217396969238294,0.8970812642468908,-1.3713926827076768,-0.4548300287598396,-0.045966239535387074,1.9282569880928602,-0.10928180133163234,-1.206470846341257,1.507713498434342,0.05592745845622738,-1.5132312506460328,0.47489113129330857,-1.3952618471111324,0.8038273818921229,1.1856349700169242,0.16273611112484013,-0.12258699650513145,1.465768004736537,1.2102174987321017,-0.7665906106697451,1.481523198660766,0.0427859215020586,0.10498569010405591,-0.3532346970575991,0.7470035130696405,-1.5138294405419948,0.39125537467149357,1.0554685121921457,-1.1603309027478979,1.2680819308540339,-1.6729243287440783,-0.800055858574939,-0.06054705752571512,-0.9499836719749434,-0.814075664122035,-1.026934113840444,0.3404099087659415,-1.0694526605321897,-0.8912421592491239,-1.0298025520047036,-0.8461521807594581,0.38163340848760885,-0.854143270793631,2.7339580890475754,-1.1192422975843501,-1.2409109590645255,-1.6961826901225727,-2.531659068148911,-0.9385020930493669,0.4024336318072811,0.5681600037698108,1.027833998158066,0.29826246449978355,1.3920428913571818],\"yaxis\":\"y2\",\"type\":\"scatter\"},{\"line\":{\"color\":\"rgba(128, 128, 128, 1.0)\",\"dash\":\"solid\",\"shape\":\"linear\",\"width\":1.3},\"marker\":{\"size\":2,\"symbol\":\"circle\"},\"mode\":\"markers\",\"name\":\"A\",\"text\":\"\",\"x\":[0.17493221116815275,0.4793758192571896,0.21258612000992697,-0.3051805244399655,1.0606996103251298,-0.10697146465351072,-0.3841404221690915,1.0423220285351649,0.7269093409326219,0.38060189034033354,-0.1818149422948353,-0.6984886674942541,-0.313757264337441,-0.5486225282889398,-0.8331284141437214,-0.9162890222393818,1.9355482968661735,0.02856699038782565,0.3410190274668679,0.4777408670606353,0.4381074363021479,0.2517541363746415,0.9885168125822753,-0.8773476227904854,1.5561480585691498,-2.024844965224311,0.7929513022678248,-0.5783851085248758,-0.6404510193709894,-1.4942629348193786,-0.6320513331520645,-1.1466143142339078,-0.9207009700228542,0.36682264310325,0.3706522339897603,-0.9383474280811428,0.5143722551444027,1.192968195409823,-0.058010055486303454,0.6152560354393877,-0.16198371675758022,-0.4992467396063783,-0.06199340598664998,0.006860550130539408,-0.9495913028319866,0.6382815978484642,-1.6101490984594868,-1.7165502448724768,-0.33202346522380916,0.03985816668478454,-2.1597925789475974,0.14616622441014854,-1.1168795626046077,0.040527964942006646,-0.34756079481149277,0.37157580086920716,0.6992194446323146,0.1176846043503712,-0.20387503671841584,-2.1556288625410005,-0.7851953792554399,0.6303791296083932,1.0445640738455229,0.39165825269121296,-0.2993021318345419,0.6749425174900014,1.4021546052004057,0.7619064751769392,1.5032297286678435,-0.4216779445630397,-0.026775698664428593,-0.7637159902925708,0.8657016632682935,-0.3349668194768887,-0.33387005795860425,-0.8085780740314094,0.5083782876188743,-0.8204219778728703,0.17256163186597867,1.1174581721446908,0.5335563178561191,-0.5022592275185176,-0.6024752374575938,-2.2741222046352596,1.2241854682087892,1.48630061368994,0.6198096295433813,-0.15358819522064296,0.07320407327786461,-1.259567699690709,-0.046221509263831714,-0.5890848916747219,2.5599191631892237,1.0035106960672098,0.32536719790756413,0.1995208286177687,0.9254501325588356,0.31498373218774767,-0.3594515185934348,-0.7503454120001366],\"xaxis\":\"x3\",\"y\":[2.378704592613066,0.7949812084298118,0.020347293573050422,0.16868777949177213,-0.8814220662121459,-0.5469894743183308,0.6590071765436658,0.3613179293562961,-1.2147461277054892,-1.0717006945379468,1.4730551122551672,-2.0182139728885113,0.862170819233818,0.45865902626215327,0.8212707351013381,-1.0658356940582248,0.03295835561673598,-0.926351955662341,-1.022016441866523,0.40418350578692364,-0.7181779587551178,-0.6886833824381282,0.6589900815740977,0.3362218418822843,-0.8820682824005845,0.7525581971493505,0.9744354545245969,0.3941171740728787,-0.3148279512998113,0.027511879249834822,1.0690736558569764,1.945965592580823,-0.7404405629930189,-0.9320931040826592,-0.9725128365556344,-0.022925786738108116,0.23524105357779349,-0.7870873351298374,-0.8820383123923283,0.5388653659796684,0.3467960749027645,0.9180377599871524,0.7964447306733002,0.26387076427638695,-1.6624756533038676,-0.6588661312752233,0.5217396969238294,0.8970812642468908,-1.3713926827076768,-0.4548300287598396,-0.045966239535387074,1.9282569880928602,-0.10928180133163234,-1.206470846341257,1.507713498434342,0.05592745845622738,-1.5132312506460328,0.47489113129330857,-1.3952618471111324,0.8038273818921229,1.1856349700169242,0.16273611112484013,-0.12258699650513145,1.465768004736537,1.2102174987321017,-0.7665906106697451,1.481523198660766,0.0427859215020586,0.10498569010405591,-0.3532346970575991,0.7470035130696405,-1.5138294405419948,0.39125537467149357,1.0554685121921457,-1.1603309027478979,1.2680819308540339,-1.6729243287440783,-0.800055858574939,-0.06054705752571512,-0.9499836719749434,-0.814075664122035,-1.026934113840444,0.3404099087659415,-1.0694526605321897,-0.8912421592491239,-1.0298025520047036,-0.8461521807594581,0.38163340848760885,-0.854143270793631,2.7339580890475754,-1.1192422975843501,-1.2409109590645255,-1.6961826901225727,-2.531659068148911,-0.9385020930493669,0.4024336318072811,0.5681600037698108,1.027833998158066,0.29826246449978355,1.3920428913571818],\"yaxis\":\"y3\",\"type\":\"scatter\"},{\"line\":{\"color\":\"rgba(128, 128, 128, 1.0)\",\"dash\":\"solid\",\"shape\":\"linear\",\"width\":1.3},\"marker\":{\"size\":2,\"symbol\":\"circle\"},\"mode\":\"markers\",\"name\":\"A\",\"text\":\"\",\"x\":[-0.018385070907257328,0.06962125358790339,-0.6626264273228573,-0.015385100683070094,2.7658895454036148,1.1268982815346882,0.42766094342591576,0.744999551395111,0.6274136542261247,0.5657899549138765,-1.0234175798834177,-1.8869624708304624,-1.13657899165744,-1.8505678703324018,1.842502108958259,-0.6795722642626434,1.3841049075876044,-0.8274659008208299,-1.5610244576737744,-0.6721971880176133,0.8007358771232236,-1.0684345815995333,0.5498855666169603,-0.9292363556347426,0.5750784813022343,0.8492057141704004,0.21535279068720967,2.270467141616758,0.9093378482170529,1.6633660459671185,2.342937325319705,-1.2420407626498153,-0.047286911120520705,-0.5417172144800272,1.4930684630441913,-0.9128095513386675,0.06182797314151452,-1.5290323843430564,1.3122813038828185,-0.5386952611976297,-0.3221364482167507,0.06967063201639041,0.69679577306518,0.4054792389874191,-1.982921060868619,0.15133432088554055,1.1229114452362143,-0.46082353298472795,0.8640013578042112,0.5065297393613364,1.4761671807423808,0.7614721166438643,0.28665884630755833,-1.073003598555776,0.05998038876479074,0.5426245589448745,0.7938739440389128,-0.7771581848769925,-0.23607492447418005,0.565798778011827,-2.3821262382788104,1.3042170922242016,-0.10538740443498984,-0.27424523494404707,0.9350127849296727,0.3614390527115907,-0.5209936457773134,-2.101927634552361,0.24222570174319777,-0.17760446106716765,-0.677205711348729,0.9581402420532362,-0.4100866127433445,1.5559386410443146,-0.514555899641962,0.35978373956063303,-1.3293861192761252,0.057897283960288516,-0.8771718673938348,-0.2850658346709371,-1.6440962515421318,-1.0506128896191553,-0.2834438891401006,0.6107830985099255,-0.4633452133162602,0.4282306074897751,0.422929509013625,-1.6577349278122488,2.016555349435422,-0.9028541528919203,-1.6354240777107187,0.8443344404829118,0.1616149958644247,-0.9661661712101364,-1.3952367043412177,0.7314235730413206,0.2755388647011913,0.363609002051579,0.15429612934553036,0.4739733043293338],\"xaxis\":\"x4\",\"y\":[2.378704592613066,0.7949812084298118,0.020347293573050422,0.16868777949177213,-0.8814220662121459,-0.5469894743183308,0.6590071765436658,0.3613179293562961,-1.2147461277054892,-1.0717006945379468,1.4730551122551672,-2.0182139728885113,0.862170819233818,0.45865902626215327,0.8212707351013381,-1.0658356940582248,0.03295835561673598,-0.926351955662341,-1.022016441866523,0.40418350578692364,-0.7181779587551178,-0.6886833824381282,0.6589900815740977,0.3362218418822843,-0.8820682824005845,0.7525581971493505,0.9744354545245969,0.3941171740728787,-0.3148279512998113,0.027511879249834822,1.0690736558569764,1.945965592580823,-0.7404405629930189,-0.9320931040826592,-0.9725128365556344,-0.022925786738108116,0.23524105357779349,-0.7870873351298374,-0.8820383123923283,0.5388653659796684,0.3467960749027645,0.9180377599871524,0.7964447306733002,0.26387076427638695,-1.6624756533038676,-0.6588661312752233,0.5217396969238294,0.8970812642468908,-1.3713926827076768,-0.4548300287598396,-0.045966239535387074,1.9282569880928602,-0.10928180133163234,-1.206470846341257,1.507713498434342,0.05592745845622738,-1.5132312506460328,0.47489113129330857,-1.3952618471111324,0.8038273818921229,1.1856349700169242,0.16273611112484013,-0.12258699650513145,1.465768004736537,1.2102174987321017,-0.7665906106697451,1.481523198660766,0.0427859215020586,0.10498569010405591,-0.3532346970575991,0.7470035130696405,-1.5138294405419948,0.39125537467149357,1.0554685121921457,-1.1603309027478979,1.2680819308540339,-1.6729243287440783,-0.800055858574939,-0.06054705752571512,-0.9499836719749434,-0.814075664122035,-1.026934113840444,0.3404099087659415,-1.0694526605321897,-0.8912421592491239,-1.0298025520047036,-0.8461521807594581,0.38163340848760885,-0.854143270793631,2.7339580890475754,-1.1192422975843501,-1.2409109590645255,-1.6961826901225727,-2.531659068148911,-0.9385020930493669,0.4024336318072811,0.5681600037698108,1.027833998158066,0.29826246449978355,1.3920428913571818],\"yaxis\":\"y4\",\"type\":\"scatter\"},{\"line\":{\"color\":\"rgba(128, 128, 128, 1.0)\",\"dash\":\"solid\",\"shape\":\"linear\",\"width\":1.3},\"marker\":{\"size\":2,\"symbol\":\"circle\"},\"mode\":\"markers\",\"name\":\"B\",\"text\":\"\",\"x\":[2.378704592613066,0.7949812084298118,0.020347293573050422,0.16868777949177213,-0.8814220662121459,-0.5469894743183308,0.6590071765436658,0.3613179293562961,-1.2147461277054892,-1.0717006945379468,1.4730551122551672,-2.0182139728885113,0.862170819233818,0.45865902626215327,0.8212707351013381,-1.0658356940582248,0.03295835561673598,-0.926351955662341,-1.022016441866523,0.40418350578692364,-0.7181779587551178,-0.6886833824381282,0.6589900815740977,0.3362218418822843,-0.8820682824005845,0.7525581971493505,0.9744354545245969,0.3941171740728787,-0.3148279512998113,0.027511879249834822,1.0690736558569764,1.945965592580823,-0.7404405629930189,-0.9320931040826592,-0.9725128365556344,-0.022925786738108116,0.23524105357779349,-0.7870873351298374,-0.8820383123923283,0.5388653659796684,0.3467960749027645,0.9180377599871524,0.7964447306733002,0.26387076427638695,-1.6624756533038676,-0.6588661312752233,0.5217396969238294,0.8970812642468908,-1.3713926827076768,-0.4548300287598396,-0.045966239535387074,1.9282569880928602,-0.10928180133163234,-1.206470846341257,1.507713498434342,0.05592745845622738,-1.5132312506460328,0.47489113129330857,-1.3952618471111324,0.8038273818921229,1.1856349700169242,0.16273611112484013,-0.12258699650513145,1.465768004736537,1.2102174987321017,-0.7665906106697451,1.481523198660766,0.0427859215020586,0.10498569010405591,-0.3532346970575991,0.7470035130696405,-1.5138294405419948,0.39125537467149357,1.0554685121921457,-1.1603309027478979,1.2680819308540339,-1.6729243287440783,-0.800055858574939,-0.06054705752571512,-0.9499836719749434,-0.814075664122035,-1.026934113840444,0.3404099087659415,-1.0694526605321897,-0.8912421592491239,-1.0298025520047036,-0.8461521807594581,0.38163340848760885,-0.854143270793631,2.7339580890475754,-1.1192422975843501,-1.2409109590645255,-1.6961826901225727,-2.531659068148911,-0.9385020930493669,0.4024336318072811,0.5681600037698108,1.027833998158066,0.29826246449978355,1.3920428913571818],\"xaxis\":\"x5\",\"y\":[-1.4109524815414125,1.1282465007801148,0.047738942839579426,1.1925776700433535,-0.6760291052564088,0.1790913936831051,-0.03351469037462734,0.3771657627762725,-0.9767022195579985,0.21141886110062716,0.1584196563489074,-0.26903850577050065,0.1336348126478488,0.5566619988174846,0.1068228699217611,0.14722205713031677,-0.2343686404535711,-0.1262077308186696,0.2028854190184494,-1.184744979491366,0.09891423137821188,-1.290136702571667,0.6610727598457594,0.6702717303544894,0.0912079810352433,-0.9638006134894856,0.16094260320748796,0.2966406238557308,1.2821294846940516,-0.067473604084655,0.6795513181159056,0.5491447905266279,-0.689806015680189,0.6289590663833551,-1.9550310814406153,1.3285163272544,-0.6016863121951649,-2.287052069467176,-0.046040797789362084,0.6332369562901614,-0.7580283974698023,-0.06036705191617741,-0.1456939613387233,-0.5115588069642251,-0.9638838012193599,1.9645250905586364,0.7530690446506421,-0.5454797258160548,1.1264285526198632,0.5309788677230551,0.37017010060986144,-1.1250898914401306,-0.28798151582684817,0.5946295317590171,-0.3347454800425729,0.3149458216962703,0.5583138746908815,-1.3610380889173985,-0.015197888111185916,0.5839205545037052,0.7950892840941408,-0.9638717777634335,-1.1790577083086358,0.7429474030938845,0.3609668315824039,1.0454595794961696,-1.3695181820018538,1.1131185717922327,0.5216827552405487,0.5073722744981483,-0.4022519329950429,-0.3158636790719244,-0.8504176310575834,-0.3903836881740838,1.1044927868985561,-0.5736934071368204,0.7757993030735614,0.17272730723566684,0.7395094056847753,-0.8108546768655773,0.8372945924989318,0.4622740489612075,1.1748008403104275,0.3902602603754761,0.8569649092316891,0.29879524251049244,0.12796874998029747,0.3150133146889394,-0.8190428447575135,0.1948280774662253,0.39465257829795125,0.1448000685913453,-0.38815316801875377,-0.45750751101059955,1.6738795196045138,0.13198167186586035,-0.4374958634037224,-0.3477123127206604,-0.08952001727038991,0.7885530702008177],\"yaxis\":\"y5\",\"type\":\"scatter\"},{\"histfunc\":\"count\",\"histnorm\":\"\",\"marker\":{\"color\":\"rgba(55, 128, 191, 1.0)\",\"line\":{\"color\":\"#4D5663\",\"width\":1.3}},\"name\":\"B\",\"nbinsx\":10,\"opacity\":0.8,\"orientation\":\"v\",\"x\":[-1.4109524815414125,1.1282465007801148,0.047738942839579426,1.1925776700433535,-0.6760291052564088,0.1790913936831051,-0.03351469037462734,0.3771657627762725,-0.9767022195579985,0.21141886110062716,0.1584196563489074,-0.26903850577050065,0.1336348126478488,0.5566619988174846,0.1068228699217611,0.14722205713031677,-0.2343686404535711,-0.1262077308186696,0.2028854190184494,-1.184744979491366,0.09891423137821188,-1.290136702571667,0.6610727598457594,0.6702717303544894,0.0912079810352433,-0.9638006134894856,0.16094260320748796,0.2966406238557308,1.2821294846940516,-0.067473604084655,0.6795513181159056,0.5491447905266279,-0.689806015680189,0.6289590663833551,-1.9550310814406153,1.3285163272544,-0.6016863121951649,-2.287052069467176,-0.046040797789362084,0.6332369562901614,-0.7580283974698023,-0.06036705191617741,-0.1456939613387233,-0.5115588069642251,-0.9638838012193599,1.9645250905586364,0.7530690446506421,-0.5454797258160548,1.1264285526198632,0.5309788677230551,0.37017010060986144,-1.1250898914401306,-0.28798151582684817,0.5946295317590171,-0.3347454800425729,0.3149458216962703,0.5583138746908815,-1.3610380889173985,-0.015197888111185916,0.5839205545037052,0.7950892840941408,-0.9638717777634335,-1.1790577083086358,0.7429474030938845,0.3609668315824039,1.0454595794961696,-1.3695181820018538,1.1131185717922327,0.5216827552405487,0.5073722744981483,-0.4022519329950429,-0.3158636790719244,-0.8504176310575834,-0.3903836881740838,1.1044927868985561,-0.5736934071368204,0.7757993030735614,0.17272730723566684,0.7395094056847753,-0.8108546768655773,0.8372945924989318,0.4622740489612075,1.1748008403104275,0.3902602603754761,0.8569649092316891,0.29879524251049244,0.12796874998029747,0.3150133146889394,-0.8190428447575135,0.1948280774662253,0.39465257829795125,0.1448000685913453,-0.38815316801875377,-0.45750751101059955,1.6738795196045138,0.13198167186586035,-0.4374958634037224,-0.3477123127206604,-0.08952001727038991,0.7885530702008177],\"xaxis\":\"x6\",\"yaxis\":\"y6\",\"type\":\"histogram\"},{\"line\":{\"color\":\"rgba(128, 128, 128, 1.0)\",\"dash\":\"solid\",\"shape\":\"linear\",\"width\":1.3},\"marker\":{\"size\":2,\"symbol\":\"circle\"},\"mode\":\"markers\",\"name\":\"B\",\"text\":\"\",\"x\":[0.17493221116815275,0.4793758192571896,0.21258612000992697,-0.3051805244399655,1.0606996103251298,-0.10697146465351072,-0.3841404221690915,1.0423220285351649,0.7269093409326219,0.38060189034033354,-0.1818149422948353,-0.6984886674942541,-0.313757264337441,-0.5486225282889398,-0.8331284141437214,-0.9162890222393818,1.9355482968661735,0.02856699038782565,0.3410190274668679,0.4777408670606353,0.4381074363021479,0.2517541363746415,0.9885168125822753,-0.8773476227904854,1.5561480585691498,-2.024844965224311,0.7929513022678248,-0.5783851085248758,-0.6404510193709894,-1.4942629348193786,-0.6320513331520645,-1.1466143142339078,-0.9207009700228542,0.36682264310325,0.3706522339897603,-0.9383474280811428,0.5143722551444027,1.192968195409823,-0.058010055486303454,0.6152560354393877,-0.16198371675758022,-0.4992467396063783,-0.06199340598664998,0.006860550130539408,-0.9495913028319866,0.6382815978484642,-1.6101490984594868,-1.7165502448724768,-0.33202346522380916,0.03985816668478454,-2.1597925789475974,0.14616622441014854,-1.1168795626046077,0.040527964942006646,-0.34756079481149277,0.37157580086920716,0.6992194446323146,0.1176846043503712,-0.20387503671841584,-2.1556288625410005,-0.7851953792554399,0.6303791296083932,1.0445640738455229,0.39165825269121296,-0.2993021318345419,0.6749425174900014,1.4021546052004057,0.7619064751769392,1.5032297286678435,-0.4216779445630397,-0.026775698664428593,-0.7637159902925708,0.8657016632682935,-0.3349668194768887,-0.33387005795860425,-0.8085780740314094,0.5083782876188743,-0.8204219778728703,0.17256163186597867,1.1174581721446908,0.5335563178561191,-0.5022592275185176,-0.6024752374575938,-2.2741222046352596,1.2241854682087892,1.48630061368994,0.6198096295433813,-0.15358819522064296,0.07320407327786461,-1.259567699690709,-0.046221509263831714,-0.5890848916747219,2.5599191631892237,1.0035106960672098,0.32536719790756413,0.1995208286177687,0.9254501325588356,0.31498373218774767,-0.3594515185934348,-0.7503454120001366],\"xaxis\":\"x7\",\"y\":[-1.4109524815414125,1.1282465007801148,0.047738942839579426,1.1925776700433535,-0.6760291052564088,0.1790913936831051,-0.03351469037462734,0.3771657627762725,-0.9767022195579985,0.21141886110062716,0.1584196563489074,-0.26903850577050065,0.1336348126478488,0.5566619988174846,0.1068228699217611,0.14722205713031677,-0.2343686404535711,-0.1262077308186696,0.2028854190184494,-1.184744979491366,0.09891423137821188,-1.290136702571667,0.6610727598457594,0.6702717303544894,0.0912079810352433,-0.9638006134894856,0.16094260320748796,0.2966406238557308,1.2821294846940516,-0.067473604084655,0.6795513181159056,0.5491447905266279,-0.689806015680189,0.6289590663833551,-1.9550310814406153,1.3285163272544,-0.6016863121951649,-2.287052069467176,-0.046040797789362084,0.6332369562901614,-0.7580283974698023,-0.06036705191617741,-0.1456939613387233,-0.5115588069642251,-0.9638838012193599,1.9645250905586364,0.7530690446506421,-0.5454797258160548,1.1264285526198632,0.5309788677230551,0.37017010060986144,-1.1250898914401306,-0.28798151582684817,0.5946295317590171,-0.3347454800425729,0.3149458216962703,0.5583138746908815,-1.3610380889173985,-0.015197888111185916,0.5839205545037052,0.7950892840941408,-0.9638717777634335,-1.1790577083086358,0.7429474030938845,0.3609668315824039,1.0454595794961696,-1.3695181820018538,1.1131185717922327,0.5216827552405487,0.5073722744981483,-0.4022519329950429,-0.3158636790719244,-0.8504176310575834,-0.3903836881740838,1.1044927868985561,-0.5736934071368204,0.7757993030735614,0.17272730723566684,0.7395094056847753,-0.8108546768655773,0.8372945924989318,0.4622740489612075,1.1748008403104275,0.3902602603754761,0.8569649092316891,0.29879524251049244,0.12796874998029747,0.3150133146889394,-0.8190428447575135,0.1948280774662253,0.39465257829795125,0.1448000685913453,-0.38815316801875377,-0.45750751101059955,1.6738795196045138,0.13198167186586035,-0.4374958634037224,-0.3477123127206604,-0.08952001727038991,0.7885530702008177],\"yaxis\":\"y7\",\"type\":\"scatter\"},{\"line\":{\"color\":\"rgba(128, 128, 128, 1.0)\",\"dash\":\"solid\",\"shape\":\"linear\",\"width\":1.3},\"marker\":{\"size\":2,\"symbol\":\"circle\"},\"mode\":\"markers\",\"name\":\"B\",\"text\":\"\",\"x\":[-0.018385070907257328,0.06962125358790339,-0.6626264273228573,-0.015385100683070094,2.7658895454036148,1.1268982815346882,0.42766094342591576,0.744999551395111,0.6274136542261247,0.5657899549138765,-1.0234175798834177,-1.8869624708304624,-1.13657899165744,-1.8505678703324018,1.842502108958259,-0.6795722642626434,1.3841049075876044,-0.8274659008208299,-1.5610244576737744,-0.6721971880176133,0.8007358771232236,-1.0684345815995333,0.5498855666169603,-0.9292363556347426,0.5750784813022343,0.8492057141704004,0.21535279068720967,2.270467141616758,0.9093378482170529,1.6633660459671185,2.342937325319705,-1.2420407626498153,-0.047286911120520705,-0.5417172144800272,1.4930684630441913,-0.9128095513386675,0.06182797314151452,-1.5290323843430564,1.3122813038828185,-0.5386952611976297,-0.3221364482167507,0.06967063201639041,0.69679577306518,0.4054792389874191,-1.982921060868619,0.15133432088554055,1.1229114452362143,-0.46082353298472795,0.8640013578042112,0.5065297393613364,1.4761671807423808,0.7614721166438643,0.28665884630755833,-1.073003598555776,0.05998038876479074,0.5426245589448745,0.7938739440389128,-0.7771581848769925,-0.23607492447418005,0.565798778011827,-2.3821262382788104,1.3042170922242016,-0.10538740443498984,-0.27424523494404707,0.9350127849296727,0.3614390527115907,-0.5209936457773134,-2.101927634552361,0.24222570174319777,-0.17760446106716765,-0.677205711348729,0.9581402420532362,-0.4100866127433445,1.5559386410443146,-0.514555899641962,0.35978373956063303,-1.3293861192761252,0.057897283960288516,-0.8771718673938348,-0.2850658346709371,-1.6440962515421318,-1.0506128896191553,-0.2834438891401006,0.6107830985099255,-0.4633452133162602,0.4282306074897751,0.422929509013625,-1.6577349278122488,2.016555349435422,-0.9028541528919203,-1.6354240777107187,0.8443344404829118,0.1616149958644247,-0.9661661712101364,-1.3952367043412177,0.7314235730413206,0.2755388647011913,0.363609002051579,0.15429612934553036,0.4739733043293338],\"xaxis\":\"x8\",\"y\":[-1.4109524815414125,1.1282465007801148,0.047738942839579426,1.1925776700433535,-0.6760291052564088,0.1790913936831051,-0.03351469037462734,0.3771657627762725,-0.9767022195579985,0.21141886110062716,0.1584196563489074,-0.26903850577050065,0.1336348126478488,0.5566619988174846,0.1068228699217611,0.14722205713031677,-0.2343686404535711,-0.1262077308186696,0.2028854190184494,-1.184744979491366,0.09891423137821188,-1.290136702571667,0.6610727598457594,0.6702717303544894,0.0912079810352433,-0.9638006134894856,0.16094260320748796,0.2966406238557308,1.2821294846940516,-0.067473604084655,0.6795513181159056,0.5491447905266279,-0.689806015680189,0.6289590663833551,-1.9550310814406153,1.3285163272544,-0.6016863121951649,-2.287052069467176,-0.046040797789362084,0.6332369562901614,-0.7580283974698023,-0.06036705191617741,-0.1456939613387233,-0.5115588069642251,-0.9638838012193599,1.9645250905586364,0.7530690446506421,-0.5454797258160548,1.1264285526198632,0.5309788677230551,0.37017010060986144,-1.1250898914401306,-0.28798151582684817,0.5946295317590171,-0.3347454800425729,0.3149458216962703,0.5583138746908815,-1.3610380889173985,-0.015197888111185916,0.5839205545037052,0.7950892840941408,-0.9638717777634335,-1.1790577083086358,0.7429474030938845,0.3609668315824039,1.0454595794961696,-1.3695181820018538,1.1131185717922327,0.5216827552405487,0.5073722744981483,-0.4022519329950429,-0.3158636790719244,-0.8504176310575834,-0.3903836881740838,1.1044927868985561,-0.5736934071368204,0.7757993030735614,0.17272730723566684,0.7395094056847753,-0.8108546768655773,0.8372945924989318,0.4622740489612075,1.1748008403104275,0.3902602603754761,0.8569649092316891,0.29879524251049244,0.12796874998029747,0.3150133146889394,-0.8190428447575135,0.1948280774662253,0.39465257829795125,0.1448000685913453,-0.38815316801875377,-0.45750751101059955,1.6738795196045138,0.13198167186586035,-0.4374958634037224,-0.3477123127206604,-0.08952001727038991,0.7885530702008177],\"yaxis\":\"y8\",\"type\":\"scatter\"},{\"line\":{\"color\":\"rgba(128, 128, 128, 1.0)\",\"dash\":\"solid\",\"shape\":\"linear\",\"width\":1.3},\"marker\":{\"size\":2,\"symbol\":\"circle\"},\"mode\":\"markers\",\"name\":\"C\",\"text\":\"\",\"x\":[2.378704592613066,0.7949812084298118,0.020347293573050422,0.16868777949177213,-0.8814220662121459,-0.5469894743183308,0.6590071765436658,0.3613179293562961,-1.2147461277054892,-1.0717006945379468,1.4730551122551672,-2.0182139728885113,0.862170819233818,0.45865902626215327,0.8212707351013381,-1.0658356940582248,0.03295835561673598,-0.926351955662341,-1.022016441866523,0.40418350578692364,-0.7181779587551178,-0.6886833824381282,0.6589900815740977,0.3362218418822843,-0.8820682824005845,0.7525581971493505,0.9744354545245969,0.3941171740728787,-0.3148279512998113,0.027511879249834822,1.0690736558569764,1.945965592580823,-0.7404405629930189,-0.9320931040826592,-0.9725128365556344,-0.022925786738108116,0.23524105357779349,-0.7870873351298374,-0.8820383123923283,0.5388653659796684,0.3467960749027645,0.9180377599871524,0.7964447306733002,0.26387076427638695,-1.6624756533038676,-0.6588661312752233,0.5217396969238294,0.8970812642468908,-1.3713926827076768,-0.4548300287598396,-0.045966239535387074,1.9282569880928602,-0.10928180133163234,-1.206470846341257,1.507713498434342,0.05592745845622738,-1.5132312506460328,0.47489113129330857,-1.3952618471111324,0.8038273818921229,1.1856349700169242,0.16273611112484013,-0.12258699650513145,1.465768004736537,1.2102174987321017,-0.7665906106697451,1.481523198660766,0.0427859215020586,0.10498569010405591,-0.3532346970575991,0.7470035130696405,-1.5138294405419948,0.39125537467149357,1.0554685121921457,-1.1603309027478979,1.2680819308540339,-1.6729243287440783,-0.800055858574939,-0.06054705752571512,-0.9499836719749434,-0.814075664122035,-1.026934113840444,0.3404099087659415,-1.0694526605321897,-0.8912421592491239,-1.0298025520047036,-0.8461521807594581,0.38163340848760885,-0.854143270793631,2.7339580890475754,-1.1192422975843501,-1.2409109590645255,-1.6961826901225727,-2.531659068148911,-0.9385020930493669,0.4024336318072811,0.5681600037698108,1.027833998158066,0.29826246449978355,1.3920428913571818],\"xaxis\":\"x9\",\"y\":[0.17493221116815275,0.4793758192571896,0.21258612000992697,-0.3051805244399655,1.0606996103251298,-0.10697146465351072,-0.3841404221690915,1.0423220285351649,0.7269093409326219,0.38060189034033354,-0.1818149422948353,-0.6984886674942541,-0.313757264337441,-0.5486225282889398,-0.8331284141437214,-0.9162890222393818,1.9355482968661735,0.02856699038782565,0.3410190274668679,0.4777408670606353,0.4381074363021479,0.2517541363746415,0.9885168125822753,-0.8773476227904854,1.5561480585691498,-2.024844965224311,0.7929513022678248,-0.5783851085248758,-0.6404510193709894,-1.4942629348193786,-0.6320513331520645,-1.1466143142339078,-0.9207009700228542,0.36682264310325,0.3706522339897603,-0.9383474280811428,0.5143722551444027,1.192968195409823,-0.058010055486303454,0.6152560354393877,-0.16198371675758022,-0.4992467396063783,-0.06199340598664998,0.006860550130539408,-0.9495913028319866,0.6382815978484642,-1.6101490984594868,-1.7165502448724768,-0.33202346522380916,0.03985816668478454,-2.1597925789475974,0.14616622441014854,-1.1168795626046077,0.040527964942006646,-0.34756079481149277,0.37157580086920716,0.6992194446323146,0.1176846043503712,-0.20387503671841584,-2.1556288625410005,-0.7851953792554399,0.6303791296083932,1.0445640738455229,0.39165825269121296,-0.2993021318345419,0.6749425174900014,1.4021546052004057,0.7619064751769392,1.5032297286678435,-0.4216779445630397,-0.026775698664428593,-0.7637159902925708,0.8657016632682935,-0.3349668194768887,-0.33387005795860425,-0.8085780740314094,0.5083782876188743,-0.8204219778728703,0.17256163186597867,1.1174581721446908,0.5335563178561191,-0.5022592275185176,-0.6024752374575938,-2.2741222046352596,1.2241854682087892,1.48630061368994,0.6198096295433813,-0.15358819522064296,0.07320407327786461,-1.259567699690709,-0.046221509263831714,-0.5890848916747219,2.5599191631892237,1.0035106960672098,0.32536719790756413,0.1995208286177687,0.9254501325588356,0.31498373218774767,-0.3594515185934348,-0.7503454120001366],\"yaxis\":\"y9\",\"type\":\"scatter\"},{\"line\":{\"color\":\"rgba(128, 128, 128, 1.0)\",\"dash\":\"solid\",\"shape\":\"linear\",\"width\":1.3},\"marker\":{\"size\":2,\"symbol\":\"circle\"},\"mode\":\"markers\",\"name\":\"C\",\"text\":\"\",\"x\":[-1.4109524815414125,1.1282465007801148,0.047738942839579426,1.1925776700433535,-0.6760291052564088,0.1790913936831051,-0.03351469037462734,0.3771657627762725,-0.9767022195579985,0.21141886110062716,0.1584196563489074,-0.26903850577050065,0.1336348126478488,0.5566619988174846,0.1068228699217611,0.14722205713031677,-0.2343686404535711,-0.1262077308186696,0.2028854190184494,-1.184744979491366,0.09891423137821188,-1.290136702571667,0.6610727598457594,0.6702717303544894,0.0912079810352433,-0.9638006134894856,0.16094260320748796,0.2966406238557308,1.2821294846940516,-0.067473604084655,0.6795513181159056,0.5491447905266279,-0.689806015680189,0.6289590663833551,-1.9550310814406153,1.3285163272544,-0.6016863121951649,-2.287052069467176,-0.046040797789362084,0.6332369562901614,-0.7580283974698023,-0.06036705191617741,-0.1456939613387233,-0.5115588069642251,-0.9638838012193599,1.9645250905586364,0.7530690446506421,-0.5454797258160548,1.1264285526198632,0.5309788677230551,0.37017010060986144,-1.1250898914401306,-0.28798151582684817,0.5946295317590171,-0.3347454800425729,0.3149458216962703,0.5583138746908815,-1.3610380889173985,-0.015197888111185916,0.5839205545037052,0.7950892840941408,-0.9638717777634335,-1.1790577083086358,0.7429474030938845,0.3609668315824039,1.0454595794961696,-1.3695181820018538,1.1131185717922327,0.5216827552405487,0.5073722744981483,-0.4022519329950429,-0.3158636790719244,-0.8504176310575834,-0.3903836881740838,1.1044927868985561,-0.5736934071368204,0.7757993030735614,0.17272730723566684,0.7395094056847753,-0.8108546768655773,0.8372945924989318,0.4622740489612075,1.1748008403104275,0.3902602603754761,0.8569649092316891,0.29879524251049244,0.12796874998029747,0.3150133146889394,-0.8190428447575135,0.1948280774662253,0.39465257829795125,0.1448000685913453,-0.38815316801875377,-0.45750751101059955,1.6738795196045138,0.13198167186586035,-0.4374958634037224,-0.3477123127206604,-0.08952001727038991,0.7885530702008177],\"xaxis\":\"x10\",\"y\":[0.17493221116815275,0.4793758192571896,0.21258612000992697,-0.3051805244399655,1.0606996103251298,-0.10697146465351072,-0.3841404221690915,1.0423220285351649,0.7269093409326219,0.38060189034033354,-0.1818149422948353,-0.6984886674942541,-0.313757264337441,-0.5486225282889398,-0.8331284141437214,-0.9162890222393818,1.9355482968661735,0.02856699038782565,0.3410190274668679,0.4777408670606353,0.4381074363021479,0.2517541363746415,0.9885168125822753,-0.8773476227904854,1.5561480585691498,-2.024844965224311,0.7929513022678248,-0.5783851085248758,-0.6404510193709894,-1.4942629348193786,-0.6320513331520645,-1.1466143142339078,-0.9207009700228542,0.36682264310325,0.3706522339897603,-0.9383474280811428,0.5143722551444027,1.192968195409823,-0.058010055486303454,0.6152560354393877,-0.16198371675758022,-0.4992467396063783,-0.06199340598664998,0.006860550130539408,-0.9495913028319866,0.6382815978484642,-1.6101490984594868,-1.7165502448724768,-0.33202346522380916,0.03985816668478454,-2.1597925789475974,0.14616622441014854,-1.1168795626046077,0.040527964942006646,-0.34756079481149277,0.37157580086920716,0.6992194446323146,0.1176846043503712,-0.20387503671841584,-2.1556288625410005,-0.7851953792554399,0.6303791296083932,1.0445640738455229,0.39165825269121296,-0.2993021318345419,0.6749425174900014,1.4021546052004057,0.7619064751769392,1.5032297286678435,-0.4216779445630397,-0.026775698664428593,-0.7637159902925708,0.8657016632682935,-0.3349668194768887,-0.33387005795860425,-0.8085780740314094,0.5083782876188743,-0.8204219778728703,0.17256163186597867,1.1174581721446908,0.5335563178561191,-0.5022592275185176,-0.6024752374575938,-2.2741222046352596,1.2241854682087892,1.48630061368994,0.6198096295433813,-0.15358819522064296,0.07320407327786461,-1.259567699690709,-0.046221509263831714,-0.5890848916747219,2.5599191631892237,1.0035106960672098,0.32536719790756413,0.1995208286177687,0.9254501325588356,0.31498373218774767,-0.3594515185934348,-0.7503454120001366],\"yaxis\":\"y10\",\"type\":\"scatter\"},{\"histfunc\":\"count\",\"histnorm\":\"\",\"marker\":{\"color\":\"rgba(50, 171, 96, 1.0)\",\"line\":{\"color\":\"#4D5663\",\"width\":1.3}},\"name\":\"C\",\"nbinsx\":10,\"opacity\":0.8,\"orientation\":\"v\",\"x\":[0.17493221116815275,0.4793758192571896,0.21258612000992697,-0.3051805244399655,1.0606996103251298,-0.10697146465351072,-0.3841404221690915,1.0423220285351649,0.7269093409326219,0.38060189034033354,-0.1818149422948353,-0.6984886674942541,-0.313757264337441,-0.5486225282889398,-0.8331284141437214,-0.9162890222393818,1.9355482968661735,0.02856699038782565,0.3410190274668679,0.4777408670606353,0.4381074363021479,0.2517541363746415,0.9885168125822753,-0.8773476227904854,1.5561480585691498,-2.024844965224311,0.7929513022678248,-0.5783851085248758,-0.6404510193709894,-1.4942629348193786,-0.6320513331520645,-1.1466143142339078,-0.9207009700228542,0.36682264310325,0.3706522339897603,-0.9383474280811428,0.5143722551444027,1.192968195409823,-0.058010055486303454,0.6152560354393877,-0.16198371675758022,-0.4992467396063783,-0.06199340598664998,0.006860550130539408,-0.9495913028319866,0.6382815978484642,-1.6101490984594868,-1.7165502448724768,-0.33202346522380916,0.03985816668478454,-2.1597925789475974,0.14616622441014854,-1.1168795626046077,0.040527964942006646,-0.34756079481149277,0.37157580086920716,0.6992194446323146,0.1176846043503712,-0.20387503671841584,-2.1556288625410005,-0.7851953792554399,0.6303791296083932,1.0445640738455229,0.39165825269121296,-0.2993021318345419,0.6749425174900014,1.4021546052004057,0.7619064751769392,1.5032297286678435,-0.4216779445630397,-0.026775698664428593,-0.7637159902925708,0.8657016632682935,-0.3349668194768887,-0.33387005795860425,-0.8085780740314094,0.5083782876188743,-0.8204219778728703,0.17256163186597867,1.1174581721446908,0.5335563178561191,-0.5022592275185176,-0.6024752374575938,-2.2741222046352596,1.2241854682087892,1.48630061368994,0.6198096295433813,-0.15358819522064296,0.07320407327786461,-1.259567699690709,-0.046221509263831714,-0.5890848916747219,2.5599191631892237,1.0035106960672098,0.32536719790756413,0.1995208286177687,0.9254501325588356,0.31498373218774767,-0.3594515185934348,-0.7503454120001366],\"xaxis\":\"x11\",\"yaxis\":\"y11\",\"type\":\"histogram\"},{\"line\":{\"color\":\"rgba(128, 128, 128, 1.0)\",\"dash\":\"solid\",\"shape\":\"linear\",\"width\":1.3},\"marker\":{\"size\":2,\"symbol\":\"circle\"},\"mode\":\"markers\",\"name\":\"C\",\"text\":\"\",\"x\":[-0.018385070907257328,0.06962125358790339,-0.6626264273228573,-0.015385100683070094,2.7658895454036148,1.1268982815346882,0.42766094342591576,0.744999551395111,0.6274136542261247,0.5657899549138765,-1.0234175798834177,-1.8869624708304624,-1.13657899165744,-1.8505678703324018,1.842502108958259,-0.6795722642626434,1.3841049075876044,-0.8274659008208299,-1.5610244576737744,-0.6721971880176133,0.8007358771232236,-1.0684345815995333,0.5498855666169603,-0.9292363556347426,0.5750784813022343,0.8492057141704004,0.21535279068720967,2.270467141616758,0.9093378482170529,1.6633660459671185,2.342937325319705,-1.2420407626498153,-0.047286911120520705,-0.5417172144800272,1.4930684630441913,-0.9128095513386675,0.06182797314151452,-1.5290323843430564,1.3122813038828185,-0.5386952611976297,-0.3221364482167507,0.06967063201639041,0.69679577306518,0.4054792389874191,-1.982921060868619,0.15133432088554055,1.1229114452362143,-0.46082353298472795,0.8640013578042112,0.5065297393613364,1.4761671807423808,0.7614721166438643,0.28665884630755833,-1.073003598555776,0.05998038876479074,0.5426245589448745,0.7938739440389128,-0.7771581848769925,-0.23607492447418005,0.565798778011827,-2.3821262382788104,1.3042170922242016,-0.10538740443498984,-0.27424523494404707,0.9350127849296727,0.3614390527115907,-0.5209936457773134,-2.101927634552361,0.24222570174319777,-0.17760446106716765,-0.677205711348729,0.9581402420532362,-0.4100866127433445,1.5559386410443146,-0.514555899641962,0.35978373956063303,-1.3293861192761252,0.057897283960288516,-0.8771718673938348,-0.2850658346709371,-1.6440962515421318,-1.0506128896191553,-0.2834438891401006,0.6107830985099255,-0.4633452133162602,0.4282306074897751,0.422929509013625,-1.6577349278122488,2.016555349435422,-0.9028541528919203,-1.6354240777107187,0.8443344404829118,0.1616149958644247,-0.9661661712101364,-1.3952367043412177,0.7314235730413206,0.2755388647011913,0.363609002051579,0.15429612934553036,0.4739733043293338],\"xaxis\":\"x12\",\"y\":[0.17493221116815275,0.4793758192571896,0.21258612000992697,-0.3051805244399655,1.0606996103251298,-0.10697146465351072,-0.3841404221690915,1.0423220285351649,0.7269093409326219,0.38060189034033354,-0.1818149422948353,-0.6984886674942541,-0.313757264337441,-0.5486225282889398,-0.8331284141437214,-0.9162890222393818,1.9355482968661735,0.02856699038782565,0.3410190274668679,0.4777408670606353,0.4381074363021479,0.2517541363746415,0.9885168125822753,-0.8773476227904854,1.5561480585691498,-2.024844965224311,0.7929513022678248,-0.5783851085248758,-0.6404510193709894,-1.4942629348193786,-0.6320513331520645,-1.1466143142339078,-0.9207009700228542,0.36682264310325,0.3706522339897603,-0.9383474280811428,0.5143722551444027,1.192968195409823,-0.058010055486303454,0.6152560354393877,-0.16198371675758022,-0.4992467396063783,-0.06199340598664998,0.006860550130539408,-0.9495913028319866,0.6382815978484642,-1.6101490984594868,-1.7165502448724768,-0.33202346522380916,0.03985816668478454,-2.1597925789475974,0.14616622441014854,-1.1168795626046077,0.040527964942006646,-0.34756079481149277,0.37157580086920716,0.6992194446323146,0.1176846043503712,-0.20387503671841584,-2.1556288625410005,-0.7851953792554399,0.6303791296083932,1.0445640738455229,0.39165825269121296,-0.2993021318345419,0.6749425174900014,1.4021546052004057,0.7619064751769392,1.5032297286678435,-0.4216779445630397,-0.026775698664428593,-0.7637159902925708,0.8657016632682935,-0.3349668194768887,-0.33387005795860425,-0.8085780740314094,0.5083782876188743,-0.8204219778728703,0.17256163186597867,1.1174581721446908,0.5335563178561191,-0.5022592275185176,-0.6024752374575938,-2.2741222046352596,1.2241854682087892,1.48630061368994,0.6198096295433813,-0.15358819522064296,0.07320407327786461,-1.259567699690709,-0.046221509263831714,-0.5890848916747219,2.5599191631892237,1.0035106960672098,0.32536719790756413,0.1995208286177687,0.9254501325588356,0.31498373218774767,-0.3594515185934348,-0.7503454120001366],\"yaxis\":\"y12\",\"type\":\"scatter\"},{\"line\":{\"color\":\"rgba(128, 128, 128, 1.0)\",\"dash\":\"solid\",\"shape\":\"linear\",\"width\":1.3},\"marker\":{\"size\":2,\"symbol\":\"circle\"},\"mode\":\"markers\",\"name\":\"D\",\"text\":\"\",\"x\":[2.378704592613066,0.7949812084298118,0.020347293573050422,0.16868777949177213,-0.8814220662121459,-0.5469894743183308,0.6590071765436658,0.3613179293562961,-1.2147461277054892,-1.0717006945379468,1.4730551122551672,-2.0182139728885113,0.862170819233818,0.45865902626215327,0.8212707351013381,-1.0658356940582248,0.03295835561673598,-0.926351955662341,-1.022016441866523,0.40418350578692364,-0.7181779587551178,-0.6886833824381282,0.6589900815740977,0.3362218418822843,-0.8820682824005845,0.7525581971493505,0.9744354545245969,0.3941171740728787,-0.3148279512998113,0.027511879249834822,1.0690736558569764,1.945965592580823,-0.7404405629930189,-0.9320931040826592,-0.9725128365556344,-0.022925786738108116,0.23524105357779349,-0.7870873351298374,-0.8820383123923283,0.5388653659796684,0.3467960749027645,0.9180377599871524,0.7964447306733002,0.26387076427638695,-1.6624756533038676,-0.6588661312752233,0.5217396969238294,0.8970812642468908,-1.3713926827076768,-0.4548300287598396,-0.045966239535387074,1.9282569880928602,-0.10928180133163234,-1.206470846341257,1.507713498434342,0.05592745845622738,-1.5132312506460328,0.47489113129330857,-1.3952618471111324,0.8038273818921229,1.1856349700169242,0.16273611112484013,-0.12258699650513145,1.465768004736537,1.2102174987321017,-0.7665906106697451,1.481523198660766,0.0427859215020586,0.10498569010405591,-0.3532346970575991,0.7470035130696405,-1.5138294405419948,0.39125537467149357,1.0554685121921457,-1.1603309027478979,1.2680819308540339,-1.6729243287440783,-0.800055858574939,-0.06054705752571512,-0.9499836719749434,-0.814075664122035,-1.026934113840444,0.3404099087659415,-1.0694526605321897,-0.8912421592491239,-1.0298025520047036,-0.8461521807594581,0.38163340848760885,-0.854143270793631,2.7339580890475754,-1.1192422975843501,-1.2409109590645255,-1.6961826901225727,-2.531659068148911,-0.9385020930493669,0.4024336318072811,0.5681600037698108,1.027833998158066,0.29826246449978355,1.3920428913571818],\"xaxis\":\"x13\",\"y\":[-0.018385070907257328,0.06962125358790339,-0.6626264273228573,-0.015385100683070094,2.7658895454036148,1.1268982815346882,0.42766094342591576,0.744999551395111,0.6274136542261247,0.5657899549138765,-1.0234175798834177,-1.8869624708304624,-1.13657899165744,-1.8505678703324018,1.842502108958259,-0.6795722642626434,1.3841049075876044,-0.8274659008208299,-1.5610244576737744,-0.6721971880176133,0.8007358771232236,-1.0684345815995333,0.5498855666169603,-0.9292363556347426,0.5750784813022343,0.8492057141704004,0.21535279068720967,2.270467141616758,0.9093378482170529,1.6633660459671185,2.342937325319705,-1.2420407626498153,-0.047286911120520705,-0.5417172144800272,1.4930684630441913,-0.9128095513386675,0.06182797314151452,-1.5290323843430564,1.3122813038828185,-0.5386952611976297,-0.3221364482167507,0.06967063201639041,0.69679577306518,0.4054792389874191,-1.982921060868619,0.15133432088554055,1.1229114452362143,-0.46082353298472795,0.8640013578042112,0.5065297393613364,1.4761671807423808,0.7614721166438643,0.28665884630755833,-1.073003598555776,0.05998038876479074,0.5426245589448745,0.7938739440389128,-0.7771581848769925,-0.23607492447418005,0.565798778011827,-2.3821262382788104,1.3042170922242016,-0.10538740443498984,-0.27424523494404707,0.9350127849296727,0.3614390527115907,-0.5209936457773134,-2.101927634552361,0.24222570174319777,-0.17760446106716765,-0.677205711348729,0.9581402420532362,-0.4100866127433445,1.5559386410443146,-0.514555899641962,0.35978373956063303,-1.3293861192761252,0.057897283960288516,-0.8771718673938348,-0.2850658346709371,-1.6440962515421318,-1.0506128896191553,-0.2834438891401006,0.6107830985099255,-0.4633452133162602,0.4282306074897751,0.422929509013625,-1.6577349278122488,2.016555349435422,-0.9028541528919203,-1.6354240777107187,0.8443344404829118,0.1616149958644247,-0.9661661712101364,-1.3952367043412177,0.7314235730413206,0.2755388647011913,0.363609002051579,0.15429612934553036,0.4739733043293338],\"yaxis\":\"y13\",\"type\":\"scatter\"},{\"line\":{\"color\":\"rgba(128, 128, 128, 1.0)\",\"dash\":\"solid\",\"shape\":\"linear\",\"width\":1.3},\"marker\":{\"size\":2,\"symbol\":\"circle\"},\"mode\":\"markers\",\"name\":\"D\",\"text\":\"\",\"x\":[-1.4109524815414125,1.1282465007801148,0.047738942839579426,1.1925776700433535,-0.6760291052564088,0.1790913936831051,-0.03351469037462734,0.3771657627762725,-0.9767022195579985,0.21141886110062716,0.1584196563489074,-0.26903850577050065,0.1336348126478488,0.5566619988174846,0.1068228699217611,0.14722205713031677,-0.2343686404535711,-0.1262077308186696,0.2028854190184494,-1.184744979491366,0.09891423137821188,-1.290136702571667,0.6610727598457594,0.6702717303544894,0.0912079810352433,-0.9638006134894856,0.16094260320748796,0.2966406238557308,1.2821294846940516,-0.067473604084655,0.6795513181159056,0.5491447905266279,-0.689806015680189,0.6289590663833551,-1.9550310814406153,1.3285163272544,-0.6016863121951649,-2.287052069467176,-0.046040797789362084,0.6332369562901614,-0.7580283974698023,-0.06036705191617741,-0.1456939613387233,-0.5115588069642251,-0.9638838012193599,1.9645250905586364,0.7530690446506421,-0.5454797258160548,1.1264285526198632,0.5309788677230551,0.37017010060986144,-1.1250898914401306,-0.28798151582684817,0.5946295317590171,-0.3347454800425729,0.3149458216962703,0.5583138746908815,-1.3610380889173985,-0.015197888111185916,0.5839205545037052,0.7950892840941408,-0.9638717777634335,-1.1790577083086358,0.7429474030938845,0.3609668315824039,1.0454595794961696,-1.3695181820018538,1.1131185717922327,0.5216827552405487,0.5073722744981483,-0.4022519329950429,-0.3158636790719244,-0.8504176310575834,-0.3903836881740838,1.1044927868985561,-0.5736934071368204,0.7757993030735614,0.17272730723566684,0.7395094056847753,-0.8108546768655773,0.8372945924989318,0.4622740489612075,1.1748008403104275,0.3902602603754761,0.8569649092316891,0.29879524251049244,0.12796874998029747,0.3150133146889394,-0.8190428447575135,0.1948280774662253,0.39465257829795125,0.1448000685913453,-0.38815316801875377,-0.45750751101059955,1.6738795196045138,0.13198167186586035,-0.4374958634037224,-0.3477123127206604,-0.08952001727038991,0.7885530702008177],\"xaxis\":\"x14\",\"y\":[-0.018385070907257328,0.06962125358790339,-0.6626264273228573,-0.015385100683070094,2.7658895454036148,1.1268982815346882,0.42766094342591576,0.744999551395111,0.6274136542261247,0.5657899549138765,-1.0234175798834177,-1.8869624708304624,-1.13657899165744,-1.8505678703324018,1.842502108958259,-0.6795722642626434,1.3841049075876044,-0.8274659008208299,-1.5610244576737744,-0.6721971880176133,0.8007358771232236,-1.0684345815995333,0.5498855666169603,-0.9292363556347426,0.5750784813022343,0.8492057141704004,0.21535279068720967,2.270467141616758,0.9093378482170529,1.6633660459671185,2.342937325319705,-1.2420407626498153,-0.047286911120520705,-0.5417172144800272,1.4930684630441913,-0.9128095513386675,0.06182797314151452,-1.5290323843430564,1.3122813038828185,-0.5386952611976297,-0.3221364482167507,0.06967063201639041,0.69679577306518,0.4054792389874191,-1.982921060868619,0.15133432088554055,1.1229114452362143,-0.46082353298472795,0.8640013578042112,0.5065297393613364,1.4761671807423808,0.7614721166438643,0.28665884630755833,-1.073003598555776,0.05998038876479074,0.5426245589448745,0.7938739440389128,-0.7771581848769925,-0.23607492447418005,0.565798778011827,-2.3821262382788104,1.3042170922242016,-0.10538740443498984,-0.27424523494404707,0.9350127849296727,0.3614390527115907,-0.5209936457773134,-2.101927634552361,0.24222570174319777,-0.17760446106716765,-0.677205711348729,0.9581402420532362,-0.4100866127433445,1.5559386410443146,-0.514555899641962,0.35978373956063303,-1.3293861192761252,0.057897283960288516,-0.8771718673938348,-0.2850658346709371,-1.6440962515421318,-1.0506128896191553,-0.2834438891401006,0.6107830985099255,-0.4633452133162602,0.4282306074897751,0.422929509013625,-1.6577349278122488,2.016555349435422,-0.9028541528919203,-1.6354240777107187,0.8443344404829118,0.1616149958644247,-0.9661661712101364,-1.3952367043412177,0.7314235730413206,0.2755388647011913,0.363609002051579,0.15429612934553036,0.4739733043293338],\"yaxis\":\"y14\",\"type\":\"scatter\"},{\"line\":{\"color\":\"rgba(128, 128, 128, 1.0)\",\"dash\":\"solid\",\"shape\":\"linear\",\"width\":1.3},\"marker\":{\"size\":2,\"symbol\":\"circle\"},\"mode\":\"markers\",\"name\":\"D\",\"text\":\"\",\"x\":[0.17493221116815275,0.4793758192571896,0.21258612000992697,-0.3051805244399655,1.0606996103251298,-0.10697146465351072,-0.3841404221690915,1.0423220285351649,0.7269093409326219,0.38060189034033354,-0.1818149422948353,-0.6984886674942541,-0.313757264337441,-0.5486225282889398,-0.8331284141437214,-0.9162890222393818,1.9355482968661735,0.02856699038782565,0.3410190274668679,0.4777408670606353,0.4381074363021479,0.2517541363746415,0.9885168125822753,-0.8773476227904854,1.5561480585691498,-2.024844965224311,0.7929513022678248,-0.5783851085248758,-0.6404510193709894,-1.4942629348193786,-0.6320513331520645,-1.1466143142339078,-0.9207009700228542,0.36682264310325,0.3706522339897603,-0.9383474280811428,0.5143722551444027,1.192968195409823,-0.058010055486303454,0.6152560354393877,-0.16198371675758022,-0.4992467396063783,-0.06199340598664998,0.006860550130539408,-0.9495913028319866,0.6382815978484642,-1.6101490984594868,-1.7165502448724768,-0.33202346522380916,0.03985816668478454,-2.1597925789475974,0.14616622441014854,-1.1168795626046077,0.040527964942006646,-0.34756079481149277,0.37157580086920716,0.6992194446323146,0.1176846043503712,-0.20387503671841584,-2.1556288625410005,-0.7851953792554399,0.6303791296083932,1.0445640738455229,0.39165825269121296,-0.2993021318345419,0.6749425174900014,1.4021546052004057,0.7619064751769392,1.5032297286678435,-0.4216779445630397,-0.026775698664428593,-0.7637159902925708,0.8657016632682935,-0.3349668194768887,-0.33387005795860425,-0.8085780740314094,0.5083782876188743,-0.8204219778728703,0.17256163186597867,1.1174581721446908,0.5335563178561191,-0.5022592275185176,-0.6024752374575938,-2.2741222046352596,1.2241854682087892,1.48630061368994,0.6198096295433813,-0.15358819522064296,0.07320407327786461,-1.259567699690709,-0.046221509263831714,-0.5890848916747219,2.5599191631892237,1.0035106960672098,0.32536719790756413,0.1995208286177687,0.9254501325588356,0.31498373218774767,-0.3594515185934348,-0.7503454120001366],\"xaxis\":\"x15\",\"y\":[-0.018385070907257328,0.06962125358790339,-0.6626264273228573,-0.015385100683070094,2.7658895454036148,1.1268982815346882,0.42766094342591576,0.744999551395111,0.6274136542261247,0.5657899549138765,-1.0234175798834177,-1.8869624708304624,-1.13657899165744,-1.8505678703324018,1.842502108958259,-0.6795722642626434,1.3841049075876044,-0.8274659008208299,-1.5610244576737744,-0.6721971880176133,0.8007358771232236,-1.0684345815995333,0.5498855666169603,-0.9292363556347426,0.5750784813022343,0.8492057141704004,0.21535279068720967,2.270467141616758,0.9093378482170529,1.6633660459671185,2.342937325319705,-1.2420407626498153,-0.047286911120520705,-0.5417172144800272,1.4930684630441913,-0.9128095513386675,0.06182797314151452,-1.5290323843430564,1.3122813038828185,-0.5386952611976297,-0.3221364482167507,0.06967063201639041,0.69679577306518,0.4054792389874191,-1.982921060868619,0.15133432088554055,1.1229114452362143,-0.46082353298472795,0.8640013578042112,0.5065297393613364,1.4761671807423808,0.7614721166438643,0.28665884630755833,-1.073003598555776,0.05998038876479074,0.5426245589448745,0.7938739440389128,-0.7771581848769925,-0.23607492447418005,0.565798778011827,-2.3821262382788104,1.3042170922242016,-0.10538740443498984,-0.27424523494404707,0.9350127849296727,0.3614390527115907,-0.5209936457773134,-2.101927634552361,0.24222570174319777,-0.17760446106716765,-0.677205711348729,0.9581402420532362,-0.4100866127433445,1.5559386410443146,-0.514555899641962,0.35978373956063303,-1.3293861192761252,0.057897283960288516,-0.8771718673938348,-0.2850658346709371,-1.6440962515421318,-1.0506128896191553,-0.2834438891401006,0.6107830985099255,-0.4633452133162602,0.4282306074897751,0.422929509013625,-1.6577349278122488,2.016555349435422,-0.9028541528919203,-1.6354240777107187,0.8443344404829118,0.1616149958644247,-0.9661661712101364,-1.3952367043412177,0.7314235730413206,0.2755388647011913,0.363609002051579,0.15429612934553036,0.4739733043293338],\"yaxis\":\"y15\",\"type\":\"scatter\"},{\"histfunc\":\"count\",\"histnorm\":\"\",\"marker\":{\"color\":\"rgba(128, 0, 128, 1.0)\",\"line\":{\"color\":\"#4D5663\",\"width\":1.3}},\"name\":\"D\",\"nbinsx\":10,\"opacity\":0.8,\"orientation\":\"v\",\"x\":[-0.018385070907257328,0.06962125358790339,-0.6626264273228573,-0.015385100683070094,2.7658895454036148,1.1268982815346882,0.42766094342591576,0.744999551395111,0.6274136542261247,0.5657899549138765,-1.0234175798834177,-1.8869624708304624,-1.13657899165744,-1.8505678703324018,1.842502108958259,-0.6795722642626434,1.3841049075876044,-0.8274659008208299,-1.5610244576737744,-0.6721971880176133,0.8007358771232236,-1.0684345815995333,0.5498855666169603,-0.9292363556347426,0.5750784813022343,0.8492057141704004,0.21535279068720967,2.270467141616758,0.9093378482170529,1.6633660459671185,2.342937325319705,-1.2420407626498153,-0.047286911120520705,-0.5417172144800272,1.4930684630441913,-0.9128095513386675,0.06182797314151452,-1.5290323843430564,1.3122813038828185,-0.5386952611976297,-0.3221364482167507,0.06967063201639041,0.69679577306518,0.4054792389874191,-1.982921060868619,0.15133432088554055,1.1229114452362143,-0.46082353298472795,0.8640013578042112,0.5065297393613364,1.4761671807423808,0.7614721166438643,0.28665884630755833,-1.073003598555776,0.05998038876479074,0.5426245589448745,0.7938739440389128,-0.7771581848769925,-0.23607492447418005,0.565798778011827,-2.3821262382788104,1.3042170922242016,-0.10538740443498984,-0.27424523494404707,0.9350127849296727,0.3614390527115907,-0.5209936457773134,-2.101927634552361,0.24222570174319777,-0.17760446106716765,-0.677205711348729,0.9581402420532362,-0.4100866127433445,1.5559386410443146,-0.514555899641962,0.35978373956063303,-1.3293861192761252,0.057897283960288516,-0.8771718673938348,-0.2850658346709371,-1.6440962515421318,-1.0506128896191553,-0.2834438891401006,0.6107830985099255,-0.4633452133162602,0.4282306074897751,0.422929509013625,-1.6577349278122488,2.016555349435422,-0.9028541528919203,-1.6354240777107187,0.8443344404829118,0.1616149958644247,-0.9661661712101364,-1.3952367043412177,0.7314235730413206,0.2755388647011913,0.363609002051579,0.15429612934553036,0.4739733043293338],\"xaxis\":\"x16\",\"yaxis\":\"y16\",\"type\":\"histogram\"}],                        {\"bargap\":0.02,\"legend\":{\"bgcolor\":\"#F5F6F9\",\"font\":{\"color\":\"#4D5663\"}},\"paper_bgcolor\":\"#F5F6F9\",\"plot_bgcolor\":\"#F5F6F9\",\"showlegend\":false,\"template\":{\"data\":{\"barpolar\":[{\"marker\":{\"line\":{\"color\":\"#E5ECF6\",\"width\":0.5},\"pattern\":{\"fillmode\":\"overlay\",\"size\":10,\"solidity\":0.2}},\"type\":\"barpolar\"}],\"bar\":[{\"error_x\":{\"color\":\"#2a3f5f\"},\"error_y\":{\"color\":\"#2a3f5f\"},\"marker\":{\"line\":{\"color\":\"#E5ECF6\",\"width\":0.5},\"pattern\":{\"fillmode\":\"overlay\",\"size\":10,\"solidity\":0.2}},\"type\":\"bar\"}],\"carpet\":[{\"aaxis\":{\"endlinecolor\":\"#2a3f5f\",\"gridcolor\":\"white\",\"linecolor\":\"white\",\"minorgridcolor\":\"white\",\"startlinecolor\":\"#2a3f5f\"},\"baxis\":{\"endlinecolor\":\"#2a3f5f\",\"gridcolor\":\"white\",\"linecolor\":\"white\",\"minorgridcolor\":\"white\",\"startlinecolor\":\"#2a3f5f\"},\"type\":\"carpet\"}],\"choropleth\":[{\"colorbar\":{\"outlinewidth\":0,\"ticks\":\"\"},\"type\":\"choropleth\"}],\"contourcarpet\":[{\"colorbar\":{\"outlinewidth\":0,\"ticks\":\"\"},\"type\":\"contourcarpet\"}],\"contour\":[{\"colorbar\":{\"outlinewidth\":0,\"ticks\":\"\"},\"colorscale\":[[0.0,\"#0d0887\"],[0.1111111111111111,\"#46039f\"],[0.2222222222222222,\"#7201a8\"],[0.3333333333333333,\"#9c179e\"],[0.4444444444444444,\"#bd3786\"],[0.5555555555555556,\"#d8576b\"],[0.6666666666666666,\"#ed7953\"],[0.7777777777777778,\"#fb9f3a\"],[0.8888888888888888,\"#fdca26\"],[1.0,\"#f0f921\"]],\"type\":\"contour\"}],\"heatmapgl\":[{\"colorbar\":{\"outlinewidth\":0,\"ticks\":\"\"},\"colorscale\":[[0.0,\"#0d0887\"],[0.1111111111111111,\"#46039f\"],[0.2222222222222222,\"#7201a8\"],[0.3333333333333333,\"#9c179e\"],[0.4444444444444444,\"#bd3786\"],[0.5555555555555556,\"#d8576b\"],[0.6666666666666666,\"#ed7953\"],[0.7777777777777778,\"#fb9f3a\"],[0.8888888888888888,\"#fdca26\"],[1.0,\"#f0f921\"]],\"type\":\"heatmapgl\"}],\"heatmap\":[{\"colorbar\":{\"outlinewidth\":0,\"ticks\":\"\"},\"colorscale\":[[0.0,\"#0d0887\"],[0.1111111111111111,\"#46039f\"],[0.2222222222222222,\"#7201a8\"],[0.3333333333333333,\"#9c179e\"],[0.4444444444444444,\"#bd3786\"],[0.5555555555555556,\"#d8576b\"],[0.6666666666666666,\"#ed7953\"],[0.7777777777777778,\"#fb9f3a\"],[0.8888888888888888,\"#fdca26\"],[1.0,\"#f0f921\"]],\"type\":\"heatmap\"}],\"histogram2dcontour\":[{\"colorbar\":{\"outlinewidth\":0,\"ticks\":\"\"},\"colorscale\":[[0.0,\"#0d0887\"],[0.1111111111111111,\"#46039f\"],[0.2222222222222222,\"#7201a8\"],[0.3333333333333333,\"#9c179e\"],[0.4444444444444444,\"#bd3786\"],[0.5555555555555556,\"#d8576b\"],[0.6666666666666666,\"#ed7953\"],[0.7777777777777778,\"#fb9f3a\"],[0.8888888888888888,\"#fdca26\"],[1.0,\"#f0f921\"]],\"type\":\"histogram2dcontour\"}],\"histogram2d\":[{\"colorbar\":{\"outlinewidth\":0,\"ticks\":\"\"},\"colorscale\":[[0.0,\"#0d0887\"],[0.1111111111111111,\"#46039f\"],[0.2222222222222222,\"#7201a8\"],[0.3333333333333333,\"#9c179e\"],[0.4444444444444444,\"#bd3786\"],[0.5555555555555556,\"#d8576b\"],[0.6666666666666666,\"#ed7953\"],[0.7777777777777778,\"#fb9f3a\"],[0.8888888888888888,\"#fdca26\"],[1.0,\"#f0f921\"]],\"type\":\"histogram2d\"}],\"histogram\":[{\"marker\":{\"pattern\":{\"fillmode\":\"overlay\",\"size\":10,\"solidity\":0.2}},\"type\":\"histogram\"}],\"mesh3d\":[{\"colorbar\":{\"outlinewidth\":0,\"ticks\":\"\"},\"type\":\"mesh3d\"}],\"parcoords\":[{\"line\":{\"colorbar\":{\"outlinewidth\":0,\"ticks\":\"\"}},\"type\":\"parcoords\"}],\"pie\":[{\"automargin\":true,\"type\":\"pie\"}],\"scatter3d\":[{\"line\":{\"colorbar\":{\"outlinewidth\":0,\"ticks\":\"\"}},\"marker\":{\"colorbar\":{\"outlinewidth\":0,\"ticks\":\"\"}},\"type\":\"scatter3d\"}],\"scattercarpet\":[{\"marker\":{\"colorbar\":{\"outlinewidth\":0,\"ticks\":\"\"}},\"type\":\"scattercarpet\"}],\"scattergeo\":[{\"marker\":{\"colorbar\":{\"outlinewidth\":0,\"ticks\":\"\"}},\"type\":\"scattergeo\"}],\"scattergl\":[{\"marker\":{\"colorbar\":{\"outlinewidth\":0,\"ticks\":\"\"}},\"type\":\"scattergl\"}],\"scattermapbox\":[{\"marker\":{\"colorbar\":{\"outlinewidth\":0,\"ticks\":\"\"}},\"type\":\"scattermapbox\"}],\"scatterpolargl\":[{\"marker\":{\"colorbar\":{\"outlinewidth\":0,\"ticks\":\"\"}},\"type\":\"scatterpolargl\"}],\"scatterpolar\":[{\"marker\":{\"colorbar\":{\"outlinewidth\":0,\"ticks\":\"\"}},\"type\":\"scatterpolar\"}],\"scatter\":[{\"fillpattern\":{\"fillmode\":\"overlay\",\"size\":10,\"solidity\":0.2},\"type\":\"scatter\"}],\"scatterternary\":[{\"marker\":{\"colorbar\":{\"outlinewidth\":0,\"ticks\":\"\"}},\"type\":\"scatterternary\"}],\"surface\":[{\"colorbar\":{\"outlinewidth\":0,\"ticks\":\"\"},\"colorscale\":[[0.0,\"#0d0887\"],[0.1111111111111111,\"#46039f\"],[0.2222222222222222,\"#7201a8\"],[0.3333333333333333,\"#9c179e\"],[0.4444444444444444,\"#bd3786\"],[0.5555555555555556,\"#d8576b\"],[0.6666666666666666,\"#ed7953\"],[0.7777777777777778,\"#fb9f3a\"],[0.8888888888888888,\"#fdca26\"],[1.0,\"#f0f921\"]],\"type\":\"surface\"}],\"table\":[{\"cells\":{\"fill\":{\"color\":\"#EBF0F8\"},\"line\":{\"color\":\"white\"}},\"header\":{\"fill\":{\"color\":\"#C8D4E3\"},\"line\":{\"color\":\"white\"}},\"type\":\"table\"}]},\"layout\":{\"annotationdefaults\":{\"arrowcolor\":\"#2a3f5f\",\"arrowhead\":0,\"arrowwidth\":1},\"autotypenumbers\":\"strict\",\"coloraxis\":{\"colorbar\":{\"outlinewidth\":0,\"ticks\":\"\"}},\"colorscale\":{\"diverging\":[[0,\"#8e0152\"],[0.1,\"#c51b7d\"],[0.2,\"#de77ae\"],[0.3,\"#f1b6da\"],[0.4,\"#fde0ef\"],[0.5,\"#f7f7f7\"],[0.6,\"#e6f5d0\"],[0.7,\"#b8e186\"],[0.8,\"#7fbc41\"],[0.9,\"#4d9221\"],[1,\"#276419\"]],\"sequential\":[[0.0,\"#0d0887\"],[0.1111111111111111,\"#46039f\"],[0.2222222222222222,\"#7201a8\"],[0.3333333333333333,\"#9c179e\"],[0.4444444444444444,\"#bd3786\"],[0.5555555555555556,\"#d8576b\"],[0.6666666666666666,\"#ed7953\"],[0.7777777777777778,\"#fb9f3a\"],[0.8888888888888888,\"#fdca26\"],[1.0,\"#f0f921\"]],\"sequentialminus\":[[0.0,\"#0d0887\"],[0.1111111111111111,\"#46039f\"],[0.2222222222222222,\"#7201a8\"],[0.3333333333333333,\"#9c179e\"],[0.4444444444444444,\"#bd3786\"],[0.5555555555555556,\"#d8576b\"],[0.6666666666666666,\"#ed7953\"],[0.7777777777777778,\"#fb9f3a\"],[0.8888888888888888,\"#fdca26\"],[1.0,\"#f0f921\"]]},\"colorway\":[\"#636efa\",\"#EF553B\",\"#00cc96\",\"#ab63fa\",\"#FFA15A\",\"#19d3f3\",\"#FF6692\",\"#B6E880\",\"#FF97FF\",\"#FECB52\"],\"font\":{\"color\":\"#2a3f5f\"},\"geo\":{\"bgcolor\":\"white\",\"lakecolor\":\"white\",\"landcolor\":\"#E5ECF6\",\"showlakes\":true,\"showland\":true,\"subunitcolor\":\"white\"},\"hoverlabel\":{\"align\":\"left\"},\"hovermode\":\"closest\",\"mapbox\":{\"style\":\"light\"},\"paper_bgcolor\":\"white\",\"plot_bgcolor\":\"#E5ECF6\",\"polar\":{\"angularaxis\":{\"gridcolor\":\"white\",\"linecolor\":\"white\",\"ticks\":\"\"},\"bgcolor\":\"#E5ECF6\",\"radialaxis\":{\"gridcolor\":\"white\",\"linecolor\":\"white\",\"ticks\":\"\"}},\"scene\":{\"xaxis\":{\"backgroundcolor\":\"#E5ECF6\",\"gridcolor\":\"white\",\"gridwidth\":2,\"linecolor\":\"white\",\"showbackground\":true,\"ticks\":\"\",\"zerolinecolor\":\"white\"},\"yaxis\":{\"backgroundcolor\":\"#E5ECF6\",\"gridcolor\":\"white\",\"gridwidth\":2,\"linecolor\":\"white\",\"showbackground\":true,\"ticks\":\"\",\"zerolinecolor\":\"white\"},\"zaxis\":{\"backgroundcolor\":\"#E5ECF6\",\"gridcolor\":\"white\",\"gridwidth\":2,\"linecolor\":\"white\",\"showbackground\":true,\"ticks\":\"\",\"zerolinecolor\":\"white\"}},\"shapedefaults\":{\"line\":{\"color\":\"#2a3f5f\"}},\"ternary\":{\"aaxis\":{\"gridcolor\":\"white\",\"linecolor\":\"white\",\"ticks\":\"\"},\"baxis\":{\"gridcolor\":\"white\",\"linecolor\":\"white\",\"ticks\":\"\"},\"bgcolor\":\"#E5ECF6\",\"caxis\":{\"gridcolor\":\"white\",\"linecolor\":\"white\",\"ticks\":\"\"}},\"title\":{\"x\":0.05},\"xaxis\":{\"automargin\":true,\"gridcolor\":\"white\",\"linecolor\":\"white\",\"ticks\":\"\",\"title\":{\"standoff\":15},\"zerolinecolor\":\"white\",\"zerolinewidth\":2},\"yaxis\":{\"automargin\":true,\"gridcolor\":\"white\",\"linecolor\":\"white\",\"ticks\":\"\",\"title\":{\"standoff\":15},\"zerolinecolor\":\"white\",\"zerolinewidth\":2}}},\"title\":{\"font\":{\"color\":\"#4D5663\"}},\"xaxis\":{\"anchor\":\"y\",\"domain\":[0.0,0.2125],\"gridcolor\":\"#E1E5ED\",\"showgrid\":false,\"tickfont\":{\"color\":\"#4D5663\"},\"title\":{\"font\":{\"color\":\"#4D5663\"},\"text\":\"\"},\"zerolinecolor\":\"#E1E5ED\"},\"yaxis\":{\"anchor\":\"x\",\"domain\":[0.8025,1.0],\"gridcolor\":\"#E1E5ED\",\"showgrid\":false,\"tickfont\":{\"color\":\"#4D5663\"},\"title\":{\"font\":{\"color\":\"#4D5663\"},\"text\":\"\"},\"zerolinecolor\":\"#E1E5ED\"},\"xaxis2\":{\"anchor\":\"y2\",\"domain\":[0.2625,0.475],\"gridcolor\":\"#E1E5ED\",\"showgrid\":false,\"tickfont\":{\"color\":\"#4D5663\"},\"title\":{\"font\":{\"color\":\"#4D5663\"},\"text\":\"\"},\"zerolinecolor\":\"#E1E5ED\"},\"yaxis2\":{\"anchor\":\"x2\",\"domain\":[0.8025,1.0],\"gridcolor\":\"#E1E5ED\",\"showgrid\":false,\"tickfont\":{\"color\":\"#4D5663\"},\"title\":{\"font\":{\"color\":\"#4D5663\"},\"text\":\"\"},\"zerolinecolor\":\"#E1E5ED\"},\"xaxis3\":{\"anchor\":\"y3\",\"domain\":[0.525,0.7375],\"gridcolor\":\"#E1E5ED\",\"showgrid\":false,\"tickfont\":{\"color\":\"#4D5663\"},\"title\":{\"font\":{\"color\":\"#4D5663\"},\"text\":\"\"},\"zerolinecolor\":\"#E1E5ED\"},\"yaxis3\":{\"anchor\":\"x3\",\"domain\":[0.8025,1.0],\"gridcolor\":\"#E1E5ED\",\"showgrid\":false,\"tickfont\":{\"color\":\"#4D5663\"},\"title\":{\"font\":{\"color\":\"#4D5663\"},\"text\":\"\"},\"zerolinecolor\":\"#E1E5ED\"},\"xaxis4\":{\"anchor\":\"y4\",\"domain\":[0.7875,1.0],\"gridcolor\":\"#E1E5ED\",\"showgrid\":false,\"tickfont\":{\"color\":\"#4D5663\"},\"title\":{\"font\":{\"color\":\"#4D5663\"},\"text\":\"\"},\"zerolinecolor\":\"#E1E5ED\"},\"yaxis4\":{\"anchor\":\"x4\",\"domain\":[0.8025,1.0],\"gridcolor\":\"#E1E5ED\",\"showgrid\":false,\"tickfont\":{\"color\":\"#4D5663\"},\"title\":{\"font\":{\"color\":\"#4D5663\"},\"text\":\"\"},\"zerolinecolor\":\"#E1E5ED\"},\"xaxis5\":{\"anchor\":\"y5\",\"domain\":[0.0,0.2125],\"gridcolor\":\"#E1E5ED\",\"showgrid\":false,\"tickfont\":{\"color\":\"#4D5663\"},\"title\":{\"font\":{\"color\":\"#4D5663\"},\"text\":\"\"},\"zerolinecolor\":\"#E1E5ED\"},\"yaxis5\":{\"anchor\":\"x5\",\"domain\":[0.535,0.7325],\"gridcolor\":\"#E1E5ED\",\"showgrid\":false,\"tickfont\":{\"color\":\"#4D5663\"},\"title\":{\"font\":{\"color\":\"#4D5663\"},\"text\":\"\"},\"zerolinecolor\":\"#E1E5ED\"},\"xaxis6\":{\"anchor\":\"y6\",\"domain\":[0.2625,0.475],\"gridcolor\":\"#E1E5ED\",\"showgrid\":false,\"tickfont\":{\"color\":\"#4D5663\"},\"title\":{\"font\":{\"color\":\"#4D5663\"},\"text\":\"\"},\"zerolinecolor\":\"#E1E5ED\"},\"yaxis6\":{\"anchor\":\"x6\",\"domain\":[0.535,0.7325],\"gridcolor\":\"#E1E5ED\",\"showgrid\":false,\"tickfont\":{\"color\":\"#4D5663\"},\"title\":{\"font\":{\"color\":\"#4D5663\"},\"text\":\"\"},\"zerolinecolor\":\"#E1E5ED\"},\"xaxis7\":{\"anchor\":\"y7\",\"domain\":[0.525,0.7375],\"gridcolor\":\"#E1E5ED\",\"showgrid\":false,\"tickfont\":{\"color\":\"#4D5663\"},\"title\":{\"font\":{\"color\":\"#4D5663\"},\"text\":\"\"},\"zerolinecolor\":\"#E1E5ED\"},\"yaxis7\":{\"anchor\":\"x7\",\"domain\":[0.535,0.7325],\"gridcolor\":\"#E1E5ED\",\"showgrid\":false,\"tickfont\":{\"color\":\"#4D5663\"},\"title\":{\"font\":{\"color\":\"#4D5663\"},\"text\":\"\"},\"zerolinecolor\":\"#E1E5ED\"},\"xaxis8\":{\"anchor\":\"y8\",\"domain\":[0.7875,1.0],\"gridcolor\":\"#E1E5ED\",\"showgrid\":false,\"tickfont\":{\"color\":\"#4D5663\"},\"title\":{\"font\":{\"color\":\"#4D5663\"},\"text\":\"\"},\"zerolinecolor\":\"#E1E5ED\"},\"yaxis8\":{\"anchor\":\"x8\",\"domain\":[0.535,0.7325],\"gridcolor\":\"#E1E5ED\",\"showgrid\":false,\"tickfont\":{\"color\":\"#4D5663\"},\"title\":{\"font\":{\"color\":\"#4D5663\"},\"text\":\"\"},\"zerolinecolor\":\"#E1E5ED\"},\"xaxis9\":{\"anchor\":\"y9\",\"domain\":[0.0,0.2125],\"gridcolor\":\"#E1E5ED\",\"showgrid\":false,\"tickfont\":{\"color\":\"#4D5663\"},\"title\":{\"font\":{\"color\":\"#4D5663\"},\"text\":\"\"},\"zerolinecolor\":\"#E1E5ED\"},\"yaxis9\":{\"anchor\":\"x9\",\"domain\":[0.2675,0.465],\"gridcolor\":\"#E1E5ED\",\"showgrid\":false,\"tickfont\":{\"color\":\"#4D5663\"},\"title\":{\"font\":{\"color\":\"#4D5663\"},\"text\":\"\"},\"zerolinecolor\":\"#E1E5ED\"},\"xaxis10\":{\"anchor\":\"y10\",\"domain\":[0.2625,0.475],\"gridcolor\":\"#E1E5ED\",\"showgrid\":false,\"tickfont\":{\"color\":\"#4D5663\"},\"title\":{\"font\":{\"color\":\"#4D5663\"},\"text\":\"\"},\"zerolinecolor\":\"#E1E5ED\"},\"yaxis10\":{\"anchor\":\"x10\",\"domain\":[0.2675,0.465],\"gridcolor\":\"#E1E5ED\",\"showgrid\":false,\"tickfont\":{\"color\":\"#4D5663\"},\"title\":{\"font\":{\"color\":\"#4D5663\"},\"text\":\"\"},\"zerolinecolor\":\"#E1E5ED\"},\"xaxis11\":{\"anchor\":\"y11\",\"domain\":[0.525,0.7375],\"gridcolor\":\"#E1E5ED\",\"showgrid\":false,\"tickfont\":{\"color\":\"#4D5663\"},\"title\":{\"font\":{\"color\":\"#4D5663\"},\"text\":\"\"},\"zerolinecolor\":\"#E1E5ED\"},\"yaxis11\":{\"anchor\":\"x11\",\"domain\":[0.2675,0.465],\"gridcolor\":\"#E1E5ED\",\"showgrid\":false,\"tickfont\":{\"color\":\"#4D5663\"},\"title\":{\"font\":{\"color\":\"#4D5663\"},\"text\":\"\"},\"zerolinecolor\":\"#E1E5ED\"},\"xaxis12\":{\"anchor\":\"y12\",\"domain\":[0.7875,1.0],\"gridcolor\":\"#E1E5ED\",\"showgrid\":false,\"tickfont\":{\"color\":\"#4D5663\"},\"title\":{\"font\":{\"color\":\"#4D5663\"},\"text\":\"\"},\"zerolinecolor\":\"#E1E5ED\"},\"yaxis12\":{\"anchor\":\"x12\",\"domain\":[0.2675,0.465],\"gridcolor\":\"#E1E5ED\",\"showgrid\":false,\"tickfont\":{\"color\":\"#4D5663\"},\"title\":{\"font\":{\"color\":\"#4D5663\"},\"text\":\"\"},\"zerolinecolor\":\"#E1E5ED\"},\"xaxis13\":{\"anchor\":\"y13\",\"domain\":[0.0,0.2125],\"gridcolor\":\"#E1E5ED\",\"showgrid\":false,\"tickfont\":{\"color\":\"#4D5663\"},\"title\":{\"font\":{\"color\":\"#4D5663\"},\"text\":\"\"},\"zerolinecolor\":\"#E1E5ED\"},\"yaxis13\":{\"anchor\":\"x13\",\"domain\":[0.0,0.1975],\"gridcolor\":\"#E1E5ED\",\"showgrid\":false,\"tickfont\":{\"color\":\"#4D5663\"},\"title\":{\"font\":{\"color\":\"#4D5663\"},\"text\":\"\"},\"zerolinecolor\":\"#E1E5ED\"},\"xaxis14\":{\"anchor\":\"y14\",\"domain\":[0.2625,0.475],\"gridcolor\":\"#E1E5ED\",\"showgrid\":false,\"tickfont\":{\"color\":\"#4D5663\"},\"title\":{\"font\":{\"color\":\"#4D5663\"},\"text\":\"\"},\"zerolinecolor\":\"#E1E5ED\"},\"yaxis14\":{\"anchor\":\"x14\",\"domain\":[0.0,0.1975],\"gridcolor\":\"#E1E5ED\",\"showgrid\":false,\"tickfont\":{\"color\":\"#4D5663\"},\"title\":{\"font\":{\"color\":\"#4D5663\"},\"text\":\"\"},\"zerolinecolor\":\"#E1E5ED\"},\"xaxis15\":{\"anchor\":\"y15\",\"domain\":[0.525,0.7375],\"gridcolor\":\"#E1E5ED\",\"showgrid\":false,\"tickfont\":{\"color\":\"#4D5663\"},\"title\":{\"font\":{\"color\":\"#4D5663\"},\"text\":\"\"},\"zerolinecolor\":\"#E1E5ED\"},\"yaxis15\":{\"anchor\":\"x15\",\"domain\":[0.0,0.1975],\"gridcolor\":\"#E1E5ED\",\"showgrid\":false,\"tickfont\":{\"color\":\"#4D5663\"},\"title\":{\"font\":{\"color\":\"#4D5663\"},\"text\":\"\"},\"zerolinecolor\":\"#E1E5ED\"},\"xaxis16\":{\"anchor\":\"y16\",\"domain\":[0.7875,1.0],\"gridcolor\":\"#E1E5ED\",\"showgrid\":false,\"tickfont\":{\"color\":\"#4D5663\"},\"title\":{\"font\":{\"color\":\"#4D5663\"},\"text\":\"\"},\"zerolinecolor\":\"#E1E5ED\"},\"yaxis16\":{\"anchor\":\"x16\",\"domain\":[0.0,0.1975],\"gridcolor\":\"#E1E5ED\",\"showgrid\":false,\"tickfont\":{\"color\":\"#4D5663\"},\"title\":{\"font\":{\"color\":\"#4D5663\"},\"text\":\"\"},\"zerolinecolor\":\"#E1E5ED\"}},                        {\"showLink\": true, \"linkText\": \"Export to plot.ly\", \"plotlyServerURL\": \"https://plot.ly\", \"responsive\": true}                    ).then(function(){\n",
       "                            \n",
       "var gd = document.getElementById('c8017f50-1ee6-4894-be65-70f5fd131687');\n",
       "var x = new MutationObserver(function (mutations, observer) {{\n",
       "        var display = window.getComputedStyle(gd).display;\n",
       "        if (!display || display === 'none') {{\n",
       "            console.log([gd, 'removed!']);\n",
       "            Plotly.purge(gd);\n",
       "            observer.disconnect();\n",
       "        }}\n",
       "}});\n",
       "\n",
       "// Listen for the removal of the full notebook cells\n",
       "var notebookContainer = gd.closest('#notebook-container');\n",
       "if (notebookContainer) {{\n",
       "    x.observe(notebookContainer, {childList: true});\n",
       "}}\n",
       "\n",
       "// Listen for the clearing of the current output cell\n",
       "var outputEl = gd.closest('.output');\n",
       "if (outputEl) {{\n",
       "    x.observe(outputEl, {childList: true});\n",
       "}}\n",
       "\n",
       "                        })                };                });            </script>        </div>"
      ]
     },
     "metadata": {},
     "output_type": "display_data"
    }
   ],
   "source": [
    "df.scatter_matrix()"
   ]
  },
  {
   "cell_type": "markdown",
   "metadata": {
    "collapsed": true
   },
   "source": [
    "# Great Job!"
   ]
  }
 ],
 "metadata": {
  "kernelspec": {
   "display_name": "Python 3 (ipykernel)",
   "language": "python",
   "name": "python3"
  },
  "language_info": {
   "codemirror_mode": {
    "name": "ipython",
    "version": 3
   },
   "file_extension": ".py",
   "mimetype": "text/x-python",
   "name": "python",
   "nbconvert_exporter": "python",
   "pygments_lexer": "ipython3",
   "version": "3.7.16"
  }
 },
 "nbformat": 4,
 "nbformat_minor": 1
}
