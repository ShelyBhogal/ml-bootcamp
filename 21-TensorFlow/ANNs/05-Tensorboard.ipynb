{
 "cells": [
  {
   "cell_type": "markdown",
   "metadata": {},
   "source": [
    "<a href=\"https://www.pieriandata.com\"><img src=\"../Pierian_Data_Logo.PNG\"></a>\n",
    "<strong><center>Copyright by Pierian Data Inc.</center></strong> \n",
    "<strong><center>Created by Jose Marcial Portilla.</center></strong>"
   ]
  },
  {
   "cell_type": "markdown",
   "metadata": {},
   "source": [
    "# Tensorboard\n",
    "\n",
    "---\n",
    "---\n",
    "\n",
    "**NOTE: You must watch the corresponding video to understand this lecture. This notebook can't serve as a full guide. Please watch the video BEFORE posting questions to the QA forum.**\n",
    "\n",
    "---\n",
    "---\n",
    "\n",
    "Let's explore the built-in data visualization capabilities that come with Tensorboard. We will be using the **trained** model from the classification Keras model lecture (and notebook), i.e. dataset of malign vs benign cancer tumours.\n",
    "\n",
    "Full official tutorial available here: https://www.tensorflow.org/tensorboard/get_started\n",
    "\n",
    "## Data"
   ]
  },
  {
   "cell_type": "code",
   "execution_count": 1,
   "metadata": {},
   "outputs": [],
   "source": [
    "import pandas as pd\n",
    "import numpy as np"
   ]
  },
  {
   "cell_type": "code",
   "execution_count": 2,
   "metadata": {},
   "outputs": [],
   "source": [
    "df = pd.read_csv('../DATA/cancer_classification.csv')"
   ]
  },
  {
   "cell_type": "code",
   "execution_count": 3,
   "metadata": {},
   "outputs": [
    {
     "data": {
      "text/html": [
       "<div>\n",
       "<style scoped>\n",
       "    .dataframe tbody tr th:only-of-type {\n",
       "        vertical-align: middle;\n",
       "    }\n",
       "\n",
       "    .dataframe tbody tr th {\n",
       "        vertical-align: top;\n",
       "    }\n",
       "\n",
       "    .dataframe thead th {\n",
       "        text-align: right;\n",
       "    }\n",
       "</style>\n",
       "<table border=\"1\" class=\"dataframe\">\n",
       "  <thead>\n",
       "    <tr style=\"text-align: right;\">\n",
       "      <th></th>\n",
       "      <th>mean radius</th>\n",
       "      <th>mean texture</th>\n",
       "      <th>mean perimeter</th>\n",
       "      <th>mean area</th>\n",
       "      <th>mean smoothness</th>\n",
       "      <th>mean compactness</th>\n",
       "      <th>mean concavity</th>\n",
       "      <th>mean concave points</th>\n",
       "      <th>mean symmetry</th>\n",
       "      <th>mean fractal dimension</th>\n",
       "      <th>...</th>\n",
       "      <th>worst texture</th>\n",
       "      <th>worst perimeter</th>\n",
       "      <th>worst area</th>\n",
       "      <th>worst smoothness</th>\n",
       "      <th>worst compactness</th>\n",
       "      <th>worst concavity</th>\n",
       "      <th>worst concave points</th>\n",
       "      <th>worst symmetry</th>\n",
       "      <th>worst fractal dimension</th>\n",
       "      <th>benign_0__mal_1</th>\n",
       "    </tr>\n",
       "  </thead>\n",
       "  <tbody>\n",
       "    <tr>\n",
       "      <th>0</th>\n",
       "      <td>17.99</td>\n",
       "      <td>10.38</td>\n",
       "      <td>122.80</td>\n",
       "      <td>1001.0</td>\n",
       "      <td>0.11840</td>\n",
       "      <td>0.27760</td>\n",
       "      <td>0.3001</td>\n",
       "      <td>0.14710</td>\n",
       "      <td>0.2419</td>\n",
       "      <td>0.07871</td>\n",
       "      <td>...</td>\n",
       "      <td>17.33</td>\n",
       "      <td>184.60</td>\n",
       "      <td>2019.0</td>\n",
       "      <td>0.1622</td>\n",
       "      <td>0.6656</td>\n",
       "      <td>0.7119</td>\n",
       "      <td>0.2654</td>\n",
       "      <td>0.4601</td>\n",
       "      <td>0.11890</td>\n",
       "      <td>0</td>\n",
       "    </tr>\n",
       "    <tr>\n",
       "      <th>1</th>\n",
       "      <td>20.57</td>\n",
       "      <td>17.77</td>\n",
       "      <td>132.90</td>\n",
       "      <td>1326.0</td>\n",
       "      <td>0.08474</td>\n",
       "      <td>0.07864</td>\n",
       "      <td>0.0869</td>\n",
       "      <td>0.07017</td>\n",
       "      <td>0.1812</td>\n",
       "      <td>0.05667</td>\n",
       "      <td>...</td>\n",
       "      <td>23.41</td>\n",
       "      <td>158.80</td>\n",
       "      <td>1956.0</td>\n",
       "      <td>0.1238</td>\n",
       "      <td>0.1866</td>\n",
       "      <td>0.2416</td>\n",
       "      <td>0.1860</td>\n",
       "      <td>0.2750</td>\n",
       "      <td>0.08902</td>\n",
       "      <td>0</td>\n",
       "    </tr>\n",
       "    <tr>\n",
       "      <th>2</th>\n",
       "      <td>19.69</td>\n",
       "      <td>21.25</td>\n",
       "      <td>130.00</td>\n",
       "      <td>1203.0</td>\n",
       "      <td>0.10960</td>\n",
       "      <td>0.15990</td>\n",
       "      <td>0.1974</td>\n",
       "      <td>0.12790</td>\n",
       "      <td>0.2069</td>\n",
       "      <td>0.05999</td>\n",
       "      <td>...</td>\n",
       "      <td>25.53</td>\n",
       "      <td>152.50</td>\n",
       "      <td>1709.0</td>\n",
       "      <td>0.1444</td>\n",
       "      <td>0.4245</td>\n",
       "      <td>0.4504</td>\n",
       "      <td>0.2430</td>\n",
       "      <td>0.3613</td>\n",
       "      <td>0.08758</td>\n",
       "      <td>0</td>\n",
       "    </tr>\n",
       "    <tr>\n",
       "      <th>3</th>\n",
       "      <td>11.42</td>\n",
       "      <td>20.38</td>\n",
       "      <td>77.58</td>\n",
       "      <td>386.1</td>\n",
       "      <td>0.14250</td>\n",
       "      <td>0.28390</td>\n",
       "      <td>0.2414</td>\n",
       "      <td>0.10520</td>\n",
       "      <td>0.2597</td>\n",
       "      <td>0.09744</td>\n",
       "      <td>...</td>\n",
       "      <td>26.50</td>\n",
       "      <td>98.87</td>\n",
       "      <td>567.7</td>\n",
       "      <td>0.2098</td>\n",
       "      <td>0.8663</td>\n",
       "      <td>0.6869</td>\n",
       "      <td>0.2575</td>\n",
       "      <td>0.6638</td>\n",
       "      <td>0.17300</td>\n",
       "      <td>0</td>\n",
       "    </tr>\n",
       "    <tr>\n",
       "      <th>4</th>\n",
       "      <td>20.29</td>\n",
       "      <td>14.34</td>\n",
       "      <td>135.10</td>\n",
       "      <td>1297.0</td>\n",
       "      <td>0.10030</td>\n",
       "      <td>0.13280</td>\n",
       "      <td>0.1980</td>\n",
       "      <td>0.10430</td>\n",
       "      <td>0.1809</td>\n",
       "      <td>0.05883</td>\n",
       "      <td>...</td>\n",
       "      <td>16.67</td>\n",
       "      <td>152.20</td>\n",
       "      <td>1575.0</td>\n",
       "      <td>0.1374</td>\n",
       "      <td>0.2050</td>\n",
       "      <td>0.4000</td>\n",
       "      <td>0.1625</td>\n",
       "      <td>0.2364</td>\n",
       "      <td>0.07678</td>\n",
       "      <td>0</td>\n",
       "    </tr>\n",
       "  </tbody>\n",
       "</table>\n",
       "<p>5 rows × 31 columns</p>\n",
       "</div>"
      ],
      "text/plain": [
       "   mean radius  mean texture  mean perimeter  mean area  mean smoothness  \\\n",
       "0        17.99         10.38          122.80     1001.0          0.11840   \n",
       "1        20.57         17.77          132.90     1326.0          0.08474   \n",
       "2        19.69         21.25          130.00     1203.0          0.10960   \n",
       "3        11.42         20.38           77.58      386.1          0.14250   \n",
       "4        20.29         14.34          135.10     1297.0          0.10030   \n",
       "\n",
       "   mean compactness  mean concavity  mean concave points  mean symmetry  \\\n",
       "0           0.27760          0.3001              0.14710         0.2419   \n",
       "1           0.07864          0.0869              0.07017         0.1812   \n",
       "2           0.15990          0.1974              0.12790         0.2069   \n",
       "3           0.28390          0.2414              0.10520         0.2597   \n",
       "4           0.13280          0.1980              0.10430         0.1809   \n",
       "\n",
       "   mean fractal dimension  ...  worst texture  worst perimeter  worst area  \\\n",
       "0                 0.07871  ...          17.33           184.60      2019.0   \n",
       "1                 0.05667  ...          23.41           158.80      1956.0   \n",
       "2                 0.05999  ...          25.53           152.50      1709.0   \n",
       "3                 0.09744  ...          26.50            98.87       567.7   \n",
       "4                 0.05883  ...          16.67           152.20      1575.0   \n",
       "\n",
       "   worst smoothness  worst compactness  worst concavity  worst concave points  \\\n",
       "0            0.1622             0.6656           0.7119                0.2654   \n",
       "1            0.1238             0.1866           0.2416                0.1860   \n",
       "2            0.1444             0.4245           0.4504                0.2430   \n",
       "3            0.2098             0.8663           0.6869                0.2575   \n",
       "4            0.1374             0.2050           0.4000                0.1625   \n",
       "\n",
       "   worst symmetry  worst fractal dimension  benign_0__mal_1  \n",
       "0          0.4601                  0.11890                0  \n",
       "1          0.2750                  0.08902                0  \n",
       "2          0.3613                  0.08758                0  \n",
       "3          0.6638                  0.17300                0  \n",
       "4          0.2364                  0.07678                0  \n",
       "\n",
       "[5 rows x 31 columns]"
      ]
     },
     "execution_count": 3,
     "metadata": {},
     "output_type": "execute_result"
    }
   ],
   "source": [
    "df.head()"
   ]
  },
  {
   "cell_type": "markdown",
   "metadata": {},
   "source": [
    "### Train Test Split"
   ]
  },
  {
   "cell_type": "code",
   "execution_count": 4,
   "metadata": {},
   "outputs": [],
   "source": [
    "X = df.drop('benign_0__mal_1', axis=1).values\n",
    "\n",
    "y = df['benign_0__mal_1'].values"
   ]
  },
  {
   "cell_type": "code",
   "execution_count": 5,
   "metadata": {},
   "outputs": [],
   "source": [
    "from sklearn.model_selection import train_test_split"
   ]
  },
  {
   "cell_type": "code",
   "execution_count": 6,
   "metadata": {},
   "outputs": [],
   "source": [
    "X_train, X_test, y_train, y_test = train_test_split(X, y, test_size=0.25, random_state=101)"
   ]
  },
  {
   "cell_type": "markdown",
   "metadata": {},
   "source": [
    "\n",
    "### Scaling Data"
   ]
  },
  {
   "cell_type": "code",
   "execution_count": 7,
   "metadata": {},
   "outputs": [],
   "source": [
    "from sklearn.preprocessing import MinMaxScaler"
   ]
  },
  {
   "cell_type": "code",
   "execution_count": 8,
   "metadata": {},
   "outputs": [],
   "source": [
    "scaler = MinMaxScaler()"
   ]
  },
  {
   "cell_type": "code",
   "execution_count": 9,
   "metadata": {},
   "outputs": [
    {
     "data": {
      "text/plain": [
       "MinMaxScaler()"
      ]
     },
     "execution_count": 9,
     "metadata": {},
     "output_type": "execute_result"
    }
   ],
   "source": [
    "scaler.fit(X_train)"
   ]
  },
  {
   "cell_type": "code",
   "execution_count": 10,
   "metadata": {},
   "outputs": [],
   "source": [
    "X_train = scaler.transform(X_train)\n",
    "\n",
    "X_test = scaler.transform(X_test)"
   ]
  },
  {
   "cell_type": "markdown",
   "metadata": {},
   "source": [
    "## Creating the Model"
   ]
  },
  {
   "cell_type": "code",
   "execution_count": 11,
   "metadata": {},
   "outputs": [],
   "source": [
    "import tensorflow as tf\n",
    "from tensorflow.keras.models import Sequential\n",
    "from tensorflow.keras.layers import Dense, Activation, Dropout"
   ]
  },
  {
   "cell_type": "code",
   "execution_count": 12,
   "metadata": {},
   "outputs": [],
   "source": [
    "# You can include early-stopping at the same time, but it is not mandatory\n",
    "\n",
    "from tensorflow.keras.callbacks import EarlyStopping, TensorBoard"
   ]
  },
  {
   "cell_type": "code",
   "execution_count": 13,
   "metadata": {},
   "outputs": [],
   "source": [
    "# Early-stopping callback used in previous lecture (02-Keras-Classification model)\n",
    "early_stop = EarlyStopping(monitor='val_loss', mode='min', verbose=1, patience=25)"
   ]
  },
  {
   "cell_type": "code",
   "execution_count": 14,
   "metadata": {},
   "outputs": [
    {
     "data": {
      "text/plain": [
       "'C:\\\\Users\\\\shmel\\\\DataScience\\\\bootcamp_course\\\\Py_DS_ML_Bootcamp-master\\\\22-TensorFlow\\\\ANNs'"
      ]
     },
     "execution_count": 14,
     "metadata": {},
     "output_type": "execute_result"
    }
   ],
   "source": [
    "# File path to current notebook\n",
    "\n",
    "pwd"
   ]
  },
  {
   "cell_type": "markdown",
   "metadata": {},
   "source": [
    "## Creating the Tensorboard Callback\n",
    "\n",
    "TensorBoard is a visualization tool provided with TensorFlow.\n",
    "\n",
    "This callback logs events for TensorBoard, including:\n",
    "* Metrics summary plots\n",
    "* Training graph visualization\n",
    "* Activation histograms\n",
    "* Sampled profiling\n",
    "\n",
    "If you have installed TensorFlow with pip, you should be able\n",
    "to launch TensorBoard from the command line:\n",
    "\n",
    "```sh\n",
    "tensorboard --logdir=path_to_your_logs\n",
    "```\n",
    "\n",
    "You can find more information about TensorBoard\n",
    "[here](https://www.tensorflow.org/tensorboard/).\n",
    "\n",
    "    Arguments:\n",
    "        log_dir: the path of the directory where to save the log files to be\n",
    "          parsed by TensorBoard.\n",
    "        histogram_freq: frequency (in epochs) at which to compute activation and\n",
    "          weight histograms for the layers of the model. If set to 0, histograms\n",
    "          won't be computed. Validation data (or split) must be specified for\n",
    "          histogram visualizations.\n",
    "        write_graph: whether to visualize the graph in TensorBoard. The log file\n",
    "          can become quite large when write_graph is set to True.\n",
    "        write_images: whether to write model weights to visualize as image in\n",
    "          TensorBoard.\n",
    "        update_freq: `'batch'` or `'epoch'` or integer. When using `'batch'`,\n",
    "          writes the losses and metrics to TensorBoard after each batch. The same\n",
    "          applies for `'epoch'`. If using an integer, let's say `1000`, the\n",
    "          callback will write the metrics and losses to TensorBoard every 1000\n",
    "          samples. Note that writing too frequently to TensorBoard can slow down\n",
    "          your training.\n",
    "        profile_batch: Profile the batch to sample compute characteristics. By\n",
    "          default, it will profile the second batch. Set profile_batch=0 to\n",
    "          disable profiling. Must run in TensorFlow eager mode.\n",
    "        embeddings_freq: frequency (in epochs) at which embedding layers will\n",
    "          be visualized. If set to 0, embeddings won't be visualized.\n",
    "       "
   ]
  },
  {
   "cell_type": "code",
   "execution_count": 15,
   "metadata": {},
   "outputs": [],
   "source": [
    "from datetime import datetime"
   ]
  },
  {
   "cell_type": "code",
   "execution_count": 16,
   "metadata": {},
   "outputs": [
    {
     "data": {
      "text/plain": [
       "'2023-05-05--1042'"
      ]
     },
     "execution_count": 16,
     "metadata": {},
     "output_type": "execute_result"
    }
   ],
   "source": [
    "# How to use datetime to return the current date and time\n",
    "\n",
    "datetime.now().strftime(\"%Y-%m-%d--%H%M\")"
   ]
  },
  {
   "cell_type": "code",
   "execution_count": 17,
   "metadata": {},
   "outputs": [],
   "source": [
    "# WINDOWS: Use \"logs\\\\fit\" (double backslash to match syntax from file path above)\n",
    "\n",
    "log_directory = 'logs\\\\fit'\n",
    "\n",
    "# OPTIONAL: ADD A TIMESTAMP TO CREATE UNIQUE FOLDER EACH TIME YOU TRAIN MODEL, in case you change something like no of neurons\n",
    "# EACH NEW FOLDER IS NAMED WITH UNIQUE DATE/TIME WHEN MODEL WAS TRAINED\n",
    "#timestamp = datetime.now().strftime(\"%Y-%m-%d--%H%M\")\n",
    "#log_directory = log_directory + '\\\\' + timestamp\n",
    "\n",
    "board = TensorBoard(log_dir=log_directory, \n",
    "                    histogram_freq=1, \n",
    "                    write_graph=True, \n",
    "                    write_images=True, \n",
    "                    update_freq='epoch', \n",
    "                    profile_batch=2, \n",
    "                    embeddings_freq=1)"
   ]
  },
  {
   "cell_type": "markdown",
   "metadata": {},
   "source": [
    "Now create the model layers (with drop-out layers used in previous classification model):"
   ]
  },
  {
   "cell_type": "code",
   "execution_count": 18,
   "metadata": {},
   "outputs": [],
   "source": [
    "model = Sequential()\n",
    "\n",
    "model.add(Dense(units=30, activation='relu'))\n",
    "model.add(Dropout(0.5))\n",
    "\n",
    "model.add(Dense(units=15, activation='relu'))\n",
    "model.add(Dropout(0.5))\n",
    "\n",
    "model.add(Dense(units=1, activation='sigmoid'))\n",
    "\n",
    "model.compile(loss='binary_crossentropy', optimizer='adam')"
   ]
  },
  {
   "cell_type": "markdown",
   "metadata": {},
   "source": [
    "## Train the Model"
   ]
  },
  {
   "cell_type": "code",
   "execution_count": 19,
   "metadata": {},
   "outputs": [
    {
     "name": "stdout",
     "output_type": "stream",
     "text": [
      "Epoch 1/600\n",
      "14/14 [==============================] - 1s 41ms/step - loss: 0.6808 - val_loss: 0.6702\n",
      "Epoch 2/600\n",
      "14/14 [==============================] - 0s 12ms/step - loss: 0.6732 - val_loss: 0.6573\n",
      "Epoch 3/600\n",
      "14/14 [==============================] - 0s 10ms/step - loss: 0.6419 - val_loss: 0.6395\n",
      "Epoch 4/600\n",
      "14/14 [==============================] - 0s 12ms/step - loss: 0.6426 - val_loss: 0.6162\n",
      "Epoch 5/600\n",
      "14/14 [==============================] - 0s 11ms/step - loss: 0.6238 - val_loss: 0.5897\n",
      "Epoch 6/600\n",
      "14/14 [==============================] - 0s 10ms/step - loss: 0.6086 - val_loss: 0.5657\n",
      "Epoch 7/600\n",
      "14/14 [==============================] - 0s 13ms/step - loss: 0.5950 - val_loss: 0.5414\n",
      "Epoch 8/600\n",
      "14/14 [==============================] - 0s 12ms/step - loss: 0.5795 - val_loss: 0.5168\n",
      "Epoch 9/600\n",
      "14/14 [==============================] - 0s 10ms/step - loss: 0.5439 - val_loss: 0.4881\n",
      "Epoch 10/600\n",
      "14/14 [==============================] - 0s 10ms/step - loss: 0.5201 - val_loss: 0.4554\n",
      "Epoch 11/600\n",
      "14/14 [==============================] - 0s 12ms/step - loss: 0.5008 - val_loss: 0.4273\n",
      "Epoch 12/600\n",
      "14/14 [==============================] - 0s 10ms/step - loss: 0.4845 - val_loss: 0.4036\n",
      "Epoch 13/600\n",
      "14/14 [==============================] - 0s 10ms/step - loss: 0.4574 - val_loss: 0.3775\n",
      "Epoch 14/600\n",
      "14/14 [==============================] - 0s 9ms/step - loss: 0.4308 - val_loss: 0.3502\n",
      "Epoch 15/600\n",
      "14/14 [==============================] - 0s 11ms/step - loss: 0.4214 - val_loss: 0.3250\n",
      "Epoch 16/600\n",
      "14/14 [==============================] - 0s 12ms/step - loss: 0.4052 - val_loss: 0.3098\n",
      "Epoch 17/600\n",
      "14/14 [==============================] - 0s 11ms/step - loss: 0.4062 - val_loss: 0.2954\n",
      "Epoch 18/600\n",
      "14/14 [==============================] - 0s 10ms/step - loss: 0.3835 - val_loss: 0.2801\n",
      "Epoch 19/600\n",
      "14/14 [==============================] - 0s 11ms/step - loss: 0.3657 - val_loss: 0.2644\n",
      "Epoch 20/600\n",
      "14/14 [==============================] - 0s 11ms/step - loss: 0.3566 - val_loss: 0.2576\n",
      "Epoch 21/600\n",
      "14/14 [==============================] - 0s 11ms/step - loss: 0.3387 - val_loss: 0.2463\n",
      "Epoch 22/600\n",
      "14/14 [==============================] - 0s 11ms/step - loss: 0.3512 - val_loss: 0.2311\n",
      "Epoch 23/600\n",
      "14/14 [==============================] - 0s 10ms/step - loss: 0.3332 - val_loss: 0.2225\n",
      "Epoch 24/600\n",
      "14/14 [==============================] - 0s 10ms/step - loss: 0.3250 - val_loss: 0.2258\n",
      "Epoch 25/600\n",
      "14/14 [==============================] - 0s 10ms/step - loss: 0.3215 - val_loss: 0.2099\n",
      "Epoch 26/600\n",
      "14/14 [==============================] - 0s 10ms/step - loss: 0.3049 - val_loss: 0.1980\n",
      "Epoch 27/600\n",
      "14/14 [==============================] - 0s 10ms/step - loss: 0.2926 - val_loss: 0.1896\n",
      "Epoch 28/600\n",
      "14/14 [==============================] - 0s 10ms/step - loss: 0.2928 - val_loss: 0.1818\n",
      "Epoch 29/600\n",
      "14/14 [==============================] - 0s 10ms/step - loss: 0.2841 - val_loss: 0.1921\n",
      "Epoch 30/600\n",
      "14/14 [==============================] - 0s 11ms/step - loss: 0.2721 - val_loss: 0.1697\n",
      "Epoch 31/600\n",
      "14/14 [==============================] - 0s 10ms/step - loss: 0.2601 - val_loss: 0.1704\n",
      "Epoch 32/600\n",
      "14/14 [==============================] - 0s 14ms/step - loss: 0.2720 - val_loss: 0.1634\n",
      "Epoch 33/600\n",
      "14/14 [==============================] - 0s 9ms/step - loss: 0.2664 - val_loss: 0.1529\n",
      "Epoch 34/600\n",
      "14/14 [==============================] - 0s 10ms/step - loss: 0.2769 - val_loss: 0.1522\n",
      "Epoch 35/600\n",
      "14/14 [==============================] - 0s 10ms/step - loss: 0.2495 - val_loss: 0.1545\n",
      "Epoch 36/600\n",
      "14/14 [==============================] - 0s 11ms/step - loss: 0.2458 - val_loss: 0.1501\n",
      "Epoch 37/600\n",
      "14/14 [==============================] - 0s 10ms/step - loss: 0.2252 - val_loss: 0.1414\n",
      "Epoch 38/600\n",
      "14/14 [==============================] - 0s 10ms/step - loss: 0.2181 - val_loss: 0.1381\n",
      "Epoch 39/600\n",
      "14/14 [==============================] - 0s 10ms/step - loss: 0.2443 - val_loss: 0.1305\n",
      "Epoch 40/600\n",
      "14/14 [==============================] - 0s 11ms/step - loss: 0.2383 - val_loss: 0.1334\n",
      "Epoch 41/600\n",
      "14/14 [==============================] - 0s 11ms/step - loss: 0.1939 - val_loss: 0.1232\n",
      "Epoch 42/600\n",
      "14/14 [==============================] - 0s 11ms/step - loss: 0.2224 - val_loss: 0.1254\n",
      "Epoch 43/600\n",
      "14/14 [==============================] - 0s 11ms/step - loss: 0.2098 - val_loss: 0.1268\n",
      "Epoch 44/600\n",
      "14/14 [==============================] - 0s 10ms/step - loss: 0.2001 - val_loss: 0.1230\n",
      "Epoch 45/600\n",
      "14/14 [==============================] - 0s 11ms/step - loss: 0.2010 - val_loss: 0.1179\n",
      "Epoch 46/600\n",
      "14/14 [==============================] - 0s 11ms/step - loss: 0.1749 - val_loss: 0.1291\n",
      "Epoch 47/600\n",
      "14/14 [==============================] - 0s 11ms/step - loss: 0.2130 - val_loss: 0.1195\n",
      "Epoch 48/600\n",
      "14/14 [==============================] - 0s 11ms/step - loss: 0.1817 - val_loss: 0.1128\n",
      "Epoch 49/600\n",
      "14/14 [==============================] - 0s 10ms/step - loss: 0.1734 - val_loss: 0.1194\n",
      "Epoch 50/600\n",
      "14/14 [==============================] - 0s 10ms/step - loss: 0.1713 - val_loss: 0.1120\n",
      "Epoch 51/600\n",
      "14/14 [==============================] - 0s 13ms/step - loss: 0.1869 - val_loss: 0.1132\n",
      "Epoch 52/600\n",
      "14/14 [==============================] - 0s 12ms/step - loss: 0.1536 - val_loss: 0.1064\n",
      "Epoch 53/600\n",
      "14/14 [==============================] - 0s 10ms/step - loss: 0.1678 - val_loss: 0.1261\n",
      "Epoch 54/600\n",
      "14/14 [==============================] - 0s 11ms/step - loss: 0.1698 - val_loss: 0.1158\n",
      "Epoch 55/600\n",
      "14/14 [==============================] - 0s 9ms/step - loss: 0.1670 - val_loss: 0.1090\n",
      "Epoch 56/600\n",
      "14/14 [==============================] - 0s 11ms/step - loss: 0.1460 - val_loss: 0.1084\n",
      "Epoch 57/600\n",
      "14/14 [==============================] - 0s 10ms/step - loss: 0.1675 - val_loss: 0.1046\n",
      "Epoch 58/600\n",
      "14/14 [==============================] - 0s 11ms/step - loss: 0.1472 - val_loss: 0.1046\n",
      "Epoch 59/600\n",
      "14/14 [==============================] - 0s 11ms/step - loss: 0.1651 - val_loss: 0.1044\n",
      "Epoch 60/600\n",
      "14/14 [==============================] - 0s 11ms/step - loss: 0.1651 - val_loss: 0.1018\n",
      "Epoch 61/600\n",
      "14/14 [==============================] - 0s 11ms/step - loss: 0.1482 - val_loss: 0.1044\n",
      "Epoch 62/600\n",
      "14/14 [==============================] - 0s 10ms/step - loss: 0.1430 - val_loss: 0.1037\n",
      "Epoch 63/600\n",
      "14/14 [==============================] - 0s 11ms/step - loss: 0.1562 - val_loss: 0.1031\n",
      "Epoch 64/600\n",
      "14/14 [==============================] - 0s 11ms/step - loss: 0.1535 - val_loss: 0.0997\n",
      "Epoch 65/600\n",
      "14/14 [==============================] - 0s 12ms/step - loss: 0.1317 - val_loss: 0.0973\n",
      "Epoch 66/600\n",
      "14/14 [==============================] - 0s 10ms/step - loss: 0.1271 - val_loss: 0.0977\n",
      "Epoch 67/600\n",
      "14/14 [==============================] - 0s 11ms/step - loss: 0.1631 - val_loss: 0.1077\n",
      "Epoch 68/600\n",
      "14/14 [==============================] - 0s 12ms/step - loss: 0.1269 - val_loss: 0.1017\n",
      "Epoch 69/600\n",
      "14/14 [==============================] - 0s 10ms/step - loss: 0.1378 - val_loss: 0.1036\n",
      "Epoch 70/600\n",
      "14/14 [==============================] - 0s 10ms/step - loss: 0.1270 - val_loss: 0.0929\n",
      "Epoch 71/600\n",
      "14/14 [==============================] - 0s 10ms/step - loss: 0.1312 - val_loss: 0.1036\n",
      "Epoch 72/600\n",
      "14/14 [==============================] - 0s 11ms/step - loss: 0.1256 - val_loss: 0.0936\n",
      "Epoch 73/600\n",
      "14/14 [==============================] - 0s 10ms/step - loss: 0.1184 - val_loss: 0.0975\n",
      "Epoch 74/600\n",
      "14/14 [==============================] - 0s 9ms/step - loss: 0.1264 - val_loss: 0.1013\n",
      "Epoch 75/600\n",
      "14/14 [==============================] - 0s 11ms/step - loss: 0.1309 - val_loss: 0.0899\n",
      "Epoch 76/600\n",
      "14/14 [==============================] - 0s 10ms/step - loss: 0.1162 - val_loss: 0.0960\n",
      "Epoch 77/600\n",
      "14/14 [==============================] - 0s 12ms/step - loss: 0.1242 - val_loss: 0.1114\n",
      "Epoch 78/600\n",
      "14/14 [==============================] - 0s 11ms/step - loss: 0.1178 - val_loss: 0.0917\n",
      "Epoch 79/600\n",
      "14/14 [==============================] - 0s 10ms/step - loss: 0.1305 - val_loss: 0.0949\n",
      "Epoch 80/600\n",
      "14/14 [==============================] - 0s 12ms/step - loss: 0.1354 - val_loss: 0.0955\n",
      "Epoch 81/600\n",
      "14/14 [==============================] - 0s 10ms/step - loss: 0.1326 - val_loss: 0.0982\n",
      "Epoch 82/600\n"
     ]
    },
    {
     "name": "stdout",
     "output_type": "stream",
     "text": [
      "14/14 [==============================] - 0s 10ms/step - loss: 0.1056 - val_loss: 0.0977\n",
      "Epoch 83/600\n",
      "14/14 [==============================] - 0s 10ms/step - loss: 0.1278 - val_loss: 0.0937\n",
      "Epoch 84/600\n",
      "14/14 [==============================] - 0s 10ms/step - loss: 0.1177 - val_loss: 0.0893\n",
      "Epoch 85/600\n",
      "14/14 [==============================] - 0s 10ms/step - loss: 0.1083 - val_loss: 0.1053\n",
      "Epoch 86/600\n",
      "14/14 [==============================] - 0s 11ms/step - loss: 0.1074 - val_loss: 0.1054\n",
      "Epoch 87/600\n",
      "14/14 [==============================] - 0s 9ms/step - loss: 0.1145 - val_loss: 0.0932\n",
      "Epoch 88/600\n",
      "14/14 [==============================] - 0s 11ms/step - loss: 0.1236 - val_loss: 0.0910\n",
      "Epoch 89/600\n",
      "14/14 [==============================] - 0s 10ms/step - loss: 0.1180 - val_loss: 0.0909\n",
      "Epoch 90/600\n",
      "14/14 [==============================] - 0s 10ms/step - loss: 0.1169 - val_loss: 0.0960\n",
      "Epoch 91/600\n",
      "14/14 [==============================] - 0s 11ms/step - loss: 0.1174 - val_loss: 0.1289\n",
      "Epoch 92/600\n",
      "14/14 [==============================] - 0s 10ms/step - loss: 0.1147 - val_loss: 0.0973\n",
      "Epoch 93/600\n",
      "14/14 [==============================] - 0s 10ms/step - loss: 0.1133 - val_loss: 0.0971\n",
      "Epoch 94/600\n",
      "14/14 [==============================] - 0s 10ms/step - loss: 0.1149 - val_loss: 0.1079\n",
      "Epoch 95/600\n",
      "14/14 [==============================] - 0s 10ms/step - loss: 0.0978 - val_loss: 0.1012\n",
      "Epoch 96/600\n",
      "14/14 [==============================] - 0s 12ms/step - loss: 0.1186 - val_loss: 0.1121\n",
      "Epoch 97/600\n",
      "14/14 [==============================] - 0s 10ms/step - loss: 0.0919 - val_loss: 0.1112\n",
      "Epoch 98/600\n",
      "14/14 [==============================] - 0s 10ms/step - loss: 0.1035 - val_loss: 0.0992\n",
      "Epoch 99/600\n",
      "14/14 [==============================] - 0s 9ms/step - loss: 0.1107 - val_loss: 0.0958\n",
      "Epoch 100/600\n",
      "14/14 [==============================] - 0s 11ms/step - loss: 0.1052 - val_loss: 0.1001\n",
      "Epoch 101/600\n",
      "14/14 [==============================] - 0s 10ms/step - loss: 0.0967 - val_loss: 0.0957\n",
      "Epoch 102/600\n",
      "14/14 [==============================] - 0s 9ms/step - loss: 0.1112 - val_loss: 0.1020\n",
      "Epoch 103/600\n",
      "14/14 [==============================] - 0s 10ms/step - loss: 0.0956 - val_loss: 0.1124\n",
      "Epoch 104/600\n",
      "14/14 [==============================] - 0s 11ms/step - loss: 0.1111 - val_loss: 0.0912\n",
      "Epoch 105/600\n",
      "14/14 [==============================] - 0s 12ms/step - loss: 0.1166 - val_loss: 0.0926\n",
      "Epoch 106/600\n",
      "14/14 [==============================] - 0s 11ms/step - loss: 0.1204 - val_loss: 0.1125\n",
      "Epoch 107/600\n",
      "14/14 [==============================] - 0s 13ms/step - loss: 0.1124 - val_loss: 0.1065\n",
      "Epoch 108/600\n",
      "14/14 [==============================] - 0s 10ms/step - loss: 0.0974 - val_loss: 0.0932\n",
      "Epoch 109/600\n",
      "14/14 [==============================] - 0s 10ms/step - loss: 0.1051 - val_loss: 0.0943\n",
      "Epoch 109: early stopping\n"
     ]
    },
    {
     "data": {
      "text/plain": [
       "<keras.callbacks.History at 0x108c632e1c8>"
      ]
     },
     "execution_count": 19,
     "metadata": {},
     "output_type": "execute_result"
    }
   ],
   "source": [
    "model.fit(x=X_train, \n",
    "          y=y_train, \n",
    "          epochs=600, \n",
    "          validation_data=(X_test, y_test), \n",
    "          verbose=1, \n",
    "          callbacks=[early_stop, board])"
   ]
  },
  {
   "cell_type": "markdown",
   "metadata": {},
   "source": [
    "# Running Tensorboard\n"
   ]
  },
  {
   "cell_type": "markdown",
   "metadata": {},
   "source": [
    "## Running through the Command Line\n",
    "\n",
    "**Watch video to see how to run Tensorboard through Anaconda Prompt command line.**"
   ]
  },
  {
   "cell_type": "markdown",
   "metadata": {},
   "source": [
    "Tensorboard will run locally in your browser at [http://localhost:6006/](http://localhost:6006/) Click on link to open empty browser page. TensorBoard dashboard will appear when command line is run.\n"
   ]
  },
  {
   "cell_type": "code",
   "execution_count": 20,
   "metadata": {},
   "outputs": [
    {
     "name": "stdout",
     "output_type": "stream",
     "text": [
      "logs\\fit\n"
     ]
    }
   ],
   "source": [
    "# To access the correct file path to log files\n",
    "\n",
    "print(log_directory)"
   ]
  },
  {
   "cell_type": "code",
   "execution_count": 21,
   "metadata": {},
   "outputs": [
    {
     "data": {
      "text/plain": [
       "'C:\\\\Users\\\\shmel\\\\DataScience\\\\bootcamp_course\\\\Py_DS_ML_Bootcamp-master\\\\22-TensorFlow\\\\ANNs'"
      ]
     },
     "execution_count": 21,
     "metadata": {},
     "output_type": "execute_result"
    }
   ],
   "source": [
    "# To access the correct file path to current working folder (where log files are stored)\n",
    "\n",
    "pwd"
   ]
  },
  {
   "cell_type": "markdown",
   "metadata": {},
   "source": [
    "### 1. Use `cd` in your command line to change directory to the file path reported back by pwd (your current location where logs folder exists).\n",
    "\n",
    "### 2. Then run this command at your terminal"
   ]
  },
  {
   "cell_type": "markdown",
   "metadata": {},
   "source": [
    "`tensorboard --logdir logs\\fit`"
   ]
  },
  {
   "cell_type": "markdown",
   "metadata": {},
   "source": [
    "**Note:** To close the TensorBoard after using, press CTRL+C at your terminal. Once you have quit the call, you will need to re-train your model again to see it."
   ]
  }
 ],
 "metadata": {
  "kernelspec": {
   "display_name": "Python 3 (ipykernel)",
   "language": "python",
   "name": "python3"
  },
  "language_info": {
   "codemirror_mode": {
    "name": "ipython",
    "version": 3
   },
   "file_extension": ".py",
   "mimetype": "text/x-python",
   "name": "python",
   "nbconvert_exporter": "python",
   "pygments_lexer": "ipython3",
   "version": "3.7.16"
  }
 },
 "nbformat": 4,
 "nbformat_minor": 2
}
